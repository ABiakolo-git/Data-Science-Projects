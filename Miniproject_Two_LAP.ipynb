{
  "nbformat": 4,
  "nbformat_minor": 0,
  "metadata": {
    "kernelspec": {
      "display_name": "Python 3",
      "language": "python",
      "name": "python3"
    },
    "language_info": {
      "codemirror_mode": {
        "name": "ipython",
        "version": 3
      },
      "file_extension": ".py",
      "mimetype": "text/x-python",
      "name": "python",
      "nbconvert_exporter": "python",
      "pygments_lexer": "ipython3",
      "version": "3.8.6"
    },
    "colab": {
      "name": "Miniproject_Two_LAP.ipynb",
      "provenance": [],
      "collapsed_sections": [
        "KNa-hHN6_8_C",
        "Ai69jR4M_8_S",
        "yPVlg8OO_8_W",
        "5RHwMiiG_8_Y",
        "N2mE3DbD_8_d",
        "BFIRd7FX_8_k",
        "a2jM-9lE_8_p",
        "XlMm18ug_8_4"
      ],
      "toc_visible": true
    }
  },
  "cells": [
    {
      "cell_type": "markdown",
      "metadata": {
        "id": "41eu9p-b_8-Q"
      },
      "source": [
        "# Team Members"
      ]
    },
    {
      "cell_type": "markdown",
      "metadata": {
        "id": "8Su-Vvfj_8-R"
      },
      "source": [
        "Latifat Ozoya, Aghogho Biakolo, and Peniel Abebe"
      ]
    },
    {
      "cell_type": "markdown",
      "metadata": {
        "id": "R8xs_51P_8-R"
      },
      "source": [
        "# Project Overview"
      ]
    },
    {
      "cell_type": "markdown",
      "metadata": {
        "id": "hP8jluXX_8-S"
      },
      "source": [
        "In this project, we want to explore the effects of coronavirus in the world especially in the United states. Based on the datasets we found and collected, we plan to compare and contrast how the coronavirus has affected people of different age groups and different countries. We also want to compare the confirm deaths of covid against confirmed positive cases."
      ]
    },
    {
      "cell_type": "markdown",
      "metadata": {
        "id": "ERHgx8Fr_8-S"
      },
      "source": [
        "# Problem Description\n",
        "We want to explore the rise and status of coronavirus around the world."
      ]
    },
    {
      "cell_type": "markdown",
      "metadata": {
        "id": "Yj31T_Hi_8-T"
      },
      "source": [
        "# Subject Matter Expertise\n",
        "\n",
        "* Observation: Obviously, We have all been greatly impacted by the coronavirus and seen others also being affected by it which resulted in our interest in exploring this topic. This topic is worth exploring now more than ever because it is still relevant. \n",
        "\n",
        "* Article: After those observations, we decided to read upon some articles and learned more about the current situation and what questions we want to explore. Based on those articles we were able to narrow down ideas and specific topics that we could take a closer look at using datascience techniques\n",
        "\n",
        "* Latest news: We also watched some of the recent news and what they had to say about the virus and how it is affecting not just the US but also the rest of the world. We got some insight on which countries are being affected the most and how different countries/states are dealing with the virus. That inspired us to explore this topic as well."
      ]
    },
    {
      "cell_type": "markdown",
      "metadata": {
        "id": "sm7Qjq4a_8-T"
      },
      "source": [
        "# Assumptions\n",
        "These are our assumptions:\n",
        "* Currently the united states have the most confirmed corona cases and deaths than other countries in the world.\n",
        "* The number of deaths is less than half of the number of confirmed cases.\n",
        "* The majority of people in the United States of America that have died from covid were people of age 50 and above.\n",
        "* Confirmed cases are decreasing.\n",
        "* Each country had the same number of cases at the end of January.\n",
        "* Each country had the same number of cases at the end of March.\n",
        "\n"
      ]
    },
    {
      "cell_type": "markdown",
      "metadata": {
        "id": "N_iEOj6H_8-U"
      },
      "source": [
        "# Steps to Explore the Topic and Problem\n",
        "\n",
        "The steps we are going to take to explore the topic using the data sources and techniques are:\n",
        "\n",
        "1. Download data from Github.\n",
        "2. Import libraries.\n",
        "2. State our null and alternative hypotheses.\n",
        "3. Explore the data\n",
        "4. Clean data by droping missing values, reducing the impacts of outliers.\n",
        "5. Describe data using descriptive statistics such as mean, median and standard deviation.\n",
        "6. Visualize data using bar charts, histograms and pie charts to show comparison and to determine whether the data is normal or not."
      ]
    },
    {
      "cell_type": "markdown",
      "metadata": {
        "id": "QlXiyjo5_8-U"
      },
      "source": [
        "# Data Sources:\n",
        "\n",
        "In bulleted format, list where you will get data from.\n",
        "1. COVID-19 World Report for 11/08/2020 - https://raw.githubusercontent.com/CSSEGISandData/COVID-19/master/csse_covid_19_data/csse_covid_19_daily_reports/11-07-2020.csv\n",
        "\n",
        "\n",
        "2. COVID-19 World Report for 10/08/2020 - https://raw.githubusercontent.com/CSSEGISandData/COVID-19/master/csse_covid_19_data/csse_covid_19_daily_reports/10-07-2020.csv\n",
        "\n",
        "3. COVID-19 World Report for 10/08/2020 - https://raw.githubusercontent.com/CSSEGISandData/COVID-19/master/csse_covid_19_data/csse_covid_19_daily_reports/10-07-2020.csv\n",
        "\n",
        "4. COVID-19 World Report for 10/20/2020 - https://raw.githubusercontent.com/CSSEGISandData/COVID-19/master/csse_covid_19_data/csse_covid_19_daily_reports/10-07-2020.csv\n",
        "\n",
        "5. COVID-19 World Report for 10/31/2020 - https://raw.githubusercontent.com/CSSEGISandData/COVID-19/master/csse_covid_19_data/csse_covid_19_daily_reports/10-31-2020.csv\n",
        "\n",
        "6. COVID-19 Tracking Germany - https://www.kaggle.com/headsortails/covid19-tracking-germany"
      ]
    },
    {
      "cell_type": "code",
      "metadata": {
        "id": "QisGMBJi_8-V"
      },
      "source": [
        "#importing libraries\n",
        "from datascience import *\n",
        "import numpy as np\n",
        "import pandas as pd\n",
        "import seaborn as sns\n",
        "import random\n",
        "import math\n",
        "import time\n",
        "import datetime\n",
        "import string\n",
        "import operator \n",
        "import matplotlib.pyplot as plt\n",
        "\n",
        "%matplotlib inline\n",
        "import warnings\n",
        "warnings.filterwarnings(\"ignore\")\n",
        "plt.style.use('fivethirtyeight')\n"
      ],
      "execution_count": null,
      "outputs": []
    },
    {
      "cell_type": "markdown",
      "metadata": {
        "id": "ed-InSb4_8-Y"
      },
      "source": [
        "## Testing Hypotheses\n",
        "\n",
        "Choose two hypotheses you want to explore in regards to your topic.\n",
        "Examples:\n",
        "The state of Montana likes cheesecake as a desert?\n",
        "Have the demographics of Washington, DC decreased over the past decade?\n",
        "United States streaming services mainly stream rap or hip/hop?\n",
        "\n",
        "### Note: Make sure to note the Null and the alternative hypotheses for each of the questions you want to test"
      ]
    },
    {
      "cell_type": "markdown",
      "metadata": {
        "id": "2WhPbkVV_8-Z"
      },
      "source": [
        "## 1. FIRST HYPOTHESIS "
      ]
    },
    {
      "cell_type": "markdown",
      "metadata": {
        "id": "agRGq37j_8-Z"
      },
      "source": [
        "**Null Hypothesis:** Currently the United States has the most confirmed COVID cases and deaths than any other country in the world.\n"
      ]
    },
    {
      "cell_type": "markdown",
      "metadata": {
        "id": "__B-HCa6_8-a"
      },
      "source": [
        "**Alternative Hypothesis:** The United States currently does **not** have the most confirmed COVID cases and deaths in the world."
      ]
    },
    {
      "cell_type": "markdown",
      "metadata": {
        "id": "h9Cj0WSJ_8-a"
      },
      "source": [
        "# Data Exploration\n",
        "Describe the data using what you know. For larger datasets may have to pull out columns that are of interst to you."
      ]
    },
    {
      "cell_type": "code",
      "metadata": {
        "id": "tVIkEB7b_8-a",
        "outputId": "72dcc536-8bcc-4619-cd91-82d41b7601ca"
      },
      "source": [
        "recent_data = pd.read_csv('https://raw.githubusercontent.com/CSSEGISandData/COVID-19/master/csse_covid_19_data/csse_covid_19_daily_reports/11-07-2020.csv', error_bad_lines=False)\n",
        "recent_data"
      ],
      "execution_count": null,
      "outputs": [
        {
          "output_type": "execute_result",
          "data": {
            "text/html": [
              "<div>\n",
              "<style scoped>\n",
              "    .dataframe tbody tr th:only-of-type {\n",
              "        vertical-align: middle;\n",
              "    }\n",
              "\n",
              "    .dataframe tbody tr th {\n",
              "        vertical-align: top;\n",
              "    }\n",
              "\n",
              "    .dataframe thead th {\n",
              "        text-align: right;\n",
              "    }\n",
              "</style>\n",
              "<table border=\"1\" class=\"dataframe\">\n",
              "  <thead>\n",
              "    <tr style=\"text-align: right;\">\n",
              "      <th></th>\n",
              "      <th>FIPS</th>\n",
              "      <th>Admin2</th>\n",
              "      <th>Province_State</th>\n",
              "      <th>Country_Region</th>\n",
              "      <th>Last_Update</th>\n",
              "      <th>Lat</th>\n",
              "      <th>Long_</th>\n",
              "      <th>Confirmed</th>\n",
              "      <th>Deaths</th>\n",
              "      <th>Recovered</th>\n",
              "      <th>Active</th>\n",
              "      <th>Combined_Key</th>\n",
              "      <th>Incidence_Rate</th>\n",
              "      <th>Case-Fatality_Ratio</th>\n",
              "    </tr>\n",
              "  </thead>\n",
              "  <tbody>\n",
              "    <tr>\n",
              "      <th>0</th>\n",
              "      <td>NaN</td>\n",
              "      <td>NaN</td>\n",
              "      <td>NaN</td>\n",
              "      <td>Afghanistan</td>\n",
              "      <td>2020-11-08 05:24:56</td>\n",
              "      <td>33.939110</td>\n",
              "      <td>67.709953</td>\n",
              "      <td>42033</td>\n",
              "      <td>1556</td>\n",
              "      <td>34446</td>\n",
              "      <td>6031.0</td>\n",
              "      <td>Afghanistan</td>\n",
              "      <td>107.975318</td>\n",
              "      <td>3.701853</td>\n",
              "    </tr>\n",
              "    <tr>\n",
              "      <th>1</th>\n",
              "      <td>NaN</td>\n",
              "      <td>NaN</td>\n",
              "      <td>NaN</td>\n",
              "      <td>Albania</td>\n",
              "      <td>2020-11-08 05:24:56</td>\n",
              "      <td>41.153300</td>\n",
              "      <td>20.168300</td>\n",
              "      <td>23705</td>\n",
              "      <td>557</td>\n",
              "      <td>12002</td>\n",
              "      <td>11146.0</td>\n",
              "      <td>Albania</td>\n",
              "      <td>823.719508</td>\n",
              "      <td>2.349715</td>\n",
              "    </tr>\n",
              "    <tr>\n",
              "      <th>2</th>\n",
              "      <td>NaN</td>\n",
              "      <td>NaN</td>\n",
              "      <td>NaN</td>\n",
              "      <td>Algeria</td>\n",
              "      <td>2020-11-08 05:24:56</td>\n",
              "      <td>28.033900</td>\n",
              "      <td>1.659600</td>\n",
              "      <td>61381</td>\n",
              "      <td>2036</td>\n",
              "      <td>41783</td>\n",
              "      <td>17562.0</td>\n",
              "      <td>Algeria</td>\n",
              "      <td>139.976146</td>\n",
              "      <td>3.316987</td>\n",
              "    </tr>\n",
              "    <tr>\n",
              "      <th>3</th>\n",
              "      <td>NaN</td>\n",
              "      <td>NaN</td>\n",
              "      <td>NaN</td>\n",
              "      <td>Andorra</td>\n",
              "      <td>2020-11-08 05:24:56</td>\n",
              "      <td>42.506300</td>\n",
              "      <td>1.521800</td>\n",
              "      <td>5319</td>\n",
              "      <td>75</td>\n",
              "      <td>4043</td>\n",
              "      <td>1201.0</td>\n",
              "      <td>Andorra</td>\n",
              "      <td>6884.100175</td>\n",
              "      <td>1.410039</td>\n",
              "    </tr>\n",
              "    <tr>\n",
              "      <th>4</th>\n",
              "      <td>NaN</td>\n",
              "      <td>NaN</td>\n",
              "      <td>NaN</td>\n",
              "      <td>Angola</td>\n",
              "      <td>2020-11-08 05:24:56</td>\n",
              "      <td>-11.202700</td>\n",
              "      <td>17.873900</td>\n",
              "      <td>12335</td>\n",
              "      <td>303</td>\n",
              "      <td>5647</td>\n",
              "      <td>6385.0</td>\n",
              "      <td>Angola</td>\n",
              "      <td>37.530881</td>\n",
              "      <td>2.456425</td>\n",
              "    </tr>\n",
              "    <tr>\n",
              "      <th>...</th>\n",
              "      <td>...</td>\n",
              "      <td>...</td>\n",
              "      <td>...</td>\n",
              "      <td>...</td>\n",
              "      <td>...</td>\n",
              "      <td>...</td>\n",
              "      <td>...</td>\n",
              "      <td>...</td>\n",
              "      <td>...</td>\n",
              "      <td>...</td>\n",
              "      <td>...</td>\n",
              "      <td>...</td>\n",
              "      <td>...</td>\n",
              "      <td>...</td>\n",
              "    </tr>\n",
              "    <tr>\n",
              "      <th>3956</th>\n",
              "      <td>NaN</td>\n",
              "      <td>NaN</td>\n",
              "      <td>NaN</td>\n",
              "      <td>West Bank and Gaza</td>\n",
              "      <td>2020-11-08 05:24:56</td>\n",
              "      <td>31.952200</td>\n",
              "      <td>35.233200</td>\n",
              "      <td>57657</td>\n",
              "      <td>512</td>\n",
              "      <td>49975</td>\n",
              "      <td>7170.0</td>\n",
              "      <td>West Bank and Gaza</td>\n",
              "      <td>1130.215611</td>\n",
              "      <td>0.888010</td>\n",
              "    </tr>\n",
              "    <tr>\n",
              "      <th>3957</th>\n",
              "      <td>NaN</td>\n",
              "      <td>NaN</td>\n",
              "      <td>NaN</td>\n",
              "      <td>Western Sahara</td>\n",
              "      <td>2020-11-08 05:24:56</td>\n",
              "      <td>24.215500</td>\n",
              "      <td>-12.885800</td>\n",
              "      <td>10</td>\n",
              "      <td>1</td>\n",
              "      <td>8</td>\n",
              "      <td>1.0</td>\n",
              "      <td>Western Sahara</td>\n",
              "      <td>1.674116</td>\n",
              "      <td>10.000000</td>\n",
              "    </tr>\n",
              "    <tr>\n",
              "      <th>3958</th>\n",
              "      <td>NaN</td>\n",
              "      <td>NaN</td>\n",
              "      <td>NaN</td>\n",
              "      <td>Yemen</td>\n",
              "      <td>2020-11-08 05:24:56</td>\n",
              "      <td>15.552727</td>\n",
              "      <td>48.516388</td>\n",
              "      <td>2070</td>\n",
              "      <td>602</td>\n",
              "      <td>1375</td>\n",
              "      <td>93.0</td>\n",
              "      <td>Yemen</td>\n",
              "      <td>6.940261</td>\n",
              "      <td>29.082126</td>\n",
              "    </tr>\n",
              "    <tr>\n",
              "      <th>3959</th>\n",
              "      <td>NaN</td>\n",
              "      <td>NaN</td>\n",
              "      <td>NaN</td>\n",
              "      <td>Zambia</td>\n",
              "      <td>2020-11-08 05:24:56</td>\n",
              "      <td>-13.133897</td>\n",
              "      <td>27.849332</td>\n",
              "      <td>16908</td>\n",
              "      <td>349</td>\n",
              "      <td>15873</td>\n",
              "      <td>686.0</td>\n",
              "      <td>Zambia</td>\n",
              "      <td>91.971499</td>\n",
              "      <td>2.064112</td>\n",
              "    </tr>\n",
              "    <tr>\n",
              "      <th>3960</th>\n",
              "      <td>NaN</td>\n",
              "      <td>NaN</td>\n",
              "      <td>NaN</td>\n",
              "      <td>Zimbabwe</td>\n",
              "      <td>2020-11-08 05:24:56</td>\n",
              "      <td>-19.015438</td>\n",
              "      <td>29.154857</td>\n",
              "      <td>8498</td>\n",
              "      <td>251</td>\n",
              "      <td>7995</td>\n",
              "      <td>252.0</td>\n",
              "      <td>Zimbabwe</td>\n",
              "      <td>57.175817</td>\n",
              "      <td>2.953636</td>\n",
              "    </tr>\n",
              "  </tbody>\n",
              "</table>\n",
              "<p>3961 rows × 14 columns</p>\n",
              "</div>"
            ],
            "text/plain": [
              "      FIPS Admin2 Province_State      Country_Region          Last_Update  \\\n",
              "0      NaN    NaN            NaN         Afghanistan  2020-11-08 05:24:56   \n",
              "1      NaN    NaN            NaN             Albania  2020-11-08 05:24:56   \n",
              "2      NaN    NaN            NaN             Algeria  2020-11-08 05:24:56   \n",
              "3      NaN    NaN            NaN             Andorra  2020-11-08 05:24:56   \n",
              "4      NaN    NaN            NaN              Angola  2020-11-08 05:24:56   \n",
              "...    ...    ...            ...                 ...                  ...   \n",
              "3956   NaN    NaN            NaN  West Bank and Gaza  2020-11-08 05:24:56   \n",
              "3957   NaN    NaN            NaN      Western Sahara  2020-11-08 05:24:56   \n",
              "3958   NaN    NaN            NaN               Yemen  2020-11-08 05:24:56   \n",
              "3959   NaN    NaN            NaN              Zambia  2020-11-08 05:24:56   \n",
              "3960   NaN    NaN            NaN            Zimbabwe  2020-11-08 05:24:56   \n",
              "\n",
              "            Lat      Long_  Confirmed  Deaths  Recovered   Active  \\\n",
              "0     33.939110  67.709953      42033    1556      34446   6031.0   \n",
              "1     41.153300  20.168300      23705     557      12002  11146.0   \n",
              "2     28.033900   1.659600      61381    2036      41783  17562.0   \n",
              "3     42.506300   1.521800       5319      75       4043   1201.0   \n",
              "4    -11.202700  17.873900      12335     303       5647   6385.0   \n",
              "...         ...        ...        ...     ...        ...      ...   \n",
              "3956  31.952200  35.233200      57657     512      49975   7170.0   \n",
              "3957  24.215500 -12.885800         10       1          8      1.0   \n",
              "3958  15.552727  48.516388       2070     602       1375     93.0   \n",
              "3959 -13.133897  27.849332      16908     349      15873    686.0   \n",
              "3960 -19.015438  29.154857       8498     251       7995    252.0   \n",
              "\n",
              "            Combined_Key  Incidence_Rate  Case-Fatality_Ratio  \n",
              "0            Afghanistan      107.975318             3.701853  \n",
              "1                Albania      823.719508             2.349715  \n",
              "2                Algeria      139.976146             3.316987  \n",
              "3                Andorra     6884.100175             1.410039  \n",
              "4                 Angola       37.530881             2.456425  \n",
              "...                  ...             ...                  ...  \n",
              "3956  West Bank and Gaza     1130.215611             0.888010  \n",
              "3957      Western Sahara        1.674116            10.000000  \n",
              "3958               Yemen        6.940261            29.082126  \n",
              "3959              Zambia       91.971499             2.064112  \n",
              "3960            Zimbabwe       57.175817             2.953636  \n",
              "\n",
              "[3961 rows x 14 columns]"
            ]
          },
          "metadata": {
            "tags": []
          },
          "execution_count": 187
        }
      ]
    },
    {
      "cell_type": "code",
      "metadata": {
        "id": "RAPTOnGm_8-e",
        "outputId": "09614100-954e-417b-8303-181a2ad7cfa7"
      },
      "source": [
        "old_data = pd.read_csv('https://raw.githubusercontent.com/CSSEGISandData/COVID-19/master/csse_covid_19_data/csse_covid_19_daily_reports/10-07-2020.csv', error_bad_lines=False)\n",
        "old_data"
      ],
      "execution_count": null,
      "outputs": [
        {
          "output_type": "execute_result",
          "data": {
            "text/html": [
              "<div>\n",
              "<style scoped>\n",
              "    .dataframe tbody tr th:only-of-type {\n",
              "        vertical-align: middle;\n",
              "    }\n",
              "\n",
              "    .dataframe tbody tr th {\n",
              "        vertical-align: top;\n",
              "    }\n",
              "\n",
              "    .dataframe thead th {\n",
              "        text-align: right;\n",
              "    }\n",
              "</style>\n",
              "<table border=\"1\" class=\"dataframe\">\n",
              "  <thead>\n",
              "    <tr style=\"text-align: right;\">\n",
              "      <th></th>\n",
              "      <th>FIPS</th>\n",
              "      <th>Admin2</th>\n",
              "      <th>Province_State</th>\n",
              "      <th>Country_Region</th>\n",
              "      <th>Last_Update</th>\n",
              "      <th>Lat</th>\n",
              "      <th>Long_</th>\n",
              "      <th>Confirmed</th>\n",
              "      <th>Deaths</th>\n",
              "      <th>Recovered</th>\n",
              "      <th>Active</th>\n",
              "      <th>Combined_Key</th>\n",
              "      <th>Incidence_Rate</th>\n",
              "      <th>Case-Fatality_Ratio</th>\n",
              "    </tr>\n",
              "  </thead>\n",
              "  <tbody>\n",
              "    <tr>\n",
              "      <th>0</th>\n",
              "      <td>NaN</td>\n",
              "      <td>NaN</td>\n",
              "      <td>NaN</td>\n",
              "      <td>Afghanistan</td>\n",
              "      <td>2020-10-08 04:23:56</td>\n",
              "      <td>33.939110</td>\n",
              "      <td>67.709953</td>\n",
              "      <td>39548</td>\n",
              "      <td>1469</td>\n",
              "      <td>33045</td>\n",
              "      <td>5034.0</td>\n",
              "      <td>Afghanistan</td>\n",
              "      <td>101.591794</td>\n",
              "      <td>3.714474</td>\n",
              "    </tr>\n",
              "    <tr>\n",
              "      <th>1</th>\n",
              "      <td>NaN</td>\n",
              "      <td>NaN</td>\n",
              "      <td>NaN</td>\n",
              "      <td>Albania</td>\n",
              "      <td>2020-10-08 04:23:56</td>\n",
              "      <td>41.153300</td>\n",
              "      <td>20.168300</td>\n",
              "      <td>14730</td>\n",
              "      <td>407</td>\n",
              "      <td>9115</td>\n",
              "      <td>5208.0</td>\n",
              "      <td>Albania</td>\n",
              "      <td>511.849329</td>\n",
              "      <td>2.763069</td>\n",
              "    </tr>\n",
              "    <tr>\n",
              "      <th>2</th>\n",
              "      <td>NaN</td>\n",
              "      <td>NaN</td>\n",
              "      <td>NaN</td>\n",
              "      <td>Algeria</td>\n",
              "      <td>2020-10-08 04:23:56</td>\n",
              "      <td>28.033900</td>\n",
              "      <td>1.659600</td>\n",
              "      <td>52520</td>\n",
              "      <td>1771</td>\n",
              "      <td>36857</td>\n",
              "      <td>13892.0</td>\n",
              "      <td>Algeria</td>\n",
              "      <td>119.769101</td>\n",
              "      <td>3.372049</td>\n",
              "    </tr>\n",
              "    <tr>\n",
              "      <th>3</th>\n",
              "      <td>NaN</td>\n",
              "      <td>NaN</td>\n",
              "      <td>NaN</td>\n",
              "      <td>Andorra</td>\n",
              "      <td>2020-10-08 04:23:56</td>\n",
              "      <td>42.506300</td>\n",
              "      <td>1.521800</td>\n",
              "      <td>2568</td>\n",
              "      <td>53</td>\n",
              "      <td>1715</td>\n",
              "      <td>800.0</td>\n",
              "      <td>Andorra</td>\n",
              "      <td>3323.626480</td>\n",
              "      <td>2.063863</td>\n",
              "    </tr>\n",
              "    <tr>\n",
              "      <th>4</th>\n",
              "      <td>NaN</td>\n",
              "      <td>NaN</td>\n",
              "      <td>NaN</td>\n",
              "      <td>Angola</td>\n",
              "      <td>2020-10-08 04:23:56</td>\n",
              "      <td>-11.202700</td>\n",
              "      <td>17.873900</td>\n",
              "      <td>5725</td>\n",
              "      <td>211</td>\n",
              "      <td>2598</td>\n",
              "      <td>2916.0</td>\n",
              "      <td>Angola</td>\n",
              "      <td>17.419075</td>\n",
              "      <td>3.685590</td>\n",
              "    </tr>\n",
              "    <tr>\n",
              "      <th>...</th>\n",
              "      <td>...</td>\n",
              "      <td>...</td>\n",
              "      <td>...</td>\n",
              "      <td>...</td>\n",
              "      <td>...</td>\n",
              "      <td>...</td>\n",
              "      <td>...</td>\n",
              "      <td>...</td>\n",
              "      <td>...</td>\n",
              "      <td>...</td>\n",
              "      <td>...</td>\n",
              "      <td>...</td>\n",
              "      <td>...</td>\n",
              "      <td>...</td>\n",
              "    </tr>\n",
              "    <tr>\n",
              "      <th>3951</th>\n",
              "      <td>NaN</td>\n",
              "      <td>NaN</td>\n",
              "      <td>NaN</td>\n",
              "      <td>West Bank and Gaza</td>\n",
              "      <td>2020-10-08 04:23:56</td>\n",
              "      <td>31.952200</td>\n",
              "      <td>35.233200</td>\n",
              "      <td>42840</td>\n",
              "      <td>355</td>\n",
              "      <td>35953</td>\n",
              "      <td>6532.0</td>\n",
              "      <td>West Bank and Gaza</td>\n",
              "      <td>839.766841</td>\n",
              "      <td>0.828665</td>\n",
              "    </tr>\n",
              "    <tr>\n",
              "      <th>3952</th>\n",
              "      <td>NaN</td>\n",
              "      <td>NaN</td>\n",
              "      <td>NaN</td>\n",
              "      <td>Western Sahara</td>\n",
              "      <td>2020-10-08 04:23:56</td>\n",
              "      <td>24.215500</td>\n",
              "      <td>-12.885800</td>\n",
              "      <td>10</td>\n",
              "      <td>1</td>\n",
              "      <td>8</td>\n",
              "      <td>1.0</td>\n",
              "      <td>Western Sahara</td>\n",
              "      <td>1.674116</td>\n",
              "      <td>10.000000</td>\n",
              "    </tr>\n",
              "    <tr>\n",
              "      <th>3953</th>\n",
              "      <td>NaN</td>\n",
              "      <td>NaN</td>\n",
              "      <td>NaN</td>\n",
              "      <td>Yemen</td>\n",
              "      <td>2020-10-08 04:23:56</td>\n",
              "      <td>15.552727</td>\n",
              "      <td>48.516388</td>\n",
              "      <td>2049</td>\n",
              "      <td>593</td>\n",
              "      <td>1328</td>\n",
              "      <td>128.0</td>\n",
              "      <td>Yemen</td>\n",
              "      <td>6.869852</td>\n",
              "      <td>28.940947</td>\n",
              "    </tr>\n",
              "    <tr>\n",
              "      <th>3954</th>\n",
              "      <td>NaN</td>\n",
              "      <td>NaN</td>\n",
              "      <td>NaN</td>\n",
              "      <td>Zambia</td>\n",
              "      <td>2020-10-08 04:23:56</td>\n",
              "      <td>-13.133897</td>\n",
              "      <td>27.849332</td>\n",
              "      <td>15224</td>\n",
              "      <td>335</td>\n",
              "      <td>14342</td>\n",
              "      <td>547.0</td>\n",
              "      <td>Zambia</td>\n",
              "      <td>82.811338</td>\n",
              "      <td>2.200473</td>\n",
              "    </tr>\n",
              "    <tr>\n",
              "      <th>3955</th>\n",
              "      <td>NaN</td>\n",
              "      <td>NaN</td>\n",
              "      <td>NaN</td>\n",
              "      <td>Zimbabwe</td>\n",
              "      <td>2020-10-08 04:23:56</td>\n",
              "      <td>-19.015438</td>\n",
              "      <td>29.154857</td>\n",
              "      <td>7919</td>\n",
              "      <td>229</td>\n",
              "      <td>6441</td>\n",
              "      <td>1249.0</td>\n",
              "      <td>Zimbabwe</td>\n",
              "      <td>53.280219</td>\n",
              "      <td>2.891779</td>\n",
              "    </tr>\n",
              "  </tbody>\n",
              "</table>\n",
              "<p>3956 rows × 14 columns</p>\n",
              "</div>"
            ],
            "text/plain": [
              "      FIPS Admin2 Province_State      Country_Region          Last_Update  \\\n",
              "0      NaN    NaN            NaN         Afghanistan  2020-10-08 04:23:56   \n",
              "1      NaN    NaN            NaN             Albania  2020-10-08 04:23:56   \n",
              "2      NaN    NaN            NaN             Algeria  2020-10-08 04:23:56   \n",
              "3      NaN    NaN            NaN             Andorra  2020-10-08 04:23:56   \n",
              "4      NaN    NaN            NaN              Angola  2020-10-08 04:23:56   \n",
              "...    ...    ...            ...                 ...                  ...   \n",
              "3951   NaN    NaN            NaN  West Bank and Gaza  2020-10-08 04:23:56   \n",
              "3952   NaN    NaN            NaN      Western Sahara  2020-10-08 04:23:56   \n",
              "3953   NaN    NaN            NaN               Yemen  2020-10-08 04:23:56   \n",
              "3954   NaN    NaN            NaN              Zambia  2020-10-08 04:23:56   \n",
              "3955   NaN    NaN            NaN            Zimbabwe  2020-10-08 04:23:56   \n",
              "\n",
              "            Lat      Long_  Confirmed  Deaths  Recovered   Active  \\\n",
              "0     33.939110  67.709953      39548    1469      33045   5034.0   \n",
              "1     41.153300  20.168300      14730     407       9115   5208.0   \n",
              "2     28.033900   1.659600      52520    1771      36857  13892.0   \n",
              "3     42.506300   1.521800       2568      53       1715    800.0   \n",
              "4    -11.202700  17.873900       5725     211       2598   2916.0   \n",
              "...         ...        ...        ...     ...        ...      ...   \n",
              "3951  31.952200  35.233200      42840     355      35953   6532.0   \n",
              "3952  24.215500 -12.885800         10       1          8      1.0   \n",
              "3953  15.552727  48.516388       2049     593       1328    128.0   \n",
              "3954 -13.133897  27.849332      15224     335      14342    547.0   \n",
              "3955 -19.015438  29.154857       7919     229       6441   1249.0   \n",
              "\n",
              "            Combined_Key  Incidence_Rate  Case-Fatality_Ratio  \n",
              "0            Afghanistan      101.591794             3.714474  \n",
              "1                Albania      511.849329             2.763069  \n",
              "2                Algeria      119.769101             3.372049  \n",
              "3                Andorra     3323.626480             2.063863  \n",
              "4                 Angola       17.419075             3.685590  \n",
              "...                  ...             ...                  ...  \n",
              "3951  West Bank and Gaza      839.766841             0.828665  \n",
              "3952      Western Sahara        1.674116            10.000000  \n",
              "3953               Yemen        6.869852            28.940947  \n",
              "3954              Zambia       82.811338             2.200473  \n",
              "3955            Zimbabwe       53.280219             2.891779  \n",
              "\n",
              "[3956 rows x 14 columns]"
            ]
          },
          "metadata": {
            "tags": []
          },
          "execution_count": 188
        }
      ]
    },
    {
      "cell_type": "markdown",
      "metadata": {
        "id": "0bT9Pvp7_8-g"
      },
      "source": [
        "# Data Cleaning\n",
        "Show techniques you use to reduce impact of outliers, drop missing, or null values (if any)"
      ]
    },
    {
      "cell_type": "code",
      "metadata": {
        "id": "RQrds1Og_8-h"
      },
      "source": [
        "recent_countries = list(recent_data['Country_Region'].unique())\n",
        "old_countries = list(old_data['Country_Region'].unique())\n",
        "\n",
        "no_cases = []\n",
        "country_date_updated = []\n",
        "country_confirmed_cases = []\n",
        "country_death_cases = [] \n",
        "country_recovery_cases = []\n",
        "country_active_cases = []\n",
        "\n",
        "no_old_cases = []\n",
        "old_country_date_updated = []\n",
        "old_country_confirmed_cases = []\n",
        "old_country_death_cases = [] \n",
        "old_country_recovery_cases = []\n",
        "old_country_active_cases = []\n",
        "\n",
        "for country in recent_countries:\n",
        "    cases = recent_data[recent_data['Country_Region'] == country]['Confirmed'].sum()\n",
        "    if cases > 0:\n",
        "        country_confirmed_cases.append(cases)\n",
        "    else:\n",
        "        no_cases.append(country)\n",
        "        \n",
        "for no_case in no_cases:\n",
        "    recent_countries.remove(no_case)\n",
        "    \n",
        "for i in old_countries:\n",
        "    old_cases = old_data[old_data['Country_Region'] == i]['Confirmed'].sum()\n",
        "    if old_cases > 0:\n",
        "        old_country_confirmed_cases.append(old_cases)\n",
        "    else:\n",
        "        no_old_cases.append(i)\n",
        "\n",
        "for i in no_old_cases:\n",
        "    old_countries.remove(i)\n",
        "    \n",
        "recent_data['Last_Update'] = recent_data['Last_Update'].apply(lambda x: pd.Timestamp(x).strftime('%m-%d-%Y'))\n",
        "old_data['Last_Update'] = old_data['Last_Update'].apply(lambda x: pd.Timestamp(x).strftime('%m-%d-%Y'))\n",
        "\n",
        "# the countries are sorted by the no. of confirmed cases\n",
        "recent_countries = [k for k, v in sorted(zip(recent_countries, country_confirmed_cases), key=operator.itemgetter(1), reverse=True)]\n",
        "old_countries = [k for k, v in sorted(zip(old_countries, old_country_confirmed_cases), key=operator.itemgetter(1), reverse=True)]\n",
        "\n",
        "for i in range(len(recent_countries)):\n",
        "    country_confirmed_cases[i] = recent_data[recent_data['Country_Region'] == recent_countries[i]]['Confirmed'].sum()\n",
        "    country_date_updated.append(recent_data['Last_Update'][0])\n",
        "    country_death_cases.append(recent_data[recent_data['Country_Region'] == recent_countries[i]]['Deaths'].sum())\n",
        "    country_recovery_cases.append(recent_data[recent_data['Country_Region'] == recent_countries[i]]['Recovered'].sum())\n",
        "    country_active_cases.append(recent_data[recent_data['Country_Region'] == recent_countries[i]]['Active'].sum())\n",
        "\n",
        "for i in range(len(old_countries)):\n",
        "    old_country_confirmed_cases[i] = old_data[old_data['Country_Region'] == old_countries[i]]['Confirmed'].sum()\n",
        "    old_country_date_updated.append(old_data['Last_Update'][0])\n",
        "    old_country_death_cases.append(old_data[old_data['Country_Region'] == old_countries[i]]['Deaths'].sum())\n",
        "    old_country_recovery_cases.append(old_data[old_data['Country_Region'] == old_countries[i]]['Recovered'].sum())\n",
        "    old_country_active_cases.append(old_data[old_data['Country_Region'] == old_countries[i]]['Active'].sum())\n"
      ],
      "execution_count": null,
      "outputs": []
    },
    {
      "cell_type": "code",
      "metadata": {
        "id": "5LyF0Ze__8-j",
        "outputId": "35b9248d-0d18-409a-e4bb-552ee414704d"
      },
      "source": [
        "countries_df = Table().with_column(\"\", np.arange(0, 190)).with_column(\n",
        "    'Country', recent_countries).with_column(\n",
        "    'Last Updated', country_date_updated).with_column(\n",
        "    'Number of Confirmed Cases', country_confirmed_cases).with_column(\n",
        "    'Number of Deaths', country_death_cases).with_column(\n",
        "    'Number of Recoveries', country_recovery_cases).with_column(\n",
        "    'Number of Active Cases', country_active_cases)\n",
        "\n",
        "countries_df"
      ],
      "execution_count": null,
      "outputs": [
        {
          "output_type": "execute_result",
          "data": {
            "text/html": [
              "<table border=\"1\" class=\"dataframe\">\n",
              "    <thead>\n",
              "        <tr>\n",
              "            <th></th> <th>Country</th> <th>Last Updated</th> <th>Number of Confirmed Cases</th> <th>Number of Deaths</th> <th>Number of Recoveries</th> <th>Number of Active Cases</th>\n",
              "        </tr>\n",
              "    </thead>\n",
              "    <tbody>\n",
              "        <tr>\n",
              "            <td>0   </td> <td>US            </td> <td>11-08-2020  </td> <td>9914870                  </td> <td>237317          </td> <td>3851465             </td> <td>5.74136e+06           </td>\n",
              "        </tr>\n",
              "        <tr>\n",
              "            <td>1   </td> <td>India         </td> <td>11-08-2020  </td> <td>8507754                  </td> <td>126121          </td> <td>7868968             </td> <td>512665                </td>\n",
              "        </tr>\n",
              "        <tr>\n",
              "            <td>2   </td> <td>Brazil        </td> <td>11-08-2020  </td> <td>5653561                  </td> <td>162269          </td> <td>5138641             </td> <td>352651                </td>\n",
              "        </tr>\n",
              "        <tr>\n",
              "            <td>3   </td> <td>Russia        </td> <td>11-08-2020  </td> <td>1740172                  </td> <td>30010           </td> <td>1304607             </td> <td>405555                </td>\n",
              "        </tr>\n",
              "        <tr>\n",
              "            <td>4   </td> <td>France        </td> <td>11-08-2020  </td> <td>1709773                  </td> <td>40220           </td> <td>133419              </td> <td>1.53608e+06           </td>\n",
              "        </tr>\n",
              "        <tr>\n",
              "            <td>5   </td> <td>Spain         </td> <td>11-08-2020  </td> <td>1328832                  </td> <td>38833           </td> <td>150376              </td> <td>1.13962e+06           </td>\n",
              "        </tr>\n",
              "        <tr>\n",
              "            <td>6   </td> <td>Argentina     </td> <td>11-08-2020  </td> <td>1236851                  </td> <td>33348           </td> <td>1053313             </td> <td>150190                </td>\n",
              "        </tr>\n",
              "        <tr>\n",
              "            <td>7   </td> <td>United Kingdom</td> <td>11-08-2020  </td> <td>1174770                  </td> <td>48978           </td> <td>2965                </td> <td>1.12283e+06           </td>\n",
              "        </tr>\n",
              "        <tr>\n",
              "            <td>8   </td> <td>Colombia      </td> <td>11-08-2020  </td> <td>1136447                  </td> <td>32595           </td> <td>1029082             </td> <td>74770                 </td>\n",
              "        </tr>\n",
              "        <tr>\n",
              "            <td>9   </td> <td>Mexico        </td> <td>11-08-2020  </td> <td>961938                   </td> <td>94808           </td> <td>816659              </td> <td>50471                 </td>\n",
              "        </tr>\n",
              "    </tbody>\n",
              "</table>\n",
              "<p>... (180 rows omitted)</p>"
            ],
            "text/plain": [
              "     | Country        | Last Updated | Number of Confirmed Cases | Number of Deaths | Number of Recoveries | Number of Active Cases\n",
              "0    | US             | 11-08-2020   | 9914870                   | 237317           | 3851465              | 5.74136e+06\n",
              "1    | India          | 11-08-2020   | 8507754                   | 126121           | 7868968              | 512665\n",
              "2    | Brazil         | 11-08-2020   | 5653561                   | 162269           | 5138641              | 352651\n",
              "3    | Russia         | 11-08-2020   | 1740172                   | 30010            | 1304607              | 405555\n",
              "4    | France         | 11-08-2020   | 1709773                   | 40220            | 133419               | 1.53608e+06\n",
              "5    | Spain          | 11-08-2020   | 1328832                   | 38833            | 150376               | 1.13962e+06\n",
              "6    | Argentina      | 11-08-2020   | 1236851                   | 33348            | 1053313              | 150190\n",
              "7    | United Kingdom | 11-08-2020   | 1174770                   | 48978            | 2965                 | 1.12283e+06\n",
              "8    | Colombia       | 11-08-2020   | 1136447                   | 32595            | 1029082              | 74770\n",
              "9    | Mexico         | 11-08-2020   | 961938                    | 94808            | 816659               | 50471\n",
              "... (180 rows omitted)"
            ]
          },
          "metadata": {
            "tags": []
          },
          "execution_count": 190
        }
      ]
    },
    {
      "cell_type": "code",
      "metadata": {
        "id": "GBj7Bo3E_8-m"
      },
      "source": [
        ""
      ],
      "execution_count": null,
      "outputs": []
    },
    {
      "cell_type": "markdown",
      "metadata": {
        "id": "MDVNjmOz_8-o"
      },
      "source": [
        "# Describe the Data Using Descriptive Stats\n",
        "Use descriptive stats to tell us about your data. Must include mean, median, and mode where applicable. Also must talk about normality of data.\n",
        "\n",
        "Remember what `standard deviation`, `mean`, `central tendency`, and `variance` mean for your data"
      ]
    },
    {
      "cell_type": "code",
      "metadata": {
        "id": "yLwYkW0q_8-o",
        "outputId": "83f28b4d-fe12-4e14-a367-6aa642fb1a5f"
      },
      "source": [
        "Maximum_confirmed_case = countries_df.column('Number of Confirmed Cases').max()\n",
        "Maximum_death_case = countries_df.column('Number of Deaths').max()\n",
        "print(\"The value of the highest confirmed case is\", Maximum_confirmed_case)\n",
        "print(\"The value of the highest deaths is\", Maximum_death_case)"
      ],
      "execution_count": null,
      "outputs": [
        {
          "output_type": "stream",
          "text": [
            "The value of the highest confirmed case is 9914870\n",
            "The value of the highest deaths is 237317\n"
          ],
          "name": "stdout"
        }
      ]
    },
    {
      "cell_type": "code",
      "metadata": {
        "scrolled": true,
        "id": "G2tvaVTC_8-r",
        "outputId": "fa406e6f-6259-4ff0-aff6-96911032ac26"
      },
      "source": [
        "countries_df.where('Number of Confirmed Cases', are.between(961938, 9862228)).num_rows/countries_df.num_rows"
      ],
      "execution_count": null,
      "outputs": [
        {
          "output_type": "execute_result",
          "data": {
            "text/plain": [
              "0.04736842105263158"
            ]
          },
          "metadata": {
            "tags": []
          },
          "execution_count": 192
        }
      ]
    },
    {
      "cell_type": "code",
      "metadata": {
        "id": "jYAaTFK__8-t",
        "outputId": "217ce356-6b16-4d4a-bf20-15478a46d8a2"
      },
      "source": [
        "median = np.median(countries_df.column('Number of Confirmed Cases'))\n",
        "mean = countries_df.column(\"Number of Confirmed Cases\").mean()\n",
        "standard_dev = countries_df.column(\"Number of Confirmed Cases\").std()\n",
        "print(\"median:\", median, \"mean:\", mean, \"standard deviation:\", standard_dev)"
      ],
      "execution_count": null,
      "outputs": [
        {
          "output_type": "stream",
          "text": [
            "median: 22360.5 mean: 262563.0894736842 standard deviation: 1048545.7727607656\n"
          ],
          "name": "stdout"
        }
      ]
    },
    {
      "cell_type": "code",
      "metadata": {
        "id": "2RloKxlH_8-v",
        "outputId": "1c1725a1-4f6a-49b4-8042-b9ca00d29c93"
      },
      "source": [
        "case_bins = np.arange(0, 11, 1)\n",
        "countries_df.hist('Number of Confirmed Cases', bins = case_bins, unit = 'millions')\n",
        "plt.title('Number of Confirmed Cases');"
      ],
      "execution_count": null,
      "outputs": [
        {
          "output_type": "display_data",
          "data": {
            "image/png": "[encoded data removed]",
            "text/plain": [
              "<Figure size 432x288 with 1 Axes>"
            ]
          },
          "metadata": {
            "tags": []
          }
        }
      ]
    },
    {
      "cell_type": "code",
      "metadata": {
        "id": "7qF6yAEd_8-y",
        "outputId": "482d4688-b657-4c07-b27c-41a4a2233e6b"
      },
      "source": [
        "case_bins = np.arange(0, 11, 1)\n",
        "sample_50 = countries_df.sample(50)\n",
        "sample_50.hist('Number of Confirmed Cases', bins = case_bins, unit = 'millions')\n",
        "plt.title('Number of Confirmed Cases');"
      ],
      "execution_count": null,
      "outputs": [
        {
          "output_type": "display_data",
          "data": {
            "image/png": "[encoded data removed]",
            "text/plain": [
              "<Figure size 432x288 with 1 Axes>"
            ]
          },
          "metadata": {
            "tags": []
          }
        }
      ]
    },
    {
      "cell_type": "markdown",
      "metadata": {
        "id": "au3MJpr4_8-1"
      },
      "source": [
        "For the population of countries in the world, we know the value of the parameter \"median confirmed cases\":"
      ]
    },
    {
      "cell_type": "markdown",
      "metadata": {
        "id": "gbu63NLg_8-1"
      },
      "source": [
        "The NumPy function median returns the median (half-way point) of an array. Among all the countries in the world, the median confirmed cases was 22360.5. That is, about 50% of countries in the population had confirmed cases of 22360.5 or fewer:"
      ]
    },
    {
      "cell_type": "code",
      "metadata": {
        "id": "dXKxJOJp_8-1",
        "outputId": "ce5ccb32-b0c5-4947-8cc7-d9c1bed007e1"
      },
      "source": [
        "countries_df.where('Number of Confirmed Cases', are.below_or_equal_to(22360.5)).num_rows / countries_df.num_rows"
      ],
      "execution_count": null,
      "outputs": [
        {
          "output_type": "execute_result",
          "data": {
            "text/plain": [
              "0.5"
            ]
          },
          "metadata": {
            "tags": []
          },
          "execution_count": 196
        }
      ]
    },
    {
      "cell_type": "markdown",
      "metadata": {
        "id": "UxInbEOb_8-4"
      },
      "source": [
        "# Data Visualization Continued\n",
        "Use everything from the miniproject 1 to describe the plots you will use to visualize you data. \n",
        "\n",
        "Must use histogram, bar charts, and pie charts to describe aspects abou tthe data\n",
        "\n",
        "Determine if your data is normal or not!\n",
        "\n"
      ]
    },
    {
      "cell_type": "code",
      "metadata": {
        "id": "6fAtVvwP_8-4"
      },
      "source": [
        "# Only show 10 countries with the most confirmed cases, the rest are grouped into the other category\n",
        "visual_countries = [] \n",
        "visual_confirmed_cases = []\n",
        "others = np.sum(country_confirmed_cases[10:])\n",
        "\n",
        "for i in range(len(country_confirmed_cases[:10])):\n",
        "    visual_countries.append(recent_countries[i])\n",
        "    visual_confirmed_cases.append(country_confirmed_cases[i])\n",
        "    \n",
        "visual_countries.append('Others')\n",
        "visual_confirmed_cases.append(others)"
      ],
      "execution_count": null,
      "outputs": []
    },
    {
      "cell_type": "code",
      "metadata": {
        "scrolled": true,
        "id": "J1g3NmOJ_8-6",
        "outputId": "c15cddd2-2d8a-459a-e179-d5da1d502f44"
      },
      "source": [
        "def plot_bar_graphs(x, y, title):\n",
        "    plt.figure(figsize=(10, 8))\n",
        "    plt.barh(x, y, color=plt.cm.Paired(np.arange(len(countries_df))), edgecolor='black')\n",
        "    plt.title(title, size=15)\n",
        "    plt.xticks(size=10)\n",
        "    plt.yticks(size=10)\n",
        "    plt.show()\n",
        "    \n",
        "def plot_pie_charts(x, y, title):\n",
        "    c = ['gold', 'turquoise', 'sandybrown', 'pink', 'lightcoral',\n",
        "        'khaki', 'lightskyblue', 'brown', 'lightslategrey', 'black', 'lightgreen']\n",
        "    plt.figure(figsize=(10,8))\n",
        "    plt.title(title, size=15)\n",
        "    plt.pie(y, colors=c,shadow=True, labels=y)\n",
        "    plt.legend(x, loc='center right', fontsize=12)\n",
        "    plt.show()\n",
        "    \n",
        "plot_pie_charts(visual_countries, visual_confirmed_cases, '# of Confirmed Cases in Each Country')"
      ],
      "execution_count": null,
      "outputs": [
        {
          "output_type": "display_data",
          "data": {
            "image/png": "[encoded data removed]",
            "text/plain": [
              "<Figure size 720x576 with 1 Axes>"
            ]
          },
          "metadata": {
            "tags": []
          }
        }
      ]
    },
    {
      "cell_type": "code",
      "metadata": {
        "scrolled": false,
        "id": "10yzD_wF_8-8",
        "outputId": "d99e6d0a-6581-48a8-b06d-a1b6d4b6697b"
      },
      "source": [
        "plot_bar_graphs(visual_countries, visual_confirmed_cases, '# of Confirmed Cases in Each Country')"
      ],
      "execution_count": null,
      "outputs": [
        {
          "output_type": "display_data",
          "data": {
            "image/png": "[encoded data removed]",
            "text/plain": [
              "<Figure size 720x576 with 1 Axes>"
            ]
          },
          "metadata": {
            "tags": []
          }
        }
      ]
    },
    {
      "cell_type": "markdown",
      "metadata": {
        "id": "vU4MLVXl_8-_"
      },
      "source": [
        "The distribution is skewed as the data points cluster more toward one side of the scale than the other."
      ]
    },
    {
      "cell_type": "code",
      "metadata": {
        "id": "URdGmpyr_8-_",
        "outputId": "1f068abf-5a93-4491-fede-43aa6baaeb74"
      },
      "source": [
        "# Only show 10 countries with the most death, the rest are grouped into the other category\n",
        "death_countries = [] \n",
        "visual_death_cases = []\n",
        "other_deaths = np.sum(country_death_cases[10:])\n",
        "\n",
        "for deaths in range(len(country_death_cases[:10])):\n",
        "    death_countries.append(recent_countries[deaths])\n",
        "    visual_death_cases.append(country_death_cases[deaths])\n",
        "    \n",
        "death_countries.append('Others')\n",
        "visual_death_cases.append(other_deaths)\n",
        "\n",
        "plot_pie_charts(death_countries, visual_death_cases, '# of Confirmed Deaths in Each Country')"
      ],
      "execution_count": null,
      "outputs": [
        {
          "output_type": "display_data",
          "data": {
            "image/png": "[encoded data removed]",
            "text/plain": [
              "<Figure size 720x576 with 1 Axes>"
            ]
          },
          "metadata": {
            "tags": []
          }
        }
      ]
    },
    {
      "cell_type": "markdown",
      "metadata": {
        "id": "KNa-hHN6_8_C"
      },
      "source": [
        "## Data Sampling\n",
        "\n",
        "Draw random some samples from your dataset(s)\n",
        "(If you joined your dataset into one large dataset, only sample randomly from this large dataset)\n",
        "\n",
        "You must describe how you choose to pick the random samples, i.e. systematic, probablistic sampling\n",
        "\n",
        "You must describe if you draw random samples with or without replacement\n",
        "\n",
        "Describe why or why not you chose to randomly draw samples with replacement or without replacement"
      ]
    },
    {
      "cell_type": "code",
      "metadata": {
        "scrolled": true,
        "id": "a3AIa7o__8_C",
        "outputId": "f26d527a-00bb-43df-b8eb-2747d264ba24"
      },
      "source": [
        "countries_df.sample(10)"
      ],
      "execution_count": null,
      "outputs": [
        {
          "output_type": "execute_result",
          "data": {
            "text/html": [
              "<table border=\"1\" class=\"dataframe\">\n",
              "    <thead>\n",
              "        <tr>\n",
              "            <th></th> <th>Country</th> <th>Last Updated</th> <th>Number of Confirmed Cases</th> <th>Number of Deaths</th> <th>Number of Recoveries</th> <th>Number of Active Cases</th>\n",
              "        </tr>\n",
              "    </thead>\n",
              "    <tbody>\n",
              "        <tr>\n",
              "            <td>100 </td> <td>Zambia          </td> <td>11-08-2020  </td> <td>16908                    </td> <td>349             </td> <td>15873               </td> <td>686                   </td>\n",
              "        </tr>\n",
              "        <tr>\n",
              "            <td>16  </td> <td>Chile           </td> <td>11-08-2020  </td> <td>519977                   </td> <td>14499           </td> <td>495852              </td> <td>9627                  </td>\n",
              "        </tr>\n",
              "        <tr>\n",
              "            <td>21  </td> <td>Bangladesh      </td> <td>11-08-2020  </td> <td>418764                   </td> <td>6049            </td> <td>336568              </td> <td>76147                 </td>\n",
              "        </tr>\n",
              "        <tr>\n",
              "            <td>123 </td> <td>Syria           </td> <td>11-08-2020  </td> <td>6147                     </td> <td>313             </td> <td>2302                </td> <td>3532                  </td>\n",
              "        </tr>\n",
              "        <tr>\n",
              "            <td>82  </td> <td>Ghana           </td> <td>11-08-2020  </td> <td>48904                    </td> <td>320             </td> <td>47611               </td> <td>973                   </td>\n",
              "        </tr>\n",
              "        <tr>\n",
              "            <td>29  </td> <td>Romania         </td> <td>11-08-2020  </td> <td>296999                   </td> <td>7793            </td> <td>201114              </td> <td>88092                 </td>\n",
              "        </tr>\n",
              "        <tr>\n",
              "            <td>48  </td> <td>Egypt           </td> <td>11-08-2020  </td> <td>108962                   </td> <td>6355            </td> <td>100239              </td> <td>2368                  </td>\n",
              "        </tr>\n",
              "        <tr>\n",
              "            <td>83  </td> <td>Slovenia        </td> <td>11-08-2020  </td> <td>44270                    </td> <td>531             </td> <td>20767               </td> <td>22972                 </td>\n",
              "        </tr>\n",
              "        <tr>\n",
              "            <td>40  </td> <td>Panama          </td> <td>11-08-2020  </td> <td>138506                   </td> <td>2781            </td> <td>116823              </td> <td>18902                 </td>\n",
              "        </tr>\n",
              "        <tr>\n",
              "            <td>163 </td> <td>Papua New Guinea</td> <td>11-08-2020  </td> <td>597                      </td> <td>7               </td> <td>580                 </td> <td>10                    </td>\n",
              "        </tr>\n",
              "    </tbody>\n",
              "</table>"
            ],
            "text/plain": [
              "     | Country          | Last Updated | Number of Confirmed Cases | Number of Deaths | Number of Recoveries | Number of Active Cases\n",
              "100  | Zambia           | 11-08-2020   | 16908                     | 349              | 15873                | 686\n",
              "16   | Chile            | 11-08-2020   | 519977                    | 14499            | 495852               | 9627\n",
              "21   | Bangladesh       | 11-08-2020   | 418764                    | 6049             | 336568               | 76147\n",
              "123  | Syria            | 11-08-2020   | 6147                      | 313              | 2302                 | 3532\n",
              "82   | Ghana            | 11-08-2020   | 48904                     | 320              | 47611                | 973\n",
              "29   | Romania          | 11-08-2020   | 296999                    | 7793             | 201114               | 88092\n",
              "48   | Egypt            | 11-08-2020   | 108962                    | 6355             | 100239               | 2368\n",
              "83   | Slovenia         | 11-08-2020   | 44270                     | 531              | 20767                | 22972\n",
              "40   | Panama           | 11-08-2020   | 138506                    | 2781             | 116823               | 18902\n",
              "163  | Papua New Guinea | 11-08-2020   | 597                       | 7                | 580                  | 10"
            ]
          },
          "metadata": {
            "tags": []
          },
          "execution_count": 201
        }
      ]
    },
    {
      "cell_type": "code",
      "metadata": {
        "id": "tWKRhi07_8_E",
        "outputId": "8fb32f9e-788d-45fb-8aa0-fe6483fe339d"
      },
      "source": [
        "# Deterministic Samples\n",
        "countries_df.take(make_array(0, 20, 100))"
      ],
      "execution_count": null,
      "outputs": [
        {
          "output_type": "execute_result",
          "data": {
            "text/html": [
              "<table border=\"1\" class=\"dataframe\">\n",
              "    <thead>\n",
              "        <tr>\n",
              "            <th></th> <th>Country</th> <th>Last Updated</th> <th>Number of Confirmed Cases</th> <th>Number of Deaths</th> <th>Number of Recoveries</th> <th>Number of Active Cases</th>\n",
              "        </tr>\n",
              "    </thead>\n",
              "    <tbody>\n",
              "        <tr>\n",
              "            <td>0   </td> <td>US       </td> <td>11-08-2020  </td> <td>9914870                  </td> <td>237317          </td> <td>3851465             </td> <td>5.74136e+06           </td>\n",
              "        </tr>\n",
              "        <tr>\n",
              "            <td>20  </td> <td>Indonesia</td> <td>11-08-2020  </td> <td>433836                   </td> <td>14540           </td> <td>364417              </td> <td>54879                 </td>\n",
              "        </tr>\n",
              "        <tr>\n",
              "            <td>100 </td> <td>Zambia   </td> <td>11-08-2020  </td> <td>16908                    </td> <td>349             </td> <td>15873               </td> <td>686                   </td>\n",
              "        </tr>\n",
              "    </tbody>\n",
              "</table>"
            ],
            "text/plain": [
              "     | Country   | Last Updated | Number of Confirmed Cases | Number of Deaths | Number of Recoveries | Number of Active Cases\n",
              "0    | US        | 11-08-2020   | 9914870                   | 237317           | 3851465              | 5.74136e+06\n",
              "20   | Indonesia | 11-08-2020   | 433836                    | 14540            | 364417               | 54879\n",
              "100  | Zambia    | 11-08-2020   | 16908                     | 349              | 15873                | 686"
            ]
          },
          "metadata": {
            "tags": []
          },
          "execution_count": 202
        }
      ]
    },
    {
      "cell_type": "code",
      "metadata": {
        "id": "_KTPfJrF_8_G",
        "outputId": "78d1b238-6e1a-4339-d97d-7d61b3d908a2"
      },
      "source": [
        "# Systematic Sample\n",
        "# Choose a random start among rows 0 through 9; then take every 10th row\n",
        "\n",
        "start = np.random.choice(np.arange(10))\n",
        "countries_df.take(np.arange(start, countries_df.num_rows, 10))"
      ],
      "execution_count": null,
      "outputs": [
        {
          "output_type": "execute_result",
          "data": {
            "text/html": [
              "<table border=\"1\" class=\"dataframe\">\n",
              "    <thead>\n",
              "        <tr>\n",
              "            <th></th> <th>Country</th> <th>Last Updated</th> <th>Number of Confirmed Cases</th> <th>Number of Deaths</th> <th>Number of Recoveries</th> <th>Number of Active Cases</th>\n",
              "        </tr>\n",
              "    </thead>\n",
              "    <tbody>\n",
              "        <tr>\n",
              "            <td>6   </td> <td>Argentina      </td> <td>11-08-2020  </td> <td>1236851                  </td> <td>33348           </td> <td>1053313             </td> <td>150190                </td>\n",
              "        </tr>\n",
              "        <tr>\n",
              "            <td>16  </td> <td>Chile          </td> <td>11-08-2020  </td> <td>519977                   </td> <td>14499           </td> <td>495852              </td> <td>9627                  </td>\n",
              "        </tr>\n",
              "        <tr>\n",
              "            <td>26  </td> <td>Saudi Arabia   </td> <td>11-08-2020  </td> <td>350229                   </td> <td>5525            </td> <td>336966              </td> <td>7738                  </td>\n",
              "        </tr>\n",
              "        <tr>\n",
              "            <td>36  </td> <td>Austria        </td> <td>11-08-2020  </td> <td>147220                   </td> <td>1377            </td> <td>88273               </td> <td>57570                 </td>\n",
              "        </tr>\n",
              "        <tr>\n",
              "            <td>46  </td> <td>Kazakhstan     </td> <td>11-08-2020  </td> <td>116162                   </td> <td>1857            </td> <td>107668              </td> <td>6637                  </td>\n",
              "        </tr>\n",
              "        <tr>\n",
              "            <td>56  </td> <td>Venezuela      </td> <td>11-08-2020  </td> <td>94698                    </td> <td>824             </td> <td>89502               </td> <td>4372                  </td>\n",
              "        </tr>\n",
              "        <tr>\n",
              "            <td>66  </td> <td>Paraguay       </td> <td>11-08-2020  </td> <td>66941                    </td> <td>1479            </td> <td>47154               </td> <td>18308                 </td>\n",
              "        </tr>\n",
              "        <tr>\n",
              "            <td>76  </td> <td>Burma          </td> <td>11-08-2020  </td> <td>60348                    </td> <td>1396            </td> <td>44666               </td> <td>14286                 </td>\n",
              "        </tr>\n",
              "        <tr>\n",
              "            <td>86  </td> <td>North Macedonia</td> <td>11-08-2020  </td> <td>38782                    </td> <td>1110            </td> <td>23011               </td> <td>14661                 </td>\n",
              "        </tr>\n",
              "        <tr>\n",
              "            <td>96  </td> <td>Luxembourg     </td> <td>11-08-2020  </td> <td>21806                    </td> <td>180             </td> <td>12094               </td> <td>9532                  </td>\n",
              "        </tr>\n",
              "    </tbody>\n",
              "</table>\n",
              "<p>... (9 rows omitted)</p>"
            ],
            "text/plain": [
              "     | Country         | Last Updated | Number of Confirmed Cases | Number of Deaths | Number of Recoveries | Number of Active Cases\n",
              "6    | Argentina       | 11-08-2020   | 1236851                   | 33348            | 1053313              | 150190\n",
              "16   | Chile           | 11-08-2020   | 519977                    | 14499            | 495852               | 9627\n",
              "26   | Saudi Arabia    | 11-08-2020   | 350229                    | 5525             | 336966               | 7738\n",
              "36   | Austria         | 11-08-2020   | 147220                    | 1377             | 88273                | 57570\n",
              "46   | Kazakhstan      | 11-08-2020   | 116162                    | 1857             | 107668               | 6637\n",
              "56   | Venezuela       | 11-08-2020   | 94698                     | 824              | 89502                | 4372\n",
              "66   | Paraguay        | 11-08-2020   | 66941                     | 1479             | 47154                | 18308\n",
              "76   | Burma           | 11-08-2020   | 60348                     | 1396             | 44666                | 14286\n",
              "86   | North Macedonia | 11-08-2020   | 38782                     | 1110             | 23011                | 14661\n",
              "96   | Luxembourg      | 11-08-2020   | 21806                     | 180              | 12094                | 9532\n",
              "... (9 rows omitted)"
            ]
          },
          "metadata": {
            "tags": []
          },
          "execution_count": 203
        }
      ]
    },
    {
      "cell_type": "code",
      "metadata": {
        "id": "SRZOFmZC_8_I"
      },
      "source": [
        "def random_sample_median():\n",
        "    return np.median(countries_df.sample(190).column('Number of Confirmed Cases'))\n",
        "\n",
        "#without replacemnt - WHY???"
      ],
      "execution_count": null,
      "outputs": []
    },
    {
      "cell_type": "code",
      "metadata": {
        "id": "NyczglMo_8_K"
      },
      "source": [
        "medians = make_array()\n",
        "for i in np.arange(50):\n",
        "    medians = np.append(medians, random_sample_median())"
      ],
      "execution_count": null,
      "outputs": []
    },
    {
      "cell_type": "code",
      "metadata": {
        "scrolled": false,
        "id": "tRTnZBcL_8_O",
        "outputId": "9a824edc-3697-4bf4-8dd1-0f1c1447eaee"
      },
      "source": [
        "simulated_medians = Table().with_column('Sample Median', medians)\n",
        "simulated_medians"
      ],
      "execution_count": null,
      "outputs": [
        {
          "output_type": "execute_result",
          "data": {
            "text/html": [
              "<table border=\"1\" class=\"dataframe\">\n",
              "    <thead>\n",
              "        <tr>\n",
              "            <th>Sample Median</th>\n",
              "        </tr>\n",
              "    </thead>\n",
              "    <tbody>\n",
              "        <tr>\n",
              "            <td>61212        </td>\n",
              "        </tr>\n",
              "        <tr>\n",
              "            <td>22934        </td>\n",
              "        </tr>\n",
              "        <tr>\n",
              "            <td>22342        </td>\n",
              "        </tr>\n",
              "        <tr>\n",
              "            <td>22719        </td>\n",
              "        </tr>\n",
              "        <tr>\n",
              "            <td>14004.5      </td>\n",
              "        </tr>\n",
              "        <tr>\n",
              "            <td>23974        </td>\n",
              "        </tr>\n",
              "        <tr>\n",
              "            <td>36963.5      </td>\n",
              "        </tr>\n",
              "        <tr>\n",
              "            <td>40695        </td>\n",
              "        </tr>\n",
              "        <tr>\n",
              "            <td>22360.5      </td>\n",
              "        </tr>\n",
              "        <tr>\n",
              "            <td>27427        </td>\n",
              "        </tr>\n",
              "    </tbody>\n",
              "</table>\n",
              "<p>... (40 rows omitted)</p>"
            ],
            "text/plain": [
              "Sample Median\n",
              "61212\n",
              "22934\n",
              "22342\n",
              "22719\n",
              "14004.5\n",
              "23974\n",
              "36963.5\n",
              "40695\n",
              "22360.5\n",
              "27427\n",
              "... (40 rows omitted)"
            ]
          },
          "metadata": {
            "tags": []
          },
          "execution_count": 206
        }
      ]
    },
    {
      "cell_type": "markdown",
      "metadata": {
        "id": "Ai69jR4M_8_S"
      },
      "source": [
        "## Find Probability\n",
        "Find the probability of two events that must both happen in your data analysis\n",
        "\n",
        "Find the probablity of an event that doesn't happen using your dataset(s)\n",
        "\n",
        "Find the probability of event that is equally likely occur. You might have to think about this in regards to your problem that you are exploring\n",
        "\n"
      ]
    },
    {
      "cell_type": "code",
      "metadata": {
        "scrolled": false,
        "id": "M_PG3kR7_8_S",
        "outputId": "7166cbd4-c800-455a-e6a3-a1f6419d7740"
      },
      "source": [
        "from copy import deepcopy\n",
        "from fractions import Fraction\n",
        "\n",
        "us_index = recent_data[recent_data[\"Country_Region\"].isin([\"US\"])].index\n",
        "us_index = us_index.tolist()\n",
        "only_us = recent_data.loc[us_index]\n",
        "only_us\n",
        "data = {'Case Count': [], \n",
        "        'Probability':[]}\n",
        "\n",
        "def probs_us_country(countries):\n",
        "    by_state = deepcopy(countries)\n",
        "    num_states = len(us_index)\n",
        "    for i in range(20):\n",
        "        state_picked = np.random.choice(by_state) #with replacement\n",
        "        data['Case Count'].append(state_picked)\n",
        "        if state_picked in us_index:\n",
        "            num_states -= 1\n",
        "        data['Probability'].append(str(num_states) +'/' + str(len(by_state)))\n",
        "#         by_state.remove(state_picked)\n",
        "    df = pd.DataFrame (data, columns = ['Probability'])\n",
        "    return df\n",
        "\n",
        "state_list = recent_data[\"Confirmed\"].tolist()\n",
        "probs_us_country(state_list)"
      ],
      "execution_count": null,
      "outputs": [
        {
          "output_type": "execute_result",
          "data": {
            "text/html": [
              "<div>\n",
              "<style scoped>\n",
              "    .dataframe tbody tr th:only-of-type {\n",
              "        vertical-align: middle;\n",
              "    }\n",
              "\n",
              "    .dataframe tbody tr th {\n",
              "        vertical-align: top;\n",
              "    }\n",
              "\n",
              "    .dataframe thead th {\n",
              "        text-align: right;\n",
              "    }\n",
              "</style>\n",
              "<table border=\"1\" class=\"dataframe\">\n",
              "  <thead>\n",
              "    <tr style=\"text-align: right;\">\n",
              "      <th></th>\n",
              "      <th>Probability</th>\n",
              "    </tr>\n",
              "  </thead>\n",
              "  <tbody>\n",
              "    <tr>\n",
              "      <th>0</th>\n",
              "      <td>3274/3961</td>\n",
              "    </tr>\n",
              "    <tr>\n",
              "      <th>1</th>\n",
              "      <td>3274/3961</td>\n",
              "    </tr>\n",
              "    <tr>\n",
              "      <th>2</th>\n",
              "      <td>3273/3961</td>\n",
              "    </tr>\n",
              "    <tr>\n",
              "      <th>3</th>\n",
              "      <td>3273/3961</td>\n",
              "    </tr>\n",
              "    <tr>\n",
              "      <th>4</th>\n",
              "      <td>3273/3961</td>\n",
              "    </tr>\n",
              "    <tr>\n",
              "      <th>5</th>\n",
              "      <td>3272/3961</td>\n",
              "    </tr>\n",
              "    <tr>\n",
              "      <th>6</th>\n",
              "      <td>3271/3961</td>\n",
              "    </tr>\n",
              "    <tr>\n",
              "      <th>7</th>\n",
              "      <td>3271/3961</td>\n",
              "    </tr>\n",
              "    <tr>\n",
              "      <th>8</th>\n",
              "      <td>3270/3961</td>\n",
              "    </tr>\n",
              "    <tr>\n",
              "      <th>9</th>\n",
              "      <td>3269/3961</td>\n",
              "    </tr>\n",
              "    <tr>\n",
              "      <th>10</th>\n",
              "      <td>3269/3961</td>\n",
              "    </tr>\n",
              "    <tr>\n",
              "      <th>11</th>\n",
              "      <td>3269/3961</td>\n",
              "    </tr>\n",
              "    <tr>\n",
              "      <th>12</th>\n",
              "      <td>3269/3961</td>\n",
              "    </tr>\n",
              "    <tr>\n",
              "      <th>13</th>\n",
              "      <td>3269/3961</td>\n",
              "    </tr>\n",
              "    <tr>\n",
              "      <th>14</th>\n",
              "      <td>3268/3961</td>\n",
              "    </tr>\n",
              "    <tr>\n",
              "      <th>15</th>\n",
              "      <td>3267/3961</td>\n",
              "    </tr>\n",
              "    <tr>\n",
              "      <th>16</th>\n",
              "      <td>3266/3961</td>\n",
              "    </tr>\n",
              "    <tr>\n",
              "      <th>17</th>\n",
              "      <td>3265/3961</td>\n",
              "    </tr>\n",
              "    <tr>\n",
              "      <th>18</th>\n",
              "      <td>3265/3961</td>\n",
              "    </tr>\n",
              "    <tr>\n",
              "      <th>19</th>\n",
              "      <td>3264/3961</td>\n",
              "    </tr>\n",
              "  </tbody>\n",
              "</table>\n",
              "</div>"
            ],
            "text/plain": [
              "   Probability\n",
              "0    3274/3961\n",
              "1    3274/3961\n",
              "2    3273/3961\n",
              "3    3273/3961\n",
              "4    3273/3961\n",
              "5    3272/3961\n",
              "6    3271/3961\n",
              "7    3271/3961\n",
              "8    3270/3961\n",
              "9    3269/3961\n",
              "10   3269/3961\n",
              "11   3269/3961\n",
              "12   3269/3961\n",
              "13   3269/3961\n",
              "14   3268/3961\n",
              "15   3267/3961\n",
              "16   3266/3961\n",
              "17   3265/3961\n",
              "18   3265/3961\n",
              "19   3264/3961"
            ]
          },
          "metadata": {
            "tags": []
          },
          "execution_count": 207
        }
      ]
    },
    {
      "cell_type": "code",
      "metadata": {
        "id": "uWN6Vi3x_8_U"
      },
      "source": [
        ""
      ],
      "execution_count": null,
      "outputs": []
    },
    {
      "cell_type": "markdown",
      "metadata": {
        "id": "yPVlg8OO_8_W"
      },
      "source": [
        "## Test Statistics \n",
        "For each of your questions list the test statistic that you are going to use to test the hypothesis."
      ]
    },
    {
      "cell_type": "code",
      "metadata": {
        "id": "LWQiBUvQ_8_W"
      },
      "source": [
        ""
      ],
      "execution_count": null,
      "outputs": []
    },
    {
      "cell_type": "markdown",
      "metadata": {
        "id": "5RHwMiiG_8_Y"
      },
      "source": [
        "## Observed Values\n",
        "Show the oberved value of the test statistics"
      ]
    },
    {
      "cell_type": "markdown",
      "metadata": {
        "id": "VyhklFAC_8_Z"
      },
      "source": [
        "# Hypothesis Tests Conclusions\n",
        "Based on what you found about your topic communicate it to the audience. "
      ]
    },
    {
      "cell_type": "markdown",
      "metadata": {
        "id": "vIv7bTgl_8_Z"
      },
      "source": [
        "Based of the visualization, **the null hypothesis is passed**. \n",
        "As we said earlier, the United States having the largest value for confirmed cases and death numbers will make us lean towards the null hypothesis. "
      ]
    },
    {
      "cell_type": "markdown",
      "metadata": {
        "id": "c6S4XvkO_8_a"
      },
      "source": [
        "# Topic Conclusions\n",
        "Sum up the conclusions about what you did and why it is interesting to you, the public reading your analysis or to a particular population"
      ]
    },
    {
      "cell_type": "code",
      "metadata": {
        "id": "IUm7rjg3_8_a"
      },
      "source": [
        ""
      ],
      "execution_count": null,
      "outputs": []
    },
    {
      "cell_type": "markdown",
      "metadata": {
        "id": "N2mE3DbD_8_d"
      },
      "source": [
        "## 2. SECOND HYPOTHESIS"
      ]
    },
    {
      "cell_type": "markdown",
      "metadata": {
        "id": "u_6HVFGy_8_d"
      },
      "source": [
        "**Null Hypothesis:** The number of deaths in the US is more than or equal to half of the number of confirmed cases in the US.\n",
        "\n",
        "**Alternative Hypothesis:** The number of deaths in the US is much less than half of the number of confirmed cases in the US. "
      ]
    },
    {
      "cell_type": "code",
      "metadata": {
        "id": "0qFRlC1P_8_d",
        "outputId": "28928577-7077-479e-b466-f2f024c13d64"
      },
      "source": [
        "#get the US data only\n",
        "US_data = countries_df.where('Country', are.containing('US'))\n",
        "US_data"
      ],
      "execution_count": null,
      "outputs": [
        {
          "output_type": "execute_result",
          "data": {
            "text/html": [
              "<table border=\"1\" class=\"dataframe\">\n",
              "    <thead>\n",
              "        <tr>\n",
              "            <th></th> <th>Country</th> <th>Last Updated</th> <th>Number of Confirmed Cases</th> <th>Number of Deaths</th> <th>Number of Recoveries</th> <th>Number of Active Cases</th>\n",
              "        </tr>\n",
              "    </thead>\n",
              "    <tbody>\n",
              "        <tr>\n",
              "            <td>0   </td> <td>US     </td> <td>11-08-2020  </td> <td>9914870                  </td> <td>237317          </td> <td>3851465             </td> <td>5.74136e+06           </td>\n",
              "        </tr>\n",
              "    </tbody>\n",
              "</table>"
            ],
            "text/plain": [
              "     | Country | Last Updated | Number of Confirmed Cases | Number of Deaths | Number of Recoveries | Number of Active Cases\n",
              "0    | US      | 11-08-2020   | 9914870                   | 237317           | 3851465              | 5.74136e+06"
            ]
          },
          "metadata": {
            "tags": []
          },
          "execution_count": 213
        }
      ]
    },
    {
      "cell_type": "code",
      "metadata": {
        "id": "vZT3xn0B_8_g",
        "outputId": "c846ca85-3325-40e2-e2cc-d148f1be282f"
      },
      "source": [
        "#drop columns and plot in a bar chart side by side\n",
        "data = US_data.drop(0,1,2,5,6)\n",
        "data"
      ],
      "execution_count": null,
      "outputs": [
        {
          "output_type": "execute_result",
          "data": {
            "text/html": [
              "<table border=\"1\" class=\"dataframe\">\n",
              "    <thead>\n",
              "        <tr>\n",
              "            <th>Number of Confirmed Cases</th> <th>Number of Deaths</th>\n",
              "        </tr>\n",
              "    </thead>\n",
              "    <tbody>\n",
              "        <tr>\n",
              "            <td>9914870                  </td> <td>237317          </td>\n",
              "        </tr>\n",
              "    </tbody>\n",
              "</table>"
            ],
            "text/plain": [
              "Number of Confirmed Cases | Number of Deaths\n",
              "9914870                   | 237317"
            ]
          },
          "metadata": {
            "tags": []
          },
          "execution_count": 214
        }
      ]
    },
    {
      "cell_type": "code",
      "metadata": {
        "id": "qr4608lm_8_h",
        "outputId": "c4a72e5a-ef2b-4f2a-d709-37c0d7e5192a"
      },
      "source": [
        "#calculate half of the no. of confirmed cases and compare to deaths.\n",
        "us_confirmed = (recent_data[recent_data['Country_Region']=='US']['Confirmed'].sum())/2\n",
        "us_confirmed"
      ],
      "execution_count": null,
      "outputs": [
        {
          "output_type": "execute_result",
          "data": {
            "text/plain": [
              "4957435.0"
            ]
          },
          "metadata": {
            "tags": []
          },
          "execution_count": 215
        }
      ]
    },
    {
      "cell_type": "markdown",
      "metadata": {
        "id": "BFIRd7FX_8_k"
      },
      "source": [
        "## Test Statistics \n",
        "For each of your questions list the test statistic that you are going to use to test the hypothesis."
      ]
    },
    {
      "cell_type": "code",
      "metadata": {
        "id": "n8RDX68F_8_k",
        "outputId": "a70d3d40-d0ba-405d-fcb4-542932a2088e"
      },
      "source": [
        "india_us = recent_data[recent_data[\"Country_Region\"].isin([\"India\", \"US\"])] \n",
        "india_us = india_us[india_us[\"Deaths\"] > 0]\n",
        "india_us = india_us.filter(items=[\"Country_Region\", \"Deaths\"])\n",
        "india_us[\"Deaths\"].describe()"
      ],
      "execution_count": null,
      "outputs": [
        {
          "output_type": "execute_result",
          "data": {
            "text/plain": [
              "count     2922.000000\n",
              "mean       124.379877\n",
              "std        997.291518\n",
              "min          1.000000\n",
              "25%          5.000000\n",
              "50%         15.000000\n",
              "75%         45.000000\n",
              "max      45115.000000\n",
              "Name: Deaths, dtype: float64"
            ]
          },
          "metadata": {
            "tags": []
          },
          "execution_count": 216
        }
      ]
    },
    {
      "cell_type": "code",
      "metadata": {
        "id": "DchdKwxt_8_n",
        "outputId": "9c153b1d-5226-473b-af3f-e922cb399fb8"
      },
      "source": [
        "from statistics import mean \n",
        "#checking the difference between the US cases and the next leading country (India)\n",
        "\n",
        "def difference_usa_india(dataframe, column_name=\"Country_Region\"):\n",
        "    us = []\n",
        "    india = []\n",
        "    for index , row in dataframe.iterrows():\n",
        "        us_or_india = dataframe.loc[index, column_name]\n",
        "        if us_or_india == \"India\":\n",
        "            india_case = dataframe.loc[index, \"Deaths\"]\n",
        "            india.append(india_case)\n",
        "        elif us_or_india == \"US\":\n",
        "            us_case = dataframe.loc[index, \"Deaths\"]\n",
        "            us.append(us_case)\n",
        "    return abs(mean(india) - mean(us))\n",
        "difference_usa_india(india_us, column_name=\"Country_Region\")"
      ],
      "execution_count": null,
      "outputs": [
        {
          "output_type": "execute_result",
          "data": {
            "text/plain": [
              "3521"
            ]
          },
          "metadata": {
            "tags": []
          },
          "execution_count": 217
        }
      ]
    },
    {
      "cell_type": "markdown",
      "metadata": {
        "id": "a2jM-9lE_8_p"
      },
      "source": [
        "## Observed Values\n",
        "Show the oberved value of the test statistics"
      ]
    },
    {
      "cell_type": "code",
      "metadata": {
        "id": "e8ESkeVg_8_p",
        "outputId": "6904ba9c-7128-4715-bf66-ea3d2b71ac63"
      },
      "source": [
        "def one_simulated_difference(table):\n",
        "    india_us_table = pd.concat([table[\"Country_Region\"], table[\"Deaths\"]],axis=1,keys=['Country_Region','Deaths'])\n",
        "    shuffled_labels = india_us_table[\"Country_Region\"].sample(frac=1).values\n",
        "    shuffled_table = india_us_table\n",
        "    shuffled_table[\"Shuffle\"] = shuffled_labels\n",
        "    return difference_usa_india(india_us_table, \"Shuffle\")\n",
        "one_simulated_difference(india_us)"
      ],
      "execution_count": null,
      "outputs": [
        {
          "output_type": "execute_result",
          "data": {
            "text/plain": [
              "16"
            ]
          },
          "metadata": {
            "tags": []
          },
          "execution_count": 218
        }
      ]
    },
    {
      "cell_type": "code",
      "metadata": {
        "id": "YtUugexx_8_r",
        "outputId": "ee2b6333-a86e-4f27-806f-2e065a76a4cb"
      },
      "source": [
        "repetitions = 500\n",
        "simulated_statistics = []\n",
        "for i in np.arange(repetitions):\n",
        "    simulated_statistics = np.append(simulated_statistics, one_simulated_difference(india_us))\n",
        "    \n",
        "plt.figure(figsize=(8,6))\n",
        "plt.hist(simulated_statistics,bins=10,alpha=0.5)\n",
        "plt.xlabel(\"Covid Death Count Difference\",size=\"14\")\n",
        "plt.ylabel(\"Count\", size=\"14\")\n",
        "plt.title(\"Distribution of Death Difference between India and US Simulations\")\n",
        "plt.show()"
      ],
      "execution_count": null,
      "outputs": [
        {
          "output_type": "display_data",
          "data": {
            "image/png": "[encoded data removed]",
            "text/plain": [
              "<Figure size 576x432 with 1 Axes>"
            ]
          },
          "metadata": {
            "tags": []
          }
        }
      ]
    },
    {
      "cell_type": "code",
      "metadata": {
        "id": "qAKxZF5A_8_t"
      },
      "source": [
        "def india_us_sample_average():\n",
        "    india_us_sample = india_us.sample(50, replace=True)\n",
        "    return np.average(india_us_sample['Deaths'])"
      ],
      "execution_count": null,
      "outputs": []
    },
    {
      "cell_type": "code",
      "metadata": {
        "id": "-BemQoO8_8_w"
      },
      "source": [
        "india_us_sample_averages = make_array()\n",
        "repetitions = 500\n",
        "for i in np.arange(repetitions):\n",
        "    india_us_sample_averages = np.append(india_us_sample_averages, india_us_sample_average())"
      ],
      "execution_count": null,
      "outputs": []
    },
    {
      "cell_type": "code",
      "metadata": {
        "scrolled": false,
        "id": "vF_aSc5a_8_y",
        "outputId": "e9be08ea-027a-467b-fc2f-4b7860c5ff20"
      },
      "source": [
        "averages_tbl = Table().with_column('Sample Average for USA and India', india_us_sample_averages)\n",
        "averages_tbl.hist(bins=20)\n",
        "\n",
        "observed_statistic = 124.379877  # mean of india_us\n",
        "plt.scatter(observed_statistic, 0, color='red', s=300);"
      ],
      "execution_count": null,
      "outputs": [
        {
          "output_type": "display_data",
          "data": {
            "image/png": "[encoded data removed]",
            "text/plain": [
              "<Figure size 432x288 with 1 Axes>"
            ]
          },
          "metadata": {
            "tags": []
          }
        }
      ]
    },
    {
      "cell_type": "code",
      "metadata": {
        "id": "cQpWCyEh_8_0",
        "outputId": "fe1c9e96-1e50-47de-f6cf-413a49c7c6c1"
      },
      "source": [
        "#For india and us\n",
        "np.count_nonzero(india_us_sample_averages <= observed_statistic) / repetitions"
      ],
      "execution_count": null,
      "outputs": [
        {
          "output_type": "execute_result",
          "data": {
            "text/plain": [
              "0.704"
            ]
          },
          "metadata": {
            "tags": []
          },
          "execution_count": 223
        }
      ]
    },
    {
      "cell_type": "markdown",
      "metadata": {
        "id": "wEs-wCji_8_4"
      },
      "source": [
        "# Hypothesis Tests Conclusions"
      ]
    },
    {
      "cell_type": "markdown",
      "metadata": {
        "id": "Sk3EEqbJ_8_4"
      },
      "source": [
        "As we can see, half of the number of confirmed cases in the US (4,957,435) is still larger than the number of deaths in the US (237,204). So, in this case the **Alternative Hypothesis is favored**."
      ]
    },
    {
      "cell_type": "markdown",
      "metadata": {
        "id": "XlMm18ug_8_4"
      },
      "source": [
        "## 3. THIRD HYPOTHESIS"
      ]
    },
    {
      "cell_type": "markdown",
      "metadata": {
        "id": "qk_9laOu_8_4"
      },
      "source": [
        "**Null Hypothesis:** The number of confirmed cases in the world are decreasing since we have preventive measures and policies to protect the people. \n",
        "\n",
        "**Alternative Hypothesis:** Even with preventive measures and policies, confirmed cases still continue to rise.\n"
      ]
    },
    {
      "cell_type": "code",
      "metadata": {
        "scrolled": false,
        "id": "JYUPQwtS_8_5"
      },
      "source": [
        "# old_data"
      ],
      "execution_count": null,
      "outputs": []
    },
    {
      "cell_type": "code",
      "metadata": {
        "scrolled": true,
        "id": "zOLVOnyw_8_8",
        "outputId": "88f1bf40-9452-46df-d557-a560aba7b28a"
      },
      "source": [
        "old_countries_df = Table().with_column(\"\", np.arange(0, 188)).with_column(\n",
        "    'Country', old_countries).with_column(\n",
        "    'Last Updated', old_country_date_updated).with_column(\n",
        "    'Number of Confirmed Cases', old_country_confirmed_cases).with_column(\n",
        "    'Number of Deaths', old_country_death_cases).with_column(\n",
        "    'Number of Recoveries', old_country_recovery_cases).with_column(\n",
        "    'Number of Active Cases', old_country_active_cases)\n",
        "\n",
        "old_countries_df"
      ],
      "execution_count": null,
      "outputs": [
        {
          "output_type": "execute_result",
          "data": {
            "text/html": [
              "<table border=\"1\" class=\"dataframe\">\n",
              "    <thead>\n",
              "        <tr>\n",
              "            <th></th> <th>Country</th> <th>Last Updated</th> <th>Number of Confirmed Cases</th> <th>Number of Deaths</th> <th>Number of Recoveries</th> <th>Number of Active Cases</th>\n",
              "        </tr>\n",
              "    </thead>\n",
              "    <tbody>\n",
              "        <tr>\n",
              "            <td>0   </td> <td>US       </td> <td>10-08-2020  </td> <td>7552321                  </td> <td>211999          </td> <td>2999895             </td> <td>4.33799e+06           </td>\n",
              "        </tr>\n",
              "        <tr>\n",
              "            <td>1   </td> <td>India    </td> <td>10-08-2020  </td> <td>6835655                  </td> <td>105526          </td> <td>5827704             </td> <td>902425                </td>\n",
              "        </tr>\n",
              "        <tr>\n",
              "            <td>2   </td> <td>Brazil   </td> <td>10-08-2020  </td> <td>5000694                  </td> <td>148228          </td> <td>4457172             </td> <td>395294                </td>\n",
              "        </tr>\n",
              "        <tr>\n",
              "            <td>3   </td> <td>Russia   </td> <td>10-08-2020  </td> <td>1242258                  </td> <td>21755           </td> <td>991277              </td> <td>229226                </td>\n",
              "        </tr>\n",
              "        <tr>\n",
              "            <td>4   </td> <td>Colombia </td> <td>10-08-2020  </td> <td>877684                   </td> <td>27180           </td> <td>773973              </td> <td>76531                 </td>\n",
              "        </tr>\n",
              "        <tr>\n",
              "            <td>5   </td> <td>Argentina</td> <td>10-08-2020  </td> <td>840915                   </td> <td>22226           </td> <td>670725              </td> <td>147964                </td>\n",
              "        </tr>\n",
              "        <tr>\n",
              "            <td>6   </td> <td>Spain    </td> <td>10-08-2020  </td> <td>835901                   </td> <td>32562           </td> <td>150376              </td> <td>652963                </td>\n",
              "        </tr>\n",
              "        <tr>\n",
              "            <td>7   </td> <td>Peru     </td> <td>10-08-2020  </td> <td>832929                   </td> <td>32914           </td> <td>723606              </td> <td>76409                 </td>\n",
              "        </tr>\n",
              "        <tr>\n",
              "            <td>8   </td> <td>Mexico   </td> <td>10-08-2020  </td> <td>799188                   </td> <td>82726           </td> <td>679693              </td> <td>36769                 </td>\n",
              "        </tr>\n",
              "        <tr>\n",
              "            <td>9   </td> <td>France   </td> <td>10-08-2020  </td> <td>693603                   </td> <td>32463           </td> <td>102061              </td> <td>559021                </td>\n",
              "        </tr>\n",
              "    </tbody>\n",
              "</table>\n",
              "<p>... (178 rows omitted)</p>"
            ],
            "text/plain": [
              "     | Country   | Last Updated | Number of Confirmed Cases | Number of Deaths | Number of Recoveries | Number of Active Cases\n",
              "0    | US        | 10-08-2020   | 7552321                   | 211999           | 2999895              | 4.33799e+06\n",
              "1    | India     | 10-08-2020   | 6835655                   | 105526           | 5827704              | 902425\n",
              "2    | Brazil    | 10-08-2020   | 5000694                   | 148228           | 4457172              | 395294\n",
              "3    | Russia    | 10-08-2020   | 1242258                   | 21755            | 991277               | 229226\n",
              "4    | Colombia  | 10-08-2020   | 877684                    | 27180            | 773973               | 76531\n",
              "5    | Argentina | 10-08-2020   | 840915                    | 22226            | 670725               | 147964\n",
              "6    | Spain     | 10-08-2020   | 835901                    | 32562            | 150376               | 652963\n",
              "7    | Peru      | 10-08-2020   | 832929                    | 32914            | 723606               | 76409\n",
              "8    | Mexico    | 10-08-2020   | 799188                    | 82726            | 679693               | 36769\n",
              "9    | France    | 10-08-2020   | 693603                    | 32463            | 102061               | 559021\n",
              "... (178 rows omitted)"
            ]
          },
          "metadata": {
            "tags": []
          },
          "execution_count": 225
        }
      ]
    },
    {
      "cell_type": "code",
      "metadata": {
        "id": "a_e88Njx_8_-"
      },
      "source": [
        "# Only show 10 countries with the most confirmed cases for last month, the rest are grouped into the other category\n",
        "visual_countries_old = [] \n",
        "visual_confirmed_cases_old = []\n",
        "others = np.sum(old_country_confirmed_cases[10:])\n",
        "\n",
        "for i in range(len(old_country_confirmed_cases[:10])):\n",
        "    visual_countries_old.append(old_countries[i])\n",
        "    visual_confirmed_cases_old.append(old_country_confirmed_cases[i])\n",
        "    \n",
        "visual_countries_old.append('Others')\n",
        "visual_confirmed_cases_old.append(others)"
      ],
      "execution_count": null,
      "outputs": []
    },
    {
      "cell_type": "code",
      "metadata": {
        "id": "ExtEJoOB_9AB",
        "outputId": "e06131f3-b0a4-431e-c413-d66d3e36a9d3"
      },
      "source": [
        "plot_pie_charts(visual_countries_old, visual_confirmed_cases_old, '# of Confirmed Cases in Each Country Last Month')"
      ],
      "execution_count": null,
      "outputs": [
        {
          "output_type": "display_data",
          "data": {
            "image/png": "[encoded data removed]",
            "text/plain": [
              "<Figure size 720x576 with 1 Axes>"
            ]
          },
          "metadata": {
            "tags": []
          }
        }
      ]
    },
    {
      "cell_type": "code",
      "metadata": {
        "scrolled": false,
        "id": "3uGCXOaI_9AE",
        "outputId": "f73f3e4c-4f49-442f-8358-9bf723185318"
      },
      "source": [
        "plot_bar_graphs(visual_countries_old, visual_confirmed_cases_old, '# of Confirmed Cases in Each Country Last Month')"
      ],
      "execution_count": null,
      "outputs": [
        {
          "output_type": "display_data",
          "data": {
            "image/png": "[encoded data removed]",
            "text/plain": [
              "<Figure size 720x576 with 1 Axes>"
            ]
          },
          "metadata": {
            "tags": []
          }
        }
      ]
    },
    {
      "cell_type": "code",
      "metadata": {
        "id": "tujqZPXC_9AH",
        "outputId": "3b857634-6dcb-4c93-e844-4d7d0c44ed47"
      },
      "source": [
        "max_confirmed_case = old_countries_df.column('Number of Confirmed Cases').max()\n",
        "max_death_case = old_countries_df.column('Number of Deaths').max()\n",
        "print(\"The value of the highest confirmed case last month is\", max_confirmed_case)\n",
        "print(\"The value of the highest deaths last month is\", max_death_case)"
      ],
      "execution_count": null,
      "outputs": [
        {
          "output_type": "stream",
          "text": [
            "The value of the highest confirmed case last month is 7552321\n",
            "The value of the highest deaths last month is 211999\n"
          ],
          "name": "stdout"
        }
      ]
    },
    {
      "cell_type": "code",
      "metadata": {
        "id": "AJPoAv25_9AJ",
        "outputId": "4726ec27-8a84-4985-dd3b-907449c59513"
      },
      "source": [
        "recent = np.average(countries_df.column('Number of Confirmed Cases'))\n",
        "old = np.average(old_countries_df.column('Number of Confirmed Cases'))\n",
        "print (\"The average of confirmed cases of recent is\", recent)\n",
        "print (\"The average of confirmed cases for last month is\", old)"
      ],
      "execution_count": null,
      "outputs": [
        {
          "output_type": "stream",
          "text": [
            "The average of confirmed cases of recent is 262563.0894736842\n",
            "The average of confirmed cases for last month is 192334.38829787233\n"
          ],
          "name": "stdout"
        }
      ]
    },
    {
      "cell_type": "code",
      "metadata": {
        "id": "Re0P89Qy_9AL"
      },
      "source": [
        "def random_sample_average():\n",
        "    random_sample = countries_df.sample(50, with_replacement=True)\n",
        "    return np.average(random_sample.column('Number of Confirmed Cases'))"
      ],
      "execution_count": null,
      "outputs": []
    },
    {
      "cell_type": "code",
      "metadata": {
        "id": "rEQwtyd2_9AM"
      },
      "source": [
        "sample_averages = make_array()\n",
        "repetitions = 500\n",
        "for i in np.arange(repetitions):\n",
        "    sample_averages = np.append(sample_averages, random_sample_average())"
      ],
      "execution_count": null,
      "outputs": []
    },
    {
      "cell_type": "code",
      "metadata": {
        "id": "iW1W-RE8_9AP",
        "outputId": "b1bf3a7b-94e9-4bb2-bdb0-50db4926fb35"
      },
      "source": [
        "averages_tbl = Table().with_column('Sample Average', sample_averages)\n",
        "averages_tbl.hist(bins=20)\n",
        "\n",
        "observed_statistic = 262563.089  #recent average of confirmed cases\n",
        "plt.scatter(observed_statistic, 0, color='red', s=300);"
      ],
      "execution_count": null,
      "outputs": [
        {
          "output_type": "display_data",
          "data": {
            "image/png": "[encoded data removed]",
            "text/plain": [
              "<Figure size 432x288 with 1 Axes>"
            ]
          },
          "metadata": {
            "tags": []
          }
        }
      ]
    },
    {
      "cell_type": "code",
      "metadata": {
        "id": "82OEnMkX_9AQ",
        "outputId": "6fe53d8c-87ae-4028-fce3-1e056890599c"
      },
      "source": [
        "np.count_nonzero(sample_averages <= observed_statistic) / repetitions"
      ],
      "execution_count": null,
      "outputs": [
        {
          "output_type": "execute_result",
          "data": {
            "text/plain": [
              "0.576"
            ]
          },
          "metadata": {
            "tags": []
          },
          "execution_count": 234
        }
      ]
    },
    {
      "cell_type": "code",
      "metadata": {
        "id": "37qBVIs6_9AS"
      },
      "source": [
        "def random_sample_average_old():\n",
        "    random_sample_old = old_countries_df.sample(50, with_replacement=True)\n",
        "    return np.average(random_sample_old.column('Number of Confirmed Cases'))"
      ],
      "execution_count": null,
      "outputs": []
    },
    {
      "cell_type": "code",
      "metadata": {
        "id": "-NyJlFVb_9AV"
      },
      "source": [
        "old_sample_averages = make_array()\n",
        "repetitions = 500\n",
        "for i in np.arange(repetitions):\n",
        "    old_sample_averages = np.append(old_sample_averages, random_sample_average_old())"
      ],
      "execution_count": null,
      "outputs": []
    },
    {
      "cell_type": "code",
      "metadata": {
        "scrolled": true,
        "id": "28lnyGLV_9AY",
        "outputId": "24501254-31bf-4786-c28f-42d7df453ce5"
      },
      "source": [
        "averages_tbl = Table().with_column('Sample Average for Last Month', old_sample_averages)\n",
        "averages_tbl.hist(bins=20)\n",
        "\n",
        "observed_statistic = 192334.388  #recent average of confirmed cases\n",
        "plt.scatter(observed_statistic, 0, color='red', s=300);"
      ],
      "execution_count": null,
      "outputs": [
        {
          "output_type": "display_data",
          "data": {
            "image/png": "[encoded data removed]",
            "text/plain": [
              "<Figure size 432x288 with 1 Axes>"
            ]
          },
          "metadata": {
            "tags": []
          }
        }
      ]
    },
    {
      "cell_type": "code",
      "metadata": {
        "id": "E5P843ln_9Aa",
        "outputId": "d3057a47-01a7-4a14-aa23-ea8ea28ace3a"
      },
      "source": [
        "#For last month\n",
        "np.count_nonzero(old_sample_averages <= observed_statistic) / repetitions"
      ],
      "execution_count": null,
      "outputs": [
        {
          "output_type": "execute_result",
          "data": {
            "text/plain": [
              "0.532"
            ]
          },
          "metadata": {
            "tags": []
          },
          "execution_count": 238
        }
      ]
    },
    {
      "cell_type": "code",
      "metadata": {
        "id": "PwGYMCVV_9Ac"
      },
      "source": [
        ""
      ],
      "execution_count": null,
      "outputs": []
    },
    {
      "cell_type": "code",
      "metadata": {
        "id": "DM5rN5dI_9Af",
        "outputId": "68384e7d-3ab0-400f-e2fe-593463bf31b2"
      },
      "source": [
        "#For the recent month\n",
        "median = np.median(countries_df.column('Number of Confirmed Cases'))\n",
        "mean = countries_df.column(\"Number of Confirmed Cases\").mean()\n",
        "standard_dev = countries_df[\"Number of Confirmed Cases\"].std()\n",
        "print(\"median:\", median, \"mean:\", mean,\"standard deviation:\", standard_dev)"
      ],
      "execution_count": null,
      "outputs": [
        {
          "output_type": "stream",
          "text": [
            "median: 22360.5 mean: 262563.0894736842 standard deviation: 1048545.7727607656\n"
          ],
          "name": "stdout"
        }
      ]
    },
    {
      "cell_type": "code",
      "metadata": {
        "id": "9sLAUvUo_9Ah",
        "outputId": "124e9df1-9eed-4000-b87a-cc17dc585836"
      },
      "source": [
        "#Sampling for the recent month\n",
        "recent_sample = countries_df.sample(50, with_replacement=True)\n",
        "median_sample = np.median(recent_sample.column('Number of Confirmed Cases'))\n",
        "mean_sample = recent_sample.column(\"Number of Confirmed Cases\").mean()\n",
        "standard_dev_sample = recent_sample.column(\"Number of Confirmed Cases\").std()\n",
        "print(\"median:\", median_sample, \"mean:\", mean_sample, \"standard deviation:\", standard_dev_sample)"
      ],
      "execution_count": null,
      "outputs": [
        {
          "output_type": "stream",
          "text": [
            "median: 62779.5 mean: 483993.92 standard deviation: 1584457.410202052\n"
          ],
          "name": "stdout"
        }
      ]
    },
    {
      "cell_type": "code",
      "metadata": {
        "id": "klN3UNwY_9Ai",
        "outputId": "9024522f-426f-4828-c619-813a99be87ad"
      },
      "source": [
        "#For last month\n",
        "median = np.median(old_countries_df.column('Number of Confirmed Cases'))\n",
        "mean = old_countries_df.column(\"Number of Confirmed Cases\").mean()\n",
        "standard_dev = old_countries_df.column(\"Number of Confirmed Cases\").std()\n",
        "print(\"median:\", median, \"mean:\", mean,\"standard deviation:\", standard_dev)"
      ],
      "execution_count": null,
      "outputs": [
        {
          "output_type": "stream",
          "text": [
            "median: 14709.5 mean: 192334.38829787233 standard deviation: 832096.6575225663\n"
          ],
          "name": "stdout"
        }
      ]
    },
    {
      "cell_type": "code",
      "metadata": {
        "id": "H_7VgK60_9Ak",
        "outputId": "9e6a06c4-556e-4c5a-d74f-8f771170f7af"
      },
      "source": [
        "#Sampling for last month\n",
        "old_sample = old_countries_df.sample(50, with_replacement=True)\n",
        "median_sample = np.median(old_sample.column('Number of Confirmed Cases'))\n",
        "mean_sample = old_sample.column(\"Number of Confirmed Cases\").mean()\n",
        "standard_dev_sample = old_sample.column(\"Number of Confirmed Cases\").std()\n",
        "print(\"median:\", median_sample, \"mean:\", mean_sample, \"standard deviation:\", standard_dev_sample)"
      ],
      "execution_count": null,
      "outputs": [
        {
          "output_type": "stream",
          "text": [
            "median: 17318.5 mean: 106131.5 standard deviation: 193815.42257562993\n"
          ],
          "name": "stdout"
        }
      ]
    },
    {
      "cell_type": "code",
      "metadata": {
        "id": "OdenvAnH_9Al"
      },
      "source": [
        ""
      ],
      "execution_count": null,
      "outputs": []
    },
    {
      "cell_type": "markdown",
      "metadata": {
        "id": "Igb-xGwf_9Ao"
      },
      "source": [
        "**Conclusion:** The median, mean, and standard of deviation of the recent samples are higher than the old samples. Thus the recent sample favors the alternative hypothesis. "
      ]
    },
    {
      "cell_type": "markdown",
      "metadata": {
        "id": "F472NpPd_9Ao"
      },
      "source": [
        "# Hypothesis Tests Conclusions"
      ]
    },
    {
      "cell_type": "markdown",
      "metadata": {
        "id": "aL1v_ChG_9Ao"
      },
      "source": [
        "As we can see, the number of confirmed cases increased between last month and this month. So, in this case the **Alternative Hypothesis is favored**. Even though we have policies to protect people from getting COVID and safety measures have been made public, there is still no gaurantee that people are indeed abiding to them. "
      ]
    },
    {
      "cell_type": "code",
      "metadata": {
        "id": "TJI8KV9y_9Ao"
      },
      "source": [
        ""
      ],
      "execution_count": null,
      "outputs": []
    },
    {
      "cell_type": "code",
      "metadata": {
        "id": "yLwI1m5ADxfQ"
      },
      "source": [
        ""
      ],
      "execution_count": null,
      "outputs": []
    },
    {
      "cell_type": "code",
      "metadata": {
        "id": "Y7F8uT_NDxiG"
      },
      "source": [
        ""
      ],
      "execution_count": null,
      "outputs": []
    },
    {
      "cell_type": "code",
      "metadata": {
        "id": "1GcjvI7QDxmo"
      },
      "source": [
        ""
      ],
      "execution_count": null,
      "outputs": []
    },
    {
      "cell_type": "markdown",
      "metadata": {
        "id": "yudoj5lyEA5j"
      },
      "source": [
        "# Aghogho's works"
      ]
    },
    {
      "cell_type": "markdown",
      "metadata": {
        "id": "NUG3vruTAPjS"
      },
      "source": [
        "# Topic Conclusions\n",
        "Sum up the conclusions about what you did and why it is interesting to you, the public reading your analysis or to a particular population"
      ]
    },
    {
      "cell_type": "code",
      "metadata": {
        "id": "9RXxCQUSAPjT"
      },
      "source": [
        "import pandas as pd\n",
        "import numpy as np\n",
        "from datascience import *\n",
        "import matplotlib\n",
        "%matplotlib inline\n",
        "import matplotlib.pyplot as plt\n",
        "plt.style.use('fivethirtyeight')"
      ],
      "execution_count": null,
      "outputs": []
    },
    {
      "cell_type": "code",
      "metadata": {
        "id": "YjpiWlfcAPjV",
        "outputId": "bd8a15cf-09b1-4cf8-ae52-a07b2fa55f21"
      },
      "source": [
        "end_feb = pd.read_csv('https://raw.githubusercontent.com/CSSEGISandData/COVID-19/master/csse_covid_19_data/csse_covid_19_daily_reports/02-29-2020.csv', error_bad_lines=False)\n",
        "end_feb"
      ],
      "execution_count": null,
      "outputs": [
        {
          "output_type": "execute_result",
          "data": {
            "text/html": [
              "<div>\n",
              "<style scoped>\n",
              "    .dataframe tbody tr th:only-of-type {\n",
              "        vertical-align: middle;\n",
              "    }\n",
              "\n",
              "    .dataframe tbody tr th {\n",
              "        vertical-align: top;\n",
              "    }\n",
              "\n",
              "    .dataframe thead th {\n",
              "        text-align: right;\n",
              "    }\n",
              "</style>\n",
              "<table border=\"1\" class=\"dataframe\">\n",
              "  <thead>\n",
              "    <tr style=\"text-align: right;\">\n",
              "      <th></th>\n",
              "      <th>Province/State</th>\n",
              "      <th>Country/Region</th>\n",
              "      <th>Last Update</th>\n",
              "      <th>Confirmed</th>\n",
              "      <th>Deaths</th>\n",
              "      <th>Recovered</th>\n",
              "    </tr>\n",
              "  </thead>\n",
              "  <tbody>\n",
              "    <tr>\n",
              "      <th>0</th>\n",
              "      <td>Hubei</td>\n",
              "      <td>Mainland China</td>\n",
              "      <td>2020-02-29T12:13:10</td>\n",
              "      <td>66337</td>\n",
              "      <td>2727</td>\n",
              "      <td>28993</td>\n",
              "    </tr>\n",
              "    <tr>\n",
              "      <th>1</th>\n",
              "      <td>NaN</td>\n",
              "      <td>South Korea</td>\n",
              "      <td>2020-02-29T18:13:07</td>\n",
              "      <td>3150</td>\n",
              "      <td>16</td>\n",
              "      <td>27</td>\n",
              "    </tr>\n",
              "    <tr>\n",
              "      <th>2</th>\n",
              "      <td>Guangdong</td>\n",
              "      <td>Mainland China</td>\n",
              "      <td>2020-02-29T15:33:03</td>\n",
              "      <td>1349</td>\n",
              "      <td>7</td>\n",
              "      <td>983</td>\n",
              "    </tr>\n",
              "    <tr>\n",
              "      <th>3</th>\n",
              "      <td>Henan</td>\n",
              "      <td>Mainland China</td>\n",
              "      <td>2020-02-29T12:43:05</td>\n",
              "      <td>1272</td>\n",
              "      <td>21</td>\n",
              "      <td>1170</td>\n",
              "    </tr>\n",
              "    <tr>\n",
              "      <th>4</th>\n",
              "      <td>Zhejiang</td>\n",
              "      <td>Mainland China</td>\n",
              "      <td>2020-02-29T09:13:10</td>\n",
              "      <td>1205</td>\n",
              "      <td>1</td>\n",
              "      <td>1016</td>\n",
              "    </tr>\n",
              "    <tr>\n",
              "      <th>...</th>\n",
              "      <td>...</td>\n",
              "      <td>...</td>\n",
              "      <td>...</td>\n",
              "      <td>...</td>\n",
              "      <td>...</td>\n",
              "      <td>...</td>\n",
              "    </tr>\n",
              "    <tr>\n",
              "      <th>114</th>\n",
              "      <td>Tempe, AZ</td>\n",
              "      <td>US</td>\n",
              "      <td>2020-02-25T21:23:03</td>\n",
              "      <td>1</td>\n",
              "      <td>0</td>\n",
              "      <td>1</td>\n",
              "    </tr>\n",
              "    <tr>\n",
              "      <th>115</th>\n",
              "      <td>From Diamond Princess</td>\n",
              "      <td>Australia</td>\n",
              "      <td>2020-02-29T02:03:10</td>\n",
              "      <td>0</td>\n",
              "      <td>0</td>\n",
              "      <td>0</td>\n",
              "    </tr>\n",
              "    <tr>\n",
              "      <th>116</th>\n",
              "      <td>Lackland, TX (From Diamond Princess)</td>\n",
              "      <td>US</td>\n",
              "      <td>2020-02-24T23:33:02</td>\n",
              "      <td>0</td>\n",
              "      <td>0</td>\n",
              "      <td>0</td>\n",
              "    </tr>\n",
              "    <tr>\n",
              "      <th>117</th>\n",
              "      <td>Omaha, NE (From Diamond Princess)</td>\n",
              "      <td>US</td>\n",
              "      <td>2020-02-24T23:33:02</td>\n",
              "      <td>0</td>\n",
              "      <td>0</td>\n",
              "      <td>0</td>\n",
              "    </tr>\n",
              "    <tr>\n",
              "      <th>118</th>\n",
              "      <td>Travis, CA (From Diamond Princess)</td>\n",
              "      <td>US</td>\n",
              "      <td>2020-02-24T23:33:02</td>\n",
              "      <td>0</td>\n",
              "      <td>0</td>\n",
              "      <td>0</td>\n",
              "    </tr>\n",
              "  </tbody>\n",
              "</table>\n",
              "<p>119 rows × 6 columns</p>\n",
              "</div>"
            ],
            "text/plain": [
              "                           Province/State  Country/Region  \\\n",
              "0                                   Hubei  Mainland China   \n",
              "1                                     NaN     South Korea   \n",
              "2                               Guangdong  Mainland China   \n",
              "3                                   Henan  Mainland China   \n",
              "4                                Zhejiang  Mainland China   \n",
              "..                                    ...             ...   \n",
              "114                             Tempe, AZ              US   \n",
              "115                 From Diamond Princess       Australia   \n",
              "116  Lackland, TX (From Diamond Princess)              US   \n",
              "117     Omaha, NE (From Diamond Princess)              US   \n",
              "118    Travis, CA (From Diamond Princess)              US   \n",
              "\n",
              "             Last Update  Confirmed  Deaths  Recovered  \n",
              "0    2020-02-29T12:13:10      66337    2727      28993  \n",
              "1    2020-02-29T18:13:07       3150      16         27  \n",
              "2    2020-02-29T15:33:03       1349       7        983  \n",
              "3    2020-02-29T12:43:05       1272      21       1170  \n",
              "4    2020-02-29T09:13:10       1205       1       1016  \n",
              "..                   ...        ...     ...        ...  \n",
              "114  2020-02-25T21:23:03          1       0          1  \n",
              "115  2020-02-29T02:03:10          0       0          0  \n",
              "116  2020-02-24T23:33:02          0       0          0  \n",
              "117  2020-02-24T23:33:02          0       0          0  \n",
              "118  2020-02-24T23:33:02          0       0          0  \n",
              "\n",
              "[119 rows x 6 columns]"
            ]
          },
          "metadata": {
            "tags": []
          },
          "execution_count": 8
        }
      ]
    },
    {
      "cell_type": "code",
      "metadata": {
        "id": "UI8sFqhTAPjY",
        "outputId": "e0f0ceb3-ab7b-4df9-82d8-a459f413b51f"
      },
      "source": [
        "end_mar = pd.read_csv('https://raw.githubusercontent.com/CSSEGISandData/COVID-19/master/csse_covid_19_data/csse_covid_19_daily_reports/03-31-2020.csv', error_bad_lines=False)\n",
        "end_mar"
      ],
      "execution_count": null,
      "outputs": [
        {
          "output_type": "execute_result",
          "data": {
            "text/html": [
              "<div>\n",
              "<style scoped>\n",
              "    .dataframe tbody tr th:only-of-type {\n",
              "        vertical-align: middle;\n",
              "    }\n",
              "\n",
              "    .dataframe tbody tr th {\n",
              "        vertical-align: top;\n",
              "    }\n",
              "\n",
              "    .dataframe thead th {\n",
              "        text-align: right;\n",
              "    }\n",
              "</style>\n",
              "<table border=\"1\" class=\"dataframe\">\n",
              "  <thead>\n",
              "    <tr style=\"text-align: right;\">\n",
              "      <th></th>\n",
              "      <th>FIPS</th>\n",
              "      <th>Admin2</th>\n",
              "      <th>Province_State</th>\n",
              "      <th>Country_Region</th>\n",
              "      <th>Last_Update</th>\n",
              "      <th>Lat</th>\n",
              "      <th>Long_</th>\n",
              "      <th>Confirmed</th>\n",
              "      <th>Deaths</th>\n",
              "      <th>Recovered</th>\n",
              "      <th>Active</th>\n",
              "      <th>Combined_Key</th>\n",
              "    </tr>\n",
              "  </thead>\n",
              "  <tbody>\n",
              "    <tr>\n",
              "      <th>0</th>\n",
              "      <td>45001.0</td>\n",
              "      <td>Abbeville</td>\n",
              "      <td>South Carolina</td>\n",
              "      <td>US</td>\n",
              "      <td>2020-03-31 23:43:56</td>\n",
              "      <td>34.223334</td>\n",
              "      <td>-82.461707</td>\n",
              "      <td>4</td>\n",
              "      <td>0</td>\n",
              "      <td>0</td>\n",
              "      <td>0</td>\n",
              "      <td>Abbeville, South Carolina, US</td>\n",
              "    </tr>\n",
              "    <tr>\n",
              "      <th>1</th>\n",
              "      <td>22001.0</td>\n",
              "      <td>Acadia</td>\n",
              "      <td>Louisiana</td>\n",
              "      <td>US</td>\n",
              "      <td>2020-03-31 23:43:56</td>\n",
              "      <td>30.295065</td>\n",
              "      <td>-92.414197</td>\n",
              "      <td>39</td>\n",
              "      <td>1</td>\n",
              "      <td>0</td>\n",
              "      <td>0</td>\n",
              "      <td>Acadia, Louisiana, US</td>\n",
              "    </tr>\n",
              "    <tr>\n",
              "      <th>2</th>\n",
              "      <td>51001.0</td>\n",
              "      <td>Accomack</td>\n",
              "      <td>Virginia</td>\n",
              "      <td>US</td>\n",
              "      <td>2020-03-31 23:43:56</td>\n",
              "      <td>37.767072</td>\n",
              "      <td>-75.632346</td>\n",
              "      <td>7</td>\n",
              "      <td>0</td>\n",
              "      <td>0</td>\n",
              "      <td>0</td>\n",
              "      <td>Accomack, Virginia, US</td>\n",
              "    </tr>\n",
              "    <tr>\n",
              "      <th>3</th>\n",
              "      <td>16001.0</td>\n",
              "      <td>Ada</td>\n",
              "      <td>Idaho</td>\n",
              "      <td>US</td>\n",
              "      <td>2020-03-31 23:43:56</td>\n",
              "      <td>43.452658</td>\n",
              "      <td>-116.241552</td>\n",
              "      <td>195</td>\n",
              "      <td>3</td>\n",
              "      <td>0</td>\n",
              "      <td>0</td>\n",
              "      <td>Ada, Idaho, US</td>\n",
              "    </tr>\n",
              "    <tr>\n",
              "      <th>4</th>\n",
              "      <td>19001.0</td>\n",
              "      <td>Adair</td>\n",
              "      <td>Iowa</td>\n",
              "      <td>US</td>\n",
              "      <td>2020-03-31 23:43:56</td>\n",
              "      <td>41.330756</td>\n",
              "      <td>-94.471059</td>\n",
              "      <td>1</td>\n",
              "      <td>0</td>\n",
              "      <td>0</td>\n",
              "      <td>0</td>\n",
              "      <td>Adair, Iowa, US</td>\n",
              "    </tr>\n",
              "    <tr>\n",
              "      <th>...</th>\n",
              "      <td>...</td>\n",
              "      <td>...</td>\n",
              "      <td>...</td>\n",
              "      <td>...</td>\n",
              "      <td>...</td>\n",
              "      <td>...</td>\n",
              "      <td>...</td>\n",
              "      <td>...</td>\n",
              "      <td>...</td>\n",
              "      <td>...</td>\n",
              "      <td>...</td>\n",
              "      <td>...</td>\n",
              "    </tr>\n",
              "    <tr>\n",
              "      <th>2429</th>\n",
              "      <td>NaN</td>\n",
              "      <td>NaN</td>\n",
              "      <td>NaN</td>\n",
              "      <td>Venezuela</td>\n",
              "      <td>2020-03-31 23:43:43</td>\n",
              "      <td>6.423800</td>\n",
              "      <td>-66.589700</td>\n",
              "      <td>135</td>\n",
              "      <td>3</td>\n",
              "      <td>39</td>\n",
              "      <td>93</td>\n",
              "      <td>Venezuela</td>\n",
              "    </tr>\n",
              "    <tr>\n",
              "      <th>2430</th>\n",
              "      <td>NaN</td>\n",
              "      <td>NaN</td>\n",
              "      <td>NaN</td>\n",
              "      <td>Vietnam</td>\n",
              "      <td>2020-03-31 23:43:43</td>\n",
              "      <td>14.058324</td>\n",
              "      <td>108.277199</td>\n",
              "      <td>212</td>\n",
              "      <td>0</td>\n",
              "      <td>58</td>\n",
              "      <td>154</td>\n",
              "      <td>Vietnam</td>\n",
              "    </tr>\n",
              "    <tr>\n",
              "      <th>2431</th>\n",
              "      <td>NaN</td>\n",
              "      <td>NaN</td>\n",
              "      <td>NaN</td>\n",
              "      <td>West Bank and Gaza</td>\n",
              "      <td>2020-03-31 23:43:43</td>\n",
              "      <td>31.952200</td>\n",
              "      <td>35.233200</td>\n",
              "      <td>119</td>\n",
              "      <td>1</td>\n",
              "      <td>18</td>\n",
              "      <td>100</td>\n",
              "      <td>West Bank and Gaza</td>\n",
              "    </tr>\n",
              "    <tr>\n",
              "      <th>2432</th>\n",
              "      <td>NaN</td>\n",
              "      <td>NaN</td>\n",
              "      <td>NaN</td>\n",
              "      <td>Zambia</td>\n",
              "      <td>2020-03-31 23:43:43</td>\n",
              "      <td>-13.133897</td>\n",
              "      <td>27.849332</td>\n",
              "      <td>35</td>\n",
              "      <td>0</td>\n",
              "      <td>0</td>\n",
              "      <td>35</td>\n",
              "      <td>Zambia</td>\n",
              "    </tr>\n",
              "    <tr>\n",
              "      <th>2433</th>\n",
              "      <td>NaN</td>\n",
              "      <td>NaN</td>\n",
              "      <td>NaN</td>\n",
              "      <td>Zimbabwe</td>\n",
              "      <td>2020-03-31 23:43:43</td>\n",
              "      <td>-19.015438</td>\n",
              "      <td>29.154857</td>\n",
              "      <td>8</td>\n",
              "      <td>1</td>\n",
              "      <td>0</td>\n",
              "      <td>7</td>\n",
              "      <td>Zimbabwe</td>\n",
              "    </tr>\n",
              "  </tbody>\n",
              "</table>\n",
              "<p>2434 rows × 12 columns</p>\n",
              "</div>"
            ],
            "text/plain": [
              "         FIPS     Admin2  Province_State      Country_Region  \\\n",
              "0     45001.0  Abbeville  South Carolina                  US   \n",
              "1     22001.0     Acadia       Louisiana                  US   \n",
              "2     51001.0   Accomack        Virginia                  US   \n",
              "3     16001.0        Ada           Idaho                  US   \n",
              "4     19001.0      Adair            Iowa                  US   \n",
              "...       ...        ...             ...                 ...   \n",
              "2429      NaN        NaN             NaN           Venezuela   \n",
              "2430      NaN        NaN             NaN             Vietnam   \n",
              "2431      NaN        NaN             NaN  West Bank and Gaza   \n",
              "2432      NaN        NaN             NaN              Zambia   \n",
              "2433      NaN        NaN             NaN            Zimbabwe   \n",
              "\n",
              "              Last_Update        Lat       Long_  Confirmed  Deaths  \\\n",
              "0     2020-03-31 23:43:56  34.223334  -82.461707          4       0   \n",
              "1     2020-03-31 23:43:56  30.295065  -92.414197         39       1   \n",
              "2     2020-03-31 23:43:56  37.767072  -75.632346          7       0   \n",
              "3     2020-03-31 23:43:56  43.452658 -116.241552        195       3   \n",
              "4     2020-03-31 23:43:56  41.330756  -94.471059          1       0   \n",
              "...                   ...        ...         ...        ...     ...   \n",
              "2429  2020-03-31 23:43:43   6.423800  -66.589700        135       3   \n",
              "2430  2020-03-31 23:43:43  14.058324  108.277199        212       0   \n",
              "2431  2020-03-31 23:43:43  31.952200   35.233200        119       1   \n",
              "2432  2020-03-31 23:43:43 -13.133897   27.849332         35       0   \n",
              "2433  2020-03-31 23:43:43 -19.015438   29.154857          8       1   \n",
              "\n",
              "      Recovered  Active                   Combined_Key  \n",
              "0             0       0  Abbeville, South Carolina, US  \n",
              "1             0       0          Acadia, Louisiana, US  \n",
              "2             0       0         Accomack, Virginia, US  \n",
              "3             0       0                 Ada, Idaho, US  \n",
              "4             0       0                Adair, Iowa, US  \n",
              "...         ...     ...                            ...  \n",
              "2429         39      93                      Venezuela  \n",
              "2430         58     154                        Vietnam  \n",
              "2431         18     100             West Bank and Gaza  \n",
              "2432          0      35                         Zambia  \n",
              "2433          0       7                       Zimbabwe  \n",
              "\n",
              "[2434 rows x 12 columns]"
            ]
          },
          "metadata": {
            "tags": []
          },
          "execution_count": 9
        }
      ]
    },
    {
      "cell_type": "code",
      "metadata": {
        "id": "1GnSmYjRAPjb",
        "outputId": "759067a4-88d2-4479-80a5-7202e974f1e9"
      },
      "source": [
        "end_mar = end_mar.drop(['FIPS'], axis=1)\n",
        "end_mar = end_mar.drop(['Admin2'], axis=1)\n",
        "end_mar = end_mar.drop(['Province_State'], axis=1)\n",
        "end_mar = end_mar.drop(['Lat'], axis=1)\n",
        "end_mar = end_mar.drop(['Long_'], axis=1)\n",
        "end_mar"
      ],
      "execution_count": null,
      "outputs": [
        {
          "output_type": "execute_result",
          "data": {
            "text/html": [
              "<div>\n",
              "<style scoped>\n",
              "    .dataframe tbody tr th:only-of-type {\n",
              "        vertical-align: middle;\n",
              "    }\n",
              "\n",
              "    .dataframe tbody tr th {\n",
              "        vertical-align: top;\n",
              "    }\n",
              "\n",
              "    .dataframe thead th {\n",
              "        text-align: right;\n",
              "    }\n",
              "</style>\n",
              "<table border=\"1\" class=\"dataframe\">\n",
              "  <thead>\n",
              "    <tr style=\"text-align: right;\">\n",
              "      <th></th>\n",
              "      <th>Country_Region</th>\n",
              "      <th>Last_Update</th>\n",
              "      <th>Confirmed</th>\n",
              "      <th>Deaths</th>\n",
              "      <th>Recovered</th>\n",
              "      <th>Active</th>\n",
              "      <th>Combined_Key</th>\n",
              "    </tr>\n",
              "  </thead>\n",
              "  <tbody>\n",
              "    <tr>\n",
              "      <th>0</th>\n",
              "      <td>US</td>\n",
              "      <td>2020-03-31 23:43:56</td>\n",
              "      <td>4</td>\n",
              "      <td>0</td>\n",
              "      <td>0</td>\n",
              "      <td>0</td>\n",
              "      <td>Abbeville, South Carolina, US</td>\n",
              "    </tr>\n",
              "    <tr>\n",
              "      <th>1</th>\n",
              "      <td>US</td>\n",
              "      <td>2020-03-31 23:43:56</td>\n",
              "      <td>39</td>\n",
              "      <td>1</td>\n",
              "      <td>0</td>\n",
              "      <td>0</td>\n",
              "      <td>Acadia, Louisiana, US</td>\n",
              "    </tr>\n",
              "    <tr>\n",
              "      <th>2</th>\n",
              "      <td>US</td>\n",
              "      <td>2020-03-31 23:43:56</td>\n",
              "      <td>7</td>\n",
              "      <td>0</td>\n",
              "      <td>0</td>\n",
              "      <td>0</td>\n",
              "      <td>Accomack, Virginia, US</td>\n",
              "    </tr>\n",
              "    <tr>\n",
              "      <th>3</th>\n",
              "      <td>US</td>\n",
              "      <td>2020-03-31 23:43:56</td>\n",
              "      <td>195</td>\n",
              "      <td>3</td>\n",
              "      <td>0</td>\n",
              "      <td>0</td>\n",
              "      <td>Ada, Idaho, US</td>\n",
              "    </tr>\n",
              "    <tr>\n",
              "      <th>4</th>\n",
              "      <td>US</td>\n",
              "      <td>2020-03-31 23:43:56</td>\n",
              "      <td>1</td>\n",
              "      <td>0</td>\n",
              "      <td>0</td>\n",
              "      <td>0</td>\n",
              "      <td>Adair, Iowa, US</td>\n",
              "    </tr>\n",
              "    <tr>\n",
              "      <th>...</th>\n",
              "      <td>...</td>\n",
              "      <td>...</td>\n",
              "      <td>...</td>\n",
              "      <td>...</td>\n",
              "      <td>...</td>\n",
              "      <td>...</td>\n",
              "      <td>...</td>\n",
              "    </tr>\n",
              "    <tr>\n",
              "      <th>2429</th>\n",
              "      <td>Venezuela</td>\n",
              "      <td>2020-03-31 23:43:43</td>\n",
              "      <td>135</td>\n",
              "      <td>3</td>\n",
              "      <td>39</td>\n",
              "      <td>93</td>\n",
              "      <td>Venezuela</td>\n",
              "    </tr>\n",
              "    <tr>\n",
              "      <th>2430</th>\n",
              "      <td>Vietnam</td>\n",
              "      <td>2020-03-31 23:43:43</td>\n",
              "      <td>212</td>\n",
              "      <td>0</td>\n",
              "      <td>58</td>\n",
              "      <td>154</td>\n",
              "      <td>Vietnam</td>\n",
              "    </tr>\n",
              "    <tr>\n",
              "      <th>2431</th>\n",
              "      <td>West Bank and Gaza</td>\n",
              "      <td>2020-03-31 23:43:43</td>\n",
              "      <td>119</td>\n",
              "      <td>1</td>\n",
              "      <td>18</td>\n",
              "      <td>100</td>\n",
              "      <td>West Bank and Gaza</td>\n",
              "    </tr>\n",
              "    <tr>\n",
              "      <th>2432</th>\n",
              "      <td>Zambia</td>\n",
              "      <td>2020-03-31 23:43:43</td>\n",
              "      <td>35</td>\n",
              "      <td>0</td>\n",
              "      <td>0</td>\n",
              "      <td>35</td>\n",
              "      <td>Zambia</td>\n",
              "    </tr>\n",
              "    <tr>\n",
              "      <th>2433</th>\n",
              "      <td>Zimbabwe</td>\n",
              "      <td>2020-03-31 23:43:43</td>\n",
              "      <td>8</td>\n",
              "      <td>1</td>\n",
              "      <td>0</td>\n",
              "      <td>7</td>\n",
              "      <td>Zimbabwe</td>\n",
              "    </tr>\n",
              "  </tbody>\n",
              "</table>\n",
              "<p>2434 rows × 7 columns</p>\n",
              "</div>"
            ],
            "text/plain": [
              "          Country_Region          Last_Update  Confirmed  Deaths  Recovered  \\\n",
              "0                     US  2020-03-31 23:43:56          4       0          0   \n",
              "1                     US  2020-03-31 23:43:56         39       1          0   \n",
              "2                     US  2020-03-31 23:43:56          7       0          0   \n",
              "3                     US  2020-03-31 23:43:56        195       3          0   \n",
              "4                     US  2020-03-31 23:43:56          1       0          0   \n",
              "...                  ...                  ...        ...     ...        ...   \n",
              "2429           Venezuela  2020-03-31 23:43:43        135       3         39   \n",
              "2430             Vietnam  2020-03-31 23:43:43        212       0         58   \n",
              "2431  West Bank and Gaza  2020-03-31 23:43:43        119       1         18   \n",
              "2432              Zambia  2020-03-31 23:43:43         35       0          0   \n",
              "2433            Zimbabwe  2020-03-31 23:43:43          8       1          0   \n",
              "\n",
              "      Active                   Combined_Key  \n",
              "0          0  Abbeville, South Carolina, US  \n",
              "1          0          Acadia, Louisiana, US  \n",
              "2          0         Accomack, Virginia, US  \n",
              "3          0                 Ada, Idaho, US  \n",
              "4          0                Adair, Iowa, US  \n",
              "...      ...                            ...  \n",
              "2429      93                      Venezuela  \n",
              "2430     154                        Vietnam  \n",
              "2431     100             West Bank and Gaza  \n",
              "2432      35                         Zambia  \n",
              "2433       7                       Zimbabwe  \n",
              "\n",
              "[2434 rows x 7 columns]"
            ]
          },
          "metadata": {
            "tags": []
          },
          "execution_count": 10
        }
      ]
    },
    {
      "cell_type": "markdown",
      "metadata": {
        "id": "V6daUdlYAPje"
      },
      "source": [
        "We are going to check if there are any empty regions. If there are, we have to remove them. However, there can be missing Province_State since some countries cases are so small they collect only for the country as a whole and not by region. There are no null countries so we do not have to check."
      ]
    },
    {
      "cell_type": "code",
      "metadata": {
        "id": "HWY8ETn9APjf",
        "outputId": "352378ea-919b-4797-c09b-ba2e7140cec2"
      },
      "source": [
        "end_feb['Country/Region'].isna().sum()"
      ],
      "execution_count": null,
      "outputs": [
        {
          "output_type": "execute_result",
          "data": {
            "text/plain": [
              "0"
            ]
          },
          "metadata": {
            "tags": []
          },
          "execution_count": 11
        }
      ]
    },
    {
      "cell_type": "code",
      "metadata": {
        "id": "KCfPDjfOAPjh",
        "outputId": "1058c377-c44c-43e2-c01f-408a0f55a8dd"
      },
      "source": [
        "end_feb_cases = end_feb.filter(items=['Country/Region', 'Confirmed'])\n",
        "end_feb_cases"
      ],
      "execution_count": null,
      "outputs": [
        {
          "output_type": "execute_result",
          "data": {
            "text/html": [
              "<div>\n",
              "<style scoped>\n",
              "    .dataframe tbody tr th:only-of-type {\n",
              "        vertical-align: middle;\n",
              "    }\n",
              "\n",
              "    .dataframe tbody tr th {\n",
              "        vertical-align: top;\n",
              "    }\n",
              "\n",
              "    .dataframe thead th {\n",
              "        text-align: right;\n",
              "    }\n",
              "</style>\n",
              "<table border=\"1\" class=\"dataframe\">\n",
              "  <thead>\n",
              "    <tr style=\"text-align: right;\">\n",
              "      <th></th>\n",
              "      <th>Country/Region</th>\n",
              "      <th>Confirmed</th>\n",
              "    </tr>\n",
              "  </thead>\n",
              "  <tbody>\n",
              "    <tr>\n",
              "      <th>0</th>\n",
              "      <td>Mainland China</td>\n",
              "      <td>66337</td>\n",
              "    </tr>\n",
              "    <tr>\n",
              "      <th>1</th>\n",
              "      <td>South Korea</td>\n",
              "      <td>3150</td>\n",
              "    </tr>\n",
              "    <tr>\n",
              "      <th>2</th>\n",
              "      <td>Mainland China</td>\n",
              "      <td>1349</td>\n",
              "    </tr>\n",
              "    <tr>\n",
              "      <th>3</th>\n",
              "      <td>Mainland China</td>\n",
              "      <td>1272</td>\n",
              "    </tr>\n",
              "    <tr>\n",
              "      <th>4</th>\n",
              "      <td>Mainland China</td>\n",
              "      <td>1205</td>\n",
              "    </tr>\n",
              "    <tr>\n",
              "      <th>...</th>\n",
              "      <td>...</td>\n",
              "      <td>...</td>\n",
              "    </tr>\n",
              "    <tr>\n",
              "      <th>114</th>\n",
              "      <td>US</td>\n",
              "      <td>1</td>\n",
              "    </tr>\n",
              "    <tr>\n",
              "      <th>115</th>\n",
              "      <td>Australia</td>\n",
              "      <td>0</td>\n",
              "    </tr>\n",
              "    <tr>\n",
              "      <th>116</th>\n",
              "      <td>US</td>\n",
              "      <td>0</td>\n",
              "    </tr>\n",
              "    <tr>\n",
              "      <th>117</th>\n",
              "      <td>US</td>\n",
              "      <td>0</td>\n",
              "    </tr>\n",
              "    <tr>\n",
              "      <th>118</th>\n",
              "      <td>US</td>\n",
              "      <td>0</td>\n",
              "    </tr>\n",
              "  </tbody>\n",
              "</table>\n",
              "<p>119 rows × 2 columns</p>\n",
              "</div>"
            ],
            "text/plain": [
              "     Country/Region  Confirmed\n",
              "0    Mainland China      66337\n",
              "1       South Korea       3150\n",
              "2    Mainland China       1349\n",
              "3    Mainland China       1272\n",
              "4    Mainland China       1205\n",
              "..              ...        ...\n",
              "114              US          1\n",
              "115       Australia          0\n",
              "116              US          0\n",
              "117              US          0\n",
              "118              US          0\n",
              "\n",
              "[119 rows x 2 columns]"
            ]
          },
          "metadata": {
            "tags": []
          },
          "execution_count": 12
        }
      ]
    },
    {
      "cell_type": "markdown",
      "metadata": {
        "id": "OmNtUW2aAPjj"
      },
      "source": [
        "We are going to check the confirmed cases to see if there are NaN values. If they are we take them out. Since there are none, we can continue. "
      ]
    },
    {
      "cell_type": "code",
      "metadata": {
        "id": "RIu6aT43APjk",
        "outputId": "7202192d-21c9-45c6-9337-b0669c4c3f27"
      },
      "source": [
        "end_feb_cases['Country/Region'].isna().sum()"
      ],
      "execution_count": null,
      "outputs": [
        {
          "output_type": "execute_result",
          "data": {
            "text/plain": [
              "0"
            ]
          },
          "metadata": {
            "tags": []
          },
          "execution_count": 13
        }
      ]
    },
    {
      "cell_type": "code",
      "metadata": {
        "id": "mGkFgVDKAPjm",
        "outputId": "6fb7551e-b80d-499a-f66f-c2090244c9a2"
      },
      "source": [
        "mean = end_feb_cases.mean()\n",
        "median = end_feb_cases.median()\n",
        "print(mean, '\\n', median)"
      ],
      "execution_count": null,
      "outputs": [
        {
          "output_type": "stream",
          "text": [
            "Confirmed    722.798319\n",
            "dtype: float64 \n",
            " Confirmed    7.0\n",
            "dtype: float64\n"
          ],
          "name": "stdout"
        }
      ]
    },
    {
      "cell_type": "markdown",
      "metadata": {
        "id": "7XIHxFiSAPjo"
      },
      "source": [
        "### Countries with the highest cases (the Outliers) on February 29 2020\n",
        "\n",
        "Now we will want to check two things. Are there outliers? We will not be removing them because these outliers are not indicators of incorrecly measured data but because of where outbreaks began and spread earlier on. Ouliers in this case just show places with higher rates than everyone else. We are checking for outliers to see any particular regions hit particularly badly with coronavirus in relation to the rest of the world. "
      ]
    },
    {
      "cell_type": "code",
      "metadata": {
        "id": "JhLyooM7APjp",
        "outputId": "7a29a4c8-3365-4cd1-9b99-59612b9bec64"
      },
      "source": [
        "groupCountries = end_feb_cases.groupby(\"Country/Region\").sum().reset_index()\n",
        "groupCountries = groupCountries.sort_values('Confirmed')\n",
        "median_case_count = groupCountries.median()\n",
        "length = len(groupCountries)//2 \n",
        "q1r = groupCountries[:length]\n",
        "q3r = groupCountries[length+1:]\n",
        "q1 = q1r[\"Confirmed\"].median()\n",
        "q3 = q3r[\"Confirmed\"].median()\n",
        "iqr = q3 - q1\n",
        "outl1 = q1 - (1.5 * iqr)\n",
        "outl3 = q3 + (1.5 * iqr)\n",
        "low_outliers = groupCountries[groupCountries[\"Confirmed\"] < outl1].index\n",
        "low_outliers = low_outliers.tolist()\n",
        "high_outliers = groupCountries[groupCountries[\"Confirmed\"] > outl3].index\n",
        "high_outliers = high_outliers.tolist()  \n",
        "large_cases = groupCountries.loc[high_outliers]\n",
        "large_cases = large_cases[large_cases[\"Country/Region\"] != \"Others\"]\n",
        "large_cases\n",
        "plt.barh(large_cases['Country/Region'], large_cases['Confirmed'])\n",
        "plt.title(\"Countries with the largest cases by February 29 2020\")\n",
        "plt.ylabel(\"Countries\")\n",
        "plt.xlabel(\"Covid-19 Case Count\")\n",
        "plt.show()"
      ],
      "execution_count": null,
      "outputs": [
        {
          "output_type": "display_data",
          "data": {
            "image/png": "[encoded data removed]",
            "text/plain": [
              "<Figure size 432x288 with 1 Axes>"
            ]
          },
          "metadata": {
            "tags": []
          }
        }
      ]
    },
    {
      "cell_type": "markdown",
      "metadata": {
        "id": "h3CQ5uTwAPjr"
      },
      "source": [
        "### Samples\n",
        "We are now going to look at the March cases. What we want to see looking at our samples and medians, do countries around the world drawn at random have similar amount of cases- we will know if the medians are the same. This is probablistic sampling without replacement. We want to see how likely they will be the same median and not be the same country."
      ]
    },
    {
      "cell_type": "code",
      "metadata": {
        "scrolled": true,
        "id": "QtLrRGCgAPjr",
        "outputId": "835244c9-c73a-43df-d700-525d21001f45"
      },
      "source": [
        "end_mar_cases = end_mar.filter(items=[\"Country_Region\", \"Confirmed\"])\n",
        "end_mar_countries = end_mar_cases.groupby(\"Country_Region\").sum()\n",
        "end_mar_countries = end_mar_countries.reset_index()\n",
        "end_mar_countries "
      ],
      "execution_count": null,
      "outputs": [
        {
          "output_type": "execute_result",
          "data": {
            "text/html": [
              "<div>\n",
              "<style scoped>\n",
              "    .dataframe tbody tr th:only-of-type {\n",
              "        vertical-align: middle;\n",
              "    }\n",
              "\n",
              "    .dataframe tbody tr th {\n",
              "        vertical-align: top;\n",
              "    }\n",
              "\n",
              "    .dataframe thead th {\n",
              "        text-align: right;\n",
              "    }\n",
              "</style>\n",
              "<table border=\"1\" class=\"dataframe\">\n",
              "  <thead>\n",
              "    <tr style=\"text-align: right;\">\n",
              "      <th></th>\n",
              "      <th>Country_Region</th>\n",
              "      <th>Confirmed</th>\n",
              "    </tr>\n",
              "  </thead>\n",
              "  <tbody>\n",
              "    <tr>\n",
              "      <th>0</th>\n",
              "      <td>Afghanistan</td>\n",
              "      <td>174</td>\n",
              "    </tr>\n",
              "    <tr>\n",
              "      <th>1</th>\n",
              "      <td>Albania</td>\n",
              "      <td>243</td>\n",
              "    </tr>\n",
              "    <tr>\n",
              "      <th>2</th>\n",
              "      <td>Algeria</td>\n",
              "      <td>716</td>\n",
              "    </tr>\n",
              "    <tr>\n",
              "      <th>3</th>\n",
              "      <td>Andorra</td>\n",
              "      <td>376</td>\n",
              "    </tr>\n",
              "    <tr>\n",
              "      <th>4</th>\n",
              "      <td>Angola</td>\n",
              "      <td>7</td>\n",
              "    </tr>\n",
              "    <tr>\n",
              "      <th>...</th>\n",
              "      <td>...</td>\n",
              "      <td>...</td>\n",
              "    </tr>\n",
              "    <tr>\n",
              "      <th>175</th>\n",
              "      <td>Venezuela</td>\n",
              "      <td>135</td>\n",
              "    </tr>\n",
              "    <tr>\n",
              "      <th>176</th>\n",
              "      <td>Vietnam</td>\n",
              "      <td>212</td>\n",
              "    </tr>\n",
              "    <tr>\n",
              "      <th>177</th>\n",
              "      <td>West Bank and Gaza</td>\n",
              "      <td>119</td>\n",
              "    </tr>\n",
              "    <tr>\n",
              "      <th>178</th>\n",
              "      <td>Zambia</td>\n",
              "      <td>35</td>\n",
              "    </tr>\n",
              "    <tr>\n",
              "      <th>179</th>\n",
              "      <td>Zimbabwe</td>\n",
              "      <td>8</td>\n",
              "    </tr>\n",
              "  </tbody>\n",
              "</table>\n",
              "<p>180 rows × 2 columns</p>\n",
              "</div>"
            ],
            "text/plain": [
              "         Country_Region  Confirmed\n",
              "0           Afghanistan        174\n",
              "1               Albania        243\n",
              "2               Algeria        716\n",
              "3               Andorra        376\n",
              "4                Angola          7\n",
              "..                  ...        ...\n",
              "175           Venezuela        135\n",
              "176             Vietnam        212\n",
              "177  West Bank and Gaza        119\n",
              "178              Zambia         35\n",
              "179            Zimbabwe          8\n",
              "\n",
              "[180 rows x 2 columns]"
            ]
          },
          "metadata": {
            "tags": []
          },
          "execution_count": 16
        }
      ]
    },
    {
      "cell_type": "code",
      "metadata": {
        "id": "TzrE0gIvAPjt",
        "outputId": "2df66661-c37e-4ddc-c96e-1b4f1a2ad7ec"
      },
      "source": [
        "end_mar_countries  \n",
        "median = end_mar_countries[\"Confirmed\"].median()\n",
        "mean = end_mar_countries[\"Confirmed\"].mean()\n",
        "stnddev = end_mar_countries[\"Confirmed\"].std()\n",
        "print(\"median:\", median, \"mean:\", mean, \"standard deviation:\", stnddev)"
      ],
      "execution_count": null,
      "outputs": [
        {
          "output_type": "stream",
          "text": [
            "median: 182.5 mean: 4763.816666666667 standard deviation: 19835.15809640089\n"
          ],
          "name": "stdout"
        }
      ]
    },
    {
      "cell_type": "code",
      "metadata": {
        "id": "Z6QG4Mp2APjw",
        "outputId": "d6fd7c18-4448-4707-ed82-94b7c9aea57c"
      },
      "source": [
        "mar_sample_one = end_mar_countries.sample(45, replace=False)\n",
        "medianOne = mar_sample_one[\"Confirmed\"].median()\n",
        "meanOne = mar_sample_one[\"Confirmed\"].mean()\n",
        "stnddev = mar_sample_one[\"Confirmed\"].std()\n",
        "print(\"median:\", medianOne, \"mean:\", meanOne, \"standard deviation:\", stnddev)"
      ],
      "execution_count": null,
      "outputs": [
        {
          "output_type": "stream",
          "text": [
            "median: 322.0 mean: 1221.7777777777778 standard deviation: 3827.498446581769\n"
          ],
          "name": "stdout"
        }
      ]
    },
    {
      "cell_type": "code",
      "metadata": {
        "id": "Kek-vzXmAPjy",
        "outputId": "eeca2440-5690-4283-ece5-2084b4b1b3b9"
      },
      "source": [
        "mar_sample_two = end_mar_countries.sample(45, replace=False)\n",
        "medianTwo = mar_sample_two[\"Confirmed\"].median()\n",
        "meanTwo = mar_sample_two[\"Confirmed\"].mean()\n",
        "stnddev = mar_sample_one[\"Confirmed\"].std()\n",
        "print(\"median:\", \"mean:\", medianTwo, meanTwo, \"standard deviation:\", stnddev)"
      ],
      "execution_count": null,
      "outputs": [
        {
          "output_type": "stream",
          "text": [
            "median: mean: 363.0 3174.0222222222224 standard deviation: 3827.498446581769\n"
          ],
          "name": "stdout"
        }
      ]
    },
    {
      "cell_type": "code",
      "metadata": {
        "id": "mS1V9Uo0APj0",
        "outputId": "b4503c8f-7efb-4b1b-b543-1038dae944ae"
      },
      "source": [
        "mar_sample_three = end_mar_countries.sample(45, replace=False)\n",
        "medianThree = mar_sample_three[\"Confirmed\"].median()\n",
        "meanThree = mar_sample_two[\"Confirmed\"].mean()\n",
        "stnddev = mar_sample_one[\"Confirmed\"].std()\n",
        "print(\"median:\", medianThree, \"mean:\", meanThree, \"standard deviation:\", stnddev)"
      ],
      "execution_count": null,
      "outputs": [
        {
          "output_type": "stream",
          "text": [
            "median: 274.0 mean: 3174.0222222222224 standard deviation: 3827.498446581769\n"
          ],
          "name": "stdout"
        }
      ]
    },
    {
      "cell_type": "markdown",
      "metadata": {
        "id": "_4qHE1SgAPj2"
      },
      "source": [
        "#### Conclusion: The samples have very similar standard of deviation, similar but varying means and medians. Thus sample is similar to the dataset."
      ]
    },
    {
      "cell_type": "markdown",
      "metadata": {
        "id": "kO6EcE9TAPj3"
      },
      "source": [
        "### Probability \n",
        "We want to see the liklihood of the following events: \n",
        "1. Amongst every 20 countries, how likely are they to not have over 10000 cases by Mar 31.\n",
        "2. Amongst every 5 countries, how likely are they to have less than 50 cases by Feb 29.\n",
        "3. Is it equally like amongst the 10 countries with the highest GDP, if they would have over 800,000 cases by October 31st"
      ]
    },
    {
      "cell_type": "code",
      "metadata": {
        "id": "pHB5ztY8APj3",
        "outputId": "0cc40f1c-d023-48e7-b6ae-4c7ae19193d9"
      },
      "source": [
        "from copy import deepcopy\n",
        "from fractions import Fraction\n",
        "over_10000_index = end_mar_countries[end_mar_countries[\"Confirmed\"] > 10000].index\n",
        "over_10000_index = over_10000_index.tolist()\n",
        "over_10000 = end_mar_countries.loc[over_10000_index]\n",
        "over_10000\n",
        "data = {'Case Count': [], \n",
        "        'Probability':[]\n",
        "}\n",
        "def probs_over_ten_thousand(countries):\n",
        "    by_country = deepcopy(countries)\n",
        "    num_countries = len(over_10000_index)\n",
        "    for i in range(20):\n",
        "        country_picked = np.random.choice(by_country)\n",
        "        data['Case Count'].append(country_picked)\n",
        "        if country_picked in over_10000_index:\n",
        "            num_countries -= 1\n",
        "        data['Probability'].append(str(len(by_country)-num_countries) +'/' + str(len(by_country)))\n",
        "#         by_country.remove(country_picked)\n",
        "    df = pd.DataFrame (data, columns = ['Probability'])\n",
        "    df.rename(columns = {'Probability':'Probability we will not see a country with over 10000 cases by end of March'}, inplace=True)\n",
        "    return df\n",
        "\n",
        "country_list = end_mar_countries[\"Confirmed\"].tolist()\n",
        "probs_over_ten_thousand(country_list)"
      ],
      "execution_count": null,
      "outputs": [
        {
          "output_type": "execute_result",
          "data": {
            "text/html": [
              "<div>\n",
              "<style scoped>\n",
              "    .dataframe tbody tr th:only-of-type {\n",
              "        vertical-align: middle;\n",
              "    }\n",
              "\n",
              "    .dataframe tbody tr th {\n",
              "        vertical-align: top;\n",
              "    }\n",
              "\n",
              "    .dataframe thead th {\n",
              "        text-align: right;\n",
              "    }\n",
              "</style>\n",
              "<table border=\"1\" class=\"dataframe\">\n",
              "  <thead>\n",
              "    <tr style=\"text-align: right;\">\n",
              "      <th></th>\n",
              "      <th>Probability we will not see a country with over 10000 cases by end of March</th>\n",
              "    </tr>\n",
              "  </thead>\n",
              "  <tbody>\n",
              "    <tr>\n",
              "      <th>0</th>\n",
              "      <td>167/180</td>\n",
              "    </tr>\n",
              "    <tr>\n",
              "      <th>1</th>\n",
              "      <td>167/180</td>\n",
              "    </tr>\n",
              "    <tr>\n",
              "      <th>2</th>\n",
              "      <td>167/180</td>\n",
              "    </tr>\n",
              "    <tr>\n",
              "      <th>3</th>\n",
              "      <td>167/180</td>\n",
              "    </tr>\n",
              "    <tr>\n",
              "      <th>4</th>\n",
              "      <td>167/180</td>\n",
              "    </tr>\n",
              "    <tr>\n",
              "      <th>5</th>\n",
              "      <td>167/180</td>\n",
              "    </tr>\n",
              "    <tr>\n",
              "      <th>6</th>\n",
              "      <td>167/180</td>\n",
              "    </tr>\n",
              "    <tr>\n",
              "      <th>7</th>\n",
              "      <td>167/180</td>\n",
              "    </tr>\n",
              "    <tr>\n",
              "      <th>8</th>\n",
              "      <td>167/180</td>\n",
              "    </tr>\n",
              "    <tr>\n",
              "      <th>9</th>\n",
              "      <td>167/180</td>\n",
              "    </tr>\n",
              "    <tr>\n",
              "      <th>10</th>\n",
              "      <td>168/180</td>\n",
              "    </tr>\n",
              "    <tr>\n",
              "      <th>11</th>\n",
              "      <td>168/180</td>\n",
              "    </tr>\n",
              "    <tr>\n",
              "      <th>12</th>\n",
              "      <td>168/180</td>\n",
              "    </tr>\n",
              "    <tr>\n",
              "      <th>13</th>\n",
              "      <td>168/180</td>\n",
              "    </tr>\n",
              "    <tr>\n",
              "      <th>14</th>\n",
              "      <td>168/180</td>\n",
              "    </tr>\n",
              "    <tr>\n",
              "      <th>15</th>\n",
              "      <td>168/180</td>\n",
              "    </tr>\n",
              "    <tr>\n",
              "      <th>16</th>\n",
              "      <td>168/180</td>\n",
              "    </tr>\n",
              "    <tr>\n",
              "      <th>17</th>\n",
              "      <td>168/180</td>\n",
              "    </tr>\n",
              "    <tr>\n",
              "      <th>18</th>\n",
              "      <td>168/180</td>\n",
              "    </tr>\n",
              "    <tr>\n",
              "      <th>19</th>\n",
              "      <td>168/180</td>\n",
              "    </tr>\n",
              "  </tbody>\n",
              "</table>\n",
              "</div>"
            ],
            "text/plain": [
              "   Probability we will not see a country with over 10000 cases by end of March\n",
              "0                                             167/180                         \n",
              "1                                             167/180                         \n",
              "2                                             167/180                         \n",
              "3                                             167/180                         \n",
              "4                                             167/180                         \n",
              "5                                             167/180                         \n",
              "6                                             167/180                         \n",
              "7                                             167/180                         \n",
              "8                                             167/180                         \n",
              "9                                             167/180                         \n",
              "10                                            168/180                         \n",
              "11                                            168/180                         \n",
              "12                                            168/180                         \n",
              "13                                            168/180                         \n",
              "14                                            168/180                         \n",
              "15                                            168/180                         \n",
              "16                                            168/180                         \n",
              "17                                            168/180                         \n",
              "18                                            168/180                         \n",
              "19                                            168/180                         "
            ]
          },
          "metadata": {
            "tags": []
          },
          "execution_count": 148
        }
      ]
    },
    {
      "cell_type": "code",
      "metadata": {
        "id": "s-fBjsL7APj6",
        "outputId": "a6ef757b-d7e9-45f3-85df-d13a1df47eb4"
      },
      "source": [
        "over_10000_index = end_mar_countries[end_mar_countries[\"Confirmed\"] > 10000].index\n",
        "over_10000_index = over_10000_index.tolist()\n",
        "over_10000 = end_mar_countries.loc[over_10000_index]\n",
        "over_10000\n",
        "\n",
        "frequency = over_10000[\"Confirmed\"].tolist()\n",
        "frequency\n",
        "plt.figure(figsize=(10,8))\n",
        "plt.pie(over_10000[\"Confirmed\"].tolist(), labels=over_10000[\"Country_Region\"].tolist(), autopct='%1.1f%%',startangle=5)\n",
        "plt.title('Countries with over 10000 Corona Virus Cases by March 31st 2020', size=30)\n",
        "plt.axis('equal')\n",
        "plt.show()   \n",
        "  "
      ],
      "execution_count": null,
      "outputs": [
        {
          "output_type": "display_data",
          "data": {
            "image/png": "[encoded data removed]",
            "text/plain": [
              "<Figure size 720x576 with 1 Axes>"
            ]
          },
          "metadata": {
            "tags": []
          }
        }
      ]
    },
    {
      "cell_type": "markdown",
      "metadata": {
        "id": "tVab_28zAPj9"
      },
      "source": [
        "### Probability based on equal chances. \n",
        "Amongst the top GDP Countries, There is an equal chance that the country has over 800,000 Confirmed Cases"
      ]
    },
    {
      "cell_type": "code",
      "metadata": {
        "id": "H5qqTLNCAPj9",
        "outputId": "78dd3421-4c4a-4890-8990-358f7d753669"
      },
      "source": [
        "# United States, China, Japan, Germany, India, United Kingdom, France, Brazil, Italy, Canada  top GDP Countries \n",
        "#Half these countries are over a certain bench mark \n",
        "\n",
        "top_gdp = end_oct[end_oct[\"Country_Region\"].isin([\"US\", \"Japan\", \"Germany\", \"India\", \"United Kingdom\", \"China\", \"Brazil\", \"France\", \"Canada\", \"Italy\"])]\n",
        "top_gdp = top_gdp.groupby(\"Country_Region\").sum()\n",
        "top_gdp = top_gdp.sort_values(\"Confirmed\")\n",
        "top_gdp = top_gdp.reset_index()\n",
        "top_gdp"
      ],
      "execution_count": null,
      "outputs": [
        {
          "output_type": "execute_result",
          "data": {
            "text/html": [
              "<div>\n",
              "<style scoped>\n",
              "    .dataframe tbody tr th:only-of-type {\n",
              "        vertical-align: middle;\n",
              "    }\n",
              "\n",
              "    .dataframe tbody tr th {\n",
              "        vertical-align: top;\n",
              "    }\n",
              "\n",
              "    .dataframe thead th {\n",
              "        text-align: right;\n",
              "    }\n",
              "</style>\n",
              "<table border=\"1\" class=\"dataframe\">\n",
              "  <thead>\n",
              "    <tr style=\"text-align: right;\">\n",
              "      <th></th>\n",
              "      <th>Country_Region</th>\n",
              "      <th>FIPS</th>\n",
              "      <th>Lat</th>\n",
              "      <th>Long_</th>\n",
              "      <th>Confirmed</th>\n",
              "      <th>Deaths</th>\n",
              "      <th>Recovered</th>\n",
              "      <th>Active</th>\n",
              "      <th>Incidence_Rate</th>\n",
              "      <th>Case-Fatality_Ratio</th>\n",
              "    </tr>\n",
              "  </thead>\n",
              "  <tbody>\n",
              "    <tr>\n",
              "      <th>0</th>\n",
              "      <td>China</td>\n",
              "      <td>0.0</td>\n",
              "      <td>1079.625300</td>\n",
              "      <td>3686.421100</td>\n",
              "      <td>91339</td>\n",
              "      <td>4739</td>\n",
              "      <td>86111</td>\n",
              "      <td>489.0</td>\n",
              "      <td>2.362826e+02</td>\n",
              "      <td>31.083888</td>\n",
              "    </tr>\n",
              "    <tr>\n",
              "      <th>1</th>\n",
              "      <td>Japan</td>\n",
              "      <td>0.0</td>\n",
              "      <td>1661.175935</td>\n",
              "      <td>6392.055166</td>\n",
              "      <td>100450</td>\n",
              "      <td>1756</td>\n",
              "      <td>91184</td>\n",
              "      <td>7511.0</td>\n",
              "      <td>2.119783e+03</td>\n",
              "      <td>83.990255</td>\n",
              "    </tr>\n",
              "    <tr>\n",
              "      <th>2</th>\n",
              "      <td>Canada</td>\n",
              "      <td>0.0</td>\n",
              "      <td>638.555800</td>\n",
              "      <td>-1119.490300</td>\n",
              "      <td>234939</td>\n",
              "      <td>10163</td>\n",
              "      <td>196935</td>\n",
              "      <td>27842.0</td>\n",
              "      <td>3.646275e+03</td>\n",
              "      <td>28.416518</td>\n",
              "    </tr>\n",
              "    <tr>\n",
              "      <th>3</th>\n",
              "      <td>Germany</td>\n",
              "      <td>0.0</td>\n",
              "      <td>825.149500</td>\n",
              "      <td>164.446100</td>\n",
              "      <td>517736</td>\n",
              "      <td>10391</td>\n",
              "      <td>351921</td>\n",
              "      <td>155424.0</td>\n",
              "      <td>8.576042e+03</td>\n",
              "      <td>31.075288</td>\n",
              "    </tr>\n",
              "    <tr>\n",
              "      <th>4</th>\n",
              "      <td>Italy</td>\n",
              "      <td>0.0</td>\n",
              "      <td>903.972147</td>\n",
              "      <td>256.745065</td>\n",
              "      <td>647674</td>\n",
              "      <td>38321</td>\n",
              "      <td>283567</td>\n",
              "      <td>325786.0</td>\n",
              "      <td>2.200716e+04</td>\n",
              "      <td>89.695398</td>\n",
              "    </tr>\n",
              "    <tr>\n",
              "      <th>5</th>\n",
              "      <td>United Kingdom</td>\n",
              "      <td>0.0</td>\n",
              "      <td>430.416398</td>\n",
              "      <td>-495.141566</td>\n",
              "      <td>992874</td>\n",
              "      <td>46319</td>\n",
              "      <td>2811</td>\n",
              "      <td>943744.0</td>\n",
              "      <td>1.259081e+04</td>\n",
              "      <td>42.348852</td>\n",
              "    </tr>\n",
              "    <tr>\n",
              "      <th>6</th>\n",
              "      <td>France</td>\n",
              "      <td>0.0</td>\n",
              "      <td>91.463495</td>\n",
              "      <td>-238.646914</td>\n",
              "      <td>1377347</td>\n",
              "      <td>36605</td>\n",
              "      <td>122224</td>\n",
              "      <td>1218495.0</td>\n",
              "      <td>1.582456e+04</td>\n",
              "      <td>9.299933</td>\n",
              "    </tr>\n",
              "    <tr>\n",
              "      <th>7</th>\n",
              "      <td>Brazil</td>\n",
              "      <td>0.0</td>\n",
              "      <td>-342.077100</td>\n",
              "      <td>-1308.973300</td>\n",
              "      <td>5516658</td>\n",
              "      <td>159477</td>\n",
              "      <td>4987435</td>\n",
              "      <td>369746.0</td>\n",
              "      <td>9.489686e+04</td>\n",
              "      <td>69.357415</td>\n",
              "    </tr>\n",
              "    <tr>\n",
              "      <th>8</th>\n",
              "      <td>India</td>\n",
              "      <td>0.0</td>\n",
              "      <td>831.177882</td>\n",
              "      <td>2945.020567</td>\n",
              "      <td>8137119</td>\n",
              "      <td>121641</td>\n",
              "      <td>7432829</td>\n",
              "      <td>582649.0</td>\n",
              "      <td>2.896855e+04</td>\n",
              "      <td>41.980868</td>\n",
              "    </tr>\n",
              "    <tr>\n",
              "      <th>9</th>\n",
              "      <td>US</td>\n",
              "      <td>105658404.0</td>\n",
              "      <td>121585.849779</td>\n",
              "      <td>-292869.696644</td>\n",
              "      <td>9061127</td>\n",
              "      <td>229908</td>\n",
              "      <td>3578452</td>\n",
              "      <td>5235895.0</td>\n",
              "      <td>8.802870e+06</td>\n",
              "      <td>6514.287339</td>\n",
              "    </tr>\n",
              "  </tbody>\n",
              "</table>\n",
              "</div>"
            ],
            "text/plain": [
              "   Country_Region         FIPS            Lat          Long_  Confirmed  \\\n",
              "0           China          0.0    1079.625300    3686.421100      91339   \n",
              "1           Japan          0.0    1661.175935    6392.055166     100450   \n",
              "2          Canada          0.0     638.555800   -1119.490300     234939   \n",
              "3         Germany          0.0     825.149500     164.446100     517736   \n",
              "4           Italy          0.0     903.972147     256.745065     647674   \n",
              "5  United Kingdom          0.0     430.416398    -495.141566     992874   \n",
              "6          France          0.0      91.463495    -238.646914    1377347   \n",
              "7          Brazil          0.0    -342.077100   -1308.973300    5516658   \n",
              "8           India          0.0     831.177882    2945.020567    8137119   \n",
              "9              US  105658404.0  121585.849779 -292869.696644    9061127   \n",
              "\n",
              "   Deaths  Recovered     Active  Incidence_Rate  Case-Fatality_Ratio  \n",
              "0    4739      86111      489.0    2.362826e+02            31.083888  \n",
              "1    1756      91184     7511.0    2.119783e+03            83.990255  \n",
              "2   10163     196935    27842.0    3.646275e+03            28.416518  \n",
              "3   10391     351921   155424.0    8.576042e+03            31.075288  \n",
              "4   38321     283567   325786.0    2.200716e+04            89.695398  \n",
              "5   46319       2811   943744.0    1.259081e+04            42.348852  \n",
              "6   36605     122224  1218495.0    1.582456e+04             9.299933  \n",
              "7  159477    4987435   369746.0    9.489686e+04            69.357415  \n",
              "8  121641    7432829   582649.0    2.896855e+04            41.980868  \n",
              "9  229908    3578452  5235895.0    8.802870e+06          6514.287339  "
            ]
          },
          "metadata": {
            "tags": []
          },
          "execution_count": 88
        }
      ]
    },
    {
      "cell_type": "code",
      "metadata": {
        "id": "WErA9BcKAPj_",
        "outputId": "393cc450-8a3c-4229-c9c6-bf3eddfc13e0"
      },
      "source": [
        "under_80000_index = top_gdp[top_gdp[\"Confirmed\"] > 800000].index\n",
        "under_80000_index = under_80000_index.tolist()\n",
        "under_80000 = top_gdp.loc[under_80000_index]\n",
        "under_80000\n",
        "data = {'Case Count': [], \n",
        "        'Probability':[]\n",
        "}\n",
        "def probs_over_800000(countries):\n",
        "    by_country = deepcopy(countries)\n",
        "    num_countries = len(under_80000_index)\n",
        "    for i in range(5):\n",
        "        country_picked = np.random.choice(by_country)\n",
        "        data['Case Count'].append(country_picked)\n",
        "        data['Probability'].append(str(num_countries) +'/' + str(len(by_country)))\n",
        "        if country_picked > 800000:\n",
        "            num_countries -= 1\n",
        "    df = pd.DataFrame (data, columns = ['Probability'])\n",
        "    df.rename(columns = {'Probability':'Probability we will not see a country with under 1000 cases by end of February'}, inplace=True)\n",
        "    return df\n",
        "\n",
        "country_list = top_gdp[\"Confirmed\"].tolist()\n",
        "probs_over_80000(country_list)"
      ],
      "execution_count": null,
      "outputs": [
        {
          "output_type": "execute_result",
          "data": {
            "text/html": [
              "<div>\n",
              "<style scoped>\n",
              "    .dataframe tbody tr th:only-of-type {\n",
              "        vertical-align: middle;\n",
              "    }\n",
              "\n",
              "    .dataframe tbody tr th {\n",
              "        vertical-align: top;\n",
              "    }\n",
              "\n",
              "    .dataframe thead th {\n",
              "        text-align: right;\n",
              "    }\n",
              "</style>\n",
              "<table border=\"1\" class=\"dataframe\">\n",
              "  <thead>\n",
              "    <tr style=\"text-align: right;\">\n",
              "      <th></th>\n",
              "      <th>Probability we will not see a country with under 1000 cases by end of February</th>\n",
              "    </tr>\n",
              "  </thead>\n",
              "  <tbody>\n",
              "    <tr>\n",
              "      <th>0</th>\n",
              "      <td>5/10</td>\n",
              "    </tr>\n",
              "    <tr>\n",
              "      <th>1</th>\n",
              "      <td>5/10</td>\n",
              "    </tr>\n",
              "    <tr>\n",
              "      <th>2</th>\n",
              "      <td>5/10</td>\n",
              "    </tr>\n",
              "    <tr>\n",
              "      <th>3</th>\n",
              "      <td>4/10</td>\n",
              "    </tr>\n",
              "    <tr>\n",
              "      <th>4</th>\n",
              "      <td>3/10</td>\n",
              "    </tr>\n",
              "  </tbody>\n",
              "</table>\n",
              "</div>"
            ],
            "text/plain": [
              "  Probability we will not see a country with under 1000 cases by end of February\n",
              "0                                               5/10                            \n",
              "1                                               5/10                            \n",
              "2                                               5/10                            \n",
              "3                                               4/10                            \n",
              "4                                               3/10                            "
            ]
          },
          "metadata": {
            "tags": []
          },
          "execution_count": 107
        }
      ]
    },
    {
      "cell_type": "code",
      "metadata": {
        "id": "NoXsUjN0APkB",
        "outputId": "1ae07a56-9925-4078-b439-3d584d935a47"
      },
      "source": [
        "from copy import deepcopy\n",
        "from fractions import Fraction\n",
        "under_1000_index = groupCountries[groupCountries[\"Confirmed\"] < 1000].index\n",
        "under_1000_index = under_1000_index.tolist()\n",
        "under_1000 = end_mar_countries.loc[under_1000_index]\n",
        "under_1000\n",
        "data = {'Case Count': [], \n",
        "        'Probability':[]\n",
        "}\n",
        "def probs_under_thousand(countries):\n",
        "    by_country = deepcopy(countries)\n",
        "    num_countries = len(under_1000_index)\n",
        "    for i in range(5):\n",
        "        country_picked = np.random.choice(by_country)\n",
        "        data['Case Count'].append(country_picked)\n",
        "        if country_picked in under_1000_index:\n",
        "            num_countries -= 1\n",
        "        data['Probability'].append(str(len(by_country)-num_countries) +'/' + str(len(by_country)))\n",
        "#         by_country.remove(country_picked)\n",
        "    df = pd.DataFrame (data, columns = ['Probability'])\n",
        "    df.rename(columns = {'Probability':'Probability we will not see a country with under 1000 cases by end of February'}, inplace=True)\n",
        "    return df\n",
        "\n",
        "country_list = groupCountries[\"Confirmed\"].tolist()\n",
        "probs_under_thousand(country_list)"
      ],
      "execution_count": null,
      "outputs": [
        {
          "output_type": "execute_result",
          "data": {
            "text/html": [
              "<div>\n",
              "<style scoped>\n",
              "    .dataframe tbody tr th:only-of-type {\n",
              "        vertical-align: middle;\n",
              "    }\n",
              "\n",
              "    .dataframe tbody tr th {\n",
              "        vertical-align: top;\n",
              "    }\n",
              "\n",
              "    .dataframe thead th {\n",
              "        text-align: right;\n",
              "    }\n",
              "</style>\n",
              "<table border=\"1\" class=\"dataframe\">\n",
              "  <thead>\n",
              "    <tr style=\"text-align: right;\">\n",
              "      <th></th>\n",
              "      <th>Probability we will not see a country with under 1000 cases by end of February</th>\n",
              "    </tr>\n",
              "  </thead>\n",
              "  <tbody>\n",
              "    <tr>\n",
              "      <th>0</th>\n",
              "      <td>3/63</td>\n",
              "    </tr>\n",
              "    <tr>\n",
              "      <th>1</th>\n",
              "      <td>4/63</td>\n",
              "    </tr>\n",
              "    <tr>\n",
              "      <th>2</th>\n",
              "      <td>5/63</td>\n",
              "    </tr>\n",
              "    <tr>\n",
              "      <th>3</th>\n",
              "      <td>6/63</td>\n",
              "    </tr>\n",
              "    <tr>\n",
              "      <th>4</th>\n",
              "      <td>7/63</td>\n",
              "    </tr>\n",
              "  </tbody>\n",
              "</table>\n",
              "</div>"
            ],
            "text/plain": [
              "  Probability we will not see a country with under 1000 cases by end of February\n",
              "0                                               3/63                            \n",
              "1                                               4/63                            \n",
              "2                                               5/63                            \n",
              "3                                               6/63                            \n",
              "4                                               7/63                            "
            ]
          },
          "metadata": {
            "tags": []
          },
          "execution_count": 23
        }
      ]
    },
    {
      "cell_type": "markdown",
      "metadata": {
        "id": "20Ntp7ZlAPkD"
      },
      "source": [
        "# Hypothesis 1: \n",
        "#### Null Hypothesis: \n",
        "By the end of October 2020, the number of Covid-19 deaths is the same for Spain and Italy.\n",
        "#### Alternative Hypothesis: \n",
        "Italy had more deaths than Spain by end of February 2020."
      ]
    },
    {
      "cell_type": "code",
      "metadata": {
        "id": "p0Pf0xDKAPkD",
        "outputId": "8c7ebfaf-8229-46b3-9544-3f2ee55088cf"
      },
      "source": [
        "end_oct = pd.read_csv(\"https://raw.githubusercontent.com/CSSEGISandData/COVID-19/master/csse_covid_19_data/csse_covid_19_daily_reports/10-30-2020.csv\", error_bad_lines=False)\n",
        "end_oct"
      ],
      "execution_count": null,
      "outputs": [
        {
          "output_type": "execute_result",
          "data": {
            "text/html": [
              "<div>\n",
              "<style scoped>\n",
              "    .dataframe tbody tr th:only-of-type {\n",
              "        vertical-align: middle;\n",
              "    }\n",
              "\n",
              "    .dataframe tbody tr th {\n",
              "        vertical-align: top;\n",
              "    }\n",
              "\n",
              "    .dataframe thead th {\n",
              "        text-align: right;\n",
              "    }\n",
              "</style>\n",
              "<table border=\"1\" class=\"dataframe\">\n",
              "  <thead>\n",
              "    <tr style=\"text-align: right;\">\n",
              "      <th></th>\n",
              "      <th>FIPS</th>\n",
              "      <th>Admin2</th>\n",
              "      <th>Province_State</th>\n",
              "      <th>Country_Region</th>\n",
              "      <th>Last_Update</th>\n",
              "      <th>Lat</th>\n",
              "      <th>Long_</th>\n",
              "      <th>Confirmed</th>\n",
              "      <th>Deaths</th>\n",
              "      <th>Recovered</th>\n",
              "      <th>Active</th>\n",
              "      <th>Combined_Key</th>\n",
              "      <th>Incidence_Rate</th>\n",
              "      <th>Case-Fatality_Ratio</th>\n",
              "    </tr>\n",
              "  </thead>\n",
              "  <tbody>\n",
              "    <tr>\n",
              "      <th>0</th>\n",
              "      <td>NaN</td>\n",
              "      <td>NaN</td>\n",
              "      <td>NaN</td>\n",
              "      <td>Afghanistan</td>\n",
              "      <td>2020-10-31 04:24:44</td>\n",
              "      <td>33.939110</td>\n",
              "      <td>67.709953</td>\n",
              "      <td>41334</td>\n",
              "      <td>1533</td>\n",
              "      <td>34258</td>\n",
              "      <td>5543.0</td>\n",
              "      <td>Afghanistan</td>\n",
              "      <td>106.179711</td>\n",
              "      <td>3.708811</td>\n",
              "    </tr>\n",
              "    <tr>\n",
              "      <th>1</th>\n",
              "      <td>NaN</td>\n",
              "      <td>NaN</td>\n",
              "      <td>NaN</td>\n",
              "      <td>Albania</td>\n",
              "      <td>2020-10-31 04:24:44</td>\n",
              "      <td>41.153300</td>\n",
              "      <td>20.168300</td>\n",
              "      <td>20634</td>\n",
              "      <td>502</td>\n",
              "      <td>11097</td>\n",
              "      <td>9035.0</td>\n",
              "      <td>Albania</td>\n",
              "      <td>717.006046</td>\n",
              "      <td>2.432878</td>\n",
              "    </tr>\n",
              "    <tr>\n",
              "      <th>2</th>\n",
              "      <td>NaN</td>\n",
              "      <td>NaN</td>\n",
              "      <td>NaN</td>\n",
              "      <td>Algeria</td>\n",
              "      <td>2020-10-31 04:24:44</td>\n",
              "      <td>28.033900</td>\n",
              "      <td>1.659600</td>\n",
              "      <td>57651</td>\n",
              "      <td>1956</td>\n",
              "      <td>40014</td>\n",
              "      <td>15681.0</td>\n",
              "      <td>Algeria</td>\n",
              "      <td>131.470077</td>\n",
              "      <td>3.392829</td>\n",
              "    </tr>\n",
              "    <tr>\n",
              "      <th>3</th>\n",
              "      <td>NaN</td>\n",
              "      <td>NaN</td>\n",
              "      <td>NaN</td>\n",
              "      <td>Andorra</td>\n",
              "      <td>2020-10-31 04:24:44</td>\n",
              "      <td>42.506300</td>\n",
              "      <td>1.521800</td>\n",
              "      <td>4665</td>\n",
              "      <td>75</td>\n",
              "      <td>3377</td>\n",
              "      <td>1213.0</td>\n",
              "      <td>Andorra</td>\n",
              "      <td>6037.662590</td>\n",
              "      <td>1.607717</td>\n",
              "    </tr>\n",
              "    <tr>\n",
              "      <th>4</th>\n",
              "      <td>NaN</td>\n",
              "      <td>NaN</td>\n",
              "      <td>NaN</td>\n",
              "      <td>Angola</td>\n",
              "      <td>2020-10-31 04:24:44</td>\n",
              "      <td>-11.202700</td>\n",
              "      <td>17.873900</td>\n",
              "      <td>10558</td>\n",
              "      <td>279</td>\n",
              "      <td>4107</td>\n",
              "      <td>6172.0</td>\n",
              "      <td>Angola</td>\n",
              "      <td>32.124122</td>\n",
              "      <td>2.642546</td>\n",
              "    </tr>\n",
              "    <tr>\n",
              "      <th>...</th>\n",
              "      <td>...</td>\n",
              "      <td>...</td>\n",
              "      <td>...</td>\n",
              "      <td>...</td>\n",
              "      <td>...</td>\n",
              "      <td>...</td>\n",
              "      <td>...</td>\n",
              "      <td>...</td>\n",
              "      <td>...</td>\n",
              "      <td>...</td>\n",
              "      <td>...</td>\n",
              "      <td>...</td>\n",
              "      <td>...</td>\n",
              "      <td>...</td>\n",
              "    </tr>\n",
              "    <tr>\n",
              "      <th>3955</th>\n",
              "      <td>NaN</td>\n",
              "      <td>NaN</td>\n",
              "      <td>NaN</td>\n",
              "      <td>West Bank and Gaza</td>\n",
              "      <td>2020-10-31 04:24:44</td>\n",
              "      <td>31.952200</td>\n",
              "      <td>35.233200</td>\n",
              "      <td>53075</td>\n",
              "      <td>481</td>\n",
              "      <td>45896</td>\n",
              "      <td>6698.0</td>\n",
              "      <td>West Bank and Gaza</td>\n",
              "      <td>1040.397411</td>\n",
              "      <td>0.906265</td>\n",
              "    </tr>\n",
              "    <tr>\n",
              "      <th>3956</th>\n",
              "      <td>NaN</td>\n",
              "      <td>NaN</td>\n",
              "      <td>NaN</td>\n",
              "      <td>Western Sahara</td>\n",
              "      <td>2020-10-31 04:24:44</td>\n",
              "      <td>24.215500</td>\n",
              "      <td>-12.885800</td>\n",
              "      <td>10</td>\n",
              "      <td>1</td>\n",
              "      <td>8</td>\n",
              "      <td>1.0</td>\n",
              "      <td>Western Sahara</td>\n",
              "      <td>1.674116</td>\n",
              "      <td>10.000000</td>\n",
              "    </tr>\n",
              "    <tr>\n",
              "      <th>3957</th>\n",
              "      <td>NaN</td>\n",
              "      <td>NaN</td>\n",
              "      <td>NaN</td>\n",
              "      <td>Yemen</td>\n",
              "      <td>2020-10-31 04:24:44</td>\n",
              "      <td>15.552727</td>\n",
              "      <td>48.516388</td>\n",
              "      <td>2062</td>\n",
              "      <td>599</td>\n",
              "      <td>1366</td>\n",
              "      <td>97.0</td>\n",
              "      <td>Yemen</td>\n",
              "      <td>6.913439</td>\n",
              "      <td>29.049467</td>\n",
              "    </tr>\n",
              "    <tr>\n",
              "      <th>3958</th>\n",
              "      <td>NaN</td>\n",
              "      <td>NaN</td>\n",
              "      <td>NaN</td>\n",
              "      <td>Zambia</td>\n",
              "      <td>2020-10-31 04:24:44</td>\n",
              "      <td>-13.133897</td>\n",
              "      <td>27.849332</td>\n",
              "      <td>16415</td>\n",
              "      <td>349</td>\n",
              "      <td>15600</td>\n",
              "      <td>466.0</td>\n",
              "      <td>Zambia</td>\n",
              "      <td>89.289813</td>\n",
              "      <td>2.126104</td>\n",
              "    </tr>\n",
              "    <tr>\n",
              "      <th>3959</th>\n",
              "      <td>NaN</td>\n",
              "      <td>NaN</td>\n",
              "      <td>NaN</td>\n",
              "      <td>Zimbabwe</td>\n",
              "      <td>2020-10-31 04:24:44</td>\n",
              "      <td>-19.015438</td>\n",
              "      <td>29.154857</td>\n",
              "      <td>8362</td>\n",
              "      <td>242</td>\n",
              "      <td>7884</td>\n",
              "      <td>236.0</td>\n",
              "      <td>Zimbabwe</td>\n",
              "      <td>56.260789</td>\n",
              "      <td>2.894044</td>\n",
              "    </tr>\n",
              "  </tbody>\n",
              "</table>\n",
              "<p>3960 rows × 14 columns</p>\n",
              "</div>"
            ],
            "text/plain": [
              "      FIPS Admin2 Province_State      Country_Region          Last_Update  \\\n",
              "0      NaN    NaN            NaN         Afghanistan  2020-10-31 04:24:44   \n",
              "1      NaN    NaN            NaN             Albania  2020-10-31 04:24:44   \n",
              "2      NaN    NaN            NaN             Algeria  2020-10-31 04:24:44   \n",
              "3      NaN    NaN            NaN             Andorra  2020-10-31 04:24:44   \n",
              "4      NaN    NaN            NaN              Angola  2020-10-31 04:24:44   \n",
              "...    ...    ...            ...                 ...                  ...   \n",
              "3955   NaN    NaN            NaN  West Bank and Gaza  2020-10-31 04:24:44   \n",
              "3956   NaN    NaN            NaN      Western Sahara  2020-10-31 04:24:44   \n",
              "3957   NaN    NaN            NaN               Yemen  2020-10-31 04:24:44   \n",
              "3958   NaN    NaN            NaN              Zambia  2020-10-31 04:24:44   \n",
              "3959   NaN    NaN            NaN            Zimbabwe  2020-10-31 04:24:44   \n",
              "\n",
              "            Lat      Long_  Confirmed  Deaths  Recovered   Active  \\\n",
              "0     33.939110  67.709953      41334    1533      34258   5543.0   \n",
              "1     41.153300  20.168300      20634     502      11097   9035.0   \n",
              "2     28.033900   1.659600      57651    1956      40014  15681.0   \n",
              "3     42.506300   1.521800       4665      75       3377   1213.0   \n",
              "4    -11.202700  17.873900      10558     279       4107   6172.0   \n",
              "...         ...        ...        ...     ...        ...      ...   \n",
              "3955  31.952200  35.233200      53075     481      45896   6698.0   \n",
              "3956  24.215500 -12.885800         10       1          8      1.0   \n",
              "3957  15.552727  48.516388       2062     599       1366     97.0   \n",
              "3958 -13.133897  27.849332      16415     349      15600    466.0   \n",
              "3959 -19.015438  29.154857       8362     242       7884    236.0   \n",
              "\n",
              "            Combined_Key  Incidence_Rate  Case-Fatality_Ratio  \n",
              "0            Afghanistan      106.179711             3.708811  \n",
              "1                Albania      717.006046             2.432878  \n",
              "2                Algeria      131.470077             3.392829  \n",
              "3                Andorra     6037.662590             1.607717  \n",
              "4                 Angola       32.124122             2.642546  \n",
              "...                  ...             ...                  ...  \n",
              "3955  West Bank and Gaza     1040.397411             0.906265  \n",
              "3956      Western Sahara        1.674116            10.000000  \n",
              "3957               Yemen        6.913439            29.049467  \n",
              "3958              Zambia       89.289813             2.126104  \n",
              "3959            Zimbabwe       56.260789             2.894044  \n",
              "\n",
              "[3960 rows x 14 columns]"
            ]
          },
          "metadata": {
            "tags": []
          },
          "execution_count": 66
        }
      ]
    },
    {
      "cell_type": "code",
      "metadata": {
        "id": "Sp-Bvg5cAPkH",
        "outputId": "22c7f1f3-5d5c-43d7-971e-88dab387e6c7"
      },
      "source": [
        "spain_italy = end_oct[end_oct[\"Country_Region\"].isin([\"Italy\", \"Spain\"])]\n",
        "spain_italy = spain_italy.filter(items=[\"Country_Region\", \"Deaths\"])\n",
        "spain_italy"
      ],
      "execution_count": null,
      "outputs": [
        {
          "output_type": "execute_result",
          "data": {
            "text/html": [
              "<div>\n",
              "<style scoped>\n",
              "    .dataframe tbody tr th:only-of-type {\n",
              "        vertical-align: middle;\n",
              "    }\n",
              "\n",
              "    .dataframe tbody tr th {\n",
              "        vertical-align: top;\n",
              "    }\n",
              "\n",
              "    .dataframe thead th {\n",
              "        text-align: right;\n",
              "    }\n",
              "</style>\n",
              "<table border=\"1\" class=\"dataframe\">\n",
              "  <thead>\n",
              "    <tr style=\"text-align: right;\">\n",
              "      <th></th>\n",
              "      <th>Country_Region</th>\n",
              "      <th>Deaths</th>\n",
              "    </tr>\n",
              "  </thead>\n",
              "  <tbody>\n",
              "    <tr>\n",
              "      <th>276</th>\n",
              "      <td>Italy</td>\n",
              "      <td>542</td>\n",
              "    </tr>\n",
              "    <tr>\n",
              "      <th>277</th>\n",
              "      <td>Italy</td>\n",
              "      <td>48</td>\n",
              "    </tr>\n",
              "    <tr>\n",
              "      <th>278</th>\n",
              "      <td>Italy</td>\n",
              "      <td>114</td>\n",
              "    </tr>\n",
              "    <tr>\n",
              "      <th>279</th>\n",
              "      <td>Italy</td>\n",
              "      <td>659</td>\n",
              "    </tr>\n",
              "    <tr>\n",
              "      <th>280</th>\n",
              "      <td>Italy</td>\n",
              "      <td>4612</td>\n",
              "    </tr>\n",
              "    <tr>\n",
              "      <th>281</th>\n",
              "      <td>Italy</td>\n",
              "      <td>394</td>\n",
              "    </tr>\n",
              "    <tr>\n",
              "      <th>282</th>\n",
              "      <td>Italy</td>\n",
              "      <td>1190</td>\n",
              "    </tr>\n",
              "    <tr>\n",
              "      <th>283</th>\n",
              "      <td>Italy</td>\n",
              "      <td>1749</td>\n",
              "    </tr>\n",
              "    <tr>\n",
              "      <th>284</th>\n",
              "      <td>Italy</td>\n",
              "      <td>17462</td>\n",
              "    </tr>\n",
              "    <tr>\n",
              "      <th>285</th>\n",
              "      <td>Italy</td>\n",
              "      <td>1013</td>\n",
              "    </tr>\n",
              "    <tr>\n",
              "      <th>286</th>\n",
              "      <td>Italy</td>\n",
              "      <td>32</td>\n",
              "    </tr>\n",
              "    <tr>\n",
              "      <th>287</th>\n",
              "      <td>Italy</td>\n",
              "      <td>308</td>\n",
              "    </tr>\n",
              "    <tr>\n",
              "      <th>288</th>\n",
              "      <td>Italy</td>\n",
              "      <td>437</td>\n",
              "    </tr>\n",
              "    <tr>\n",
              "      <th>289</th>\n",
              "      <td>Italy</td>\n",
              "      <td>4355</td>\n",
              "    </tr>\n",
              "    <tr>\n",
              "      <th>290</th>\n",
              "      <td>Italy</td>\n",
              "      <td>713</td>\n",
              "    </tr>\n",
              "    <tr>\n",
              "      <th>291</th>\n",
              "      <td>Italy</td>\n",
              "      <td>214</td>\n",
              "    </tr>\n",
              "    <tr>\n",
              "      <th>292</th>\n",
              "      <td>Italy</td>\n",
              "      <td>484</td>\n",
              "    </tr>\n",
              "    <tr>\n",
              "      <th>293</th>\n",
              "      <td>Italy</td>\n",
              "      <td>1320</td>\n",
              "    </tr>\n",
              "    <tr>\n",
              "      <th>294</th>\n",
              "      <td>Italy</td>\n",
              "      <td>121</td>\n",
              "    </tr>\n",
              "    <tr>\n",
              "      <th>295</th>\n",
              "      <td>Italy</td>\n",
              "      <td>166</td>\n",
              "    </tr>\n",
              "    <tr>\n",
              "      <th>296</th>\n",
              "      <td>Italy</td>\n",
              "      <td>2388</td>\n",
              "    </tr>\n",
              "    <tr>\n",
              "      <th>579</th>\n",
              "      <td>Spain</td>\n",
              "      <td>2470</td>\n",
              "    </tr>\n",
              "    <tr>\n",
              "      <th>580</th>\n",
              "      <td>Spain</td>\n",
              "      <td>1654</td>\n",
              "    </tr>\n",
              "    <tr>\n",
              "      <th>581</th>\n",
              "      <td>Spain</td>\n",
              "      <td>437</td>\n",
              "    </tr>\n",
              "    <tr>\n",
              "      <th>582</th>\n",
              "      <td>Spain</td>\n",
              "      <td>362</td>\n",
              "    </tr>\n",
              "    <tr>\n",
              "      <th>583</th>\n",
              "      <td>Spain</td>\n",
              "      <td>1773</td>\n",
              "    </tr>\n",
              "    <tr>\n",
              "      <th>584</th>\n",
              "      <td>Spain</td>\n",
              "      <td>282</td>\n",
              "    </tr>\n",
              "    <tr>\n",
              "      <th>585</th>\n",
              "      <td>Spain</td>\n",
              "      <td>252</td>\n",
              "    </tr>\n",
              "    <tr>\n",
              "      <th>586</th>\n",
              "      <td>Spain</td>\n",
              "      <td>3425</td>\n",
              "    </tr>\n",
              "    <tr>\n",
              "      <th>587</th>\n",
              "      <td>Spain</td>\n",
              "      <td>3599</td>\n",
              "    </tr>\n",
              "    <tr>\n",
              "      <th>588</th>\n",
              "      <td>Spain</td>\n",
              "      <td>5991</td>\n",
              "    </tr>\n",
              "    <tr>\n",
              "      <th>589</th>\n",
              "      <td>Spain</td>\n",
              "      <td>19</td>\n",
              "    </tr>\n",
              "    <tr>\n",
              "      <th>590</th>\n",
              "      <td>Spain</td>\n",
              "      <td>714</td>\n",
              "    </tr>\n",
              "    <tr>\n",
              "      <th>591</th>\n",
              "      <td>Spain</td>\n",
              "      <td>904</td>\n",
              "    </tr>\n",
              "    <tr>\n",
              "      <th>592</th>\n",
              "      <td>Spain</td>\n",
              "      <td>463</td>\n",
              "    </tr>\n",
              "    <tr>\n",
              "      <th>593</th>\n",
              "      <td>Spain</td>\n",
              "      <td>10419</td>\n",
              "    </tr>\n",
              "    <tr>\n",
              "      <th>594</th>\n",
              "      <td>Spain</td>\n",
              "      <td>12</td>\n",
              "    </tr>\n",
              "    <tr>\n",
              "      <th>595</th>\n",
              "      <td>Spain</td>\n",
              "      <td>317</td>\n",
              "    </tr>\n",
              "    <tr>\n",
              "      <th>596</th>\n",
              "      <td>Spain</td>\n",
              "      <td>703</td>\n",
              "    </tr>\n",
              "    <tr>\n",
              "      <th>597</th>\n",
              "      <td>Spain</td>\n",
              "      <td>2082</td>\n",
              "    </tr>\n",
              "    <tr>\n",
              "      <th>598</th>\n",
              "      <td>Spain</td>\n",
              "      <td>0</td>\n",
              "    </tr>\n",
              "  </tbody>\n",
              "</table>\n",
              "</div>"
            ],
            "text/plain": [
              "    Country_Region  Deaths\n",
              "276          Italy     542\n",
              "277          Italy      48\n",
              "278          Italy     114\n",
              "279          Italy     659\n",
              "280          Italy    4612\n",
              "281          Italy     394\n",
              "282          Italy    1190\n",
              "283          Italy    1749\n",
              "284          Italy   17462\n",
              "285          Italy    1013\n",
              "286          Italy      32\n",
              "287          Italy     308\n",
              "288          Italy     437\n",
              "289          Italy    4355\n",
              "290          Italy     713\n",
              "291          Italy     214\n",
              "292          Italy     484\n",
              "293          Italy    1320\n",
              "294          Italy     121\n",
              "295          Italy     166\n",
              "296          Italy    2388\n",
              "579          Spain    2470\n",
              "580          Spain    1654\n",
              "581          Spain     437\n",
              "582          Spain     362\n",
              "583          Spain    1773\n",
              "584          Spain     282\n",
              "585          Spain     252\n",
              "586          Spain    3425\n",
              "587          Spain    3599\n",
              "588          Spain    5991\n",
              "589          Spain      19\n",
              "590          Spain     714\n",
              "591          Spain     904\n",
              "592          Spain     463\n",
              "593          Spain   10419\n",
              "594          Spain      12\n",
              "595          Spain     317\n",
              "596          Spain     703\n",
              "597          Spain    2082\n",
              "598          Spain       0"
            ]
          },
          "metadata": {
            "tags": []
          },
          "execution_count": 68
        }
      ]
    },
    {
      "cell_type": "code",
      "metadata": {
        "scrolled": false,
        "id": "zCHIpbFrAPkJ",
        "outputId": "b4f5050b-1c79-4ed8-e2c8-797e48097f52"
      },
      "source": [
        "grouped_spain_italy = spain_italy.groupby(\"Country_Region\").sum()\n",
        "grouped_spain_italy = grouped_spain_italy.reset_index()\n",
        "plt.barh(grouped_spain_italy['Country_Region'], grouped_spain_italy['Deaths'])\n",
        "plt.title(\"Covid cases in regions of Spain and Italy\")\n",
        "plt.ylabel(\"Countries\")\n",
        "plt.xlabel(\"Covid-19 Death Count\")\n",
        "plt.show()"
      ],
      "execution_count": null,
      "outputs": [
        {
          "output_type": "display_data",
          "data": {
            "image/png": "[encoded data removed]",
            "text/plain": [
              "<Figure size 432x288 with 1 Axes>"
            ]
          },
          "metadata": {
            "tags": []
          }
        }
      ]
    },
    {
      "cell_type": "markdown",
      "metadata": {
        "id": "u2A01MfVAPkL"
      },
      "source": [
        "#### The test statistic will be the difference in mean cases between Italy and the Spain. "
      ]
    },
    {
      "cell_type": "markdown",
      "metadata": {
        "id": "K2OuxMM6APkL"
      },
      "source": [
        "#### The observed  statistic will be the value from the test statistic. "
      ]
    },
    {
      "cell_type": "code",
      "metadata": {
        "id": "-Rq8g_VaAPkM",
        "outputId": "35fcbfc4-fefb-4c76-f345-f27e73df6009"
      },
      "source": [
        "from statistics import mean \n",
        "def difference_covid_count(dataframe, column_name=\"Country_Region\"):\n",
        "    italy = []\n",
        "    spain = []\n",
        "    for index, row in dataframe.iterrows():\n",
        "        italy_or_spain = dataframe.loc[index, column_name]\n",
        "        if italy_or_spain == \"Italy\":\n",
        "            italy_case = dataframe.loc[index, \"Deaths\"]\n",
        "            italy.append(italy_case)\n",
        "        elif italy_or_spain == \"Spain\":\n",
        "            spain_case = dataframe.loc[index, \"Deaths\"]\n",
        "            spain.append(spain_case)\n",
        "    return mean(italy) - mean(spain)\n",
        "difference_covid_count(spain_italy, column_name=\"Country_Region\")"
      ],
      "execution_count": null,
      "outputs": [
        {
          "output_type": "execute_result",
          "data": {
            "text/plain": [
              "31"
            ]
          },
          "metadata": {
            "tags": []
          },
          "execution_count": 143
        }
      ]
    },
    {
      "cell_type": "markdown",
      "metadata": {
        "id": "Nxt_3eEGAPkN"
      },
      "source": [
        "#### A simulated observed statistic"
      ]
    },
    {
      "cell_type": "code",
      "metadata": {
        "id": "YrDTaJwvAPkO",
        "outputId": "98c29ffc-345c-4815-d9d5-a4bac41b8485"
      },
      "source": [
        "def one_simulated_difference(table):\n",
        "    table1 = pd.concat([table[\"Country_Region\"], table[\"Deaths\"]],axis=1,keys=['Country_Region','Deaths'])\n",
        "    shuffled_labels = table1[\"Country_Region\"].sample(frac=1).values\n",
        "    shuffled_table = table1\n",
        "    shuffled_table[\"Shuffle\"] = shuffled_labels\n",
        "    return difference_covid_count(table1,\"Shuffle\")\n",
        "one_simulated_difference(ca_au)"
      ],
      "execution_count": null,
      "outputs": [
        {
          "output_type": "execute_result",
          "data": {
            "text/plain": [
              "192"
            ]
          },
          "metadata": {
            "tags": []
          },
          "execution_count": 145
        }
      ]
    },
    {
      "cell_type": "markdown",
      "metadata": {
        "id": "7V5jWhZSAPkQ"
      },
      "source": [
        "#### Model of the Observed Differences "
      ]
    },
    {
      "cell_type": "code",
      "metadata": {
        "id": "xTWoMb7uAPkQ",
        "outputId": "a4018be4-6b0e-447c-c5e8-f2d732e029c1"
      },
      "source": [
        "num_repetitions = 500\n",
        "simulated_statistics = []\n",
        "for i in np.arange(num_repetitions):\n",
        "    simulated_statistics = np.append(simulated_statistics, one_simulated_difference(ca_au))\n",
        "plt.figure(figsize=(8,6))\n",
        "plt.hist(simulated_statistics,bins=10,alpha=0.5)\n",
        "plt.xlabel(\"Covid Case Count Difference\",size=\"14\")\n",
        "plt.ylabel(\"Count\", size=\"14\")\n",
        "plt.title(\"Distribution of Difference between Covid-19 Deaths in Italy and Spain by October 31st\")\n",
        "plt.show()"
      ],
      "execution_count": null,
      "outputs": [
        {
          "output_type": "display_data",
          "data": {
            "image/png": "[encoded data removed]",
            "text/plain": [
              "<Figure size 576x432 with 1 Axes>"
            ]
          },
          "metadata": {
            "tags": []
          }
        }
      ]
    },
    {
      "cell_type": "code",
      "metadata": {
        "id": "ZYWCIP1UAPkV",
        "outputId": "1ac5f2ea-fb4f-4d5b-9746-57115bc1d90e"
      },
      "source": [
        "j = np.count_nonzero(simulated_statistics <= one_simulated_difference(ca_au))/500\n",
        "j"
      ],
      "execution_count": null,
      "outputs": [
        {
          "output_type": "execute_result",
          "data": {
            "text/plain": [
              "0.418"
            ]
          },
          "metadata": {
            "tags": []
          },
          "execution_count": 147
        }
      ]
    },
    {
      "cell_type": "markdown",
      "metadata": {
        "id": "GwreieeMAPkW"
      },
      "source": [
        "### Conclusion of Hypothesis 1:\n",
        "The margins between the difference are so high as it ranges from -2000 to 2000 deaths. Thus it shows that Spain and Italy have about 2000 deaths difference between them and thus the Alternative Hypothesis holds. "
      ]
    },
    {
      "cell_type": "markdown",
      "metadata": {
        "id": "Hcl13JwJAPkX"
      },
      "source": [
        "# Hypothesis 2: \n",
        "#### Null Hypothesis: \n",
        "By the end of March, March 31, the number of Covid-19 deaths is the same for France and UK.\n",
        "#### Alternative Hypothesis: \n",
        "By the end of March, March 31, France had more Covid-19 Deaths than the UK. "
      ]
    },
    {
      "cell_type": "code",
      "metadata": {
        "scrolled": false,
        "id": "eRV4LGrnAPkX",
        "outputId": "c2814fab-a301-4f14-d473-d5fcd91e834b"
      },
      "source": [
        "france_uk = end_mar[end_mar[\"Country_Region\"].isin([\"France\", \"United Kingdom\"])] \n",
        "france_uk = france_uk[france_uk[\"Deaths\"] > 0]\n",
        "france_uk = france_uk.filter(items=[\"Country_Region\", \"Deaths\"])\n",
        "france_uk[\"Deaths\"].describe()"
      ],
      "execution_count": null,
      "outputs": [
        {
          "output_type": "execute_result",
          "data": {
            "text/plain": [
              "count       8.000000\n",
              "mean      665.625000\n",
              "std      1312.991887\n",
              "min         1.000000\n",
              "25%         1.000000\n",
              "50%         3.000000\n",
              "75%       450.250000\n",
              "max      3523.000000\n",
              "Name: Deaths, dtype: float64"
            ]
          },
          "metadata": {
            "tags": []
          },
          "execution_count": 70
        }
      ]
    },
    {
      "cell_type": "code",
      "metadata": {
        "id": "wWIwgRBMAPka",
        "outputId": "ac537629-10e9-4ab6-93f8-ad2a28bc26ae"
      },
      "source": [
        "group_france_uk = france_uk.groupby(\"Country_Region\").sum()\n",
        "group_france_uk = group_france_uk.reset_index()\n",
        "group_france_uk"
      ],
      "execution_count": null,
      "outputs": [
        {
          "output_type": "execute_result",
          "data": {
            "text/html": [
              "<div>\n",
              "<style scoped>\n",
              "    .dataframe tbody tr th:only-of-type {\n",
              "        vertical-align: middle;\n",
              "    }\n",
              "\n",
              "    .dataframe tbody tr th {\n",
              "        vertical-align: top;\n",
              "    }\n",
              "\n",
              "    .dataframe thead th {\n",
              "        text-align: right;\n",
              "    }\n",
              "</style>\n",
              "<table border=\"1\" class=\"dataframe\">\n",
              "  <thead>\n",
              "    <tr style=\"text-align: right;\">\n",
              "      <th></th>\n",
              "      <th>Country_Region</th>\n",
              "      <th>Deaths</th>\n",
              "    </tr>\n",
              "  </thead>\n",
              "  <tbody>\n",
              "    <tr>\n",
              "      <th>0</th>\n",
              "      <td>France</td>\n",
              "      <td>3532</td>\n",
              "    </tr>\n",
              "    <tr>\n",
              "      <th>1</th>\n",
              "      <td>United Kingdom</td>\n",
              "      <td>1793</td>\n",
              "    </tr>\n",
              "  </tbody>\n",
              "</table>\n",
              "</div>"
            ],
            "text/plain": [
              "   Country_Region  Deaths\n",
              "0          France    3532\n",
              "1  United Kingdom    1793"
            ]
          },
          "metadata": {
            "tags": []
          },
          "execution_count": 71
        }
      ]
    },
    {
      "cell_type": "code",
      "metadata": {
        "id": "tys5FbJbAPkb",
        "outputId": "013d791f-14b4-4964-e907-828b870bc953"
      },
      "source": [
        "plt.barh(group_france_uk[\"Country_Region\"], group_france_uk[\"Deaths\"] )\n",
        "plt.title(\"Deaths in France and in UK due to Covid-19 on March 31 2020\")\n",
        "plt.show()"
      ],
      "execution_count": null,
      "outputs": [
        {
          "output_type": "display_data",
          "data": {
            "image/png": "[encoded data removed]",
            "text/plain": [
              "<Figure size 432x288 with 1 Axes>"
            ]
          },
          "metadata": {
            "tags": []
          }
        }
      ]
    },
    {
      "cell_type": "code",
      "metadata": {
        "id": "MiLXHPzgAPkd",
        "outputId": "1bff7ba7-c2e7-4122-9e33-93cd983674c7"
      },
      "source": [
        "from statistics import mean \n",
        "def diff_covid_count(dataframe, column_name=\"Country_Region\"):\n",
        "    france = []\n",
        "    uk = []\n",
        "    for index , row in dataframe.iterrows():\n",
        "        france_or_uk = dataframe.loc[index, column_name]\n",
        "        if france_or_uk == \"France\":\n",
        "            france_case = dataframe.loc[index, \"Deaths\"]\n",
        "            france.append(france_case)\n",
        "        elif france_or_uk == \"United Kingdom\":\n",
        "            uk_case = dataframe.loc[index, \"Deaths\"]\n",
        "            uk.append(uk_case)\n",
        "    return mean(france) - mean(uk)\n",
        "diff_covid_count(france_uk, column_name=\"Country_Region\")"
      ],
      "execution_count": null,
      "outputs": [
        {
          "output_type": "execute_result",
          "data": {
            "text/plain": [
              "109"
            ]
          },
          "metadata": {
            "tags": []
          },
          "execution_count": 73
        }
      ]
    },
    {
      "cell_type": "code",
      "metadata": {
        "id": "BrPajZHBAPkf",
        "outputId": "2205ccc0-1eaf-4c24-8c4b-a6ca36328147"
      },
      "source": [
        "def one_simulated_diff(table):\n",
        "    table1 = pd.concat([table[\"Country_Region\"], table[\"Deaths\"]],axis=1,keys=['Country_Region','Deaths'])\n",
        "    shuffled_labels = table1[\"Country_Region\"].sample(frac=1).values\n",
        "    shuffled_table = table1\n",
        "    shuffled_table[\"Shuffle\"] = shuffled_labels\n",
        "    return diff_covid_count(shuffled_table, \"Shuffle\")\n",
        "one_simulated_diff(france_uk)"
      ],
      "execution_count": null,
      "outputs": [
        {
          "output_type": "execute_result",
          "data": {
            "text/plain": [
              "1063"
            ]
          },
          "metadata": {
            "tags": []
          },
          "execution_count": 132
        }
      ]
    },
    {
      "cell_type": "code",
      "metadata": {
        "id": "6pZx2MM5APkh",
        "outputId": "6391253d-2c8e-492c-d2aa-16b3c4b21db5"
      },
      "source": [
        "num_repetitions = 500\n",
        "simulated_statistics = []\n",
        "for i in np.arange(num_repetitions):\n",
        "    simulated_statistics = np.append(simulated_statistics, one_simulated_diff(france_uk))\n",
        "plt.figure(figsize=(8,6))\n",
        "plt.hist(simulated_statistics,bins=4,alpha=0.5)\n",
        "plt.xlabel(\"Covid Deaths Count Difference\",size=\"14\")\n",
        "plt.ylabel(\"Count\", size=\"14\")\n",
        "plt.title(\"Distribution of Difference between France and UK Simulations\")\n",
        "plt.show()"
      ],
      "execution_count": null,
      "outputs": [
        {
          "output_type": "display_data",
          "data": {
            "image/png": "[encoded data removed]",
            "text/plain": [
              "<Figure size 576x432 with 1 Axes>"
            ]
          },
          "metadata": {
            "tags": []
          }
        }
      ]
    },
    {
      "cell_type": "markdown",
      "metadata": {
        "id": "3-EppnHpAPkk"
      },
      "source": [
        "### Conclusion of Hypothesis 2:\n",
        "The margins between the difference are so high as it ranges from -1500 to 1000. Thus the data supports the alternative hypothesis that France had more deaths than the UK by 1000 or 1500. "
      ]
    },
    {
      "cell_type": "code",
      "metadata": {
        "id": "NvDNiCSMAPkk",
        "outputId": "dc511972-791f-4cb0-cd8a-62e2c1d5e455"
      },
      "source": [
        "l = np.count_nonzero(simulated_statistics <= one_simulated_diff(france_uk))/500\n",
        "l"
      ],
      "execution_count": null,
      "outputs": [
        {
          "output_type": "execute_result",
          "data": {
            "text/plain": [
              "0.244"
            ]
          },
          "metadata": {
            "tags": []
          },
          "execution_count": 137
        }
      ]
    },
    {
      "cell_type": "markdown",
      "metadata": {
        "id": "5v2kLkJaAPkn"
      },
      "source": [
        "## Hypothesis 3: \n",
        "#### Null Hypothesis: \n",
        "People of all age groups died in similar numbers.\n",
        "#### Alternative Hypothesis: \n",
        "Majority of the people who have died from Covid-19 in Germany were over the age of 60."
      ]
    },
    {
      "cell_type": "markdown",
      "metadata": {
        "id": "wNE1nmmnAPkn"
      },
      "source": [
        "First we read in the data from kaggle. We group by the age_group and county, then reset_index."
      ]
    },
    {
      "cell_type": "code",
      "metadata": {
        "id": "BmJFz-dkAPkn",
        "outputId": "efedaa86-95a0-4c06-dae4-56874295730b"
      },
      "source": [
        "germany = pd.read_csv('covid_de.csv')\n",
        "germany = germany.groupby(['county', 'age_group']).sum()\n",
        "germany = germany.reset_index()\n",
        "germany"
      ],
      "execution_count": null,
      "outputs": [
        {
          "output_type": "execute_result",
          "data": {
            "text/html": [
              "<div>\n",
              "<style scoped>\n",
              "    .dataframe tbody tr th:only-of-type {\n",
              "        vertical-align: middle;\n",
              "    }\n",
              "\n",
              "    .dataframe tbody tr th {\n",
              "        vertical-align: top;\n",
              "    }\n",
              "\n",
              "    .dataframe thead th {\n",
              "        text-align: right;\n",
              "    }\n",
              "</style>\n",
              "<table border=\"1\" class=\"dataframe\">\n",
              "  <thead>\n",
              "    <tr style=\"text-align: right;\">\n",
              "      <th></th>\n",
              "      <th>county</th>\n",
              "      <th>age_group</th>\n",
              "      <th>cases</th>\n",
              "      <th>deaths</th>\n",
              "      <th>recovered</th>\n",
              "    </tr>\n",
              "  </thead>\n",
              "  <tbody>\n",
              "    <tr>\n",
              "      <th>0</th>\n",
              "      <td>LK Ahrweiler</td>\n",
              "      <td>00-04</td>\n",
              "      <td>21</td>\n",
              "      <td>0</td>\n",
              "      <td>15</td>\n",
              "    </tr>\n",
              "    <tr>\n",
              "      <th>1</th>\n",
              "      <td>LK Ahrweiler</td>\n",
              "      <td>05-14</td>\n",
              "      <td>46</td>\n",
              "      <td>0</td>\n",
              "      <td>36</td>\n",
              "    </tr>\n",
              "    <tr>\n",
              "      <th>2</th>\n",
              "      <td>LK Ahrweiler</td>\n",
              "      <td>15-34</td>\n",
              "      <td>291</td>\n",
              "      <td>0</td>\n",
              "      <td>197</td>\n",
              "    </tr>\n",
              "    <tr>\n",
              "      <th>3</th>\n",
              "      <td>LK Ahrweiler</td>\n",
              "      <td>35-59</td>\n",
              "      <td>323</td>\n",
              "      <td>0</td>\n",
              "      <td>202</td>\n",
              "    </tr>\n",
              "    <tr>\n",
              "      <th>4</th>\n",
              "      <td>LK Ahrweiler</td>\n",
              "      <td>60-79</td>\n",
              "      <td>117</td>\n",
              "      <td>4</td>\n",
              "      <td>72</td>\n",
              "    </tr>\n",
              "    <tr>\n",
              "      <th>...</th>\n",
              "      <td>...</td>\n",
              "      <td>...</td>\n",
              "      <td>...</td>\n",
              "      <td>...</td>\n",
              "      <td>...</td>\n",
              "    </tr>\n",
              "    <tr>\n",
              "      <th>2465</th>\n",
              "      <td>StadtRegion Aachen</td>\n",
              "      <td>05-14</td>\n",
              "      <td>341</td>\n",
              "      <td>0</td>\n",
              "      <td>272</td>\n",
              "    </tr>\n",
              "    <tr>\n",
              "      <th>2466</th>\n",
              "      <td>StadtRegion Aachen</td>\n",
              "      <td>15-34</td>\n",
              "      <td>2321</td>\n",
              "      <td>0</td>\n",
              "      <td>1886</td>\n",
              "    </tr>\n",
              "    <tr>\n",
              "      <th>2467</th>\n",
              "      <td>StadtRegion Aachen</td>\n",
              "      <td>35-59</td>\n",
              "      <td>2522</td>\n",
              "      <td>9</td>\n",
              "      <td>2087</td>\n",
              "    </tr>\n",
              "    <tr>\n",
              "      <th>2468</th>\n",
              "      <td>StadtRegion Aachen</td>\n",
              "      <td>60-79</td>\n",
              "      <td>944</td>\n",
              "      <td>39</td>\n",
              "      <td>727</td>\n",
              "    </tr>\n",
              "    <tr>\n",
              "      <th>2469</th>\n",
              "      <td>StadtRegion Aachen</td>\n",
              "      <td>80-99</td>\n",
              "      <td>494</td>\n",
              "      <td>82</td>\n",
              "      <td>330</td>\n",
              "    </tr>\n",
              "  </tbody>\n",
              "</table>\n",
              "<p>2470 rows × 5 columns</p>\n",
              "</div>"
            ],
            "text/plain": [
              "                  county age_group  cases  deaths  recovered\n",
              "0           LK Ahrweiler     00-04     21       0         15\n",
              "1           LK Ahrweiler     05-14     46       0         36\n",
              "2           LK Ahrweiler     15-34    291       0        197\n",
              "3           LK Ahrweiler     35-59    323       0        202\n",
              "4           LK Ahrweiler     60-79    117       4         72\n",
              "...                  ...       ...    ...     ...        ...\n",
              "2465  StadtRegion Aachen     05-14    341       0        272\n",
              "2466  StadtRegion Aachen     15-34   2321       0       1886\n",
              "2467  StadtRegion Aachen     35-59   2522       9       2087\n",
              "2468  StadtRegion Aachen     60-79    944      39        727\n",
              "2469  StadtRegion Aachen     80-99    494      82        330\n",
              "\n",
              "[2470 rows x 5 columns]"
            ]
          },
          "metadata": {
            "tags": []
          },
          "execution_count": 108
        }
      ]
    },
    {
      "cell_type": "code",
      "metadata": {
        "id": "aZ3gaEc-APkq",
        "outputId": "a21e4b3a-13e7-4577-adaf-c7be3e5efd57"
      },
      "source": [
        "from statistics import mean \n",
        "def age_covid_count(dataframe, column_name=\"age_group\"):\n",
        "    over35 = []\n",
        "    under35 = []\n",
        "    for index, row in dataframe.iterrows():\n",
        "        over_or_under = dataframe.loc[index, column_name]\n",
        "        if over_or_under == \"00-04\" or over_or_under == \"05-14\" or over_or_under == \"15-34\":\n",
        "            under = dataframe.loc[index, \"deaths\"]\n",
        "            under35.append(under)\n",
        "        else:\n",
        "            over = dataframe.loc[index, \"deaths\"]\n",
        "            over35.append(over)\n",
        "    return mean(over35) - mean(under35)\n",
        "age_covid_count(germany, column_name=\"age_group\")"
      ],
      "execution_count": null,
      "outputs": [
        {
          "output_type": "execute_result",
          "data": {
            "text/plain": [
              "9"
            ]
          },
          "metadata": {
            "tags": []
          },
          "execution_count": 109
        }
      ]
    },
    {
      "cell_type": "code",
      "metadata": {
        "id": "Omqe0vHQAPks",
        "outputId": "4b61a8ca-6628-4709-aca9-65845601ca24"
      },
      "source": [
        "def one_simul_diff(table):\n",
        "    table1 = pd.concat([table[\"age_group\"], table[\"deaths\"]],axis=1,keys=['age_group','deaths'])\n",
        "    shuffled_labels = table1[\"age_group\"].sample(frac=1).values\n",
        "    shuffled_table = table1\n",
        "    shuffled_table[\"Shuffle\"] = shuffled_labels\n",
        "    return age_covid_count(table1, \"Shuffle\")\n",
        "one_simul_diff(germany)"
      ],
      "execution_count": null,
      "outputs": [
        {
          "output_type": "execute_result",
          "data": {
            "text/plain": [
              "0"
            ]
          },
          "metadata": {
            "tags": []
          },
          "execution_count": 122
        }
      ]
    },
    {
      "cell_type": "code",
      "metadata": {
        "id": "FQSq1Qx9APkw",
        "outputId": "d41b617c-620a-4b96-c89f-ee7b3bf663e1"
      },
      "source": [
        "num_repetitions = 500\n",
        "simulated_statistics = []\n",
        "for i in np.arange(num_repetitions):\n",
        "    simulated_statistics = np.append(simulated_statistics,  one_simul_diff(germany))\n",
        "plt.figure(figsize=(8,6))\n",
        "plt.hist(simulated_statistics,bins=4,alpha=0.5)\n",
        "plt.xlabel(\"Covid Deaths Count Difference\",size=\"14\")\n",
        "plt.ylabel(\"Count\", size=\"14\")\n",
        "plt.title(\"Distribution of Difference between Deaths Over 35 and under 35\")\n",
        "plt.show()"
      ],
      "execution_count": null,
      "outputs": [
        {
          "output_type": "display_data",
          "data": {
            "image/png": "[encoded data removed]",
            "text/plain": [
              "<Figure size 576x432 with 1 Axes>"
            ]
          },
          "metadata": {
            "tags": []
          }
        }
      ]
    },
    {
      "cell_type": "code",
      "metadata": {
        "scrolled": true,
        "id": "Gi6nGqYvAPkx",
        "outputId": "a697fbbc-9e5f-4367-be0f-450a94cba8e0"
      },
      "source": [
        "p = np.count_nonzero(simulated_statistics <= one_simul_diff(germany))/500\n",
        "p"
      ],
      "execution_count": null,
      "outputs": [
        {
          "output_type": "execute_result",
          "data": {
            "text/plain": [
              "0.388"
            ]
          },
          "metadata": {
            "tags": []
          },
          "execution_count": 130
        }
      ]
    },
    {
      "cell_type": "markdown",
      "metadata": {
        "id": "3bv1Zii_APk0"
      },
      "source": [
        "#### Conclusion: since the majority of the difference is sbetween -0.5 and 0, we can say that it supports the null hypothesis, people of all age groups died in similar numbers."
      ]
    }
  ]
}