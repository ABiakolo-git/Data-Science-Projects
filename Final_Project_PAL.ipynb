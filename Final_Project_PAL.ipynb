{
 "cells": [
  {
   "cell_type": "markdown",
   "metadata": {
    "id": "41eu9p-b_8-Q"
   },
   "source": [
    "# Team Members"
   ]
  },
  {
   "cell_type": "markdown",
   "metadata": {
    "id": "8Su-Vvfj_8-R"
   },
   "source": [
    "Latifat Ozoya, Aghogho Biakolo, and Peniel Abebe"
   ]
  },
  {
   "cell_type": "markdown",
   "metadata": {
    "id": "R8xs_51P_8-R"
   },
   "source": [
    "# Project Overview"
   ]
  },
  {
   "cell_type": "markdown",
   "metadata": {
    "id": "hP8jluXX_8-S"
   },
   "source": [
    "In this project, we want to explore the effects of coronavirus in the world. Based on the datasets we found and collected, we plan to compare and contrast how the coronavirus has affected people of different age groups and different countries. We also want to compare the confirm deaths of covid against confirmed positive cases."
   ]
  },
  {
   "cell_type": "markdown",
   "metadata": {
    "id": "ERHgx8Fr_8-S"
   },
   "source": [
    "# Problem Description\n",
    "We want to explore the rise and status of coronavirus around the world."
   ]
  },
  {
   "cell_type": "markdown",
   "metadata": {
    "id": "Yj31T_Hi_8-T"
   },
   "source": [
    "# Subject Matter Expertise\n",
    "\n",
    "* Observation: Obviously, We have all been greatly impacted by the coronavirus and seen others also being affected by it which resulted in our interest in exploring this topic. This topic is worth exploring now more than ever because it is still relevant. \n",
    "\n",
    "* Article: After those observations, we decided to read upon some articles and learned more about the current situation and what questions we want to explore. Based on those articles we were able to narrow down ideas and specific topics that we could take a closer look at using datascience techniques\n",
    "\n",
    "* Latest news: We also watched some of the recent news and what they had to say about the virus and how it is affecting not just the US but also the rest of the world. We got some insight on which countries are being affected the most and how different countries/states are dealing with the virus. That inspired us to explore this topic as well."
   ]
  },
  {
   "cell_type": "markdown",
   "metadata": {
    "id": "sm7Qjq4a_8-T"
   },
   "source": [
    "# Assumptions\n",
    "These are our assumptions:\n",
    "* If we divide the world into two groups randomly, they should have similar number of recovered cases.\n",
    "* People of all age groups Recovered in similar numbers in Germany.\n",
    "* By the end of October 2020, the number of Covid-19 Confirmed Cases is the same for Germany and Chile."
   ]
  },
  {
   "cell_type": "markdown",
   "metadata": {
    "id": "N_iEOj6H_8-U"
   },
   "source": [
    "# Steps to Explore the Topic and Problem\n",
    "\n",
    "The steps we are going to take to explore the topic using the data sources and techniques are:\n",
    "\n",
    "1. Download data from Github.\n",
    "2. Import libraries.\n",
    "2. State our null and alternative hypotheses.\n",
    "3. Explore the data\n",
    "4. Clean data by droping columns and identify outliers.\n",
    "5. Describe data using descriptive statistics such as mean, median and standard deviation.\n",
    "6. Visualize data using bar charts, histograms and pie charts to show comparison and to determine whether the data is normal or not.\n",
    "7. Draw samples to compare to the larger dataset.\n",
    "8. Find probabilities.\n",
    "9. List test statistics to test hypotheses.\n",
    "10. Create a Histogram and Discuss the normality of the data.\n",
    "11. Show the oberved value of the test statistics.\n",
    "12. Do simulations and find P-value.\n",
    "13. Graph Linear Regression \n",
    "14. Conclude hypothesis tests and topic."
   ]
  },
  {
   "cell_type": "markdown",
   "metadata": {
    "id": "QlXiyjo5_8-U"
   },
   "source": [
    "# Data Sources:\n",
    "\n",
    "In bulleted format, list where you will get data from.\n",
    "1. COVID-19 World Report for 11/08/2020 - https://raw.githubusercontent.com/CSSEGISandData/COVID-19/master/csse_covid_19_data/csse_covid_19_daily_reports/11-07-2020.csv\n",
    "\n",
    "\n",
    "2. COVID-19 World Report for 10/08/2020 - https://raw.githubusercontent.com/CSSEGISandData/COVID-19/master/csse_covid_19_data/csse_covid_19_daily_reports/10-07-2020.csv\n",
    "\n",
    "3. COVID-19 World Report for 02/29/2020 - https://raw.githubusercontent.com/CSSEGISandData/COVID-19/master/csse_covid_19_data/csse_covid_19_daily_reports/02-29-2020.csv\n",
    "\n",
    "4. COVID-19 World Report for 10/30/2020 - https://raw.githubusercontent.com/CSSEGISandData/COVID-19/master/csse_covid_19_data/csse_covid_19_daily_reports/10-30-2020.csv\n",
    "\n",
    "5. COVID-19 World Report for 03/31/2020 - https://raw.githubusercontent.com/CSSEGISandData/COVID-19/master/csse_covid_19_data/csse_covid_19_daily_reports/03-31-2020.csv\n",
    "\n",
    "6. COVID-19 Tracking Germany - https://www.kaggle.com/headsortails/covid19-tracking-germany\n",
    "\n",
    "7. Template:COVID-19 pandemic data [Wikipedia] - https://en.wikipedia.org/wiki/Template:COVID-19_pandemic_data#covid-19-pandemic-data"
   ]
  },
  {
   "cell_type": "markdown",
   "metadata": {},
   "source": [
    "# Final Project Website "
   ]
  },
  {
   "cell_type": "markdown",
   "metadata": {},
   "source": [
    "https://latifatozoya.wixsite.com/applied-data-science"
   ]
  },
  {
   "cell_type": "code",
   "execution_count": null,
   "metadata": {},
   "outputs": [],
   "source": []
  },
  {
   "cell_type": "code",
   "execution_count": 1,
   "metadata": {
    "id": "QisGMBJi_8-V"
   },
   "outputs": [],
   "source": [
    "#importing libraries\n",
    "from datascience import *\n",
    "import numpy as np\n",
    "import pandas as pd\n",
    "import seaborn as sns\n",
    "import random\n",
    "import requests\n",
    "import math\n",
    "import time\n",
    "import datetime\n",
    "import string\n",
    "import operator \n",
    "import matplotlib.pyplot as plt\n",
    "%matplotlib inline\n",
    "import warnings\n",
    "warnings.filterwarnings(\"ignore\")\n",
    "plt.style.use('fivethirtyeight')\n",
    "# plt.style.use('ggplot')\n",
    "sns.set_style('whitegrid')\n",
    "\n",
    "from urllib.request import urlopen\n",
    "from bs4 import BeautifulSoup"
   ]
  },
  {
   "cell_type": "markdown",
   "metadata": {},
   "source": []
  },
  {
   "cell_type": "markdown",
   "metadata": {},
   "source": [
    "# Web scrapped Data"
   ]
  },
  {
   "cell_type": "code",
   "execution_count": 2,
   "metadata": {},
   "outputs": [
    {
     "data": {
      "text/html": [
       "<div>\n",
       "<style scoped>\n",
       "    .dataframe tbody tr th:only-of-type {\n",
       "        vertical-align: middle;\n",
       "    }\n",
       "\n",
       "    .dataframe tbody tr th {\n",
       "        vertical-align: top;\n",
       "    }\n",
       "\n",
       "    .dataframe thead tr th {\n",
       "        text-align: left;\n",
       "    }\n",
       "</style>\n",
       "<table border=\"1\" class=\"dataframe\">\n",
       "  <thead>\n",
       "    <tr>\n",
       "      <th></th>\n",
       "      <th colspan=\"2\" halign=\"left\">Location[a]</th>\n",
       "      <th>Cases[b]</th>\n",
       "      <th>Deaths[c]</th>\n",
       "      <th>Recov.[d]</th>\n",
       "      <th>Ref.</th>\n",
       "    </tr>\n",
       "    <tr>\n",
       "      <th></th>\n",
       "      <th>Unnamed: 0_level_1</th>\n",
       "      <th>World[e]</th>\n",
       "      <th>67,027,780</th>\n",
       "      <th>1,535,492</th>\n",
       "      <th>43,062,006</th>\n",
       "      <th>[2]</th>\n",
       "    </tr>\n",
       "  </thead>\n",
       "  <tbody>\n",
       "    <tr>\n",
       "      <th>0</th>\n",
       "      <td>NaN</td>\n",
       "      <td>United States[f]</td>\n",
       "      <td>14879831</td>\n",
       "      <td>285564</td>\n",
       "      <td>6971281</td>\n",
       "      <td>[9]</td>\n",
       "    </tr>\n",
       "    <tr>\n",
       "      <th>1</th>\n",
       "      <td>NaN</td>\n",
       "      <td>India</td>\n",
       "      <td>9677203</td>\n",
       "      <td>140573</td>\n",
       "      <td>9139901</td>\n",
       "      <td>[10]</td>\n",
       "    </tr>\n",
       "    <tr>\n",
       "      <th>2</th>\n",
       "      <td>NaN</td>\n",
       "      <td>Brazil</td>\n",
       "      <td>6603540</td>\n",
       "      <td>176962</td>\n",
       "      <td>5776182</td>\n",
       "      <td>[11][12]</td>\n",
       "    </tr>\n",
       "    <tr>\n",
       "      <th>3</th>\n",
       "      <td>NaN</td>\n",
       "      <td>Russia[g]</td>\n",
       "      <td>2488912</td>\n",
       "      <td>43597</td>\n",
       "      <td>1956588</td>\n",
       "      <td>[13]</td>\n",
       "    </tr>\n",
       "    <tr>\n",
       "      <th>4</th>\n",
       "      <td>NaN</td>\n",
       "      <td>France[h]</td>\n",
       "      <td>2292497</td>\n",
       "      <td>55155</td>\n",
       "      <td>169586</td>\n",
       "      <td>[14][15]</td>\n",
       "    </tr>\n",
       "    <tr>\n",
       "      <th>...</th>\n",
       "      <td>...</td>\n",
       "      <td>...</td>\n",
       "      <td>...</td>\n",
       "      <td>...</td>\n",
       "      <td>...</td>\n",
       "      <td>...</td>\n",
       "    </tr>\n",
       "    <tr>\n",
       "      <th>233</th>\n",
       "      <td>NaN</td>\n",
       "      <td>Samoa</td>\n",
       "      <td>1</td>\n",
       "      <td>0</td>\n",
       "      <td>0</td>\n",
       "      <td>[344]</td>\n",
       "    </tr>\n",
       "    <tr>\n",
       "      <th>234</th>\n",
       "      <td>NaN</td>\n",
       "      <td>Vanuatu</td>\n",
       "      <td>1</td>\n",
       "      <td>0</td>\n",
       "      <td>1</td>\n",
       "      <td>[345]</td>\n",
       "    </tr>\n",
       "    <tr>\n",
       "      <th>235</th>\n",
       "      <td>NaN</td>\n",
       "      <td>Tanzania[bf]</td>\n",
       "      <td>No data</td>\n",
       "      <td>No data</td>\n",
       "      <td>No data</td>\n",
       "      <td>[347][348]</td>\n",
       "    </tr>\n",
       "    <tr>\n",
       "      <th>236</th>\n",
       "      <td>As of 7 December 2020 (UTC) · History of cases...</td>\n",
       "      <td>As of 7 December 2020 (UTC) · History of cases...</td>\n",
       "      <td>As of 7 December 2020 (UTC) · History of cases...</td>\n",
       "      <td>As of 7 December 2020 (UTC) · History of cases...</td>\n",
       "      <td>As of 7 December 2020 (UTC) · History of cases...</td>\n",
       "      <td>As of 7 December 2020 (UTC) · History of cases...</td>\n",
       "    </tr>\n",
       "    <tr>\n",
       "      <th>237</th>\n",
       "      <td>Notes ^ Location: Countries, territories, and ...</td>\n",
       "      <td>Notes ^ Location: Countries, territories, and ...</td>\n",
       "      <td>Notes ^ Location: Countries, territories, and ...</td>\n",
       "      <td>Notes ^ Location: Countries, territories, and ...</td>\n",
       "      <td>Notes ^ Location: Countries, territories, and ...</td>\n",
       "      <td>Notes ^ Location: Countries, territories, and ...</td>\n",
       "    </tr>\n",
       "  </tbody>\n",
       "</table>\n",
       "<p>238 rows × 6 columns</p>\n",
       "</div>"
      ],
      "text/plain": [
       "                                           Location[a]  \\\n",
       "                                    Unnamed: 0_level_1   \n",
       "0                                                  NaN   \n",
       "1                                                  NaN   \n",
       "2                                                  NaN   \n",
       "3                                                  NaN   \n",
       "4                                                  NaN   \n",
       "..                                                 ...   \n",
       "233                                                NaN   \n",
       "234                                                NaN   \n",
       "235                                                NaN   \n",
       "236  As of 7 December 2020 (UTC) · History of cases...   \n",
       "237  Notes ^ Location: Countries, territories, and ...   \n",
       "\n",
       "                                                        \\\n",
       "                                              World[e]   \n",
       "0                                     United States[f]   \n",
       "1                                                India   \n",
       "2                                               Brazil   \n",
       "3                                            Russia[g]   \n",
       "4                                            France[h]   \n",
       "..                                                 ...   \n",
       "233                                              Samoa   \n",
       "234                                            Vanuatu   \n",
       "235                                       Tanzania[bf]   \n",
       "236  As of 7 December 2020 (UTC) · History of cases...   \n",
       "237  Notes ^ Location: Countries, territories, and ...   \n",
       "\n",
       "                                              Cases[b]  \\\n",
       "                                            67,027,780   \n",
       "0                                             14879831   \n",
       "1                                              9677203   \n",
       "2                                              6603540   \n",
       "3                                              2488912   \n",
       "4                                              2292497   \n",
       "..                                                 ...   \n",
       "233                                                  1   \n",
       "234                                                  1   \n",
       "235                                            No data   \n",
       "236  As of 7 December 2020 (UTC) · History of cases...   \n",
       "237  Notes ^ Location: Countries, territories, and ...   \n",
       "\n",
       "                                             Deaths[c]  \\\n",
       "                                             1,535,492   \n",
       "0                                               285564   \n",
       "1                                               140573   \n",
       "2                                               176962   \n",
       "3                                                43597   \n",
       "4                                                55155   \n",
       "..                                                 ...   \n",
       "233                                                  0   \n",
       "234                                                  0   \n",
       "235                                            No data   \n",
       "236  As of 7 December 2020 (UTC) · History of cases...   \n",
       "237  Notes ^ Location: Countries, territories, and ...   \n",
       "\n",
       "                                             Recov.[d]  \\\n",
       "                                            43,062,006   \n",
       "0                                              6971281   \n",
       "1                                              9139901   \n",
       "2                                              5776182   \n",
       "3                                              1956588   \n",
       "4                                               169586   \n",
       "..                                                 ...   \n",
       "233                                                  0   \n",
       "234                                                  1   \n",
       "235                                            No data   \n",
       "236  As of 7 December 2020 (UTC) · History of cases...   \n",
       "237  Notes ^ Location: Countries, territories, and ...   \n",
       "\n",
       "                                                  Ref.  \n",
       "                                                   [2]  \n",
       "0                                                  [9]  \n",
       "1                                                 [10]  \n",
       "2                                             [11][12]  \n",
       "3                                                 [13]  \n",
       "4                                             [14][15]  \n",
       "..                                                 ...  \n",
       "233                                              [344]  \n",
       "234                                              [345]  \n",
       "235                                         [347][348]  \n",
       "236  As of 7 December 2020 (UTC) · History of cases...  \n",
       "237  Notes ^ Location: Countries, territories, and ...  \n",
       "\n",
       "[238 rows x 6 columns]"
      ]
     },
     "execution_count": 2,
     "metadata": {},
     "output_type": "execute_result"
    }
   ],
   "source": [
    "# Web-scrapted source\n",
    "\n",
    "# Opening and reading the article's url.\n",
    "url = \"https://en.wikipedia.org/wiki/Template:COVID-19_pandemic_data#covid-19-pandemic-data\"\n",
    "html = urlopen(url)\n",
    "soup = BeautifulSoup(html.read(),'html.parser')\n",
    "table = soup.find_all('table') \n",
    "df = pd.read_html(str(table))\n",
    "df = pd.DataFrame(df[0])\n",
    "\n",
    "df"
   ]
  },
  {
   "cell_type": "code",
   "execution_count": 3,
   "metadata": {},
   "outputs": [
    {
     "data": {
      "text/html": [
       "<div>\n",
       "<style scoped>\n",
       "    .dataframe tbody tr th:only-of-type {\n",
       "        vertical-align: middle;\n",
       "    }\n",
       "\n",
       "    .dataframe tbody tr th {\n",
       "        vertical-align: top;\n",
       "    }\n",
       "\n",
       "    .dataframe thead th {\n",
       "        text-align: right;\n",
       "    }\n",
       "</style>\n",
       "<table border=\"1\" class=\"dataframe\">\n",
       "  <thead>\n",
       "    <tr style=\"text-align: right;\">\n",
       "      <th></th>\n",
       "      <th>Location</th>\n",
       "      <th>Cases</th>\n",
       "      <th>Deaths</th>\n",
       "      <th>Recoveries</th>\n",
       "    </tr>\n",
       "  </thead>\n",
       "  <tbody>\n",
       "    <tr>\n",
       "      <th>1</th>\n",
       "      <td>World[e]</td>\n",
       "      <td>67,027,780</td>\n",
       "      <td>1,535,492</td>\n",
       "      <td>43,062,006</td>\n",
       "    </tr>\n",
       "    <tr>\n",
       "      <th>2</th>\n",
       "      <td>United States[f]</td>\n",
       "      <td>14879831</td>\n",
       "      <td>285564</td>\n",
       "      <td>6971281</td>\n",
       "    </tr>\n",
       "    <tr>\n",
       "      <th>3</th>\n",
       "      <td>India</td>\n",
       "      <td>9677203</td>\n",
       "      <td>140573</td>\n",
       "      <td>9139901</td>\n",
       "    </tr>\n",
       "    <tr>\n",
       "      <th>4</th>\n",
       "      <td>Brazil</td>\n",
       "      <td>6603540</td>\n",
       "      <td>176962</td>\n",
       "      <td>5776182</td>\n",
       "    </tr>\n",
       "    <tr>\n",
       "      <th>5</th>\n",
       "      <td>Russia[g]</td>\n",
       "      <td>2488912</td>\n",
       "      <td>43597</td>\n",
       "      <td>1956588</td>\n",
       "    </tr>\n",
       "    <tr>\n",
       "      <th>...</th>\n",
       "      <td>...</td>\n",
       "      <td>...</td>\n",
       "      <td>...</td>\n",
       "      <td>...</td>\n",
       "    </tr>\n",
       "    <tr>\n",
       "      <th>233</th>\n",
       "      <td>American Samoa</td>\n",
       "      <td>3</td>\n",
       "      <td>0</td>\n",
       "      <td>0</td>\n",
       "    </tr>\n",
       "    <tr>\n",
       "      <th>234</th>\n",
       "      <td>Wallis and Futuna</td>\n",
       "      <td>3</td>\n",
       "      <td>0</td>\n",
       "      <td>1</td>\n",
       "    </tr>\n",
       "    <tr>\n",
       "      <th>235</th>\n",
       "      <td>Samoa</td>\n",
       "      <td>1</td>\n",
       "      <td>0</td>\n",
       "      <td>0</td>\n",
       "    </tr>\n",
       "    <tr>\n",
       "      <th>236</th>\n",
       "      <td>Vanuatu</td>\n",
       "      <td>1</td>\n",
       "      <td>0</td>\n",
       "      <td>1</td>\n",
       "    </tr>\n",
       "    <tr>\n",
       "      <th>237</th>\n",
       "      <td>Tanzania[bf]</td>\n",
       "      <td>No data</td>\n",
       "      <td>No data</td>\n",
       "      <td>No data</td>\n",
       "    </tr>\n",
       "  </tbody>\n",
       "</table>\n",
       "<p>237 rows × 4 columns</p>\n",
       "</div>"
      ],
      "text/plain": [
       "0             Location       Cases     Deaths  Recoveries\n",
       "1             World[e]  67,027,780  1,535,492  43,062,006\n",
       "2     United States[f]    14879831     285564     6971281\n",
       "3                India     9677203     140573     9139901\n",
       "4               Brazil     6603540     176962     5776182\n",
       "5            Russia[g]     2488912      43597     1956588\n",
       "..                 ...         ...        ...         ...\n",
       "233     American Samoa           3          0           0\n",
       "234  Wallis and Futuna           3          0           1\n",
       "235              Samoa           1          0           0\n",
       "236            Vanuatu           1          0           1\n",
       "237       Tanzania[bf]     No data    No data     No data\n",
       "\n",
       "[237 rows x 4 columns]"
      ]
     },
     "execution_count": 3,
     "metadata": {},
     "output_type": "execute_result"
    }
   ],
   "source": [
    "new_df = df.reset_index().T.reset_index().T #change the header to a row \n",
    "new_df.reset_index(drop=True, inplace=True)\n",
    "\n",
    "new_df.drop(new_df.columns[[0,1,6]], axis=1, inplace=True)\n",
    "new_df = new_df.iloc[:-2]  #drop the last two rows\n",
    "\n",
    "new_header = new_df.iloc[0] #grab the first row for the header\n",
    "new_df = new_df[1:] #take the data less the header row\n",
    "new_df.columns = new_header #set the header row as the df header\n",
    "\n",
    "new_df = new_df.rename(columns={\"Location[a]\": \"Location\", \"Cases[b]\": \"Cases\", \n",
    "                                \"Deaths[c]\":\"Deaths\", \"Recov.[d]\":\"Recoveries\"}) #rename column names\n",
    "\n",
    "new_df"
   ]
  },
  {
   "cell_type": "code",
   "execution_count": 4,
   "metadata": {},
   "outputs": [
    {
     "data": {
      "text/html": [
       "<div>\n",
       "<style scoped>\n",
       "    .dataframe tbody tr th:only-of-type {\n",
       "        vertical-align: middle;\n",
       "    }\n",
       "\n",
       "    .dataframe tbody tr th {\n",
       "        vertical-align: top;\n",
       "    }\n",
       "\n",
       "    .dataframe thead th {\n",
       "        text-align: right;\n",
       "    }\n",
       "</style>\n",
       "<table border=\"1\" class=\"dataframe\">\n",
       "  <thead>\n",
       "    <tr style=\"text-align: right;\">\n",
       "      <th></th>\n",
       "      <th>Location</th>\n",
       "      <th>Cases</th>\n",
       "      <th>Deaths</th>\n",
       "      <th>Recoveries</th>\n",
       "    </tr>\n",
       "  </thead>\n",
       "  <tbody>\n",
       "    <tr>\n",
       "      <th>1</th>\n",
       "      <td>World</td>\n",
       "      <td>67027780</td>\n",
       "      <td>1535492</td>\n",
       "      <td>43062006</td>\n",
       "    </tr>\n",
       "    <tr>\n",
       "      <th>2</th>\n",
       "      <td>United States</td>\n",
       "      <td>14879831</td>\n",
       "      <td>285564</td>\n",
       "      <td>6971281</td>\n",
       "    </tr>\n",
       "    <tr>\n",
       "      <th>3</th>\n",
       "      <td>India</td>\n",
       "      <td>9677203</td>\n",
       "      <td>140573</td>\n",
       "      <td>9139901</td>\n",
       "    </tr>\n",
       "    <tr>\n",
       "      <th>4</th>\n",
       "      <td>Brazil</td>\n",
       "      <td>6603540</td>\n",
       "      <td>176962</td>\n",
       "      <td>5776182</td>\n",
       "    </tr>\n",
       "    <tr>\n",
       "      <th>5</th>\n",
       "      <td>Russia</td>\n",
       "      <td>2488912</td>\n",
       "      <td>43597</td>\n",
       "      <td>1956588</td>\n",
       "    </tr>\n",
       "    <tr>\n",
       "      <th>...</th>\n",
       "      <td>...</td>\n",
       "      <td>...</td>\n",
       "      <td>...</td>\n",
       "      <td>...</td>\n",
       "    </tr>\n",
       "    <tr>\n",
       "      <th>233</th>\n",
       "      <td>American Samoa</td>\n",
       "      <td>3</td>\n",
       "      <td>0</td>\n",
       "      <td>0</td>\n",
       "    </tr>\n",
       "    <tr>\n",
       "      <th>234</th>\n",
       "      <td>Wallis and Futuna</td>\n",
       "      <td>3</td>\n",
       "      <td>0</td>\n",
       "      <td>1</td>\n",
       "    </tr>\n",
       "    <tr>\n",
       "      <th>235</th>\n",
       "      <td>Samoa</td>\n",
       "      <td>1</td>\n",
       "      <td>0</td>\n",
       "      <td>0</td>\n",
       "    </tr>\n",
       "    <tr>\n",
       "      <th>236</th>\n",
       "      <td>Vanuatu</td>\n",
       "      <td>1</td>\n",
       "      <td>0</td>\n",
       "      <td>1</td>\n",
       "    </tr>\n",
       "    <tr>\n",
       "      <th>237</th>\n",
       "      <td>Tanzania</td>\n",
       "      <td>No data</td>\n",
       "      <td>No data</td>\n",
       "      <td>No data</td>\n",
       "    </tr>\n",
       "  </tbody>\n",
       "</table>\n",
       "<p>237 rows × 4 columns</p>\n",
       "</div>"
      ],
      "text/plain": [
       "0             Location     Cases   Deaths Recoveries\n",
       "1                World  67027780  1535492   43062006\n",
       "2        United States  14879831   285564    6971281\n",
       "3                India   9677203   140573    9139901\n",
       "4               Brazil   6603540   176962    5776182\n",
       "5               Russia   2488912    43597    1956588\n",
       "..                 ...       ...      ...        ...\n",
       "233     American Samoa         3        0          0\n",
       "234  Wallis and Futuna         3        0          1\n",
       "235              Samoa         1        0          0\n",
       "236            Vanuatu         1        0          1\n",
       "237           Tanzania   No data  No data    No data\n",
       "\n",
       "[237 rows x 4 columns]"
      ]
     },
     "execution_count": 4,
     "metadata": {},
     "output_type": "execute_result"
    }
   ],
   "source": [
    "# The goals column has a lot of unwanted characters, I use regular expressions here to clean it up.\n",
    "import re\n",
    "\n",
    "def fix_names(input_string):\n",
    "   return re.sub('\\[.*\\]','', input_string)\n",
    "\n",
    "new_df['Location'] = new_df['Location'].apply(lambda x: fix_names(x))\n",
    "new_df['Cases'] = new_df['Cases'].str.replace(',','')\n",
    "new_df['Deaths'] = new_df['Deaths'].str.replace(',','')\n",
    "new_df['Recoveries'] = new_df['Recoveries'].str.replace(',','')\n",
    "\n",
    "new_df"
   ]
  },
  {
   "cell_type": "code",
   "execution_count": 5,
   "metadata": {},
   "outputs": [
    {
     "data": {
      "text/html": [
       "<div>\n",
       "<style scoped>\n",
       "    .dataframe tbody tr th:only-of-type {\n",
       "        vertical-align: middle;\n",
       "    }\n",
       "\n",
       "    .dataframe tbody tr th {\n",
       "        vertical-align: top;\n",
       "    }\n",
       "\n",
       "    .dataframe thead th {\n",
       "        text-align: right;\n",
       "    }\n",
       "</style>\n",
       "<table border=\"1\" class=\"dataframe\">\n",
       "  <thead>\n",
       "    <tr style=\"text-align: right;\">\n",
       "      <th></th>\n",
       "      <th>Location</th>\n",
       "      <th>Cases</th>\n",
       "      <th>Deaths</th>\n",
       "      <th>Recoveries</th>\n",
       "    </tr>\n",
       "  </thead>\n",
       "  <tbody>\n",
       "    <tr>\n",
       "      <th>1</th>\n",
       "      <td>World</td>\n",
       "      <td>67027780</td>\n",
       "      <td>1535492</td>\n",
       "      <td>43062006</td>\n",
       "    </tr>\n",
       "    <tr>\n",
       "      <th>2</th>\n",
       "      <td>United States</td>\n",
       "      <td>14879831</td>\n",
       "      <td>285564</td>\n",
       "      <td>6971281</td>\n",
       "    </tr>\n",
       "    <tr>\n",
       "      <th>3</th>\n",
       "      <td>India</td>\n",
       "      <td>9677203</td>\n",
       "      <td>140573</td>\n",
       "      <td>9139901</td>\n",
       "    </tr>\n",
       "    <tr>\n",
       "      <th>4</th>\n",
       "      <td>Brazil</td>\n",
       "      <td>6603540</td>\n",
       "      <td>176962</td>\n",
       "      <td>5776182</td>\n",
       "    </tr>\n",
       "    <tr>\n",
       "      <th>5</th>\n",
       "      <td>Russia</td>\n",
       "      <td>2488912</td>\n",
       "      <td>43597</td>\n",
       "      <td>1956588</td>\n",
       "    </tr>\n",
       "    <tr>\n",
       "      <th>...</th>\n",
       "      <td>...</td>\n",
       "      <td>...</td>\n",
       "      <td>...</td>\n",
       "      <td>...</td>\n",
       "    </tr>\n",
       "    <tr>\n",
       "      <th>233</th>\n",
       "      <td>American Samoa</td>\n",
       "      <td>3</td>\n",
       "      <td>0</td>\n",
       "      <td>0</td>\n",
       "    </tr>\n",
       "    <tr>\n",
       "      <th>234</th>\n",
       "      <td>Wallis and Futuna</td>\n",
       "      <td>3</td>\n",
       "      <td>0</td>\n",
       "      <td>1</td>\n",
       "    </tr>\n",
       "    <tr>\n",
       "      <th>235</th>\n",
       "      <td>Samoa</td>\n",
       "      <td>1</td>\n",
       "      <td>0</td>\n",
       "      <td>0</td>\n",
       "    </tr>\n",
       "    <tr>\n",
       "      <th>236</th>\n",
       "      <td>Vanuatu</td>\n",
       "      <td>1</td>\n",
       "      <td>0</td>\n",
       "      <td>1</td>\n",
       "    </tr>\n",
       "    <tr>\n",
       "      <th>237</th>\n",
       "      <td>Tanzania</td>\n",
       "      <td>NaN</td>\n",
       "      <td>NaN</td>\n",
       "      <td>NaN</td>\n",
       "    </tr>\n",
       "  </tbody>\n",
       "</table>\n",
       "<p>237 rows × 4 columns</p>\n",
       "</div>"
      ],
      "text/plain": [
       "0             Location     Cases   Deaths Recoveries\n",
       "1                World  67027780  1535492   43062006\n",
       "2        United States  14879831   285564    6971281\n",
       "3                India   9677203   140573    9139901\n",
       "4               Brazil   6603540   176962    5776182\n",
       "5               Russia   2488912    43597    1956588\n",
       "..                 ...       ...      ...        ...\n",
       "233     American Samoa         3        0          0\n",
       "234  Wallis and Futuna         3        0          1\n",
       "235              Samoa         1        0          0\n",
       "236            Vanuatu         1        0          1\n",
       "237           Tanzania       NaN      NaN        NaN\n",
       "\n",
       "[237 rows x 4 columns]"
      ]
     },
     "execution_count": 5,
     "metadata": {},
     "output_type": "execute_result"
    }
   ],
   "source": [
    "# Replace \"No data\" with NaN values then drop Nan values\n",
    "\n",
    "new_df['Cases'].replace('No data', np.nan, inplace=True)\n",
    "new_df['Deaths'].replace('No data', np.nan, inplace=True)\n",
    "new_df['Recoveries'].replace('No data', np.nan, inplace=True)\n",
    "\n",
    "new_df"
   ]
  },
  {
   "cell_type": "code",
   "execution_count": 6,
   "metadata": {},
   "outputs": [
    {
     "data": {
      "text/html": [
       "<div>\n",
       "<style scoped>\n",
       "    .dataframe tbody tr th:only-of-type {\n",
       "        vertical-align: middle;\n",
       "    }\n",
       "\n",
       "    .dataframe tbody tr th {\n",
       "        vertical-align: top;\n",
       "    }\n",
       "\n",
       "    .dataframe thead th {\n",
       "        text-align: right;\n",
       "    }\n",
       "</style>\n",
       "<table border=\"1\" class=\"dataframe\">\n",
       "  <thead>\n",
       "    <tr style=\"text-align: right;\">\n",
       "      <th></th>\n",
       "      <th>Location</th>\n",
       "      <th>Cases</th>\n",
       "      <th>Deaths</th>\n",
       "      <th>Recoveries</th>\n",
       "    </tr>\n",
       "  </thead>\n",
       "  <tbody>\n",
       "    <tr>\n",
       "      <th>0</th>\n",
       "      <td>World</td>\n",
       "      <td>67027780</td>\n",
       "      <td>1535492</td>\n",
       "      <td>43062006</td>\n",
       "    </tr>\n",
       "    <tr>\n",
       "      <th>1</th>\n",
       "      <td>United States</td>\n",
       "      <td>14879831</td>\n",
       "      <td>285564</td>\n",
       "      <td>6971281</td>\n",
       "    </tr>\n",
       "    <tr>\n",
       "      <th>2</th>\n",
       "      <td>India</td>\n",
       "      <td>9677203</td>\n",
       "      <td>140573</td>\n",
       "      <td>9139901</td>\n",
       "    </tr>\n",
       "    <tr>\n",
       "      <th>3</th>\n",
       "      <td>Brazil</td>\n",
       "      <td>6603540</td>\n",
       "      <td>176962</td>\n",
       "      <td>5776182</td>\n",
       "    </tr>\n",
       "    <tr>\n",
       "      <th>4</th>\n",
       "      <td>Russia</td>\n",
       "      <td>2488912</td>\n",
       "      <td>43597</td>\n",
       "      <td>1956588</td>\n",
       "    </tr>\n",
       "    <tr>\n",
       "      <th>...</th>\n",
       "      <td>...</td>\n",
       "      <td>...</td>\n",
       "      <td>...</td>\n",
       "      <td>...</td>\n",
       "    </tr>\n",
       "    <tr>\n",
       "      <th>218</th>\n",
       "      <td>Marshall Islands</td>\n",
       "      <td>4</td>\n",
       "      <td>0</td>\n",
       "      <td>2</td>\n",
       "    </tr>\n",
       "    <tr>\n",
       "      <th>219</th>\n",
       "      <td>American Samoa</td>\n",
       "      <td>3</td>\n",
       "      <td>0</td>\n",
       "      <td>0</td>\n",
       "    </tr>\n",
       "    <tr>\n",
       "      <th>220</th>\n",
       "      <td>Wallis and Futuna</td>\n",
       "      <td>3</td>\n",
       "      <td>0</td>\n",
       "      <td>1</td>\n",
       "    </tr>\n",
       "    <tr>\n",
       "      <th>221</th>\n",
       "      <td>Samoa</td>\n",
       "      <td>1</td>\n",
       "      <td>0</td>\n",
       "      <td>0</td>\n",
       "    </tr>\n",
       "    <tr>\n",
       "      <th>222</th>\n",
       "      <td>Vanuatu</td>\n",
       "      <td>1</td>\n",
       "      <td>0</td>\n",
       "      <td>1</td>\n",
       "    </tr>\n",
       "  </tbody>\n",
       "</table>\n",
       "<p>223 rows × 4 columns</p>\n",
       "</div>"
      ],
      "text/plain": [
       "0             Location     Cases   Deaths Recoveries\n",
       "0                World  67027780  1535492   43062006\n",
       "1        United States  14879831   285564    6971281\n",
       "2                India   9677203   140573    9139901\n",
       "3               Brazil   6603540   176962    5776182\n",
       "4               Russia   2488912    43597    1956588\n",
       "..                 ...       ...      ...        ...\n",
       "218   Marshall Islands         4        0          2\n",
       "219     American Samoa         3        0          0\n",
       "220  Wallis and Futuna         3        0          1\n",
       "221              Samoa         1        0          0\n",
       "222            Vanuatu         1        0          1\n",
       "\n",
       "[223 rows x 4 columns]"
      ]
     },
     "execution_count": 6,
     "metadata": {},
     "output_type": "execute_result"
    }
   ],
   "source": [
    "new_df = new_df.dropna()\n",
    "new_df.reset_index(drop=True, inplace=True)\n",
    "new_df"
   ]
  },
  {
   "cell_type": "code",
   "execution_count": 7,
   "metadata": {},
   "outputs": [
    {
     "name": "stdout",
     "output_type": "stream",
     "text": [
      "<class 'pandas.core.frame.DataFrame'>\n",
      "RangeIndex: 223 entries, 0 to 222\n",
      "Data columns (total 4 columns):\n",
      " #   Column      Non-Null Count  Dtype \n",
      "---  ------      --------------  ----- \n",
      " 0   Location    223 non-null    object\n",
      " 1   Cases       223 non-null    int64 \n",
      " 2   Deaths      223 non-null    int64 \n",
      " 3   Recoveries  223 non-null    int64 \n",
      "dtypes: int64(3), object(1)\n",
      "memory usage: 7.1+ KB\n"
     ]
    }
   ],
   "source": [
    "new_df['Cases'] = pd.to_numeric(new_df['Cases'])\n",
    "new_df['Deaths'] = pd.to_numeric(new_df['Deaths'])\n",
    "new_df['Recoveries'] = pd.to_numeric(new_df['Recoveries'])\n",
    "\n",
    "new_df.info() "
   ]
  },
  {
   "cell_type": "code",
   "execution_count": 8,
   "metadata": {},
   "outputs": [
    {
     "data": {
      "text/html": [
       "<div>\n",
       "<style scoped>\n",
       "    .dataframe tbody tr th:only-of-type {\n",
       "        vertical-align: middle;\n",
       "    }\n",
       "\n",
       "    .dataframe tbody tr th {\n",
       "        vertical-align: top;\n",
       "    }\n",
       "\n",
       "    .dataframe thead th {\n",
       "        text-align: right;\n",
       "    }\n",
       "</style>\n",
       "<table border=\"1\" class=\"dataframe\">\n",
       "  <thead>\n",
       "    <tr style=\"text-align: right;\">\n",
       "      <th></th>\n",
       "      <th>Location</th>\n",
       "      <th>Cases</th>\n",
       "      <th>Deaths</th>\n",
       "      <th>Recoveries</th>\n",
       "    </tr>\n",
       "  </thead>\n",
       "  <tbody>\n",
       "    <tr>\n",
       "      <th>0</th>\n",
       "      <td>World</td>\n",
       "      <td>67027780</td>\n",
       "      <td>1535492</td>\n",
       "      <td>43062006</td>\n",
       "    </tr>\n",
       "    <tr>\n",
       "      <th>2</th>\n",
       "      <td>India</td>\n",
       "      <td>9677203</td>\n",
       "      <td>140573</td>\n",
       "      <td>9139901</td>\n",
       "    </tr>\n",
       "    <tr>\n",
       "      <th>1</th>\n",
       "      <td>United States</td>\n",
       "      <td>14879831</td>\n",
       "      <td>285564</td>\n",
       "      <td>6971281</td>\n",
       "    </tr>\n",
       "    <tr>\n",
       "      <th>3</th>\n",
       "      <td>Brazil</td>\n",
       "      <td>6603540</td>\n",
       "      <td>176962</td>\n",
       "      <td>5776182</td>\n",
       "    </tr>\n",
       "    <tr>\n",
       "      <th>4</th>\n",
       "      <td>Russia</td>\n",
       "      <td>2488912</td>\n",
       "      <td>43597</td>\n",
       "      <td>1956588</td>\n",
       "    </tr>\n",
       "    <tr>\n",
       "      <th>...</th>\n",
       "      <td>...</td>\n",
       "      <td>...</td>\n",
       "      <td>...</td>\n",
       "      <td>...</td>\n",
       "    </tr>\n",
       "    <tr>\n",
       "      <th>220</th>\n",
       "      <td>Wallis and Futuna</td>\n",
       "      <td>3</td>\n",
       "      <td>0</td>\n",
       "      <td>1</td>\n",
       "    </tr>\n",
       "    <tr>\n",
       "      <th>222</th>\n",
       "      <td>Vanuatu</td>\n",
       "      <td>1</td>\n",
       "      <td>0</td>\n",
       "      <td>1</td>\n",
       "    </tr>\n",
       "    <tr>\n",
       "      <th>168</th>\n",
       "      <td>Charles de Gaulle</td>\n",
       "      <td>1081</td>\n",
       "      <td>0</td>\n",
       "      <td>0</td>\n",
       "    </tr>\n",
       "    <tr>\n",
       "      <th>219</th>\n",
       "      <td>American Samoa</td>\n",
       "      <td>3</td>\n",
       "      <td>0</td>\n",
       "      <td>0</td>\n",
       "    </tr>\n",
       "    <tr>\n",
       "      <th>221</th>\n",
       "      <td>Samoa</td>\n",
       "      <td>1</td>\n",
       "      <td>0</td>\n",
       "      <td>0</td>\n",
       "    </tr>\n",
       "  </tbody>\n",
       "</table>\n",
       "<p>223 rows × 4 columns</p>\n",
       "</div>"
      ],
      "text/plain": [
       "0             Location     Cases   Deaths  Recoveries\n",
       "0                World  67027780  1535492    43062006\n",
       "2                India   9677203   140573     9139901\n",
       "1        United States  14879831   285564     6971281\n",
       "3               Brazil   6603540   176962     5776182\n",
       "4               Russia   2488912    43597     1956588\n",
       "..                 ...       ...      ...         ...\n",
       "220  Wallis and Futuna         3        0           1\n",
       "222            Vanuatu         1        0           1\n",
       "168  Charles de Gaulle      1081        0           0\n",
       "219     American Samoa         3        0           0\n",
       "221              Samoa         1        0           0\n",
       "\n",
       "[223 rows x 4 columns]"
      ]
     },
     "execution_count": 8,
     "metadata": {},
     "output_type": "execute_result"
    }
   ],
   "source": [
    "new_df = new_df.sort_values(by='Recoveries', ascending=False)\n",
    "new_df"
   ]
  },
  {
   "cell_type": "code",
   "execution_count": 9,
   "metadata": {},
   "outputs": [
    {
     "name": "stdout",
     "output_type": "stream",
     "text": [
      "Q1= 923.5 \n",
      "Q3= 85440.0 \n",
      "IQR= 84516.5\n",
      "High = 212214.75 \n",
      "Low = -125851.25 \n",
      "Recovery_average With Outlier = 391217.88340807176\n"
     ]
    }
   ],
   "source": [
    "#Find average of Recoveries with outliers\n",
    "recoveries_average = new_df['Recoveries'].mean()\n",
    "\n",
    "#Finding an outlier\n",
    "new_df.sort_values(by=['Recoveries'])\n",
    "Q1 = np.percentile(new_df['Recoveries'], 25, interpolation='midpoint')\n",
    "Q3 = np.percentile(new_df['Recoveries'], 75, interpolation='midpoint') \n",
    "IQR = Q3 - Q1 \n",
    "print(\"Q1=\", Q1, \"\\nQ3=\", Q3, \"\\nIQR=\", IQR)\n",
    "\n",
    "High = Q3 + (1.5 * IQR)\n",
    "Low = Q1 - (1.5 * IQR)\n",
    "\n",
    "print(\"High =\", High, \"\\nLow =\", Low, \"\\nRecovery_average With Outlier =\", recoveries_average)\n"
   ]
  },
  {
   "cell_type": "code",
   "execution_count": 10,
   "metadata": {},
   "outputs": [
    {
     "data": {
      "text/html": [
       "<div>\n",
       "<style scoped>\n",
       "    .dataframe tbody tr th:only-of-type {\n",
       "        vertical-align: middle;\n",
       "    }\n",
       "\n",
       "    .dataframe tbody tr th {\n",
       "        vertical-align: top;\n",
       "    }\n",
       "\n",
       "    .dataframe thead th {\n",
       "        text-align: right;\n",
       "    }\n",
       "</style>\n",
       "<table border=\"1\" class=\"dataframe\">\n",
       "  <thead>\n",
       "    <tr style=\"text-align: right;\">\n",
       "      <th></th>\n",
       "      <th>Location</th>\n",
       "      <th>Cases</th>\n",
       "      <th>Deaths</th>\n",
       "      <th>Recoveries</th>\n",
       "    </tr>\n",
       "  </thead>\n",
       "  <tbody>\n",
       "    <tr>\n",
       "      <th>34</th>\n",
       "      <td>Jordan</td>\n",
       "      <td>240089</td>\n",
       "      <td>3056</td>\n",
       "      <td>187444</td>\n",
       "    </tr>\n",
       "    <tr>\n",
       "      <th>35</th>\n",
       "      <td>Ecuador</td>\n",
       "      <td>197998</td>\n",
       "      <td>13778</td>\n",
       "      <td>174188</td>\n",
       "    </tr>\n",
       "    <tr>\n",
       "      <th>5</th>\n",
       "      <td>France</td>\n",
       "      <td>2292497</td>\n",
       "      <td>55155</td>\n",
       "      <td>169586</td>\n",
       "    </tr>\n",
       "    <tr>\n",
       "      <th>37</th>\n",
       "      <td>United Arab Emirates</td>\n",
       "      <td>177577</td>\n",
       "      <td>594</td>\n",
       "      <td>159711</td>\n",
       "    </tr>\n",
       "    <tr>\n",
       "      <th>36</th>\n",
       "      <td>Panama</td>\n",
       "      <td>177719</td>\n",
       "      <td>3193</td>\n",
       "      <td>152890</td>\n",
       "    </tr>\n",
       "    <tr>\n",
       "      <th>...</th>\n",
       "      <td>...</td>\n",
       "      <td>...</td>\n",
       "      <td>...</td>\n",
       "      <td>...</td>\n",
       "    </tr>\n",
       "    <tr>\n",
       "      <th>220</th>\n",
       "      <td>Wallis and Futuna</td>\n",
       "      <td>3</td>\n",
       "      <td>0</td>\n",
       "      <td>1</td>\n",
       "    </tr>\n",
       "    <tr>\n",
       "      <th>222</th>\n",
       "      <td>Vanuatu</td>\n",
       "      <td>1</td>\n",
       "      <td>0</td>\n",
       "      <td>1</td>\n",
       "    </tr>\n",
       "    <tr>\n",
       "      <th>168</th>\n",
       "      <td>Charles de Gaulle</td>\n",
       "      <td>1081</td>\n",
       "      <td>0</td>\n",
       "      <td>0</td>\n",
       "    </tr>\n",
       "    <tr>\n",
       "      <th>219</th>\n",
       "      <td>American Samoa</td>\n",
       "      <td>3</td>\n",
       "      <td>0</td>\n",
       "      <td>0</td>\n",
       "    </tr>\n",
       "    <tr>\n",
       "      <th>221</th>\n",
       "      <td>Samoa</td>\n",
       "      <td>1</td>\n",
       "      <td>0</td>\n",
       "      <td>0</td>\n",
       "    </tr>\n",
       "  </tbody>\n",
       "</table>\n",
       "<p>191 rows × 4 columns</p>\n",
       "</div>"
      ],
      "text/plain": [
       "0                Location    Cases  Deaths  Recoveries\n",
       "34                 Jordan   240089    3056      187444\n",
       "35                Ecuador   197998   13778      174188\n",
       "5                  France  2292497   55155      169586\n",
       "37   United Arab Emirates   177577     594      159711\n",
       "36                 Panama   177719    3193      152890\n",
       "..                    ...      ...     ...         ...\n",
       "220     Wallis and Futuna        3       0           1\n",
       "222               Vanuatu        1       0           1\n",
       "168     Charles de Gaulle     1081       0           0\n",
       "219        American Samoa        3       0           0\n",
       "221                 Samoa        1       0           0\n",
       "\n",
       "[191 rows x 4 columns]"
      ]
     },
     "execution_count": 10,
     "metadata": {},
     "output_type": "execute_result"
    }
   ],
   "source": [
    "#Remove outliers and print the average of the Recoveries column.\n",
    "new_df_index = new_df[new_df['Recoveries'] > High].index\n",
    "new_df_index\n",
    "new_df = new_df.drop(new_df_index)\n",
    "new_df "
   ]
  },
  {
   "cell_type": "code",
   "execution_count": 11,
   "metadata": {},
   "outputs": [
    {
     "data": {
      "text/html": [
       "<div>\n",
       "<style scoped>\n",
       "    .dataframe tbody tr th:only-of-type {\n",
       "        vertical-align: middle;\n",
       "    }\n",
       "\n",
       "    .dataframe tbody tr th {\n",
       "        vertical-align: top;\n",
       "    }\n",
       "\n",
       "    .dataframe thead th {\n",
       "        text-align: right;\n",
       "    }\n",
       "</style>\n",
       "<table border=\"1\" class=\"dataframe\">\n",
       "  <thead>\n",
       "    <tr style=\"text-align: right;\">\n",
       "      <th></th>\n",
       "      <th>Location</th>\n",
       "      <th>Cases</th>\n",
       "      <th>Deaths</th>\n",
       "      <th>Recoveries</th>\n",
       "    </tr>\n",
       "  </thead>\n",
       "  <tbody>\n",
       "    <tr>\n",
       "      <th>34</th>\n",
       "      <td>Jordan</td>\n",
       "      <td>240089</td>\n",
       "      <td>3056</td>\n",
       "      <td>187444</td>\n",
       "    </tr>\n",
       "    <tr>\n",
       "      <th>35</th>\n",
       "      <td>Ecuador</td>\n",
       "      <td>197998</td>\n",
       "      <td>13778</td>\n",
       "      <td>174188</td>\n",
       "    </tr>\n",
       "    <tr>\n",
       "      <th>5</th>\n",
       "      <td>France</td>\n",
       "      <td>2292497</td>\n",
       "      <td>55155</td>\n",
       "      <td>169586</td>\n",
       "    </tr>\n",
       "    <tr>\n",
       "      <th>37</th>\n",
       "      <td>United Arab Emirates</td>\n",
       "      <td>177577</td>\n",
       "      <td>594</td>\n",
       "      <td>159711</td>\n",
       "    </tr>\n",
       "    <tr>\n",
       "      <th>36</th>\n",
       "      <td>Panama</td>\n",
       "      <td>177719</td>\n",
       "      <td>3193</td>\n",
       "      <td>152890</td>\n",
       "    </tr>\n",
       "    <tr>\n",
       "      <th>...</th>\n",
       "      <td>...</td>\n",
       "      <td>...</td>\n",
       "      <td>...</td>\n",
       "      <td>...</td>\n",
       "    </tr>\n",
       "    <tr>\n",
       "      <th>220</th>\n",
       "      <td>Wallis and Futuna</td>\n",
       "      <td>3</td>\n",
       "      <td>0</td>\n",
       "      <td>1</td>\n",
       "    </tr>\n",
       "    <tr>\n",
       "      <th>222</th>\n",
       "      <td>Vanuatu</td>\n",
       "      <td>1</td>\n",
       "      <td>0</td>\n",
       "      <td>1</td>\n",
       "    </tr>\n",
       "    <tr>\n",
       "      <th>168</th>\n",
       "      <td>Charles de Gaulle</td>\n",
       "      <td>1081</td>\n",
       "      <td>0</td>\n",
       "      <td>0</td>\n",
       "    </tr>\n",
       "    <tr>\n",
       "      <th>219</th>\n",
       "      <td>American Samoa</td>\n",
       "      <td>3</td>\n",
       "      <td>0</td>\n",
       "      <td>0</td>\n",
       "    </tr>\n",
       "    <tr>\n",
       "      <th>221</th>\n",
       "      <td>Samoa</td>\n",
       "      <td>1</td>\n",
       "      <td>0</td>\n",
       "      <td>0</td>\n",
       "    </tr>\n",
       "  </tbody>\n",
       "</table>\n",
       "<p>191 rows × 4 columns</p>\n",
       "</div>"
      ],
      "text/plain": [
       "0                Location    Cases  Deaths  Recoveries\n",
       "34                 Jordan   240089    3056      187444\n",
       "35                Ecuador   197998   13778      174188\n",
       "5                  France  2292497   55155      169586\n",
       "37   United Arab Emirates   177577     594      159711\n",
       "36                 Panama   177719    3193      152890\n",
       "..                    ...      ...     ...         ...\n",
       "220     Wallis and Futuna        3       0           1\n",
       "222               Vanuatu        1       0           1\n",
       "168     Charles de Gaulle     1081       0           0\n",
       "219        American Samoa        3       0           0\n",
       "221                 Samoa        1       0           0\n",
       "\n",
       "[191 rows x 4 columns]"
      ]
     },
     "execution_count": 11,
     "metadata": {},
     "output_type": "execute_result"
    }
   ],
   "source": [
    "new_df_index_l = new_df[new_df['Recoveries'] < Low].index\n",
    "new_df = new_df.drop(new_df_index_l)\n",
    "new_df "
   ]
  },
  {
   "cell_type": "code",
   "execution_count": 12,
   "metadata": {
    "scrolled": true
   },
   "outputs": [
    {
     "name": "stdout",
     "output_type": "stream",
     "text": [
      "\n",
      "Recovery_average WITHOUT Outlier = 27760.424083769634\n"
     ]
    }
   ],
   "source": [
    "new_recoveries_average = new_df['Recoveries'].mean()\n",
    "print(\"\\nRecovery_average WITHOUT Outlier =\", new_recoveries_average)"
   ]
  },
  {
   "cell_type": "markdown",
   "metadata": {
    "id": "ed-InSb4_8-Y"
   },
   "source": [
    "## Hypothesis 1:\n",
    "#### Null Hypothesis:\n",
    "If we split the world into two groups randomly, they have similar number of cases.\n",
    "\n",
    "#### Alternative Hypothesis: \n",
    "If we split the world into two groups randomly, group one has more cases than group two. \n",
    "\n",
    "###### This is a different Hypothesis than any in Mini Project II"
   ]
  },
  {
   "cell_type": "markdown",
   "metadata": {},
   "source": [
    "In order to do this hypothesis, I am going to randomly assign Group 1 or Group 2 to different countries and we are going to see if these countries have similar number of recoveries."
   ]
  },
  {
   "cell_type": "code",
   "execution_count": 13,
   "metadata": {},
   "outputs": [],
   "source": [
    "new_df['Group'] = np.random.choice(['Group 1', 'Group 2'], size=len(new_df))"
   ]
  },
  {
   "cell_type": "code",
   "execution_count": 14,
   "metadata": {},
   "outputs": [
    {
     "data": {
      "text/html": [
       "<div>\n",
       "<style scoped>\n",
       "    .dataframe tbody tr th:only-of-type {\n",
       "        vertical-align: middle;\n",
       "    }\n",
       "\n",
       "    .dataframe tbody tr th {\n",
       "        vertical-align: top;\n",
       "    }\n",
       "\n",
       "    .dataframe thead th {\n",
       "        text-align: right;\n",
       "    }\n",
       "</style>\n",
       "<table border=\"1\" class=\"dataframe\">\n",
       "  <thead>\n",
       "    <tr style=\"text-align: right;\">\n",
       "      <th></th>\n",
       "      <th>Location</th>\n",
       "      <th>Cases</th>\n",
       "      <th>Deaths</th>\n",
       "      <th>Recoveries</th>\n",
       "      <th>Group</th>\n",
       "    </tr>\n",
       "  </thead>\n",
       "  <tbody>\n",
       "    <tr>\n",
       "      <th>34</th>\n",
       "      <td>Jordan</td>\n",
       "      <td>240089</td>\n",
       "      <td>3056</td>\n",
       "      <td>187444</td>\n",
       "      <td>Group 2</td>\n",
       "    </tr>\n",
       "    <tr>\n",
       "      <th>35</th>\n",
       "      <td>Ecuador</td>\n",
       "      <td>197998</td>\n",
       "      <td>13778</td>\n",
       "      <td>174188</td>\n",
       "      <td>Group 1</td>\n",
       "    </tr>\n",
       "    <tr>\n",
       "      <th>5</th>\n",
       "      <td>France</td>\n",
       "      <td>2292497</td>\n",
       "      <td>55155</td>\n",
       "      <td>169586</td>\n",
       "      <td>Group 1</td>\n",
       "    </tr>\n",
       "    <tr>\n",
       "      <th>37</th>\n",
       "      <td>United Arab Emirates</td>\n",
       "      <td>177577</td>\n",
       "      <td>594</td>\n",
       "      <td>159711</td>\n",
       "      <td>Group 2</td>\n",
       "    </tr>\n",
       "    <tr>\n",
       "      <th>36</th>\n",
       "      <td>Panama</td>\n",
       "      <td>177719</td>\n",
       "      <td>3193</td>\n",
       "      <td>152890</td>\n",
       "      <td>Group 1</td>\n",
       "    </tr>\n",
       "    <tr>\n",
       "      <th>...</th>\n",
       "      <td>...</td>\n",
       "      <td>...</td>\n",
       "      <td>...</td>\n",
       "      <td>...</td>\n",
       "      <td>...</td>\n",
       "    </tr>\n",
       "    <tr>\n",
       "      <th>220</th>\n",
       "      <td>Wallis and Futuna</td>\n",
       "      <td>3</td>\n",
       "      <td>0</td>\n",
       "      <td>1</td>\n",
       "      <td>Group 1</td>\n",
       "    </tr>\n",
       "    <tr>\n",
       "      <th>222</th>\n",
       "      <td>Vanuatu</td>\n",
       "      <td>1</td>\n",
       "      <td>0</td>\n",
       "      <td>1</td>\n",
       "      <td>Group 2</td>\n",
       "    </tr>\n",
       "    <tr>\n",
       "      <th>168</th>\n",
       "      <td>Charles de Gaulle</td>\n",
       "      <td>1081</td>\n",
       "      <td>0</td>\n",
       "      <td>0</td>\n",
       "      <td>Group 2</td>\n",
       "    </tr>\n",
       "    <tr>\n",
       "      <th>219</th>\n",
       "      <td>American Samoa</td>\n",
       "      <td>3</td>\n",
       "      <td>0</td>\n",
       "      <td>0</td>\n",
       "      <td>Group 1</td>\n",
       "    </tr>\n",
       "    <tr>\n",
       "      <th>221</th>\n",
       "      <td>Samoa</td>\n",
       "      <td>1</td>\n",
       "      <td>0</td>\n",
       "      <td>0</td>\n",
       "      <td>Group 2</td>\n",
       "    </tr>\n",
       "  </tbody>\n",
       "</table>\n",
       "<p>191 rows × 5 columns</p>\n",
       "</div>"
      ],
      "text/plain": [
       "0                Location    Cases  Deaths  Recoveries    Group\n",
       "34                 Jordan   240089    3056      187444  Group 2\n",
       "35                Ecuador   197998   13778      174188  Group 1\n",
       "5                  France  2292497   55155      169586  Group 1\n",
       "37   United Arab Emirates   177577     594      159711  Group 2\n",
       "36                 Panama   177719    3193      152890  Group 1\n",
       "..                    ...      ...     ...         ...      ...\n",
       "220     Wallis and Futuna        3       0           1  Group 1\n",
       "222               Vanuatu        1       0           1  Group 2\n",
       "168     Charles de Gaulle     1081       0           0  Group 2\n",
       "219        American Samoa        3       0           0  Group 1\n",
       "221                 Samoa        1       0           0  Group 2\n",
       "\n",
       "[191 rows x 5 columns]"
      ]
     },
     "execution_count": 14,
     "metadata": {},
     "output_type": "execute_result"
    }
   ],
   "source": [
    "new_df"
   ]
  },
  {
   "cell_type": "code",
   "execution_count": 15,
   "metadata": {},
   "outputs": [
    {
     "data": {
      "image/png": "[encoded data removed]",
      "text/plain": [
       "<Figure size 432x288 with 1 Axes>"
      ]
     },
     "metadata": {},
     "output_type": "display_data"
    }
   ],
   "source": [
    "plt.hist(new_df['Recoveries'])\n",
    "plt.title(\"Recoveries\")\n",
    "plt.show()"
   ]
  },
  {
   "cell_type": "markdown",
   "metadata": {},
   "source": [
    "#### The data is not normal because it is skewed to the left and we can't achieve the bell-shaped curve."
   ]
  },
  {
   "cell_type": "markdown",
   "metadata": {
    "id": "K2OuxMM6APkL"
   },
   "source": [
    "#### The observed  statistic will be the value from the test statistic. "
   ]
  },
  {
   "cell_type": "markdown",
   "metadata": {},
   "source": [
    "Test statistic: mean difference between group one and group two"
   ]
  },
  {
   "cell_type": "code",
   "execution_count": 18,
   "metadata": {},
   "outputs": [
    {
     "data": {
      "text/plain": [
       "7162"
      ]
     },
     "execution_count": 18,
     "metadata": {},
     "output_type": "execute_result"
    }
   ],
   "source": [
    "from statistics import mean \n",
    "def diff_recoveries(dataframe, column_name):\n",
    "    g1 = []\n",
    "    g2 = []\n",
    "    for index, row in dataframe.iterrows():\n",
    "        g1_or_g2 = dataframe.loc[index, column_name]\n",
    "        if g1_or_g2 == \"Group 1\":\n",
    "            g1_case = dataframe.loc[index, \"Recoveries\"]\n",
    "            g1.append(g1_case)\n",
    "        elif g1_or_g2 == \"Group 2\":\n",
    "            g2_case = dataframe.loc[index, \"Recoveries\"]\n",
    "            g2.append(g2_case)\n",
    "    return (mean(g1) - mean(g2))\n",
    "diff_recoveries(new_df, \"Group\")"
   ]
  },
  {
   "cell_type": "code",
   "execution_count": 19,
   "metadata": {},
   "outputs": [
    {
     "data": {
      "text/plain": [
       "1428"
      ]
     },
     "execution_count": 19,
     "metadata": {},
     "output_type": "execute_result"
    }
   ],
   "source": [
    "def one_sim_diff(table):\n",
    "    table1 = pd.concat([table[\"Group\"], table[\"Recoveries\"]],axis=1,keys=['Group','Recoveries'])\n",
    "    shuffled_labels = table1[\"Group\"].sample(frac=1).values\n",
    "    shuffled_table = table1\n",
    "    shuffled_table[\"Shuffle\"] = shuffled_labels\n",
    "    return diff_recoveries(shuffled_table, \"Shuffle\")\n",
    "one_sim_diff(new_df)"
   ]
  },
  {
   "cell_type": "code",
   "execution_count": 20,
   "metadata": {},
   "outputs": [
    {
     "data": {
      "image/png": "[encoded data removed]",
      "text/plain": [
       "<Figure size 576x432 with 1 Axes>"
      ]
     },
     "metadata": {},
     "output_type": "display_data"
    }
   ],
   "source": [
    "num_repetitions = 500\n",
    "simulated_statistics = []\n",
    "for i in np.arange(num_repetitions):\n",
    "    simulated_statistics = np.append(simulated_statistics, one_sim_diff(new_df))\n",
    "plt.figure(figsize=(8,6))\n",
    "plt.hist(simulated_statistics,bins=4,alpha=0.5)\n",
    "plt.xlabel(\"Covid Deaths Count Difference\",size=\"14\")\n",
    "plt.ylabel(\"Count\", size=\"14\")\n",
    "plt.title(\"Distribution of Difference two randomly grouped countries sampled\")\n",
    "plt.show()"
   ]
  },
  {
   "cell_type": "code",
   "execution_count": 21,
   "metadata": {
    "id": "NvDNiCSMAPkk",
    "outputId": "dc511972-791f-4cb0-cd8a-62e2c1d5e455"
   },
   "outputs": [
    {
     "data": {
      "text/plain": [
       "0.184"
      ]
     },
     "execution_count": 21,
     "metadata": {},
     "output_type": "execute_result"
    }
   ],
   "source": [
    "l = np.count_nonzero(simulated_statistics <= one_sim_diff(new_df))/500\n",
    "l"
   ]
  },
  {
   "cell_type": "markdown",
   "metadata": {},
   "source": [
    "# Linear Regression"
   ]
  },
  {
   "cell_type": "code",
   "execution_count": 239,
   "metadata": {},
   "outputs": [
    {
     "data": {
      "text/plain": [
       "<AxesSubplot:xlabel='Recoveries', ylabel='Cases'>"
      ]
     },
     "execution_count": 239,
     "metadata": {},
     "output_type": "execute_result"
    },
    {
     "data": {
      "image/png": "[encoded data removed]",
      "text/plain": [
       "<Figure size 432x288 with 1 Axes>"
      ]
     },
     "metadata": {},
     "output_type": "display_data"
    }
   ],
   "source": [
    "new_df.plot.scatter(x='Recoveries', y='Cases', c='blue')  #two random samples of countries around the world\n"
   ]
  },
  {
   "cell_type": "code",
   "execution_count": 240,
   "metadata": {},
   "outputs": [
    {
     "name": "stdout",
     "output_type": "stream",
     "text": [
      " Confirmed Recovery vs. Number of Cases: 0.5172120873125715\n",
      "\n"
     ]
    }
   ],
   "source": [
    "def standard_units(arr):\n",
    "    return (arr - np.mean(arr)) / np.std(arr)\n",
    "\n",
    "def correlation(arr1, arr2):\n",
    "    return np.mean(standard_units(arr1) * standard_units(arr2))\n",
    "\n",
    "recovery_correlation = correlation(new_df[\"Recoveries\"], new_df[\"Cases\"])\n",
    "\n",
    "print(f\" Confirmed Recovery vs. Number of Cases: {recovery_correlation}\\n\")"
   ]
  },
  {
   "cell_type": "code",
   "execution_count": 241,
   "metadata": {},
   "outputs": [
    {
     "data": {
      "text/plain": [
       "[3.942255148985502, -61883.846328317064]"
      ]
     },
     "execution_count": 241,
     "metadata": {},
     "output_type": "execute_result"
    }
   ],
   "source": [
    "def regression_parameters(x, y):\n",
    "    std_of_x = np.std(x)\n",
    "    mean_of_x = np.mean(x)\n",
    "    std_of_y = np.std(y)\n",
    "    mean_of_y = np.mean(y)\n",
    "    slope = std_of_y / std_of_x\n",
    "    intercept = mean_of_y - slope * mean_of_x\n",
    "    return [slope, intercept]\n",
    "\n",
    "parameters = regression_parameters(new_df[\"Recoveries\"], new_df[\"Cases\"])\n",
    "parameters"
   ]
  },
  {
   "cell_type": "code",
   "execution_count": 242,
   "metadata": {
    "scrolled": false
   },
   "outputs": [
    {
     "data": {
      "image/png": "[encoded data removed]",
      "text/plain": [
       "<Figure size 360x360 with 1 Axes>"
      ]
     },
     "metadata": {},
     "output_type": "display_data"
    }
   ],
   "source": [
    "predicted_cases = parameters[0]  * new_df[\"Recoveries\"] + parameters[1]\n",
    "\n",
    "# DON'T CHANGE/DELETE ANY OF THE BELOW CODE IN THIS CELL\n",
    "pten2 = Table().from_df(new_df)\n",
    "(pten2.with_column(\"Predicted Cases\", predicted_cases)\n",
    ".select(\"Cases\", \"Recoveries\", \"Predicted Cases\")\n",
    " .scatter(\"Recoveries\"))\n",
    "plt.ylabel(\"Cases\");"
   ]
  },
  {
   "cell_type": "markdown",
   "metadata": {},
   "source": [
    "### Conclusion of Hypothesis 1:\n",
    "The margins between the difference are so high as it ranges from -20000 to 20000. Thus the data supports the alternative hypothesis that if we split the world into 2 groups randomly, one group will have more cases than the other. The P-value is also less than the observed difference thus the alternative hypothesis holds."
   ]
  },
  {
   "cell_type": "markdown",
   "metadata": {
    "id": "h9Cj0WSJ_8-a"
   },
   "source": [
    "# Data Exploration\n",
    "Describe the data using what you know. For larger datasets may have to pull out columns that are of interst to you."
   ]
  },
  {
   "cell_type": "code",
   "execution_count": 243,
   "metadata": {
    "id": "tVIkEB7b_8-a",
    "outputId": "72dcc536-8bcc-4619-cd91-82d41b7601ca"
   },
   "outputs": [
    {
     "data": {
      "text/html": [
       "<div>\n",
       "<style scoped>\n",
       "    .dataframe tbody tr th:only-of-type {\n",
       "        vertical-align: middle;\n",
       "    }\n",
       "\n",
       "    .dataframe tbody tr th {\n",
       "        vertical-align: top;\n",
       "    }\n",
       "\n",
       "    .dataframe thead th {\n",
       "        text-align: right;\n",
       "    }\n",
       "</style>\n",
       "<table border=\"1\" class=\"dataframe\">\n",
       "  <thead>\n",
       "    <tr style=\"text-align: right;\">\n",
       "      <th></th>\n",
       "      <th>FIPS</th>\n",
       "      <th>Admin2</th>\n",
       "      <th>Province_State</th>\n",
       "      <th>Country_Region</th>\n",
       "      <th>Last_Update</th>\n",
       "      <th>Lat</th>\n",
       "      <th>Long_</th>\n",
       "      <th>Confirmed</th>\n",
       "      <th>Deaths</th>\n",
       "      <th>Recovered</th>\n",
       "      <th>Active</th>\n",
       "      <th>Combined_Key</th>\n",
       "      <th>Incidence_Rate</th>\n",
       "      <th>Case-Fatality_Ratio</th>\n",
       "    </tr>\n",
       "  </thead>\n",
       "  <tbody>\n",
       "    <tr>\n",
       "      <th>0</th>\n",
       "      <td>NaN</td>\n",
       "      <td>NaN</td>\n",
       "      <td>NaN</td>\n",
       "      <td>Afghanistan</td>\n",
       "      <td>2020-11-08 05:24:56</td>\n",
       "      <td>33.939110</td>\n",
       "      <td>67.709953</td>\n",
       "      <td>42033</td>\n",
       "      <td>1559</td>\n",
       "      <td>34446</td>\n",
       "      <td>6031.0</td>\n",
       "      <td>Afghanistan</td>\n",
       "      <td>107.975318</td>\n",
       "      <td>3.701853</td>\n",
       "    </tr>\n",
       "    <tr>\n",
       "      <th>1</th>\n",
       "      <td>NaN</td>\n",
       "      <td>NaN</td>\n",
       "      <td>NaN</td>\n",
       "      <td>Albania</td>\n",
       "      <td>2020-11-08 05:24:56</td>\n",
       "      <td>41.153300</td>\n",
       "      <td>20.168300</td>\n",
       "      <td>23705</td>\n",
       "      <td>557</td>\n",
       "      <td>12002</td>\n",
       "      <td>11146.0</td>\n",
       "      <td>Albania</td>\n",
       "      <td>823.719508</td>\n",
       "      <td>2.349715</td>\n",
       "    </tr>\n",
       "    <tr>\n",
       "      <th>2</th>\n",
       "      <td>NaN</td>\n",
       "      <td>NaN</td>\n",
       "      <td>NaN</td>\n",
       "      <td>Algeria</td>\n",
       "      <td>2020-11-08 05:24:56</td>\n",
       "      <td>28.033900</td>\n",
       "      <td>1.659600</td>\n",
       "      <td>61381</td>\n",
       "      <td>2036</td>\n",
       "      <td>41783</td>\n",
       "      <td>17562.0</td>\n",
       "      <td>Algeria</td>\n",
       "      <td>139.976146</td>\n",
       "      <td>3.316987</td>\n",
       "    </tr>\n",
       "    <tr>\n",
       "      <th>3</th>\n",
       "      <td>NaN</td>\n",
       "      <td>NaN</td>\n",
       "      <td>NaN</td>\n",
       "      <td>Andorra</td>\n",
       "      <td>2020-11-08 05:24:56</td>\n",
       "      <td>42.506300</td>\n",
       "      <td>1.521800</td>\n",
       "      <td>5319</td>\n",
       "      <td>75</td>\n",
       "      <td>4043</td>\n",
       "      <td>1201.0</td>\n",
       "      <td>Andorra</td>\n",
       "      <td>6884.100175</td>\n",
       "      <td>1.410039</td>\n",
       "    </tr>\n",
       "    <tr>\n",
       "      <th>4</th>\n",
       "      <td>NaN</td>\n",
       "      <td>NaN</td>\n",
       "      <td>NaN</td>\n",
       "      <td>Angola</td>\n",
       "      <td>2020-11-08 05:24:56</td>\n",
       "      <td>-11.202700</td>\n",
       "      <td>17.873900</td>\n",
       "      <td>12335</td>\n",
       "      <td>303</td>\n",
       "      <td>5647</td>\n",
       "      <td>6385.0</td>\n",
       "      <td>Angola</td>\n",
       "      <td>37.530881</td>\n",
       "      <td>2.456425</td>\n",
       "    </tr>\n",
       "    <tr>\n",
       "      <th>...</th>\n",
       "      <td>...</td>\n",
       "      <td>...</td>\n",
       "      <td>...</td>\n",
       "      <td>...</td>\n",
       "      <td>...</td>\n",
       "      <td>...</td>\n",
       "      <td>...</td>\n",
       "      <td>...</td>\n",
       "      <td>...</td>\n",
       "      <td>...</td>\n",
       "      <td>...</td>\n",
       "      <td>...</td>\n",
       "      <td>...</td>\n",
       "      <td>...</td>\n",
       "    </tr>\n",
       "    <tr>\n",
       "      <th>3957</th>\n",
       "      <td>NaN</td>\n",
       "      <td>NaN</td>\n",
       "      <td>NaN</td>\n",
       "      <td>West Bank and Gaza</td>\n",
       "      <td>2020-11-08 05:24:56</td>\n",
       "      <td>31.952200</td>\n",
       "      <td>35.233200</td>\n",
       "      <td>57657</td>\n",
       "      <td>512</td>\n",
       "      <td>49975</td>\n",
       "      <td>7170.0</td>\n",
       "      <td>West Bank and Gaza</td>\n",
       "      <td>1130.215611</td>\n",
       "      <td>0.888010</td>\n",
       "    </tr>\n",
       "    <tr>\n",
       "      <th>3958</th>\n",
       "      <td>NaN</td>\n",
       "      <td>NaN</td>\n",
       "      <td>NaN</td>\n",
       "      <td>Western Sahara</td>\n",
       "      <td>2020-11-08 05:24:56</td>\n",
       "      <td>24.215500</td>\n",
       "      <td>-12.885800</td>\n",
       "      <td>10</td>\n",
       "      <td>1</td>\n",
       "      <td>8</td>\n",
       "      <td>1.0</td>\n",
       "      <td>Western Sahara</td>\n",
       "      <td>1.674116</td>\n",
       "      <td>10.000000</td>\n",
       "    </tr>\n",
       "    <tr>\n",
       "      <th>3959</th>\n",
       "      <td>NaN</td>\n",
       "      <td>NaN</td>\n",
       "      <td>NaN</td>\n",
       "      <td>Yemen</td>\n",
       "      <td>2020-11-08 05:24:56</td>\n",
       "      <td>15.552727</td>\n",
       "      <td>48.516388</td>\n",
       "      <td>2070</td>\n",
       "      <td>602</td>\n",
       "      <td>1375</td>\n",
       "      <td>93.0</td>\n",
       "      <td>Yemen</td>\n",
       "      <td>6.940261</td>\n",
       "      <td>29.082126</td>\n",
       "    </tr>\n",
       "    <tr>\n",
       "      <th>3960</th>\n",
       "      <td>NaN</td>\n",
       "      <td>NaN</td>\n",
       "      <td>NaN</td>\n",
       "      <td>Zambia</td>\n",
       "      <td>2020-11-08 05:24:56</td>\n",
       "      <td>-13.133897</td>\n",
       "      <td>27.849332</td>\n",
       "      <td>16908</td>\n",
       "      <td>349</td>\n",
       "      <td>15873</td>\n",
       "      <td>686.0</td>\n",
       "      <td>Zambia</td>\n",
       "      <td>91.971499</td>\n",
       "      <td>2.064112</td>\n",
       "    </tr>\n",
       "    <tr>\n",
       "      <th>3961</th>\n",
       "      <td>NaN</td>\n",
       "      <td>NaN</td>\n",
       "      <td>NaN</td>\n",
       "      <td>Zimbabwe</td>\n",
       "      <td>2020-11-08 05:24:56</td>\n",
       "      <td>-19.015438</td>\n",
       "      <td>29.154857</td>\n",
       "      <td>8498</td>\n",
       "      <td>251</td>\n",
       "      <td>7995</td>\n",
       "      <td>252.0</td>\n",
       "      <td>Zimbabwe</td>\n",
       "      <td>57.175817</td>\n",
       "      <td>2.953636</td>\n",
       "    </tr>\n",
       "  </tbody>\n",
       "</table>\n",
       "<p>3962 rows × 14 columns</p>\n",
       "</div>"
      ],
      "text/plain": [
       "      FIPS Admin2 Province_State      Country_Region          Last_Update  \\\n",
       "0      NaN    NaN            NaN         Afghanistan  2020-11-08 05:24:56   \n",
       "1      NaN    NaN            NaN             Albania  2020-11-08 05:24:56   \n",
       "2      NaN    NaN            NaN             Algeria  2020-11-08 05:24:56   \n",
       "3      NaN    NaN            NaN             Andorra  2020-11-08 05:24:56   \n",
       "4      NaN    NaN            NaN              Angola  2020-11-08 05:24:56   \n",
       "...    ...    ...            ...                 ...                  ...   \n",
       "3957   NaN    NaN            NaN  West Bank and Gaza  2020-11-08 05:24:56   \n",
       "3958   NaN    NaN            NaN      Western Sahara  2020-11-08 05:24:56   \n",
       "3959   NaN    NaN            NaN               Yemen  2020-11-08 05:24:56   \n",
       "3960   NaN    NaN            NaN              Zambia  2020-11-08 05:24:56   \n",
       "3961   NaN    NaN            NaN            Zimbabwe  2020-11-08 05:24:56   \n",
       "\n",
       "            Lat      Long_  Confirmed  Deaths  Recovered   Active  \\\n",
       "0     33.939110  67.709953      42033    1559      34446   6031.0   \n",
       "1     41.153300  20.168300      23705     557      12002  11146.0   \n",
       "2     28.033900   1.659600      61381    2036      41783  17562.0   \n",
       "3     42.506300   1.521800       5319      75       4043   1201.0   \n",
       "4    -11.202700  17.873900      12335     303       5647   6385.0   \n",
       "...         ...        ...        ...     ...        ...      ...   \n",
       "3957  31.952200  35.233200      57657     512      49975   7170.0   \n",
       "3958  24.215500 -12.885800         10       1          8      1.0   \n",
       "3959  15.552727  48.516388       2070     602       1375     93.0   \n",
       "3960 -13.133897  27.849332      16908     349      15873    686.0   \n",
       "3961 -19.015438  29.154857       8498     251       7995    252.0   \n",
       "\n",
       "            Combined_Key  Incidence_Rate  Case-Fatality_Ratio  \n",
       "0            Afghanistan      107.975318             3.701853  \n",
       "1                Albania      823.719508             2.349715  \n",
       "2                Algeria      139.976146             3.316987  \n",
       "3                Andorra     6884.100175             1.410039  \n",
       "4                 Angola       37.530881             2.456425  \n",
       "...                  ...             ...                  ...  \n",
       "3957  West Bank and Gaza     1130.215611             0.888010  \n",
       "3958      Western Sahara        1.674116            10.000000  \n",
       "3959               Yemen        6.940261            29.082126  \n",
       "3960              Zambia       91.971499             2.064112  \n",
       "3961            Zimbabwe       57.175817             2.953636  \n",
       "\n",
       "[3962 rows x 14 columns]"
      ]
     },
     "execution_count": 243,
     "metadata": {},
     "output_type": "execute_result"
    }
   ],
   "source": [
    "recent_data = pd.read_csv('https://raw.githubusercontent.com/CSSEGISandData/COVID-19/master/csse_covid_19_data/csse_covid_19_daily_reports/11-07-2020.csv', error_bad_lines=False)\n",
    "recent_data"
   ]
  },
  {
   "cell_type": "code",
   "execution_count": 244,
   "metadata": {
    "id": "RAPTOnGm_8-e",
    "outputId": "09614100-954e-417b-8303-181a2ad7cfa7"
   },
   "outputs": [
    {
     "data": {
      "text/html": [
       "<div>\n",
       "<style scoped>\n",
       "    .dataframe tbody tr th:only-of-type {\n",
       "        vertical-align: middle;\n",
       "    }\n",
       "\n",
       "    .dataframe tbody tr th {\n",
       "        vertical-align: top;\n",
       "    }\n",
       "\n",
       "    .dataframe thead th {\n",
       "        text-align: right;\n",
       "    }\n",
       "</style>\n",
       "<table border=\"1\" class=\"dataframe\">\n",
       "  <thead>\n",
       "    <tr style=\"text-align: right;\">\n",
       "      <th></th>\n",
       "      <th>FIPS</th>\n",
       "      <th>Admin2</th>\n",
       "      <th>Province_State</th>\n",
       "      <th>Country_Region</th>\n",
       "      <th>Last_Update</th>\n",
       "      <th>Lat</th>\n",
       "      <th>Long_</th>\n",
       "      <th>Confirmed</th>\n",
       "      <th>Deaths</th>\n",
       "      <th>Recovered</th>\n",
       "      <th>Active</th>\n",
       "      <th>Combined_Key</th>\n",
       "      <th>Incidence_Rate</th>\n",
       "      <th>Case-Fatality_Ratio</th>\n",
       "    </tr>\n",
       "  </thead>\n",
       "  <tbody>\n",
       "    <tr>\n",
       "      <th>0</th>\n",
       "      <td>NaN</td>\n",
       "      <td>NaN</td>\n",
       "      <td>NaN</td>\n",
       "      <td>Afghanistan</td>\n",
       "      <td>2020-10-08 04:23:56</td>\n",
       "      <td>33.939110</td>\n",
       "      <td>67.709953</td>\n",
       "      <td>39548</td>\n",
       "      <td>1471</td>\n",
       "      <td>33045</td>\n",
       "      <td>5034.0</td>\n",
       "      <td>Afghanistan</td>\n",
       "      <td>101.591794</td>\n",
       "      <td>3.714474</td>\n",
       "    </tr>\n",
       "    <tr>\n",
       "      <th>1</th>\n",
       "      <td>NaN</td>\n",
       "      <td>NaN</td>\n",
       "      <td>NaN</td>\n",
       "      <td>Albania</td>\n",
       "      <td>2020-10-08 04:23:56</td>\n",
       "      <td>41.153300</td>\n",
       "      <td>20.168300</td>\n",
       "      <td>14730</td>\n",
       "      <td>407</td>\n",
       "      <td>9115</td>\n",
       "      <td>5208.0</td>\n",
       "      <td>Albania</td>\n",
       "      <td>511.849329</td>\n",
       "      <td>2.763069</td>\n",
       "    </tr>\n",
       "    <tr>\n",
       "      <th>2</th>\n",
       "      <td>NaN</td>\n",
       "      <td>NaN</td>\n",
       "      <td>NaN</td>\n",
       "      <td>Algeria</td>\n",
       "      <td>2020-10-08 04:23:56</td>\n",
       "      <td>28.033900</td>\n",
       "      <td>1.659600</td>\n",
       "      <td>52520</td>\n",
       "      <td>1771</td>\n",
       "      <td>36857</td>\n",
       "      <td>13892.0</td>\n",
       "      <td>Algeria</td>\n",
       "      <td>119.769101</td>\n",
       "      <td>3.372049</td>\n",
       "    </tr>\n",
       "    <tr>\n",
       "      <th>3</th>\n",
       "      <td>NaN</td>\n",
       "      <td>NaN</td>\n",
       "      <td>NaN</td>\n",
       "      <td>Andorra</td>\n",
       "      <td>2020-10-08 04:23:56</td>\n",
       "      <td>42.506300</td>\n",
       "      <td>1.521800</td>\n",
       "      <td>2568</td>\n",
       "      <td>53</td>\n",
       "      <td>1715</td>\n",
       "      <td>800.0</td>\n",
       "      <td>Andorra</td>\n",
       "      <td>3323.626480</td>\n",
       "      <td>2.063863</td>\n",
       "    </tr>\n",
       "    <tr>\n",
       "      <th>4</th>\n",
       "      <td>NaN</td>\n",
       "      <td>NaN</td>\n",
       "      <td>NaN</td>\n",
       "      <td>Angola</td>\n",
       "      <td>2020-10-08 04:23:56</td>\n",
       "      <td>-11.202700</td>\n",
       "      <td>17.873900</td>\n",
       "      <td>5725</td>\n",
       "      <td>211</td>\n",
       "      <td>2598</td>\n",
       "      <td>2916.0</td>\n",
       "      <td>Angola</td>\n",
       "      <td>17.419075</td>\n",
       "      <td>3.685590</td>\n",
       "    </tr>\n",
       "    <tr>\n",
       "      <th>...</th>\n",
       "      <td>...</td>\n",
       "      <td>...</td>\n",
       "      <td>...</td>\n",
       "      <td>...</td>\n",
       "      <td>...</td>\n",
       "      <td>...</td>\n",
       "      <td>...</td>\n",
       "      <td>...</td>\n",
       "      <td>...</td>\n",
       "      <td>...</td>\n",
       "      <td>...</td>\n",
       "      <td>...</td>\n",
       "      <td>...</td>\n",
       "      <td>...</td>\n",
       "    </tr>\n",
       "    <tr>\n",
       "      <th>3952</th>\n",
       "      <td>NaN</td>\n",
       "      <td>NaN</td>\n",
       "      <td>NaN</td>\n",
       "      <td>West Bank and Gaza</td>\n",
       "      <td>2020-10-08 04:23:56</td>\n",
       "      <td>31.952200</td>\n",
       "      <td>35.233200</td>\n",
       "      <td>42840</td>\n",
       "      <td>355</td>\n",
       "      <td>35953</td>\n",
       "      <td>6532.0</td>\n",
       "      <td>West Bank and Gaza</td>\n",
       "      <td>839.766841</td>\n",
       "      <td>0.828665</td>\n",
       "    </tr>\n",
       "    <tr>\n",
       "      <th>3953</th>\n",
       "      <td>NaN</td>\n",
       "      <td>NaN</td>\n",
       "      <td>NaN</td>\n",
       "      <td>Western Sahara</td>\n",
       "      <td>2020-10-08 04:23:56</td>\n",
       "      <td>24.215500</td>\n",
       "      <td>-12.885800</td>\n",
       "      <td>10</td>\n",
       "      <td>1</td>\n",
       "      <td>8</td>\n",
       "      <td>1.0</td>\n",
       "      <td>Western Sahara</td>\n",
       "      <td>1.674116</td>\n",
       "      <td>10.000000</td>\n",
       "    </tr>\n",
       "    <tr>\n",
       "      <th>3954</th>\n",
       "      <td>NaN</td>\n",
       "      <td>NaN</td>\n",
       "      <td>NaN</td>\n",
       "      <td>Yemen</td>\n",
       "      <td>2020-10-08 04:23:56</td>\n",
       "      <td>15.552727</td>\n",
       "      <td>48.516388</td>\n",
       "      <td>2049</td>\n",
       "      <td>593</td>\n",
       "      <td>1328</td>\n",
       "      <td>128.0</td>\n",
       "      <td>Yemen</td>\n",
       "      <td>6.869852</td>\n",
       "      <td>28.940947</td>\n",
       "    </tr>\n",
       "    <tr>\n",
       "      <th>3955</th>\n",
       "      <td>NaN</td>\n",
       "      <td>NaN</td>\n",
       "      <td>NaN</td>\n",
       "      <td>Zambia</td>\n",
       "      <td>2020-10-08 04:23:56</td>\n",
       "      <td>-13.133897</td>\n",
       "      <td>27.849332</td>\n",
       "      <td>15224</td>\n",
       "      <td>335</td>\n",
       "      <td>14342</td>\n",
       "      <td>547.0</td>\n",
       "      <td>Zambia</td>\n",
       "      <td>82.811338</td>\n",
       "      <td>2.200473</td>\n",
       "    </tr>\n",
       "    <tr>\n",
       "      <th>3956</th>\n",
       "      <td>NaN</td>\n",
       "      <td>NaN</td>\n",
       "      <td>NaN</td>\n",
       "      <td>Zimbabwe</td>\n",
       "      <td>2020-10-08 04:23:56</td>\n",
       "      <td>-19.015438</td>\n",
       "      <td>29.154857</td>\n",
       "      <td>7919</td>\n",
       "      <td>229</td>\n",
       "      <td>6441</td>\n",
       "      <td>1249.0</td>\n",
       "      <td>Zimbabwe</td>\n",
       "      <td>53.280219</td>\n",
       "      <td>2.891779</td>\n",
       "    </tr>\n",
       "  </tbody>\n",
       "</table>\n",
       "<p>3957 rows × 14 columns</p>\n",
       "</div>"
      ],
      "text/plain": [
       "      FIPS Admin2 Province_State      Country_Region          Last_Update  \\\n",
       "0      NaN    NaN            NaN         Afghanistan  2020-10-08 04:23:56   \n",
       "1      NaN    NaN            NaN             Albania  2020-10-08 04:23:56   \n",
       "2      NaN    NaN            NaN             Algeria  2020-10-08 04:23:56   \n",
       "3      NaN    NaN            NaN             Andorra  2020-10-08 04:23:56   \n",
       "4      NaN    NaN            NaN              Angola  2020-10-08 04:23:56   \n",
       "...    ...    ...            ...                 ...                  ...   \n",
       "3952   NaN    NaN            NaN  West Bank and Gaza  2020-10-08 04:23:56   \n",
       "3953   NaN    NaN            NaN      Western Sahara  2020-10-08 04:23:56   \n",
       "3954   NaN    NaN            NaN               Yemen  2020-10-08 04:23:56   \n",
       "3955   NaN    NaN            NaN              Zambia  2020-10-08 04:23:56   \n",
       "3956   NaN    NaN            NaN            Zimbabwe  2020-10-08 04:23:56   \n",
       "\n",
       "            Lat      Long_  Confirmed  Deaths  Recovered   Active  \\\n",
       "0     33.939110  67.709953      39548    1471      33045   5034.0   \n",
       "1     41.153300  20.168300      14730     407       9115   5208.0   \n",
       "2     28.033900   1.659600      52520    1771      36857  13892.0   \n",
       "3     42.506300   1.521800       2568      53       1715    800.0   \n",
       "4    -11.202700  17.873900       5725     211       2598   2916.0   \n",
       "...         ...        ...        ...     ...        ...      ...   \n",
       "3952  31.952200  35.233200      42840     355      35953   6532.0   \n",
       "3953  24.215500 -12.885800         10       1          8      1.0   \n",
       "3954  15.552727  48.516388       2049     593       1328    128.0   \n",
       "3955 -13.133897  27.849332      15224     335      14342    547.0   \n",
       "3956 -19.015438  29.154857       7919     229       6441   1249.0   \n",
       "\n",
       "            Combined_Key  Incidence_Rate  Case-Fatality_Ratio  \n",
       "0            Afghanistan      101.591794             3.714474  \n",
       "1                Albania      511.849329             2.763069  \n",
       "2                Algeria      119.769101             3.372049  \n",
       "3                Andorra     3323.626480             2.063863  \n",
       "4                 Angola       17.419075             3.685590  \n",
       "...                  ...             ...                  ...  \n",
       "3952  West Bank and Gaza      839.766841             0.828665  \n",
       "3953      Western Sahara        1.674116            10.000000  \n",
       "3954               Yemen        6.869852            28.940947  \n",
       "3955              Zambia       82.811338             2.200473  \n",
       "3956            Zimbabwe       53.280219             2.891779  \n",
       "\n",
       "[3957 rows x 14 columns]"
      ]
     },
     "execution_count": 244,
     "metadata": {},
     "output_type": "execute_result"
    }
   ],
   "source": [
    "old_data = pd.read_csv('https://raw.githubusercontent.com/CSSEGISandData/COVID-19/master/csse_covid_19_data/csse_covid_19_daily_reports/10-07-2020.csv', error_bad_lines=False)\n",
    "old_data"
   ]
  },
  {
   "cell_type": "markdown",
   "metadata": {
    "id": "0bT9Pvp7_8-g"
   },
   "source": [
    "# Data Cleaning"
   ]
  },
  {
   "cell_type": "code",
   "execution_count": 245,
   "metadata": {
    "id": "RQrds1Og_8-h"
   },
   "outputs": [],
   "source": [
    "recent_countries = list(recent_data['Country_Region'].unique())\n",
    "old_countries = list(old_data['Country_Region'].unique())\n",
    "\n",
    "no_cases = []\n",
    "country_date_updated = []\n",
    "country_confirmed_cases = []\n",
    "country_death_cases = [] \n",
    "country_recovery_cases = []\n",
    "country_active_cases = []\n",
    "\n",
    "no_old_cases = []\n",
    "old_country_date_updated = []\n",
    "old_country_confirmed_cases = []\n",
    "old_country_death_cases = [] \n",
    "old_country_recovery_cases = []\n",
    "old_country_active_cases = []\n",
    "\n",
    "for country in recent_countries:\n",
    "    cases = recent_data[recent_data['Country_Region'] == country]['Confirmed'].sum()\n",
    "    if cases > 0:\n",
    "        country_confirmed_cases.append(cases)\n",
    "    else:\n",
    "        no_cases.append(country)\n",
    "        \n",
    "for no_case in no_cases:\n",
    "    recent_countries.remove(no_case)\n",
    "    \n",
    "for i in old_countries:\n",
    "    old_cases = old_data[old_data['Country_Region'] == i]['Confirmed'].sum()\n",
    "    if old_cases > 0:\n",
    "        old_country_confirmed_cases.append(old_cases)\n",
    "    else:\n",
    "        no_old_cases.append(i)\n",
    "\n",
    "for i in no_old_cases:\n",
    "    old_countries.remove(i)\n",
    "    \n",
    "recent_data['Last_Update'] = recent_data['Last_Update'].apply(lambda x: pd.Timestamp(x).strftime('%m-%d-%Y'))\n",
    "old_data['Last_Update'] = old_data['Last_Update'].apply(lambda x: pd.Timestamp(x).strftime('%m-%d-%Y'))\n",
    "\n",
    "# the countries are sorted by the no. of confirmed cases\n",
    "recent_countries = [k for k, v in sorted(zip(recent_countries, country_confirmed_cases), key=operator.itemgetter(1), reverse=True)]\n",
    "old_countries = [k for k, v in sorted(zip(old_countries, old_country_confirmed_cases), key=operator.itemgetter(1), reverse=True)]\n",
    "\n",
    "for i in range(len(recent_countries)):\n",
    "    country_confirmed_cases[i] = recent_data[recent_data['Country_Region'] == recent_countries[i]]['Confirmed'].sum()\n",
    "    country_date_updated.append(recent_data['Last_Update'][0])\n",
    "    country_death_cases.append(recent_data[recent_data['Country_Region'] == recent_countries[i]]['Deaths'].sum())\n",
    "    country_recovery_cases.append(recent_data[recent_data['Country_Region'] == recent_countries[i]]['Recovered'].sum())\n",
    "    country_active_cases.append(recent_data[recent_data['Country_Region'] == recent_countries[i]]['Active'].sum())\n",
    "\n",
    "for i in range(len(old_countries)):\n",
    "    old_country_confirmed_cases[i] = old_data[old_data['Country_Region'] == old_countries[i]]['Confirmed'].sum()\n",
    "    old_country_date_updated.append(old_data['Last_Update'][0])\n",
    "    old_country_death_cases.append(old_data[old_data['Country_Region'] == old_countries[i]]['Deaths'].sum())\n",
    "    old_country_recovery_cases.append(old_data[old_data['Country_Region'] == old_countries[i]]['Recovered'].sum())\n",
    "    old_country_active_cases.append(old_data[old_data['Country_Region'] == old_countries[i]]['Active'].sum())\n"
   ]
  },
  {
   "cell_type": "code",
   "execution_count": 246,
   "metadata": {
    "id": "5LyF0Ze__8-j",
    "outputId": "35b9248d-0d18-409a-e4bb-552ee414704d"
   },
   "outputs": [
    {
     "data": {
      "text/html": [
       "<table border=\"1\" class=\"dataframe\">\n",
       "    <thead>\n",
       "        <tr>\n",
       "            <th></th> <th>Country</th> <th>Last Updated</th> <th>Number of Confirmed Cases</th> <th>Number of Deaths</th> <th>Number of Recoveries</th> <th>Number of Active Cases</th>\n",
       "        </tr>\n",
       "    </thead>\n",
       "    <tbody>\n",
       "        <tr>\n",
       "            <td>0   </td> <td>US            </td> <td>11-08-2020  </td> <td>9928306                  </td> <td>237835          </td> <td>3851465             </td> <td>5.74136e+06           </td>\n",
       "        </tr>\n",
       "        <tr>\n",
       "            <td>1   </td> <td>India         </td> <td>11-08-2020  </td> <td>8507754                  </td> <td>126121          </td> <td>7868968             </td> <td>512665                </td>\n",
       "        </tr>\n",
       "        <tr>\n",
       "            <td>2   </td> <td>Brazil        </td> <td>11-08-2020  </td> <td>5653561                  </td> <td>162269          </td> <td>5138641             </td> <td>352651                </td>\n",
       "        </tr>\n",
       "        <tr>\n",
       "            <td>3   </td> <td>Russia        </td> <td>11-08-2020  </td> <td>1740172                  </td> <td>30010           </td> <td>1304607             </td> <td>405555                </td>\n",
       "        </tr>\n",
       "        <tr>\n",
       "            <td>4   </td> <td>France        </td> <td>11-08-2020  </td> <td>1709773                  </td> <td>40220           </td> <td>133419              </td> <td>1.53608e+06           </td>\n",
       "        </tr>\n",
       "        <tr>\n",
       "            <td>5   </td> <td>Spain         </td> <td>11-08-2020  </td> <td>1328832                  </td> <td>38833           </td> <td>150376              </td> <td>1.13962e+06           </td>\n",
       "        </tr>\n",
       "        <tr>\n",
       "            <td>6   </td> <td>Argentina     </td> <td>11-08-2020  </td> <td>1236851                  </td> <td>33348           </td> <td>1053313             </td> <td>150190                </td>\n",
       "        </tr>\n",
       "        <tr>\n",
       "            <td>7   </td> <td>United Kingdom</td> <td>11-08-2020  </td> <td>1174770                  </td> <td>48978           </td> <td>2965                </td> <td>1.12283e+06           </td>\n",
       "        </tr>\n",
       "        <tr>\n",
       "            <td>8   </td> <td>Colombia      </td> <td>11-08-2020  </td> <td>1136447                  </td> <td>32595           </td> <td>1029082             </td> <td>74770                 </td>\n",
       "        </tr>\n",
       "        <tr>\n",
       "            <td>9   </td> <td>Mexico        </td> <td>11-08-2020  </td> <td>961938                   </td> <td>94808           </td> <td>816659              </td> <td>50471                 </td>\n",
       "        </tr>\n",
       "    </tbody>\n",
       "</table>\n",
       "<p>... (180 rows omitted)</p>"
      ],
      "text/plain": [
       "     | Country        | Last Updated | Number of Confirmed Cases | Number of Deaths | Number of Recoveries | Number of Active Cases\n",
       "0    | US             | 11-08-2020   | 9928306                   | 237835           | 3851465              | 5.74136e+06\n",
       "1    | India          | 11-08-2020   | 8507754                   | 126121           | 7868968              | 512665\n",
       "2    | Brazil         | 11-08-2020   | 5653561                   | 162269           | 5138641              | 352651\n",
       "3    | Russia         | 11-08-2020   | 1740172                   | 30010            | 1304607              | 405555\n",
       "4    | France         | 11-08-2020   | 1709773                   | 40220            | 133419               | 1.53608e+06\n",
       "5    | Spain          | 11-08-2020   | 1328832                   | 38833            | 150376               | 1.13962e+06\n",
       "6    | Argentina      | 11-08-2020   | 1236851                   | 33348            | 1053313              | 150190\n",
       "7    | United Kingdom | 11-08-2020   | 1174770                   | 48978            | 2965                 | 1.12283e+06\n",
       "8    | Colombia       | 11-08-2020   | 1136447                   | 32595            | 1029082              | 74770\n",
       "9    | Mexico         | 11-08-2020   | 961938                    | 94808            | 816659               | 50471\n",
       "... (180 rows omitted)"
      ]
     },
     "execution_count": 246,
     "metadata": {},
     "output_type": "execute_result"
    }
   ],
   "source": [
    "countries_df = Table().with_column(\"\", np.arange(0, 190)).with_column(\n",
    "    'Country', recent_countries).with_column(\n",
    "    'Last Updated', country_date_updated).with_column(\n",
    "    'Number of Confirmed Cases', country_confirmed_cases).with_column(\n",
    "    'Number of Deaths', country_death_cases).with_column(\n",
    "    'Number of Recoveries', country_recovery_cases).with_column(\n",
    "    'Number of Active Cases', country_active_cases)\n",
    "\n",
    "countries_df"
   ]
  },
  {
   "cell_type": "markdown",
   "metadata": {
    "id": "MDVNjmOz_8-o"
   },
   "source": [
    "# Describe the Data Using Descriptive Stats"
   ]
  },
  {
   "cell_type": "code",
   "execution_count": 247,
   "metadata": {
    "id": "yLwYkW0q_8-o",
    "outputId": "83f28b4d-fe12-4e14-a367-6aa642fb1a5f"
   },
   "outputs": [
    {
     "name": "stdout",
     "output_type": "stream",
     "text": [
      "The value of the highest confirmed case is 9928306\n",
      "The value of the highest deaths is 237835\n"
     ]
    }
   ],
   "source": [
    "Maximum_confirmed_case = countries_df.column('Number of Confirmed Cases').max()\n",
    "Maximum_death_case = countries_df.column('Number of Deaths').max()\n",
    "print(\"The value of the highest confirmed case is\", Maximum_confirmed_case)\n",
    "print(\"The value of the highest deaths is\", Maximum_death_case)"
   ]
  },
  {
   "cell_type": "code",
   "execution_count": 248,
   "metadata": {
    "id": "G2tvaVTC_8-r",
    "outputId": "fa406e6f-6259-4ff0-aff6-96911032ac26",
    "scrolled": true
   },
   "outputs": [
    {
     "data": {
      "text/plain": [
       "0.04736842105263158"
      ]
     },
     "execution_count": 248,
     "metadata": {},
     "output_type": "execute_result"
    }
   ],
   "source": [
    "countries_df.where('Number of Confirmed Cases', are.between(961938, 9862228)).num_rows/countries_df.num_rows"
   ]
  },
  {
   "cell_type": "code",
   "execution_count": 249,
   "metadata": {
    "id": "jYAaTFK__8-t",
    "outputId": "217ce356-6b16-4d4a-bf20-15478a46d8a2"
   },
   "outputs": [
    {
     "name": "stdout",
     "output_type": "stream",
     "text": [
      "median: 22360.5 mean: 262834.3 standard deviation: 1049172.5664961236\n"
     ]
    }
   ],
   "source": [
    "median = np.median(countries_df.column('Number of Confirmed Cases'))\n",
    "mean = countries_df.column(\"Number of Confirmed Cases\").mean()\n",
    "standard_dev = countries_df.column(\"Number of Confirmed Cases\").std()\n",
    "print(\"median:\", median, \"mean:\", mean, \"standard deviation:\", standard_dev)"
   ]
  },
  {
   "cell_type": "code",
   "execution_count": 250,
   "metadata": {
    "id": "2RloKxlH_8-v",
    "outputId": "1c1725a1-4f6a-49b4-8042-b9ca00d29c93"
   },
   "outputs": [
    {
     "data": {
      "image/png": "[encoded data removed]",
      "text/plain": [
       "<Figure size 432x288 with 1 Axes>"
      ]
     },
     "metadata": {},
     "output_type": "display_data"
    }
   ],
   "source": [
    "case_bins = np.arange(0, 11, 1)\n",
    "countries_df.hist('Number of Confirmed Cases', bins = case_bins, unit = 'millions')\n",
    "plt.title('Number of Confirmed Cases');"
   ]
  },
  {
   "cell_type": "code",
   "execution_count": 251,
   "metadata": {
    "id": "7qF6yAEd_8-y",
    "outputId": "482d4688-b657-4c07-b27c-41a4a2233e6b"
   },
   "outputs": [
    {
     "data": {
      "image/png": "[encoded data removed]",
      "text/plain": [
       "<Figure size 432x288 with 1 Axes>"
      ]
     },
     "metadata": {},
     "output_type": "display_data"
    }
   ],
   "source": [
    "case_bins = np.arange(0, 11, 1)\n",
    "sample_150 = countries_df.sample(150)\n",
    "sample_150.hist('Number of Confirmed Cases', bins = case_bins, unit = 'millions')\n",
    "plt.title('Number of Confirmed Cases');"
   ]
  },
  {
   "cell_type": "markdown",
   "metadata": {
    "id": "au3MJpr4_8-1"
   },
   "source": [
    "For the population of countries in the world, we know the value of the parameter \"median confirmed cases\":"
   ]
  },
  {
   "cell_type": "markdown",
   "metadata": {
    "id": "gbu63NLg_8-1"
   },
   "source": [
    "The NumPy function median returns the median (half-way point) of an array. Among all the countries in the world, the median confirmed cases was 22360.5. That is, about 50% of countries in the population had confirmed cases of 22360.5 or fewer:"
   ]
  },
  {
   "cell_type": "code",
   "execution_count": 252,
   "metadata": {
    "id": "dXKxJOJp_8-1",
    "outputId": "ce5ccb32-b0c5-4947-8cc7-d9c1bed007e1"
   },
   "outputs": [
    {
     "data": {
      "text/plain": [
       "0.5"
      ]
     },
     "execution_count": 252,
     "metadata": {},
     "output_type": "execute_result"
    }
   ],
   "source": [
    "countries_df.where('Number of Confirmed Cases', are.below_or_equal_to(22360.5)).num_rows / countries_df.num_rows"
   ]
  },
  {
   "cell_type": "markdown",
   "metadata": {
    "id": "UxInbEOb_8-4"
   },
   "source": [
    "# Data Visualization Continued"
   ]
  },
  {
   "cell_type": "code",
   "execution_count": 253,
   "metadata": {
    "id": "6fAtVvwP_8-4"
   },
   "outputs": [],
   "source": [
    "# Only show 10 countries with the most confirmed cases, the rest are grouped into the other category\n",
    "visual_countries = [] \n",
    "visual_confirmed_cases = []\n",
    "others = np.sum(country_confirmed_cases[10:])\n",
    "\n",
    "for i in range(len(country_confirmed_cases[:10])):\n",
    "    visual_countries.append(recent_countries[i])\n",
    "    visual_confirmed_cases.append(country_confirmed_cases[i])\n",
    "    \n",
    "visual_countries.append('Others')\n",
    "visual_confirmed_cases.append(others)"
   ]
  },
  {
   "cell_type": "code",
   "execution_count": 254,
   "metadata": {
    "id": "J1g3NmOJ_8-6",
    "outputId": "c15cddd2-2d8a-459a-e179-d5da1d502f44"
   },
   "outputs": [
    {
     "data": {
      "image/png": "[encoded data removed]",
      "text/plain": [
       "<Figure size 720x576 with 1 Axes>"
      ]
     },
     "metadata": {},
     "output_type": "display_data"
    }
   ],
   "source": [
    "def plot_bar_graphs(x, y, title):\n",
    "    plt.figure(figsize=(10, 8))\n",
    "    plt.barh(x, y, color=plt.cm.Paired(np.arange(len(countries_df))), edgecolor='black')\n",
    "    plt.title(title, size=15)\n",
    "    plt.xticks(size=10)\n",
    "    plt.yticks(size=10)\n",
    "    plt.show()\n",
    "    \n",
    "def plot_pie_charts(x, y, title):\n",
    "    c = ['gold', 'turquoise', 'sandybrown', 'pink', 'lightcoral',\n",
    "        'khaki', 'lightskyblue', 'brown', 'lightslategrey', 'black', 'lightgreen']\n",
    "    plt.figure(figsize=(10,8))\n",
    "    plt.title(title, size=15)\n",
    "    plt.pie(y, colors=c,shadow=True, labels=y)\n",
    "    plt.legend(x, loc='center right', fontsize=12)\n",
    "    plt.show()\n",
    "    \n",
    "plot_pie_charts(visual_countries, visual_confirmed_cases, '# of Confirmed Cases in Each Country')"
   ]
  },
  {
   "cell_type": "code",
   "execution_count": 255,
   "metadata": {
    "id": "10yzD_wF_8-8",
    "outputId": "d99e6d0a-6581-48a8-b06d-a1b6d4b6697b",
    "scrolled": false
   },
   "outputs": [
    {
     "data": {
      "image/png": "[encoded data removed]",
      "text/plain": [
       "<Figure size 720x576 with 1 Axes>"
      ]
     },
     "metadata": {},
     "output_type": "display_data"
    }
   ],
   "source": [
    "plot_bar_graphs(visual_countries, visual_confirmed_cases, '# of Confirmed Cases in Each Country')"
   ]
  },
  {
   "cell_type": "markdown",
   "metadata": {
    "id": "vU4MLVXl_8-_"
   },
   "source": [
    "The distribution is skewed as the data points cluster more toward one side of the scale than the other."
   ]
  },
  {
   "cell_type": "code",
   "execution_count": 256,
   "metadata": {
    "id": "URdGmpyr_8-_",
    "outputId": "1f068abf-5a93-4491-fede-43aa6baaeb74"
   },
   "outputs": [
    {
     "data": {
      "image/png": "[encoded data removed]",
      "text/plain": [
       "<Figure size 720x576 with 1 Axes>"
      ]
     },
     "metadata": {},
     "output_type": "display_data"
    }
   ],
   "source": [
    "# Only show 10 countries with the most death, the rest are grouped into the other category\n",
    "death_countries = [] \n",
    "visual_death_cases = []\n",
    "other_deaths = np.sum(country_death_cases[10:])\n",
    "\n",
    "for deaths in range(len(country_death_cases[:10])):\n",
    "    death_countries.append(recent_countries[deaths])\n",
    "    visual_death_cases.append(country_death_cases[deaths])\n",
    "    \n",
    "death_countries.append('Others')\n",
    "visual_death_cases.append(other_deaths)\n",
    "\n",
    "plot_pie_charts(death_countries, visual_death_cases, '# of Confirmed Deaths in Each Country')"
   ]
  },
  {
   "cell_type": "markdown",
   "metadata": {
    "id": "KNa-hHN6_8_C"
   },
   "source": [
    "## Data Sampling"
   ]
  },
  {
   "cell_type": "code",
   "execution_count": 257,
   "metadata": {
    "id": "a3AIa7o__8_C",
    "outputId": "f26d527a-00bb-43df-b8eb-2747d264ba24",
    "scrolled": true
   },
   "outputs": [
    {
     "data": {
      "text/html": [
       "<table border=\"1\" class=\"dataframe\">\n",
       "    <thead>\n",
       "        <tr>\n",
       "            <th></th> <th>Country</th> <th>Last Updated</th> <th>Number of Confirmed Cases</th> <th>Number of Deaths</th> <th>Number of Recoveries</th> <th>Number of Active Cases</th>\n",
       "        </tr>\n",
       "    </thead>\n",
       "    <tbody>\n",
       "        <tr>\n",
       "            <td>27  </td> <td>Pakistan          </td> <td>11-08-2020  </td> <td>343189                   </td> <td>6968            </td> <td>318417              </td> <td>17804                 </td>\n",
       "        </tr>\n",
       "        <tr>\n",
       "            <td>188 </td> <td>MS Zaandam        </td> <td>11-08-2020  </td> <td>9                        </td> <td>2               </td> <td>0                   </td> <td>7                     </td>\n",
       "        </tr>\n",
       "        <tr>\n",
       "            <td>101 </td> <td>Senegal           </td> <td>11-08-2020  </td> <td>15693                    </td> <td>326             </td> <td>15317               </td> <td>50                    </td>\n",
       "        </tr>\n",
       "        <tr>\n",
       "            <td>138 </td> <td>Guyana            </td> <td>11-08-2020  </td> <td>4484                     </td> <td>134             </td> <td>3511                </td> <td>839                   </td>\n",
       "        </tr>\n",
       "        <tr>\n",
       "            <td>149 </td> <td>Guinea-Bissau     </td> <td>11-08-2020  </td> <td>2414                     </td> <td>42              </td> <td>1862                </td> <td>510                   </td>\n",
       "        </tr>\n",
       "        <tr>\n",
       "            <td>63  </td> <td>Tunisia           </td> <td>11-08-2020  </td> <td>69543                    </td> <td>1794            </td> <td>47416               </td> <td>20333                 </td>\n",
       "        </tr>\n",
       "        <tr>\n",
       "            <td>95  </td> <td>Cameroon          </td> <td>11-08-2020  </td> <td>22342                    </td> <td>429             </td> <td>21151               </td> <td>762                   </td>\n",
       "        </tr>\n",
       "        <tr>\n",
       "            <td>19  </td> <td>Ukraine           </td> <td>11-08-2020  </td> <td>464598                   </td> <td>8553            </td> <td>212549              </td> <td>243496                </td>\n",
       "        </tr>\n",
       "        <tr>\n",
       "            <td>44  </td> <td>Dominican Republic</td> <td>11-08-2020  </td> <td>129645                   </td> <td>2263            </td> <td>107580              </td> <td>19802                 </td>\n",
       "        </tr>\n",
       "        <tr>\n",
       "            <td>50  </td> <td>Belarus           </td> <td>11-08-2020  </td> <td>105283                   </td> <td>1004            </td> <td>90058               </td> <td>14221                 </td>\n",
       "        </tr>\n",
       "    </tbody>\n",
       "</table>"
      ],
      "text/plain": [
       "     | Country            | Last Updated | Number of Confirmed Cases | Number of Deaths | Number of Recoveries | Number of Active Cases\n",
       "27   | Pakistan           | 11-08-2020   | 343189                    | 6968             | 318417               | 17804\n",
       "188  | MS Zaandam         | 11-08-2020   | 9                         | 2                | 0                    | 7\n",
       "101  | Senegal            | 11-08-2020   | 15693                     | 326              | 15317                | 50\n",
       "138  | Guyana             | 11-08-2020   | 4484                      | 134              | 3511                 | 839\n",
       "149  | Guinea-Bissau      | 11-08-2020   | 2414                      | 42               | 1862                 | 510\n",
       "63   | Tunisia            | 11-08-2020   | 69543                     | 1794             | 47416                | 20333\n",
       "95   | Cameroon           | 11-08-2020   | 22342                     | 429              | 21151                | 762\n",
       "19   | Ukraine            | 11-08-2020   | 464598                    | 8553             | 212549               | 243496\n",
       "44   | Dominican Republic | 11-08-2020   | 129645                    | 2263             | 107580               | 19802\n",
       "50   | Belarus            | 11-08-2020   | 105283                    | 1004             | 90058                | 14221"
      ]
     },
     "execution_count": 257,
     "metadata": {},
     "output_type": "execute_result"
    }
   ],
   "source": [
    "countries_df.sample(10)"
   ]
  },
  {
   "cell_type": "code",
   "execution_count": 258,
   "metadata": {
    "id": "tWKRhi07_8_E",
    "outputId": "8fb32f9e-788d-45fb-8aa0-fe6483fe339d"
   },
   "outputs": [
    {
     "data": {
      "text/html": [
       "<table border=\"1\" class=\"dataframe\">\n",
       "    <thead>\n",
       "        <tr>\n",
       "            <th></th> <th>Country</th> <th>Last Updated</th> <th>Number of Confirmed Cases</th> <th>Number of Deaths</th> <th>Number of Recoveries</th> <th>Number of Active Cases</th>\n",
       "        </tr>\n",
       "    </thead>\n",
       "    <tbody>\n",
       "        <tr>\n",
       "            <td>0   </td> <td>US       </td> <td>11-08-2020  </td> <td>9928306                  </td> <td>237835          </td> <td>3851465             </td> <td>5.74136e+06           </td>\n",
       "        </tr>\n",
       "        <tr>\n",
       "            <td>20  </td> <td>Indonesia</td> <td>11-08-2020  </td> <td>433836                   </td> <td>14540           </td> <td>364417              </td> <td>54879                 </td>\n",
       "        </tr>\n",
       "        <tr>\n",
       "            <td>100 </td> <td>Zambia   </td> <td>11-08-2020  </td> <td>16908                    </td> <td>349             </td> <td>15873               </td> <td>686                   </td>\n",
       "        </tr>\n",
       "    </tbody>\n",
       "</table>"
      ],
      "text/plain": [
       "     | Country   | Last Updated | Number of Confirmed Cases | Number of Deaths | Number of Recoveries | Number of Active Cases\n",
       "0    | US        | 11-08-2020   | 9928306                   | 237835           | 3851465              | 5.74136e+06\n",
       "20   | Indonesia | 11-08-2020   | 433836                    | 14540            | 364417               | 54879\n",
       "100  | Zambia    | 11-08-2020   | 16908                     | 349              | 15873                | 686"
      ]
     },
     "execution_count": 258,
     "metadata": {},
     "output_type": "execute_result"
    }
   ],
   "source": [
    "# Deterministic Samples\n",
    "countries_df.take(make_array(0, 20, 100))"
   ]
  },
  {
   "cell_type": "code",
   "execution_count": 259,
   "metadata": {
    "id": "_KTPfJrF_8_G",
    "outputId": "78d1b238-6e1a-4339-d97d-7d61b3d908a2"
   },
   "outputs": [
    {
     "data": {
      "text/html": [
       "<table border=\"1\" class=\"dataframe\">\n",
       "    <thead>\n",
       "        <tr>\n",
       "            <th></th> <th>Country</th> <th>Last Updated</th> <th>Number of Confirmed Cases</th> <th>Number of Deaths</th> <th>Number of Recoveries</th> <th>Number of Active Cases</th>\n",
       "        </tr>\n",
       "    </thead>\n",
       "    <tbody>\n",
       "        <tr>\n",
       "            <td>0   </td> <td>US                  </td> <td>11-08-2020  </td> <td>9928306                  </td> <td>237835          </td> <td>3851465             </td> <td>5.74136e+06           </td>\n",
       "        </tr>\n",
       "        <tr>\n",
       "            <td>10  </td> <td>Peru                </td> <td>11-08-2020  </td> <td>917503                   </td> <td>34783           </td> <td>838783              </td> <td>43937                 </td>\n",
       "        </tr>\n",
       "        <tr>\n",
       "            <td>20  </td> <td>Indonesia           </td> <td>11-08-2020  </td> <td>433836                   </td> <td>14540           </td> <td>364417              </td> <td>54879                 </td>\n",
       "        </tr>\n",
       "        <tr>\n",
       "            <td>30  </td> <td>Canada              </td> <td>11-08-2020  </td> <td>263221                   </td> <td>10547           </td> <td>216338              </td> <td>36336                 </td>\n",
       "        </tr>\n",
       "        <tr>\n",
       "            <td>40  </td> <td>United Arab Emirates</td> <td>11-08-2020  </td> <td>141032                   </td> <td>514             </td> <td>137608              </td> <td>2910                  </td>\n",
       "        </tr>\n",
       "        <tr>\n",
       "            <td>50  </td> <td>Belarus             </td> <td>11-08-2020  </td> <td>105283                   </td> <td>1004            </td> <td>90058               </td> <td>14221                 </td>\n",
       "        </tr>\n",
       "        <tr>\n",
       "            <td>60  </td> <td>Moldova             </td> <td>11-08-2020  </td> <td>81675                    </td> <td>1891            </td> <td>61314               </td> <td>18470                 </td>\n",
       "        </tr>\n",
       "        <tr>\n",
       "            <td>70  </td> <td>Azerbaijan          </td> <td>11-08-2020  </td> <td>63748                    </td> <td>824             </td> <td>48049               </td> <td>14875                 </td>\n",
       "        </tr>\n",
       "        <tr>\n",
       "            <td>80  </td> <td>Greece              </td> <td>11-08-2020  </td> <td>54809                    </td> <td>749             </td> <td>23074               </td> <td>30986                 </td>\n",
       "        </tr>\n",
       "        <tr>\n",
       "            <td>90  </td> <td>Norway              </td> <td>11-08-2020  </td> <td>24243                    </td> <td>285             </td> <td>11863               </td> <td>12095                 </td>\n",
       "        </tr>\n",
       "    </tbody>\n",
       "</table>\n",
       "<p>... (9 rows omitted)</p>"
      ],
      "text/plain": [
       "     | Country              | Last Updated | Number of Confirmed Cases | Number of Deaths | Number of Recoveries | Number of Active Cases\n",
       "0    | US                   | 11-08-2020   | 9928306                   | 237835           | 3851465              | 5.74136e+06\n",
       "10   | Peru                 | 11-08-2020   | 917503                    | 34783            | 838783               | 43937\n",
       "20   | Indonesia            | 11-08-2020   | 433836                    | 14540            | 364417               | 54879\n",
       "30   | Canada               | 11-08-2020   | 263221                    | 10547            | 216338               | 36336\n",
       "40   | United Arab Emirates | 11-08-2020   | 141032                    | 514              | 137608               | 2910\n",
       "50   | Belarus              | 11-08-2020   | 105283                    | 1004             | 90058                | 14221\n",
       "60   | Moldova              | 11-08-2020   | 81675                     | 1891             | 61314                | 18470\n",
       "70   | Azerbaijan           | 11-08-2020   | 63748                     | 824              | 48049                | 14875\n",
       "80   | Greece               | 11-08-2020   | 54809                     | 749              | 23074                | 30986\n",
       "90   | Norway               | 11-08-2020   | 24243                     | 285              | 11863                | 12095\n",
       "... (9 rows omitted)"
      ]
     },
     "execution_count": 259,
     "metadata": {},
     "output_type": "execute_result"
    }
   ],
   "source": [
    "# Systematic Sample\n",
    "# Choose a random start among rows 0 through 9; then take every 10th row\n",
    "\n",
    "start = np.random.choice(np.arange(10))\n",
    "countries_df.take(np.arange(start, countries_df.num_rows, 10))"
   ]
  },
  {
   "cell_type": "code",
   "execution_count": 260,
   "metadata": {
    "id": "SRZOFmZC_8_I"
   },
   "outputs": [],
   "source": [
    "def random_sample_median():\n",
    "    return np.median(countries_df.sample(190).column('Number of Confirmed Cases'))"
   ]
  },
  {
   "cell_type": "code",
   "execution_count": 261,
   "metadata": {
    "id": "NyczglMo_8_K"
   },
   "outputs": [],
   "source": [
    "medians = make_array()\n",
    "for i in np.arange(50):\n",
    "    medians = np.append(medians, random_sample_median())"
   ]
  },
  {
   "cell_type": "code",
   "execution_count": 262,
   "metadata": {
    "id": "tRTnZBcL_8_O",
    "outputId": "9a824edc-3697-4bf4-8dd1-0f1c1447eaee",
    "scrolled": false
   },
   "outputs": [
    {
     "data": {
      "text/html": [
       "<table border=\"1\" class=\"dataframe\">\n",
       "    <thead>\n",
       "        <tr>\n",
       "            <th>Sample Median</th>\n",
       "        </tr>\n",
       "    </thead>\n",
       "    <tbody>\n",
       "        <tr>\n",
       "            <td>25835        </td>\n",
       "        </tr>\n",
       "        <tr>\n",
       "            <td>22549        </td>\n",
       "        </tr>\n",
       "        <tr>\n",
       "            <td>25835        </td>\n",
       "        </tr>\n",
       "        <tr>\n",
       "            <td>22934        </td>\n",
       "        </tr>\n",
       "        <tr>\n",
       "            <td>33507.5      </td>\n",
       "        </tr>\n",
       "        <tr>\n",
       "            <td>19099        </td>\n",
       "        </tr>\n",
       "        <tr>\n",
       "            <td>21309.5      </td>\n",
       "        </tr>\n",
       "        <tr>\n",
       "            <td>13760        </td>\n",
       "        </tr>\n",
       "        <tr>\n",
       "            <td>21309.5      </td>\n",
       "        </tr>\n",
       "        <tr>\n",
       "            <td>31401.5      </td>\n",
       "        </tr>\n",
       "    </tbody>\n",
       "</table>\n",
       "<p>... (40 rows omitted)</p>"
      ],
      "text/plain": [
       "Sample Median\n",
       "25835\n",
       "22549\n",
       "25835\n",
       "22934\n",
       "33507.5\n",
       "19099\n",
       "21309.5\n",
       "13760\n",
       "21309.5\n",
       "31401.5\n",
       "... (40 rows omitted)"
      ]
     },
     "execution_count": 262,
     "metadata": {},
     "output_type": "execute_result"
    }
   ],
   "source": [
    "simulated_medians = Table().with_column('Sample Median', medians)\n",
    "simulated_medians"
   ]
  },
  {
   "cell_type": "markdown",
   "metadata": {
    "id": "Ai69jR4M_8_S"
   },
   "source": [
    "## Find Probability\n",
    "We are doing with with replacement, because we want to determine that if we pick any random state in the world, will it be in the US to be independent and because the sample size is small"
   ]
  },
  {
   "cell_type": "code",
   "execution_count": 263,
   "metadata": {
    "id": "M_PG3kR7_8_S",
    "outputId": "7166cbd4-c800-455a-e6a3-a1f6419d7740",
    "scrolled": false
   },
   "outputs": [
    {
     "data": {
      "text/html": [
       "<div>\n",
       "<style scoped>\n",
       "    .dataframe tbody tr th:only-of-type {\n",
       "        vertical-align: middle;\n",
       "    }\n",
       "\n",
       "    .dataframe tbody tr th {\n",
       "        vertical-align: top;\n",
       "    }\n",
       "\n",
       "    .dataframe thead th {\n",
       "        text-align: right;\n",
       "    }\n",
       "</style>\n",
       "<table border=\"1\" class=\"dataframe\">\n",
       "  <thead>\n",
       "    <tr style=\"text-align: right;\">\n",
       "      <th></th>\n",
       "      <th>Probability</th>\n",
       "    </tr>\n",
       "  </thead>\n",
       "  <tbody>\n",
       "    <tr>\n",
       "      <th>0</th>\n",
       "      <td>3273/3962</td>\n",
       "    </tr>\n",
       "    <tr>\n",
       "      <th>1</th>\n",
       "      <td>3273/3962</td>\n",
       "    </tr>\n",
       "    <tr>\n",
       "      <th>2</th>\n",
       "      <td>3272/3962</td>\n",
       "    </tr>\n",
       "    <tr>\n",
       "      <th>3</th>\n",
       "      <td>3272/3962</td>\n",
       "    </tr>\n",
       "    <tr>\n",
       "      <th>4</th>\n",
       "      <td>3272/3962</td>\n",
       "    </tr>\n",
       "    <tr>\n",
       "      <th>5</th>\n",
       "      <td>3272/3962</td>\n",
       "    </tr>\n",
       "    <tr>\n",
       "      <th>6</th>\n",
       "      <td>3272/3962</td>\n",
       "    </tr>\n",
       "    <tr>\n",
       "      <th>7</th>\n",
       "      <td>3272/3962</td>\n",
       "    </tr>\n",
       "    <tr>\n",
       "      <th>8</th>\n",
       "      <td>3272/3962</td>\n",
       "    </tr>\n",
       "    <tr>\n",
       "      <th>9</th>\n",
       "      <td>3271/3962</td>\n",
       "    </tr>\n",
       "    <tr>\n",
       "      <th>10</th>\n",
       "      <td>3271/3962</td>\n",
       "    </tr>\n",
       "    <tr>\n",
       "      <th>11</th>\n",
       "      <td>3271/3962</td>\n",
       "    </tr>\n",
       "    <tr>\n",
       "      <th>12</th>\n",
       "      <td>3270/3962</td>\n",
       "    </tr>\n",
       "    <tr>\n",
       "      <th>13</th>\n",
       "      <td>3270/3962</td>\n",
       "    </tr>\n",
       "    <tr>\n",
       "      <th>14</th>\n",
       "      <td>3269/3962</td>\n",
       "    </tr>\n",
       "    <tr>\n",
       "      <th>15</th>\n",
       "      <td>3268/3962</td>\n",
       "    </tr>\n",
       "    <tr>\n",
       "      <th>16</th>\n",
       "      <td>3267/3962</td>\n",
       "    </tr>\n",
       "    <tr>\n",
       "      <th>17</th>\n",
       "      <td>3267/3962</td>\n",
       "    </tr>\n",
       "    <tr>\n",
       "      <th>18</th>\n",
       "      <td>3266/3962</td>\n",
       "    </tr>\n",
       "    <tr>\n",
       "      <th>19</th>\n",
       "      <td>3266/3962</td>\n",
       "    </tr>\n",
       "  </tbody>\n",
       "</table>\n",
       "</div>"
      ],
      "text/plain": [
       "   Probability\n",
       "0    3273/3962\n",
       "1    3273/3962\n",
       "2    3272/3962\n",
       "3    3272/3962\n",
       "4    3272/3962\n",
       "5    3272/3962\n",
       "6    3272/3962\n",
       "7    3272/3962\n",
       "8    3272/3962\n",
       "9    3271/3962\n",
       "10   3271/3962\n",
       "11   3271/3962\n",
       "12   3270/3962\n",
       "13   3270/3962\n",
       "14   3269/3962\n",
       "15   3268/3962\n",
       "16   3267/3962\n",
       "17   3267/3962\n",
       "18   3266/3962\n",
       "19   3266/3962"
      ]
     },
     "execution_count": 263,
     "metadata": {},
     "output_type": "execute_result"
    }
   ],
   "source": [
    "from copy import deepcopy\n",
    "from fractions import Fraction\n",
    "\n",
    "us_index = recent_data[recent_data[\"Country_Region\"].isin([\"US\"])].index\n",
    "us_index = us_index.tolist()\n",
    "only_us = recent_data.loc[us_index]\n",
    "only_us\n",
    "data = {'Case Count': [], \n",
    "        'Probability':[]}\n",
    "\n",
    "def probs_us_country(countries):\n",
    "    by_state = deepcopy(countries)\n",
    "    num_states = len(us_index)\n",
    "    for i in range(20):\n",
    "        state_picked = np.random.choice(by_state) #with replacementta\n",
    "        data['Case Count'].append(state_picked)\n",
    "        if state_picked in us_index:\n",
    "            num_states -= 1\n",
    "        data['Probability'].append(str(num_states) +'/' + str(len(by_state)))\n",
    "#         by_state.remove(state_picked)\n",
    "    df = pd.DataFrame (data, columns = ['Probability'])\n",
    "    return df\n",
    "\n",
    "state_list = recent_data[\"Confirmed\"].tolist()\n",
    "probs_us_country(state_list)"
   ]
  },
  {
   "cell_type": "markdown",
   "metadata": {},
   "source": [
    "# Data exploration & Data cleaning"
   ]
  },
  {
   "cell_type": "code",
   "execution_count": 264,
   "metadata": {
    "id": "YjpiWlfcAPjV",
    "outputId": "bd8a15cf-09b1-4cf8-ae52-a07b2fa55f21"
   },
   "outputs": [
    {
     "data": {
      "text/html": [
       "<div>\n",
       "<style scoped>\n",
       "    .dataframe tbody tr th:only-of-type {\n",
       "        vertical-align: middle;\n",
       "    }\n",
       "\n",
       "    .dataframe tbody tr th {\n",
       "        vertical-align: top;\n",
       "    }\n",
       "\n",
       "    .dataframe thead th {\n",
       "        text-align: right;\n",
       "    }\n",
       "</style>\n",
       "<table border=\"1\" class=\"dataframe\">\n",
       "  <thead>\n",
       "    <tr style=\"text-align: right;\">\n",
       "      <th></th>\n",
       "      <th>Province/State</th>\n",
       "      <th>Country/Region</th>\n",
       "      <th>Last Update</th>\n",
       "      <th>Confirmed</th>\n",
       "      <th>Deaths</th>\n",
       "      <th>Recovered</th>\n",
       "    </tr>\n",
       "  </thead>\n",
       "  <tbody>\n",
       "    <tr>\n",
       "      <th>0</th>\n",
       "      <td>Hubei</td>\n",
       "      <td>Mainland China</td>\n",
       "      <td>2020-02-29T12:13:10</td>\n",
       "      <td>66337</td>\n",
       "      <td>2727</td>\n",
       "      <td>28993</td>\n",
       "    </tr>\n",
       "    <tr>\n",
       "      <th>1</th>\n",
       "      <td>NaN</td>\n",
       "      <td>South Korea</td>\n",
       "      <td>2020-02-29T18:13:07</td>\n",
       "      <td>3150</td>\n",
       "      <td>16</td>\n",
       "      <td>27</td>\n",
       "    </tr>\n",
       "    <tr>\n",
       "      <th>2</th>\n",
       "      <td>Guangdong</td>\n",
       "      <td>Mainland China</td>\n",
       "      <td>2020-02-29T15:33:03</td>\n",
       "      <td>1349</td>\n",
       "      <td>7</td>\n",
       "      <td>983</td>\n",
       "    </tr>\n",
       "    <tr>\n",
       "      <th>3</th>\n",
       "      <td>Henan</td>\n",
       "      <td>Mainland China</td>\n",
       "      <td>2020-02-29T12:43:05</td>\n",
       "      <td>1272</td>\n",
       "      <td>21</td>\n",
       "      <td>1170</td>\n",
       "    </tr>\n",
       "    <tr>\n",
       "      <th>4</th>\n",
       "      <td>Zhejiang</td>\n",
       "      <td>Mainland China</td>\n",
       "      <td>2020-02-29T09:13:10</td>\n",
       "      <td>1205</td>\n",
       "      <td>1</td>\n",
       "      <td>1016</td>\n",
       "    </tr>\n",
       "    <tr>\n",
       "      <th>...</th>\n",
       "      <td>...</td>\n",
       "      <td>...</td>\n",
       "      <td>...</td>\n",
       "      <td>...</td>\n",
       "      <td>...</td>\n",
       "      <td>...</td>\n",
       "    </tr>\n",
       "    <tr>\n",
       "      <th>114</th>\n",
       "      <td>Tempe, AZ</td>\n",
       "      <td>US</td>\n",
       "      <td>2020-02-25T21:23:03</td>\n",
       "      <td>1</td>\n",
       "      <td>0</td>\n",
       "      <td>1</td>\n",
       "    </tr>\n",
       "    <tr>\n",
       "      <th>115</th>\n",
       "      <td>From Diamond Princess</td>\n",
       "      <td>Australia</td>\n",
       "      <td>2020-02-29T02:03:10</td>\n",
       "      <td>0</td>\n",
       "      <td>0</td>\n",
       "      <td>0</td>\n",
       "    </tr>\n",
       "    <tr>\n",
       "      <th>116</th>\n",
       "      <td>Lackland, TX (From Diamond Princess)</td>\n",
       "      <td>US</td>\n",
       "      <td>2020-02-24T23:33:02</td>\n",
       "      <td>0</td>\n",
       "      <td>0</td>\n",
       "      <td>0</td>\n",
       "    </tr>\n",
       "    <tr>\n",
       "      <th>117</th>\n",
       "      <td>Omaha, NE (From Diamond Princess)</td>\n",
       "      <td>US</td>\n",
       "      <td>2020-02-24T23:33:02</td>\n",
       "      <td>0</td>\n",
       "      <td>0</td>\n",
       "      <td>0</td>\n",
       "    </tr>\n",
       "    <tr>\n",
       "      <th>118</th>\n",
       "      <td>Travis, CA (From Diamond Princess)</td>\n",
       "      <td>US</td>\n",
       "      <td>2020-02-24T23:33:02</td>\n",
       "      <td>0</td>\n",
       "      <td>0</td>\n",
       "      <td>0</td>\n",
       "    </tr>\n",
       "  </tbody>\n",
       "</table>\n",
       "<p>119 rows × 6 columns</p>\n",
       "</div>"
      ],
      "text/plain": [
       "                           Province/State  Country/Region  \\\n",
       "0                                   Hubei  Mainland China   \n",
       "1                                     NaN     South Korea   \n",
       "2                               Guangdong  Mainland China   \n",
       "3                                   Henan  Mainland China   \n",
       "4                                Zhejiang  Mainland China   \n",
       "..                                    ...             ...   \n",
       "114                             Tempe, AZ              US   \n",
       "115                 From Diamond Princess       Australia   \n",
       "116  Lackland, TX (From Diamond Princess)              US   \n",
       "117     Omaha, NE (From Diamond Princess)              US   \n",
       "118    Travis, CA (From Diamond Princess)              US   \n",
       "\n",
       "             Last Update  Confirmed  Deaths  Recovered  \n",
       "0    2020-02-29T12:13:10      66337    2727      28993  \n",
       "1    2020-02-29T18:13:07       3150      16         27  \n",
       "2    2020-02-29T15:33:03       1349       7        983  \n",
       "3    2020-02-29T12:43:05       1272      21       1170  \n",
       "4    2020-02-29T09:13:10       1205       1       1016  \n",
       "..                   ...        ...     ...        ...  \n",
       "114  2020-02-25T21:23:03          1       0          1  \n",
       "115  2020-02-29T02:03:10          0       0          0  \n",
       "116  2020-02-24T23:33:02          0       0          0  \n",
       "117  2020-02-24T23:33:02          0       0          0  \n",
       "118  2020-02-24T23:33:02          0       0          0  \n",
       "\n",
       "[119 rows x 6 columns]"
      ]
     },
     "execution_count": 264,
     "metadata": {},
     "output_type": "execute_result"
    }
   ],
   "source": [
    "end_feb = pd.read_csv('https://raw.githubusercontent.com/CSSEGISandData/COVID-19/master/csse_covid_19_data/csse_covid_19_daily_reports/02-29-2020.csv', error_bad_lines=False)\n",
    "end_feb"
   ]
  },
  {
   "cell_type": "code",
   "execution_count": 265,
   "metadata": {
    "id": "UI8sFqhTAPjY",
    "outputId": "e0f0ceb3-ab7b-4df9-82d8-a459f413b51f"
   },
   "outputs": [
    {
     "data": {
      "text/html": [
       "<div>\n",
       "<style scoped>\n",
       "    .dataframe tbody tr th:only-of-type {\n",
       "        vertical-align: middle;\n",
       "    }\n",
       "\n",
       "    .dataframe tbody tr th {\n",
       "        vertical-align: top;\n",
       "    }\n",
       "\n",
       "    .dataframe thead th {\n",
       "        text-align: right;\n",
       "    }\n",
       "</style>\n",
       "<table border=\"1\" class=\"dataframe\">\n",
       "  <thead>\n",
       "    <tr style=\"text-align: right;\">\n",
       "      <th></th>\n",
       "      <th>FIPS</th>\n",
       "      <th>Admin2</th>\n",
       "      <th>Province_State</th>\n",
       "      <th>Country_Region</th>\n",
       "      <th>Last_Update</th>\n",
       "      <th>Lat</th>\n",
       "      <th>Long_</th>\n",
       "      <th>Confirmed</th>\n",
       "      <th>Deaths</th>\n",
       "      <th>Recovered</th>\n",
       "      <th>Active</th>\n",
       "      <th>Combined_Key</th>\n",
       "    </tr>\n",
       "  </thead>\n",
       "  <tbody>\n",
       "    <tr>\n",
       "      <th>0</th>\n",
       "      <td>45001.0</td>\n",
       "      <td>Abbeville</td>\n",
       "      <td>South Carolina</td>\n",
       "      <td>US</td>\n",
       "      <td>2020-03-31 23:43:56</td>\n",
       "      <td>34.223334</td>\n",
       "      <td>-82.461707</td>\n",
       "      <td>4</td>\n",
       "      <td>0</td>\n",
       "      <td>0</td>\n",
       "      <td>0</td>\n",
       "      <td>Abbeville, South Carolina, US</td>\n",
       "    </tr>\n",
       "    <tr>\n",
       "      <th>1</th>\n",
       "      <td>22001.0</td>\n",
       "      <td>Acadia</td>\n",
       "      <td>Louisiana</td>\n",
       "      <td>US</td>\n",
       "      <td>2020-03-31 23:43:56</td>\n",
       "      <td>30.295065</td>\n",
       "      <td>-92.414197</td>\n",
       "      <td>39</td>\n",
       "      <td>1</td>\n",
       "      <td>0</td>\n",
       "      <td>0</td>\n",
       "      <td>Acadia, Louisiana, US</td>\n",
       "    </tr>\n",
       "    <tr>\n",
       "      <th>2</th>\n",
       "      <td>51001.0</td>\n",
       "      <td>Accomack</td>\n",
       "      <td>Virginia</td>\n",
       "      <td>US</td>\n",
       "      <td>2020-03-31 23:43:56</td>\n",
       "      <td>37.767072</td>\n",
       "      <td>-75.632346</td>\n",
       "      <td>7</td>\n",
       "      <td>0</td>\n",
       "      <td>0</td>\n",
       "      <td>0</td>\n",
       "      <td>Accomack, Virginia, US</td>\n",
       "    </tr>\n",
       "    <tr>\n",
       "      <th>3</th>\n",
       "      <td>16001.0</td>\n",
       "      <td>Ada</td>\n",
       "      <td>Idaho</td>\n",
       "      <td>US</td>\n",
       "      <td>2020-03-31 23:43:56</td>\n",
       "      <td>43.452658</td>\n",
       "      <td>-116.241552</td>\n",
       "      <td>195</td>\n",
       "      <td>3</td>\n",
       "      <td>0</td>\n",
       "      <td>0</td>\n",
       "      <td>Ada, Idaho, US</td>\n",
       "    </tr>\n",
       "    <tr>\n",
       "      <th>4</th>\n",
       "      <td>19001.0</td>\n",
       "      <td>Adair</td>\n",
       "      <td>Iowa</td>\n",
       "      <td>US</td>\n",
       "      <td>2020-03-31 23:43:56</td>\n",
       "      <td>41.330756</td>\n",
       "      <td>-94.471059</td>\n",
       "      <td>1</td>\n",
       "      <td>0</td>\n",
       "      <td>0</td>\n",
       "      <td>0</td>\n",
       "      <td>Adair, Iowa, US</td>\n",
       "    </tr>\n",
       "    <tr>\n",
       "      <th>...</th>\n",
       "      <td>...</td>\n",
       "      <td>...</td>\n",
       "      <td>...</td>\n",
       "      <td>...</td>\n",
       "      <td>...</td>\n",
       "      <td>...</td>\n",
       "      <td>...</td>\n",
       "      <td>...</td>\n",
       "      <td>...</td>\n",
       "      <td>...</td>\n",
       "      <td>...</td>\n",
       "      <td>...</td>\n",
       "    </tr>\n",
       "    <tr>\n",
       "      <th>2430</th>\n",
       "      <td>NaN</td>\n",
       "      <td>NaN</td>\n",
       "      <td>NaN</td>\n",
       "      <td>Venezuela</td>\n",
       "      <td>2020-03-31 23:43:43</td>\n",
       "      <td>6.423800</td>\n",
       "      <td>-66.589700</td>\n",
       "      <td>135</td>\n",
       "      <td>3</td>\n",
       "      <td>39</td>\n",
       "      <td>93</td>\n",
       "      <td>Venezuela</td>\n",
       "    </tr>\n",
       "    <tr>\n",
       "      <th>2431</th>\n",
       "      <td>NaN</td>\n",
       "      <td>NaN</td>\n",
       "      <td>NaN</td>\n",
       "      <td>Vietnam</td>\n",
       "      <td>2020-03-31 23:43:43</td>\n",
       "      <td>14.058324</td>\n",
       "      <td>108.277199</td>\n",
       "      <td>212</td>\n",
       "      <td>0</td>\n",
       "      <td>58</td>\n",
       "      <td>154</td>\n",
       "      <td>Vietnam</td>\n",
       "    </tr>\n",
       "    <tr>\n",
       "      <th>2432</th>\n",
       "      <td>NaN</td>\n",
       "      <td>NaN</td>\n",
       "      <td>NaN</td>\n",
       "      <td>West Bank and Gaza</td>\n",
       "      <td>2020-03-31 23:43:43</td>\n",
       "      <td>31.952200</td>\n",
       "      <td>35.233200</td>\n",
       "      <td>119</td>\n",
       "      <td>1</td>\n",
       "      <td>18</td>\n",
       "      <td>100</td>\n",
       "      <td>West Bank and Gaza</td>\n",
       "    </tr>\n",
       "    <tr>\n",
       "      <th>2433</th>\n",
       "      <td>NaN</td>\n",
       "      <td>NaN</td>\n",
       "      <td>NaN</td>\n",
       "      <td>Zambia</td>\n",
       "      <td>2020-03-31 23:43:43</td>\n",
       "      <td>-13.133897</td>\n",
       "      <td>27.849332</td>\n",
       "      <td>35</td>\n",
       "      <td>0</td>\n",
       "      <td>0</td>\n",
       "      <td>35</td>\n",
       "      <td>Zambia</td>\n",
       "    </tr>\n",
       "    <tr>\n",
       "      <th>2434</th>\n",
       "      <td>NaN</td>\n",
       "      <td>NaN</td>\n",
       "      <td>NaN</td>\n",
       "      <td>Zimbabwe</td>\n",
       "      <td>2020-03-31 23:43:43</td>\n",
       "      <td>-19.015438</td>\n",
       "      <td>29.154857</td>\n",
       "      <td>8</td>\n",
       "      <td>1</td>\n",
       "      <td>0</td>\n",
       "      <td>7</td>\n",
       "      <td>Zimbabwe</td>\n",
       "    </tr>\n",
       "  </tbody>\n",
       "</table>\n",
       "<p>2435 rows × 12 columns</p>\n",
       "</div>"
      ],
      "text/plain": [
       "         FIPS     Admin2  Province_State      Country_Region  \\\n",
       "0     45001.0  Abbeville  South Carolina                  US   \n",
       "1     22001.0     Acadia       Louisiana                  US   \n",
       "2     51001.0   Accomack        Virginia                  US   \n",
       "3     16001.0        Ada           Idaho                  US   \n",
       "4     19001.0      Adair            Iowa                  US   \n",
       "...       ...        ...             ...                 ...   \n",
       "2430      NaN        NaN             NaN           Venezuela   \n",
       "2431      NaN        NaN             NaN             Vietnam   \n",
       "2432      NaN        NaN             NaN  West Bank and Gaza   \n",
       "2433      NaN        NaN             NaN              Zambia   \n",
       "2434      NaN        NaN             NaN            Zimbabwe   \n",
       "\n",
       "              Last_Update        Lat       Long_  Confirmed  Deaths  \\\n",
       "0     2020-03-31 23:43:56  34.223334  -82.461707          4       0   \n",
       "1     2020-03-31 23:43:56  30.295065  -92.414197         39       1   \n",
       "2     2020-03-31 23:43:56  37.767072  -75.632346          7       0   \n",
       "3     2020-03-31 23:43:56  43.452658 -116.241552        195       3   \n",
       "4     2020-03-31 23:43:56  41.330756  -94.471059          1       0   \n",
       "...                   ...        ...         ...        ...     ...   \n",
       "2430  2020-03-31 23:43:43   6.423800  -66.589700        135       3   \n",
       "2431  2020-03-31 23:43:43  14.058324  108.277199        212       0   \n",
       "2432  2020-03-31 23:43:43  31.952200   35.233200        119       1   \n",
       "2433  2020-03-31 23:43:43 -13.133897   27.849332         35       0   \n",
       "2434  2020-03-31 23:43:43 -19.015438   29.154857          8       1   \n",
       "\n",
       "      Recovered  Active                   Combined_Key  \n",
       "0             0       0  Abbeville, South Carolina, US  \n",
       "1             0       0          Acadia, Louisiana, US  \n",
       "2             0       0         Accomack, Virginia, US  \n",
       "3             0       0                 Ada, Idaho, US  \n",
       "4             0       0                Adair, Iowa, US  \n",
       "...         ...     ...                            ...  \n",
       "2430         39      93                      Venezuela  \n",
       "2431         58     154                        Vietnam  \n",
       "2432         18     100             West Bank and Gaza  \n",
       "2433          0      35                         Zambia  \n",
       "2434          0       7                       Zimbabwe  \n",
       "\n",
       "[2435 rows x 12 columns]"
      ]
     },
     "execution_count": 265,
     "metadata": {},
     "output_type": "execute_result"
    }
   ],
   "source": [
    "end_mar = pd.read_csv('https://raw.githubusercontent.com/CSSEGISandData/COVID-19/master/csse_covid_19_data/csse_covid_19_daily_reports/03-31-2020.csv', error_bad_lines=False)\n",
    "end_mar"
   ]
  },
  {
   "cell_type": "code",
   "execution_count": 266,
   "metadata": {
    "id": "1GnSmYjRAPjb",
    "outputId": "759067a4-88d2-4479-80a5-7202e974f1e9"
   },
   "outputs": [
    {
     "data": {
      "text/html": [
       "<div>\n",
       "<style scoped>\n",
       "    .dataframe tbody tr th:only-of-type {\n",
       "        vertical-align: middle;\n",
       "    }\n",
       "\n",
       "    .dataframe tbody tr th {\n",
       "        vertical-align: top;\n",
       "    }\n",
       "\n",
       "    .dataframe thead th {\n",
       "        text-align: right;\n",
       "    }\n",
       "</style>\n",
       "<table border=\"1\" class=\"dataframe\">\n",
       "  <thead>\n",
       "    <tr style=\"text-align: right;\">\n",
       "      <th></th>\n",
       "      <th>Country_Region</th>\n",
       "      <th>Last_Update</th>\n",
       "      <th>Confirmed</th>\n",
       "      <th>Deaths</th>\n",
       "      <th>Recovered</th>\n",
       "      <th>Active</th>\n",
       "      <th>Combined_Key</th>\n",
       "    </tr>\n",
       "  </thead>\n",
       "  <tbody>\n",
       "    <tr>\n",
       "      <th>0</th>\n",
       "      <td>US</td>\n",
       "      <td>2020-03-31 23:43:56</td>\n",
       "      <td>4</td>\n",
       "      <td>0</td>\n",
       "      <td>0</td>\n",
       "      <td>0</td>\n",
       "      <td>Abbeville, South Carolina, US</td>\n",
       "    </tr>\n",
       "    <tr>\n",
       "      <th>1</th>\n",
       "      <td>US</td>\n",
       "      <td>2020-03-31 23:43:56</td>\n",
       "      <td>39</td>\n",
       "      <td>1</td>\n",
       "      <td>0</td>\n",
       "      <td>0</td>\n",
       "      <td>Acadia, Louisiana, US</td>\n",
       "    </tr>\n",
       "    <tr>\n",
       "      <th>2</th>\n",
       "      <td>US</td>\n",
       "      <td>2020-03-31 23:43:56</td>\n",
       "      <td>7</td>\n",
       "      <td>0</td>\n",
       "      <td>0</td>\n",
       "      <td>0</td>\n",
       "      <td>Accomack, Virginia, US</td>\n",
       "    </tr>\n",
       "    <tr>\n",
       "      <th>3</th>\n",
       "      <td>US</td>\n",
       "      <td>2020-03-31 23:43:56</td>\n",
       "      <td>195</td>\n",
       "      <td>3</td>\n",
       "      <td>0</td>\n",
       "      <td>0</td>\n",
       "      <td>Ada, Idaho, US</td>\n",
       "    </tr>\n",
       "    <tr>\n",
       "      <th>4</th>\n",
       "      <td>US</td>\n",
       "      <td>2020-03-31 23:43:56</td>\n",
       "      <td>1</td>\n",
       "      <td>0</td>\n",
       "      <td>0</td>\n",
       "      <td>0</td>\n",
       "      <td>Adair, Iowa, US</td>\n",
       "    </tr>\n",
       "    <tr>\n",
       "      <th>...</th>\n",
       "      <td>...</td>\n",
       "      <td>...</td>\n",
       "      <td>...</td>\n",
       "      <td>...</td>\n",
       "      <td>...</td>\n",
       "      <td>...</td>\n",
       "      <td>...</td>\n",
       "    </tr>\n",
       "    <tr>\n",
       "      <th>2430</th>\n",
       "      <td>Venezuela</td>\n",
       "      <td>2020-03-31 23:43:43</td>\n",
       "      <td>135</td>\n",
       "      <td>3</td>\n",
       "      <td>39</td>\n",
       "      <td>93</td>\n",
       "      <td>Venezuela</td>\n",
       "    </tr>\n",
       "    <tr>\n",
       "      <th>2431</th>\n",
       "      <td>Vietnam</td>\n",
       "      <td>2020-03-31 23:43:43</td>\n",
       "      <td>212</td>\n",
       "      <td>0</td>\n",
       "      <td>58</td>\n",
       "      <td>154</td>\n",
       "      <td>Vietnam</td>\n",
       "    </tr>\n",
       "    <tr>\n",
       "      <th>2432</th>\n",
       "      <td>West Bank and Gaza</td>\n",
       "      <td>2020-03-31 23:43:43</td>\n",
       "      <td>119</td>\n",
       "      <td>1</td>\n",
       "      <td>18</td>\n",
       "      <td>100</td>\n",
       "      <td>West Bank and Gaza</td>\n",
       "    </tr>\n",
       "    <tr>\n",
       "      <th>2433</th>\n",
       "      <td>Zambia</td>\n",
       "      <td>2020-03-31 23:43:43</td>\n",
       "      <td>35</td>\n",
       "      <td>0</td>\n",
       "      <td>0</td>\n",
       "      <td>35</td>\n",
       "      <td>Zambia</td>\n",
       "    </tr>\n",
       "    <tr>\n",
       "      <th>2434</th>\n",
       "      <td>Zimbabwe</td>\n",
       "      <td>2020-03-31 23:43:43</td>\n",
       "      <td>8</td>\n",
       "      <td>1</td>\n",
       "      <td>0</td>\n",
       "      <td>7</td>\n",
       "      <td>Zimbabwe</td>\n",
       "    </tr>\n",
       "  </tbody>\n",
       "</table>\n",
       "<p>2435 rows × 7 columns</p>\n",
       "</div>"
      ],
      "text/plain": [
       "          Country_Region          Last_Update  Confirmed  Deaths  Recovered  \\\n",
       "0                     US  2020-03-31 23:43:56          4       0          0   \n",
       "1                     US  2020-03-31 23:43:56         39       1          0   \n",
       "2                     US  2020-03-31 23:43:56          7       0          0   \n",
       "3                     US  2020-03-31 23:43:56        195       3          0   \n",
       "4                     US  2020-03-31 23:43:56          1       0          0   \n",
       "...                  ...                  ...        ...     ...        ...   \n",
       "2430           Venezuela  2020-03-31 23:43:43        135       3         39   \n",
       "2431             Vietnam  2020-03-31 23:43:43        212       0         58   \n",
       "2432  West Bank and Gaza  2020-03-31 23:43:43        119       1         18   \n",
       "2433              Zambia  2020-03-31 23:43:43         35       0          0   \n",
       "2434            Zimbabwe  2020-03-31 23:43:43          8       1          0   \n",
       "\n",
       "      Active                   Combined_Key  \n",
       "0          0  Abbeville, South Carolina, US  \n",
       "1          0          Acadia, Louisiana, US  \n",
       "2          0         Accomack, Virginia, US  \n",
       "3          0                 Ada, Idaho, US  \n",
       "4          0                Adair, Iowa, US  \n",
       "...      ...                            ...  \n",
       "2430      93                      Venezuela  \n",
       "2431     154                        Vietnam  \n",
       "2432     100             West Bank and Gaza  \n",
       "2433      35                         Zambia  \n",
       "2434       7                       Zimbabwe  \n",
       "\n",
       "[2435 rows x 7 columns]"
      ]
     },
     "execution_count": 266,
     "metadata": {},
     "output_type": "execute_result"
    }
   ],
   "source": [
    "end_mar = end_mar.drop(['FIPS'], axis=1)\n",
    "end_mar = end_mar.drop(['Admin2'], axis=1)\n",
    "end_mar = end_mar.drop(['Province_State'], axis=1)\n",
    "end_mar = end_mar.drop(['Lat'], axis=1)\n",
    "end_mar = end_mar.drop(['Long_'], axis=1)\n",
    "end_mar"
   ]
  },
  {
   "cell_type": "markdown",
   "metadata": {
    "id": "V6daUdlYAPje"
   },
   "source": [
    "We are going to check if there are any empty regions. If there are, we have to remove them. However, there can be missing Province_State since some countries cases are so small they collect only for the country as a whole and not by region. There are no null countries so we do not have to check."
   ]
  },
  {
   "cell_type": "code",
   "execution_count": 267,
   "metadata": {
    "id": "HWY8ETn9APjf",
    "outputId": "352378ea-919b-4797-c09b-ba2e7140cec2"
   },
   "outputs": [
    {
     "data": {
      "text/plain": [
       "0"
      ]
     },
     "execution_count": 267,
     "metadata": {},
     "output_type": "execute_result"
    }
   ],
   "source": [
    "end_feb['Country/Region'].isna().sum()"
   ]
  },
  {
   "cell_type": "code",
   "execution_count": 268,
   "metadata": {
    "id": "KCfPDjfOAPjh",
    "outputId": "1058c377-c44c-43e2-c01f-408a0f55a8dd"
   },
   "outputs": [
    {
     "data": {
      "text/html": [
       "<div>\n",
       "<style scoped>\n",
       "    .dataframe tbody tr th:only-of-type {\n",
       "        vertical-align: middle;\n",
       "    }\n",
       "\n",
       "    .dataframe tbody tr th {\n",
       "        vertical-align: top;\n",
       "    }\n",
       "\n",
       "    .dataframe thead th {\n",
       "        text-align: right;\n",
       "    }\n",
       "</style>\n",
       "<table border=\"1\" class=\"dataframe\">\n",
       "  <thead>\n",
       "    <tr style=\"text-align: right;\">\n",
       "      <th></th>\n",
       "      <th>Country/Region</th>\n",
       "      <th>Confirmed</th>\n",
       "    </tr>\n",
       "  </thead>\n",
       "  <tbody>\n",
       "    <tr>\n",
       "      <th>0</th>\n",
       "      <td>Mainland China</td>\n",
       "      <td>66337</td>\n",
       "    </tr>\n",
       "    <tr>\n",
       "      <th>1</th>\n",
       "      <td>South Korea</td>\n",
       "      <td>3150</td>\n",
       "    </tr>\n",
       "    <tr>\n",
       "      <th>2</th>\n",
       "      <td>Mainland China</td>\n",
       "      <td>1349</td>\n",
       "    </tr>\n",
       "    <tr>\n",
       "      <th>3</th>\n",
       "      <td>Mainland China</td>\n",
       "      <td>1272</td>\n",
       "    </tr>\n",
       "    <tr>\n",
       "      <th>4</th>\n",
       "      <td>Mainland China</td>\n",
       "      <td>1205</td>\n",
       "    </tr>\n",
       "    <tr>\n",
       "      <th>...</th>\n",
       "      <td>...</td>\n",
       "      <td>...</td>\n",
       "    </tr>\n",
       "    <tr>\n",
       "      <th>114</th>\n",
       "      <td>US</td>\n",
       "      <td>1</td>\n",
       "    </tr>\n",
       "    <tr>\n",
       "      <th>115</th>\n",
       "      <td>Australia</td>\n",
       "      <td>0</td>\n",
       "    </tr>\n",
       "    <tr>\n",
       "      <th>116</th>\n",
       "      <td>US</td>\n",
       "      <td>0</td>\n",
       "    </tr>\n",
       "    <tr>\n",
       "      <th>117</th>\n",
       "      <td>US</td>\n",
       "      <td>0</td>\n",
       "    </tr>\n",
       "    <tr>\n",
       "      <th>118</th>\n",
       "      <td>US</td>\n",
       "      <td>0</td>\n",
       "    </tr>\n",
       "  </tbody>\n",
       "</table>\n",
       "<p>119 rows × 2 columns</p>\n",
       "</div>"
      ],
      "text/plain": [
       "     Country/Region  Confirmed\n",
       "0    Mainland China      66337\n",
       "1       South Korea       3150\n",
       "2    Mainland China       1349\n",
       "3    Mainland China       1272\n",
       "4    Mainland China       1205\n",
       "..              ...        ...\n",
       "114              US          1\n",
       "115       Australia          0\n",
       "116              US          0\n",
       "117              US          0\n",
       "118              US          0\n",
       "\n",
       "[119 rows x 2 columns]"
      ]
     },
     "execution_count": 268,
     "metadata": {},
     "output_type": "execute_result"
    }
   ],
   "source": [
    "end_feb_cases = end_feb.filter(items=['Country/Region', 'Confirmed'])\n",
    "end_feb_cases"
   ]
  },
  {
   "cell_type": "markdown",
   "metadata": {
    "id": "OmNtUW2aAPjj"
   },
   "source": [
    "We are going to check the confirmed cases to see if there are NaN values. If they are we take them out. Since there are none, we can continue. "
   ]
  },
  {
   "cell_type": "code",
   "execution_count": 269,
   "metadata": {
    "id": "RIu6aT43APjk",
    "outputId": "7202192d-21c9-45c6-9337-b0669c4c3f27"
   },
   "outputs": [
    {
     "data": {
      "text/plain": [
       "0"
      ]
     },
     "execution_count": 269,
     "metadata": {},
     "output_type": "execute_result"
    }
   ],
   "source": [
    "end_feb_cases['Country/Region'].isna().sum()"
   ]
  },
  {
   "cell_type": "code",
   "execution_count": 270,
   "metadata": {
    "id": "mGkFgVDKAPjm",
    "outputId": "6fb7551e-b80d-499a-f66f-c2090244c9a2"
   },
   "outputs": [
    {
     "name": "stdout",
     "output_type": "stream",
     "text": [
      "Confirmed    722.789916\n",
      "dtype: float64 \n",
      " Confirmed    6.0\n",
      "dtype: float64\n"
     ]
    }
   ],
   "source": [
    "mean = end_feb_cases.mean()\n",
    "median = end_feb_cases.median()\n",
    "print(mean, '\\n', median)"
   ]
  },
  {
   "cell_type": "markdown",
   "metadata": {
    "id": "7XIHxFiSAPjo"
   },
   "source": [
    "### Countries with the highest cases (the Outliers) on February 29 2020\n",
    "\n",
    "Now we will want to check two things. Are there outliers? We will not be removing them because these outliers are not indicators of incorrecly measured data but because of where outbreaks began and spread earlier on. Ouliers in this case just show places with higher rates than everyone else. We are checking for outliers to see any particular regions hit particularly badly with coronavirus in relation to the rest of the world. "
   ]
  },
  {
   "cell_type": "code",
   "execution_count": 271,
   "metadata": {},
   "outputs": [],
   "source": [
    "import matplotlib\n",
    "%matplotlib inline\n",
    "import matplotlib.pyplot as plt"
   ]
  },
  {
   "cell_type": "code",
   "execution_count": 272,
   "metadata": {
    "id": "JhLyooM7APjp",
    "outputId": "7a29a4c8-3365-4cd1-9b99-59612b9bec64"
   },
   "outputs": [
    {
     "data": {
      "image/png": "[encoded data removed]",
      "text/plain": [
       "<Figure size 432x288 with 1 Axes>"
      ]
     },
     "metadata": {
      "needs_background": "light"
     },
     "output_type": "display_data"
    }
   ],
   "source": [
    "groupCountries = end_feb_cases.groupby(\"Country/Region\").sum().reset_index()\n",
    "groupCountries = groupCountries.sort_values('Confirmed')\n",
    "median_case_count = groupCountries.median()\n",
    "length = len(groupCountries)//2 \n",
    "q1r = groupCountries[:length]\n",
    "q3r = groupCountries[length+1:]\n",
    "q1 = q1r[\"Confirmed\"].median()\n",
    "q3 = q3r[\"Confirmed\"].median()\n",
    "iqr = q3 - q1\n",
    "outl1 = q1 - (1.5 * iqr)\n",
    "outl3 = q3 + (1.5 * iqr)\n",
    "low_outliers = groupCountries[groupCountries[\"Confirmed\"] < outl1].index\n",
    "low_outliers = low_outliers.tolist()\n",
    "high_outliers = groupCountries[groupCountries[\"Confirmed\"] > outl3].index\n",
    "high_outliers = high_outliers.tolist()  \n",
    "large_cases = groupCountries.loc[high_outliers]\n",
    "large_cases = large_cases[large_cases[\"Country/Region\"] != \"Others\"]\n",
    "plt.barh(large_cases['Country/Region'], large_cases['Confirmed'])\n",
    "plt.title(\"Countries with the largest cases by February 29 2020\")\n",
    "plt.ylabel(\"Countries\")\n",
    "plt.xlabel(\"Covid-19 Case Count\")\n",
    "plt.show()"
   ]
  },
  {
   "cell_type": "markdown",
   "metadata": {
    "id": "h3CQ5uTwAPjr"
   },
   "source": [
    "### Samples\n",
    "We are now going to look at the March cases. What we want to see looking at our samples and medians, do countries around the world drawn at random have similar amount of cases- we will know if the medians are the same. This is probablistic sampling without replacement. We want to see how likely they will be the same median and not be the same country."
   ]
  },
  {
   "cell_type": "code",
   "execution_count": 273,
   "metadata": {
    "id": "QtLrRGCgAPjr",
    "outputId": "835244c9-c73a-43df-d700-525d21001f45",
    "scrolled": true
   },
   "outputs": [
    {
     "data": {
      "text/html": [
       "<div>\n",
       "<style scoped>\n",
       "    .dataframe tbody tr th:only-of-type {\n",
       "        vertical-align: middle;\n",
       "    }\n",
       "\n",
       "    .dataframe tbody tr th {\n",
       "        vertical-align: top;\n",
       "    }\n",
       "\n",
       "    .dataframe thead th {\n",
       "        text-align: right;\n",
       "    }\n",
       "</style>\n",
       "<table border=\"1\" class=\"dataframe\">\n",
       "  <thead>\n",
       "    <tr style=\"text-align: right;\">\n",
       "      <th></th>\n",
       "      <th>Country_Region</th>\n",
       "      <th>Confirmed</th>\n",
       "    </tr>\n",
       "  </thead>\n",
       "  <tbody>\n",
       "    <tr>\n",
       "      <th>0</th>\n",
       "      <td>Afghanistan</td>\n",
       "      <td>175</td>\n",
       "    </tr>\n",
       "    <tr>\n",
       "      <th>1</th>\n",
       "      <td>Albania</td>\n",
       "      <td>243</td>\n",
       "    </tr>\n",
       "    <tr>\n",
       "      <th>2</th>\n",
       "      <td>Algeria</td>\n",
       "      <td>716</td>\n",
       "    </tr>\n",
       "    <tr>\n",
       "      <th>3</th>\n",
       "      <td>Andorra</td>\n",
       "      <td>376</td>\n",
       "    </tr>\n",
       "    <tr>\n",
       "      <th>4</th>\n",
       "      <td>Angola</td>\n",
       "      <td>7</td>\n",
       "    </tr>\n",
       "    <tr>\n",
       "      <th>...</th>\n",
       "      <td>...</td>\n",
       "      <td>...</td>\n",
       "    </tr>\n",
       "    <tr>\n",
       "      <th>175</th>\n",
       "      <td>Venezuela</td>\n",
       "      <td>135</td>\n",
       "    </tr>\n",
       "    <tr>\n",
       "      <th>176</th>\n",
       "      <td>Vietnam</td>\n",
       "      <td>212</td>\n",
       "    </tr>\n",
       "    <tr>\n",
       "      <th>177</th>\n",
       "      <td>West Bank and Gaza</td>\n",
       "      <td>119</td>\n",
       "    </tr>\n",
       "    <tr>\n",
       "      <th>178</th>\n",
       "      <td>Zambia</td>\n",
       "      <td>35</td>\n",
       "    </tr>\n",
       "    <tr>\n",
       "      <th>179</th>\n",
       "      <td>Zimbabwe</td>\n",
       "      <td>8</td>\n",
       "    </tr>\n",
       "  </tbody>\n",
       "</table>\n",
       "<p>180 rows × 2 columns</p>\n",
       "</div>"
      ],
      "text/plain": [
       "         Country_Region  Confirmed\n",
       "0           Afghanistan        175\n",
       "1               Albania        243\n",
       "2               Algeria        716\n",
       "3               Andorra        376\n",
       "4                Angola          7\n",
       "..                  ...        ...\n",
       "175           Venezuela        135\n",
       "176             Vietnam        212\n",
       "177  West Bank and Gaza        119\n",
       "178              Zambia         35\n",
       "179            Zimbabwe          8\n",
       "\n",
       "[180 rows x 2 columns]"
      ]
     },
     "execution_count": 273,
     "metadata": {},
     "output_type": "execute_result"
    }
   ],
   "source": [
    "end_mar_cases = end_mar.filter(items=[\"Country_Region\", \"Confirmed\"])\n",
    "end_mar_countries = end_mar_cases.groupby(\"Country_Region\").sum()\n",
    "end_mar_countries = end_mar_countries.reset_index()\n",
    "end_mar_countries "
   ]
  },
  {
   "cell_type": "code",
   "execution_count": 274,
   "metadata": {
    "id": "TzrE0gIvAPjt",
    "outputId": "2df66661-c37e-4ddc-c96e-1b4f1a2ad7ec"
   },
   "outputs": [
    {
     "name": "stdout",
     "output_type": "stream",
     "text": [
      "median: 182.5 mean: 4766.238888888889 standard deviation: 19839.16123327345\n"
     ]
    }
   ],
   "source": [
    "end_mar_countries  \n",
    "median = end_mar_countries[\"Confirmed\"].median()\n",
    "mean = end_mar_countries[\"Confirmed\"].mean()\n",
    "stnddev = end_mar_countries[\"Confirmed\"].std()\n",
    "print(\"median:\", median, \"mean:\", mean, \"standard deviation:\", stnddev)"
   ]
  },
  {
   "cell_type": "code",
   "execution_count": 275,
   "metadata": {
    "id": "Z6QG4Mp2APjw",
    "outputId": "d6fd7c18-4448-4707-ed82-94b7c9aea57c"
   },
   "outputs": [
    {
     "name": "stdout",
     "output_type": "stream",
     "text": [
      "median: 65.0 mean: 5588.022222222222 standard deviation: 28626.272935165445\n"
     ]
    }
   ],
   "source": [
    "mar_sample_one = end_mar_countries.sample(45, replace=False)\n",
    "medianOne = mar_sample_one[\"Confirmed\"].median()\n",
    "meanOne = mar_sample_one[\"Confirmed\"].mean()\n",
    "stnddev = mar_sample_one[\"Confirmed\"].std()\n",
    "print(\"median:\", medianOne, \"mean:\", meanOne, \"standard deviation:\", stnddev)"
   ]
  },
  {
   "cell_type": "code",
   "execution_count": 276,
   "metadata": {
    "id": "Kek-vzXmAPjy",
    "outputId": "eeca2440-5690-4283-ece5-2084b4b1b3b9"
   },
   "outputs": [
    {
     "name": "stdout",
     "output_type": "stream",
     "text": [
      "median: mean: 143.0 3840.6 standard deviation: 28626.272935165445\n"
     ]
    }
   ],
   "source": [
    "mar_sample_two = end_mar_countries.sample(45, replace=False)\n",
    "medianTwo = mar_sample_two[\"Confirmed\"].median()\n",
    "meanTwo = mar_sample_two[\"Confirmed\"].mean()\n",
    "stnddev = mar_sample_one[\"Confirmed\"].std()\n",
    "print(\"median:\", \"mean:\", medianTwo, meanTwo, \"standard deviation:\", stnddev)"
   ]
  },
  {
   "cell_type": "code",
   "execution_count": 277,
   "metadata": {
    "id": "mS1V9Uo0APj0",
    "outputId": "b4503c8f-7efb-4b1b-b543-1038dae944ae"
   },
   "outputs": [
    {
     "name": "stdout",
     "output_type": "stream",
     "text": [
      "median: 193.0 mean: 3840.6 standard deviation: 28626.272935165445\n"
     ]
    }
   ],
   "source": [
    "mar_sample_three = end_mar_countries.sample(45, replace=False)\n",
    "medianThree = mar_sample_three[\"Confirmed\"].median()\n",
    "meanThree = mar_sample_two[\"Confirmed\"].mean()\n",
    "stnddev = mar_sample_one[\"Confirmed\"].std()\n",
    "print(\"median:\", medianThree, \"mean:\", meanThree, \"standard deviation:\", stnddev)"
   ]
  },
  {
   "cell_type": "markdown",
   "metadata": {
    "id": "_4qHE1SgAPj2"
   },
   "source": [
    "#### Conclusion: The samples have very similar standard of deviation, similar but varying means and medians. Thus sample is similar to the dataset."
   ]
  },
  {
   "cell_type": "markdown",
   "metadata": {
    "id": "kO6EcE9TAPj3"
   },
   "source": [
    "### Probability \n",
    "We want to see the liklihood of the following events: \n",
    "1. Amongst every 20 countries, how likely are they to not have over 10000 cases by Mar 31.\n",
    "2. Amongst every 5 countries, how likely are they to have less than 1000 cases by Feb 29.\n",
    "3. Is it equally like amongst the 10 countries with the highest GDPs, if they would have over 800,000 cases by October 31st."
   ]
  },
  {
   "cell_type": "markdown",
   "metadata": {},
   "source": [
    "We are using with replacement for all because the sample size is small. "
   ]
  },
  {
   "cell_type": "code",
   "execution_count": 278,
   "metadata": {
    "id": "pHB5ztY8APj3",
    "outputId": "0cc40f1c-d023-48e7-b6ae-4c7ae19193d9"
   },
   "outputs": [
    {
     "data": {
      "text/html": [
       "<div>\n",
       "<style scoped>\n",
       "    .dataframe tbody tr th:only-of-type {\n",
       "        vertical-align: middle;\n",
       "    }\n",
       "\n",
       "    .dataframe tbody tr th {\n",
       "        vertical-align: top;\n",
       "    }\n",
       "\n",
       "    .dataframe thead th {\n",
       "        text-align: right;\n",
       "    }\n",
       "</style>\n",
       "<table border=\"1\" class=\"dataframe\">\n",
       "  <thead>\n",
       "    <tr style=\"text-align: right;\">\n",
       "      <th></th>\n",
       "      <th>Probability we will not see a country with over 10000 cases by end of March</th>\n",
       "    </tr>\n",
       "  </thead>\n",
       "  <tbody>\n",
       "    <tr>\n",
       "      <th>0</th>\n",
       "      <td>167/180</td>\n",
       "    </tr>\n",
       "    <tr>\n",
       "      <th>1</th>\n",
       "      <td>167/180</td>\n",
       "    </tr>\n",
       "    <tr>\n",
       "      <th>2</th>\n",
       "      <td>167/180</td>\n",
       "    </tr>\n",
       "    <tr>\n",
       "      <th>3</th>\n",
       "      <td>167/180</td>\n",
       "    </tr>\n",
       "    <tr>\n",
       "      <th>4</th>\n",
       "      <td>167/180</td>\n",
       "    </tr>\n",
       "    <tr>\n",
       "      <th>5</th>\n",
       "      <td>167/180</td>\n",
       "    </tr>\n",
       "    <tr>\n",
       "      <th>6</th>\n",
       "      <td>167/180</td>\n",
       "    </tr>\n",
       "    <tr>\n",
       "      <th>7</th>\n",
       "      <td>167/180</td>\n",
       "    </tr>\n",
       "    <tr>\n",
       "      <th>8</th>\n",
       "      <td>167/180</td>\n",
       "    </tr>\n",
       "    <tr>\n",
       "      <th>9</th>\n",
       "      <td>167/180</td>\n",
       "    </tr>\n",
       "    <tr>\n",
       "      <th>10</th>\n",
       "      <td>167/180</td>\n",
       "    </tr>\n",
       "    <tr>\n",
       "      <th>11</th>\n",
       "      <td>167/180</td>\n",
       "    </tr>\n",
       "    <tr>\n",
       "      <th>12</th>\n",
       "      <td>167/180</td>\n",
       "    </tr>\n",
       "    <tr>\n",
       "      <th>13</th>\n",
       "      <td>167/180</td>\n",
       "    </tr>\n",
       "    <tr>\n",
       "      <th>14</th>\n",
       "      <td>167/180</td>\n",
       "    </tr>\n",
       "    <tr>\n",
       "      <th>15</th>\n",
       "      <td>167/180</td>\n",
       "    </tr>\n",
       "    <tr>\n",
       "      <th>16</th>\n",
       "      <td>167/180</td>\n",
       "    </tr>\n",
       "    <tr>\n",
       "      <th>17</th>\n",
       "      <td>167/180</td>\n",
       "    </tr>\n",
       "    <tr>\n",
       "      <th>18</th>\n",
       "      <td>167/180</td>\n",
       "    </tr>\n",
       "    <tr>\n",
       "      <th>19</th>\n",
       "      <td>167/180</td>\n",
       "    </tr>\n",
       "  </tbody>\n",
       "</table>\n",
       "</div>"
      ],
      "text/plain": [
       "   Probability we will not see a country with over 10000 cases by end of March\n",
       "0                                             167/180                         \n",
       "1                                             167/180                         \n",
       "2                                             167/180                         \n",
       "3                                             167/180                         \n",
       "4                                             167/180                         \n",
       "5                                             167/180                         \n",
       "6                                             167/180                         \n",
       "7                                             167/180                         \n",
       "8                                             167/180                         \n",
       "9                                             167/180                         \n",
       "10                                            167/180                         \n",
       "11                                            167/180                         \n",
       "12                                            167/180                         \n",
       "13                                            167/180                         \n",
       "14                                            167/180                         \n",
       "15                                            167/180                         \n",
       "16                                            167/180                         \n",
       "17                                            167/180                         \n",
       "18                                            167/180                         \n",
       "19                                            167/180                         "
      ]
     },
     "execution_count": 278,
     "metadata": {},
     "output_type": "execute_result"
    }
   ],
   "source": [
    "from copy import deepcopy\n",
    "from fractions import Fraction\n",
    "over_10000_index = end_mar_countries[end_mar_countries[\"Confirmed\"] > 10000].index\n",
    "over_10000_index = over_10000_index.tolist()\n",
    "over_10000 = end_mar_countries.loc[over_10000_index]\n",
    "over_10000\n",
    "data = {'Case Count': [], \n",
    "        'Probability':[]\n",
    "}\n",
    "def probs_over_ten_thousand(countries):\n",
    "    by_country = deepcopy(countries)\n",
    "    num_countries = len(over_10000_index)\n",
    "    for i in range(20):\n",
    "        country_picked = np.random.choice(by_country)\n",
    "        data['Case Count'].append(country_picked)\n",
    "        if country_picked in over_10000_index:\n",
    "            num_countries -= 1\n",
    "        data['Probability'].append(str(len(by_country)-num_countries) +'/' + str(len(by_country)))\n",
    "#         by_country.remove(country_picked)\n",
    "    df = pd.DataFrame (data, columns = ['Probability'])\n",
    "    df.rename(columns = {'Probability':'Probability we will not see a country with over 10000 cases by end of March'}, inplace=True)\n",
    "    return df\n",
    "\n",
    "country_list = end_mar_countries[\"Confirmed\"].tolist()\n",
    "probs_over_ten_thousand(country_list)"
   ]
  },
  {
   "cell_type": "code",
   "execution_count": 279,
   "metadata": {
    "id": "s-fBjsL7APj6",
    "outputId": "a6ef757b-d7e9-45f3-85df-d13a1df47eb4"
   },
   "outputs": [
    {
     "data": {
      "image/png": "[encoded data removed]",
      "text/plain": [
       "<Figure size 720x576 with 1 Axes>"
      ]
     },
     "metadata": {},
     "output_type": "display_data"
    }
   ],
   "source": [
    "over_10000_index = end_mar_countries[end_mar_countries[\"Confirmed\"] > 10000].index\n",
    "over_10000_index = over_10000_index.tolist()\n",
    "over_10000 = end_mar_countries.loc[over_10000_index]\n",
    "over_10000\n",
    "\n",
    "frequency = over_10000[\"Confirmed\"].tolist()\n",
    "frequency\n",
    "plt.figure(figsize=(10,8))\n",
    "plt.pie(over_10000[\"Confirmed\"].tolist(), labels=over_10000[\"Country_Region\"].tolist(), autopct='%1.1f%%',startangle=5)\n",
    "plt.title('Countries with over 10000 Corona Virus Cases by March 31st 2020', size=30)\n",
    "plt.axis('equal')\n",
    "plt.show()   \n",
    "  "
   ]
  },
  {
   "cell_type": "markdown",
   "metadata": {
    "id": "tVab_28zAPj9"
   },
   "source": [
    "### Probability based on equal chances. \n",
    "Amongst the top GDP Countries, There is an equal chance that the country has over 800,000 Confirmed Cases"
   ]
  },
  {
   "cell_type": "code",
   "execution_count": 280,
   "metadata": {
    "id": "p0Pf0xDKAPkD",
    "outputId": "8c7ebfaf-8229-46b3-9544-3f2ee55088cf"
   },
   "outputs": [
    {
     "data": {
      "text/html": [
       "<div>\n",
       "<style scoped>\n",
       "    .dataframe tbody tr th:only-of-type {\n",
       "        vertical-align: middle;\n",
       "    }\n",
       "\n",
       "    .dataframe tbody tr th {\n",
       "        vertical-align: top;\n",
       "    }\n",
       "\n",
       "    .dataframe thead th {\n",
       "        text-align: right;\n",
       "    }\n",
       "</style>\n",
       "<table border=\"1\" class=\"dataframe\">\n",
       "  <thead>\n",
       "    <tr style=\"text-align: right;\">\n",
       "      <th></th>\n",
       "      <th>FIPS</th>\n",
       "      <th>Admin2</th>\n",
       "      <th>Province_State</th>\n",
       "      <th>Country_Region</th>\n",
       "      <th>Last_Update</th>\n",
       "      <th>Lat</th>\n",
       "      <th>Long_</th>\n",
       "      <th>Confirmed</th>\n",
       "      <th>Deaths</th>\n",
       "      <th>Recovered</th>\n",
       "      <th>Active</th>\n",
       "      <th>Combined_Key</th>\n",
       "      <th>Incidence_Rate</th>\n",
       "      <th>Case-Fatality_Ratio</th>\n",
       "    </tr>\n",
       "  </thead>\n",
       "  <tbody>\n",
       "    <tr>\n",
       "      <th>0</th>\n",
       "      <td>NaN</td>\n",
       "      <td>NaN</td>\n",
       "      <td>NaN</td>\n",
       "      <td>Afghanistan</td>\n",
       "      <td>2020-10-31 04:24:44</td>\n",
       "      <td>33.939110</td>\n",
       "      <td>67.709953</td>\n",
       "      <td>41334</td>\n",
       "      <td>1535</td>\n",
       "      <td>34258</td>\n",
       "      <td>5543.0</td>\n",
       "      <td>Afghanistan</td>\n",
       "      <td>106.179711</td>\n",
       "      <td>3.708811</td>\n",
       "    </tr>\n",
       "    <tr>\n",
       "      <th>1</th>\n",
       "      <td>NaN</td>\n",
       "      <td>NaN</td>\n",
       "      <td>NaN</td>\n",
       "      <td>Albania</td>\n",
       "      <td>2020-10-31 04:24:44</td>\n",
       "      <td>41.153300</td>\n",
       "      <td>20.168300</td>\n",
       "      <td>20634</td>\n",
       "      <td>502</td>\n",
       "      <td>11097</td>\n",
       "      <td>9035.0</td>\n",
       "      <td>Albania</td>\n",
       "      <td>717.006046</td>\n",
       "      <td>2.432878</td>\n",
       "    </tr>\n",
       "    <tr>\n",
       "      <th>2</th>\n",
       "      <td>NaN</td>\n",
       "      <td>NaN</td>\n",
       "      <td>NaN</td>\n",
       "      <td>Algeria</td>\n",
       "      <td>2020-10-31 04:24:44</td>\n",
       "      <td>28.033900</td>\n",
       "      <td>1.659600</td>\n",
       "      <td>57651</td>\n",
       "      <td>1956</td>\n",
       "      <td>40014</td>\n",
       "      <td>15681.0</td>\n",
       "      <td>Algeria</td>\n",
       "      <td>131.470077</td>\n",
       "      <td>3.392829</td>\n",
       "    </tr>\n",
       "    <tr>\n",
       "      <th>3</th>\n",
       "      <td>NaN</td>\n",
       "      <td>NaN</td>\n",
       "      <td>NaN</td>\n",
       "      <td>Andorra</td>\n",
       "      <td>2020-10-31 04:24:44</td>\n",
       "      <td>42.506300</td>\n",
       "      <td>1.521800</td>\n",
       "      <td>4665</td>\n",
       "      <td>75</td>\n",
       "      <td>3377</td>\n",
       "      <td>1213.0</td>\n",
       "      <td>Andorra</td>\n",
       "      <td>6037.662590</td>\n",
       "      <td>1.607717</td>\n",
       "    </tr>\n",
       "    <tr>\n",
       "      <th>4</th>\n",
       "      <td>NaN</td>\n",
       "      <td>NaN</td>\n",
       "      <td>NaN</td>\n",
       "      <td>Angola</td>\n",
       "      <td>2020-10-31 04:24:44</td>\n",
       "      <td>-11.202700</td>\n",
       "      <td>17.873900</td>\n",
       "      <td>10558</td>\n",
       "      <td>279</td>\n",
       "      <td>4107</td>\n",
       "      <td>6172.0</td>\n",
       "      <td>Angola</td>\n",
       "      <td>32.124122</td>\n",
       "      <td>2.642546</td>\n",
       "    </tr>\n",
       "    <tr>\n",
       "      <th>...</th>\n",
       "      <td>...</td>\n",
       "      <td>...</td>\n",
       "      <td>...</td>\n",
       "      <td>...</td>\n",
       "      <td>...</td>\n",
       "      <td>...</td>\n",
       "      <td>...</td>\n",
       "      <td>...</td>\n",
       "      <td>...</td>\n",
       "      <td>...</td>\n",
       "      <td>...</td>\n",
       "      <td>...</td>\n",
       "      <td>...</td>\n",
       "      <td>...</td>\n",
       "    </tr>\n",
       "    <tr>\n",
       "      <th>3956</th>\n",
       "      <td>NaN</td>\n",
       "      <td>NaN</td>\n",
       "      <td>NaN</td>\n",
       "      <td>West Bank and Gaza</td>\n",
       "      <td>2020-10-31 04:24:44</td>\n",
       "      <td>31.952200</td>\n",
       "      <td>35.233200</td>\n",
       "      <td>53075</td>\n",
       "      <td>481</td>\n",
       "      <td>45896</td>\n",
       "      <td>6698.0</td>\n",
       "      <td>West Bank and Gaza</td>\n",
       "      <td>1040.397411</td>\n",
       "      <td>0.906265</td>\n",
       "    </tr>\n",
       "    <tr>\n",
       "      <th>3957</th>\n",
       "      <td>NaN</td>\n",
       "      <td>NaN</td>\n",
       "      <td>NaN</td>\n",
       "      <td>Western Sahara</td>\n",
       "      <td>2020-10-31 04:24:44</td>\n",
       "      <td>24.215500</td>\n",
       "      <td>-12.885800</td>\n",
       "      <td>10</td>\n",
       "      <td>1</td>\n",
       "      <td>8</td>\n",
       "      <td>1.0</td>\n",
       "      <td>Western Sahara</td>\n",
       "      <td>1.674116</td>\n",
       "      <td>10.000000</td>\n",
       "    </tr>\n",
       "    <tr>\n",
       "      <th>3958</th>\n",
       "      <td>NaN</td>\n",
       "      <td>NaN</td>\n",
       "      <td>NaN</td>\n",
       "      <td>Yemen</td>\n",
       "      <td>2020-10-31 04:24:44</td>\n",
       "      <td>15.552727</td>\n",
       "      <td>48.516388</td>\n",
       "      <td>2062</td>\n",
       "      <td>599</td>\n",
       "      <td>1366</td>\n",
       "      <td>97.0</td>\n",
       "      <td>Yemen</td>\n",
       "      <td>6.913439</td>\n",
       "      <td>29.049467</td>\n",
       "    </tr>\n",
       "    <tr>\n",
       "      <th>3959</th>\n",
       "      <td>NaN</td>\n",
       "      <td>NaN</td>\n",
       "      <td>NaN</td>\n",
       "      <td>Zambia</td>\n",
       "      <td>2020-10-31 04:24:44</td>\n",
       "      <td>-13.133897</td>\n",
       "      <td>27.849332</td>\n",
       "      <td>16415</td>\n",
       "      <td>349</td>\n",
       "      <td>15600</td>\n",
       "      <td>466.0</td>\n",
       "      <td>Zambia</td>\n",
       "      <td>89.289813</td>\n",
       "      <td>2.126104</td>\n",
       "    </tr>\n",
       "    <tr>\n",
       "      <th>3960</th>\n",
       "      <td>NaN</td>\n",
       "      <td>NaN</td>\n",
       "      <td>NaN</td>\n",
       "      <td>Zimbabwe</td>\n",
       "      <td>2020-10-31 04:24:44</td>\n",
       "      <td>-19.015438</td>\n",
       "      <td>29.154857</td>\n",
       "      <td>8362</td>\n",
       "      <td>242</td>\n",
       "      <td>7884</td>\n",
       "      <td>236.0</td>\n",
       "      <td>Zimbabwe</td>\n",
       "      <td>56.260789</td>\n",
       "      <td>2.894044</td>\n",
       "    </tr>\n",
       "  </tbody>\n",
       "</table>\n",
       "<p>3961 rows × 14 columns</p>\n",
       "</div>"
      ],
      "text/plain": [
       "      FIPS Admin2 Province_State      Country_Region          Last_Update  \\\n",
       "0      NaN    NaN            NaN         Afghanistan  2020-10-31 04:24:44   \n",
       "1      NaN    NaN            NaN             Albania  2020-10-31 04:24:44   \n",
       "2      NaN    NaN            NaN             Algeria  2020-10-31 04:24:44   \n",
       "3      NaN    NaN            NaN             Andorra  2020-10-31 04:24:44   \n",
       "4      NaN    NaN            NaN              Angola  2020-10-31 04:24:44   \n",
       "...    ...    ...            ...                 ...                  ...   \n",
       "3956   NaN    NaN            NaN  West Bank and Gaza  2020-10-31 04:24:44   \n",
       "3957   NaN    NaN            NaN      Western Sahara  2020-10-31 04:24:44   \n",
       "3958   NaN    NaN            NaN               Yemen  2020-10-31 04:24:44   \n",
       "3959   NaN    NaN            NaN              Zambia  2020-10-31 04:24:44   \n",
       "3960   NaN    NaN            NaN            Zimbabwe  2020-10-31 04:24:44   \n",
       "\n",
       "            Lat      Long_  Confirmed  Deaths  Recovered   Active  \\\n",
       "0     33.939110  67.709953      41334    1535      34258   5543.0   \n",
       "1     41.153300  20.168300      20634     502      11097   9035.0   \n",
       "2     28.033900   1.659600      57651    1956      40014  15681.0   \n",
       "3     42.506300   1.521800       4665      75       3377   1213.0   \n",
       "4    -11.202700  17.873900      10558     279       4107   6172.0   \n",
       "...         ...        ...        ...     ...        ...      ...   \n",
       "3956  31.952200  35.233200      53075     481      45896   6698.0   \n",
       "3957  24.215500 -12.885800         10       1          8      1.0   \n",
       "3958  15.552727  48.516388       2062     599       1366     97.0   \n",
       "3959 -13.133897  27.849332      16415     349      15600    466.0   \n",
       "3960 -19.015438  29.154857       8362     242       7884    236.0   \n",
       "\n",
       "            Combined_Key  Incidence_Rate  Case-Fatality_Ratio  \n",
       "0            Afghanistan      106.179711             3.708811  \n",
       "1                Albania      717.006046             2.432878  \n",
       "2                Algeria      131.470077             3.392829  \n",
       "3                Andorra     6037.662590             1.607717  \n",
       "4                 Angola       32.124122             2.642546  \n",
       "...                  ...             ...                  ...  \n",
       "3956  West Bank and Gaza     1040.397411             0.906265  \n",
       "3957      Western Sahara        1.674116            10.000000  \n",
       "3958               Yemen        6.913439            29.049467  \n",
       "3959              Zambia       89.289813             2.126104  \n",
       "3960            Zimbabwe       56.260789             2.894044  \n",
       "\n",
       "[3961 rows x 14 columns]"
      ]
     },
     "execution_count": 280,
     "metadata": {},
     "output_type": "execute_result"
    }
   ],
   "source": [
    "end_oct = pd.read_csv(\"https://raw.githubusercontent.com/CSSEGISandData/COVID-19/master/csse_covid_19_data/csse_covid_19_daily_reports/10-30-2020.csv\", error_bad_lines=False)\n",
    "end_oct"
   ]
  },
  {
   "cell_type": "code",
   "execution_count": 281,
   "metadata": {
    "id": "H5qqTLNCAPj9",
    "outputId": "78dd3421-4c4a-4890-8990-358f7d753669"
   },
   "outputs": [
    {
     "data": {
      "text/html": [
       "<div>\n",
       "<style scoped>\n",
       "    .dataframe tbody tr th:only-of-type {\n",
       "        vertical-align: middle;\n",
       "    }\n",
       "\n",
       "    .dataframe tbody tr th {\n",
       "        vertical-align: top;\n",
       "    }\n",
       "\n",
       "    .dataframe thead th {\n",
       "        text-align: right;\n",
       "    }\n",
       "</style>\n",
       "<table border=\"1\" class=\"dataframe\">\n",
       "  <thead>\n",
       "    <tr style=\"text-align: right;\">\n",
       "      <th></th>\n",
       "      <th>Country_Region</th>\n",
       "      <th>FIPS</th>\n",
       "      <th>Lat</th>\n",
       "      <th>Long_</th>\n",
       "      <th>Confirmed</th>\n",
       "      <th>Deaths</th>\n",
       "      <th>Recovered</th>\n",
       "      <th>Active</th>\n",
       "      <th>Incidence_Rate</th>\n",
       "      <th>Case-Fatality_Ratio</th>\n",
       "    </tr>\n",
       "  </thead>\n",
       "  <tbody>\n",
       "    <tr>\n",
       "      <th>0</th>\n",
       "      <td>China</td>\n",
       "      <td>0.0</td>\n",
       "      <td>1079.625300</td>\n",
       "      <td>3686.421100</td>\n",
       "      <td>91339</td>\n",
       "      <td>4739</td>\n",
       "      <td>86111</td>\n",
       "      <td>489.0</td>\n",
       "      <td>2.362826e+02</td>\n",
       "      <td>31.083888</td>\n",
       "    </tr>\n",
       "    <tr>\n",
       "      <th>1</th>\n",
       "      <td>Japan</td>\n",
       "      <td>0.0</td>\n",
       "      <td>1661.175935</td>\n",
       "      <td>6392.055166</td>\n",
       "      <td>100450</td>\n",
       "      <td>1756</td>\n",
       "      <td>91184</td>\n",
       "      <td>7511.0</td>\n",
       "      <td>2.119783e+03</td>\n",
       "      <td>83.990255</td>\n",
       "    </tr>\n",
       "    <tr>\n",
       "      <th>2</th>\n",
       "      <td>Canada</td>\n",
       "      <td>0.0</td>\n",
       "      <td>708.855600</td>\n",
       "      <td>-1202.597900</td>\n",
       "      <td>234939</td>\n",
       "      <td>10163</td>\n",
       "      <td>196935</td>\n",
       "      <td>27842.0</td>\n",
       "      <td>3.646275e+03</td>\n",
       "      <td>28.416518</td>\n",
       "    </tr>\n",
       "    <tr>\n",
       "      <th>3</th>\n",
       "      <td>Germany</td>\n",
       "      <td>0.0</td>\n",
       "      <td>825.149500</td>\n",
       "      <td>164.446100</td>\n",
       "      <td>517736</td>\n",
       "      <td>10391</td>\n",
       "      <td>351921</td>\n",
       "      <td>155424.0</td>\n",
       "      <td>8.576042e+03</td>\n",
       "      <td>31.075288</td>\n",
       "    </tr>\n",
       "    <tr>\n",
       "      <th>4</th>\n",
       "      <td>Italy</td>\n",
       "      <td>0.0</td>\n",
       "      <td>903.972147</td>\n",
       "      <td>256.745065</td>\n",
       "      <td>647674</td>\n",
       "      <td>38321</td>\n",
       "      <td>283567</td>\n",
       "      <td>325786.0</td>\n",
       "      <td>2.200716e+04</td>\n",
       "      <td>89.695398</td>\n",
       "    </tr>\n",
       "    <tr>\n",
       "      <th>5</th>\n",
       "      <td>United Kingdom</td>\n",
       "      <td>0.0</td>\n",
       "      <td>430.416398</td>\n",
       "      <td>-495.141566</td>\n",
       "      <td>992874</td>\n",
       "      <td>46319</td>\n",
       "      <td>2811</td>\n",
       "      <td>943744.0</td>\n",
       "      <td>1.259081e+04</td>\n",
       "      <td>42.348852</td>\n",
       "    </tr>\n",
       "    <tr>\n",
       "      <th>6</th>\n",
       "      <td>France</td>\n",
       "      <td>0.0</td>\n",
       "      <td>91.463495</td>\n",
       "      <td>-238.646914</td>\n",
       "      <td>1377347</td>\n",
       "      <td>36605</td>\n",
       "      <td>122224</td>\n",
       "      <td>1218495.0</td>\n",
       "      <td>1.582456e+04</td>\n",
       "      <td>9.299933</td>\n",
       "    </tr>\n",
       "    <tr>\n",
       "      <th>7</th>\n",
       "      <td>Brazil</td>\n",
       "      <td>0.0</td>\n",
       "      <td>-342.077100</td>\n",
       "      <td>-1308.973300</td>\n",
       "      <td>5516658</td>\n",
       "      <td>159477</td>\n",
       "      <td>4987435</td>\n",
       "      <td>369746.0</td>\n",
       "      <td>9.489686e+04</td>\n",
       "      <td>69.357415</td>\n",
       "    </tr>\n",
       "    <tr>\n",
       "      <th>8</th>\n",
       "      <td>India</td>\n",
       "      <td>0.0</td>\n",
       "      <td>831.177882</td>\n",
       "      <td>2945.020567</td>\n",
       "      <td>8137119</td>\n",
       "      <td>121641</td>\n",
       "      <td>7432829</td>\n",
       "      <td>582649.0</td>\n",
       "      <td>2.896855e+04</td>\n",
       "      <td>41.980868</td>\n",
       "    </tr>\n",
       "    <tr>\n",
       "      <th>9</th>\n",
       "      <td>US</td>\n",
       "      <td>105658404.0</td>\n",
       "      <td>121585.849779</td>\n",
       "      <td>-292869.696644</td>\n",
       "      <td>9071459</td>\n",
       "      <td>229915</td>\n",
       "      <td>3578452</td>\n",
       "      <td>5235895.0</td>\n",
       "      <td>8.802870e+06</td>\n",
       "      <td>6514.287339</td>\n",
       "    </tr>\n",
       "  </tbody>\n",
       "</table>\n",
       "</div>"
      ],
      "text/plain": [
       "   Country_Region         FIPS            Lat          Long_  Confirmed  \\\n",
       "0           China          0.0    1079.625300    3686.421100      91339   \n",
       "1           Japan          0.0    1661.175935    6392.055166     100450   \n",
       "2          Canada          0.0     708.855600   -1202.597900     234939   \n",
       "3         Germany          0.0     825.149500     164.446100     517736   \n",
       "4           Italy          0.0     903.972147     256.745065     647674   \n",
       "5  United Kingdom          0.0     430.416398    -495.141566     992874   \n",
       "6          France          0.0      91.463495    -238.646914    1377347   \n",
       "7          Brazil          0.0    -342.077100   -1308.973300    5516658   \n",
       "8           India          0.0     831.177882    2945.020567    8137119   \n",
       "9              US  105658404.0  121585.849779 -292869.696644    9071459   \n",
       "\n",
       "   Deaths  Recovered     Active  Incidence_Rate  Case-Fatality_Ratio  \n",
       "0    4739      86111      489.0    2.362826e+02            31.083888  \n",
       "1    1756      91184     7511.0    2.119783e+03            83.990255  \n",
       "2   10163     196935    27842.0    3.646275e+03            28.416518  \n",
       "3   10391     351921   155424.0    8.576042e+03            31.075288  \n",
       "4   38321     283567   325786.0    2.200716e+04            89.695398  \n",
       "5   46319       2811   943744.0    1.259081e+04            42.348852  \n",
       "6   36605     122224  1218495.0    1.582456e+04             9.299933  \n",
       "7  159477    4987435   369746.0    9.489686e+04            69.357415  \n",
       "8  121641    7432829   582649.0    2.896855e+04            41.980868  \n",
       "9  229915    3578452  5235895.0    8.802870e+06          6514.287339  "
      ]
     },
     "execution_count": 281,
     "metadata": {},
     "output_type": "execute_result"
    }
   ],
   "source": [
    "# United States, China, Japan, Germany, India, United Kingdom, France, Brazil, Italy, Canada  top GDP Countries \n",
    "#Half these countries are over a certain bench mark \n",
    "\n",
    "top_gdp = end_oct[end_oct[\"Country_Region\"].isin([\"US\", \"Japan\", \"Germany\", \"India\", \"United Kingdom\", \"China\", \"Brazil\", \"France\", \"Canada\", \"Italy\"])]\n",
    "top_gdp = top_gdp.groupby(\"Country_Region\").sum()\n",
    "top_gdp = top_gdp.sort_values(\"Confirmed\")\n",
    "top_gdp = top_gdp.reset_index()\n",
    "top_gdp"
   ]
  },
  {
   "cell_type": "code",
   "execution_count": 282,
   "metadata": {
    "id": "WErA9BcKAPj_",
    "outputId": "393cc450-8a3c-4229-c9c6-bf3eddfc13e0"
   },
   "outputs": [
    {
     "data": {
      "text/html": [
       "<div>\n",
       "<style scoped>\n",
       "    .dataframe tbody tr th:only-of-type {\n",
       "        vertical-align: middle;\n",
       "    }\n",
       "\n",
       "    .dataframe tbody tr th {\n",
       "        vertical-align: top;\n",
       "    }\n",
       "\n",
       "    .dataframe thead th {\n",
       "        text-align: right;\n",
       "    }\n",
       "</style>\n",
       "<table border=\"1\" class=\"dataframe\">\n",
       "  <thead>\n",
       "    <tr style=\"text-align: right;\">\n",
       "      <th></th>\n",
       "      <th>Probability we will not see a country with under 1000 cases by end of February</th>\n",
       "    </tr>\n",
       "  </thead>\n",
       "  <tbody>\n",
       "    <tr>\n",
       "      <th>0</th>\n",
       "      <td>5/10</td>\n",
       "    </tr>\n",
       "    <tr>\n",
       "      <th>1</th>\n",
       "      <td>5/10</td>\n",
       "    </tr>\n",
       "    <tr>\n",
       "      <th>2</th>\n",
       "      <td>4/10</td>\n",
       "    </tr>\n",
       "    <tr>\n",
       "      <th>3</th>\n",
       "      <td>4/10</td>\n",
       "    </tr>\n",
       "    <tr>\n",
       "      <th>4</th>\n",
       "      <td>3/10</td>\n",
       "    </tr>\n",
       "  </tbody>\n",
       "</table>\n",
       "</div>"
      ],
      "text/plain": [
       "  Probability we will not see a country with under 1000 cases by end of February\n",
       "0                                               5/10                            \n",
       "1                                               5/10                            \n",
       "2                                               4/10                            \n",
       "3                                               4/10                            \n",
       "4                                               3/10                            "
      ]
     },
     "execution_count": 282,
     "metadata": {},
     "output_type": "execute_result"
    }
   ],
   "source": [
    "under_80000_index = top_gdp[top_gdp[\"Confirmed\"] > 800000].index\n",
    "under_80000_index = under_80000_index.tolist()\n",
    "under_80000 = top_gdp.loc[under_80000_index]\n",
    "under_80000\n",
    "data = {'Case Count': [], \n",
    "        'Probability':[]\n",
    "}\n",
    "def probs_over_800000(countries):\n",
    "    by_country = deepcopy(countries)\n",
    "    num_countries = len(under_80000_index)\n",
    "    for i in range(5):\n",
    "        country_picked = np.random.choice(by_country)\n",
    "        data['Case Count'].append(country_picked)\n",
    "        data['Probability'].append(str(num_countries) +'/' + str(len(by_country)))\n",
    "        if country_picked > 800000:\n",
    "            num_countries -= 1\n",
    "    df = pd.DataFrame (data, columns = ['Probability'])\n",
    "    df.rename(columns = {'Probability':'Probability we will not see a country with under 1000 cases by end of February'}, inplace=True)\n",
    "    return df\n",
    "\n",
    "country_list = top_gdp[\"Confirmed\"].tolist()\n",
    "probs_over_800000(country_list)"
   ]
  },
  {
   "cell_type": "code",
   "execution_count": 283,
   "metadata": {
    "id": "NoXsUjN0APkB",
    "outputId": "1ae07a56-9925-4078-b439-3d584d935a47"
   },
   "outputs": [
    {
     "data": {
      "text/html": [
       "<div>\n",
       "<style scoped>\n",
       "    .dataframe tbody tr th:only-of-type {\n",
       "        vertical-align: middle;\n",
       "    }\n",
       "\n",
       "    .dataframe tbody tr th {\n",
       "        vertical-align: top;\n",
       "    }\n",
       "\n",
       "    .dataframe thead th {\n",
       "        text-align: right;\n",
       "    }\n",
       "</style>\n",
       "<table border=\"1\" class=\"dataframe\">\n",
       "  <thead>\n",
       "    <tr style=\"text-align: right;\">\n",
       "      <th></th>\n",
       "      <th>Probability we will see a country with under 1000 cases by end of February</th>\n",
       "    </tr>\n",
       "  </thead>\n",
       "  <tbody>\n",
       "    <tr>\n",
       "      <th>0</th>\n",
       "      <td>59/63</td>\n",
       "    </tr>\n",
       "    <tr>\n",
       "      <th>1</th>\n",
       "      <td>58/63</td>\n",
       "    </tr>\n",
       "    <tr>\n",
       "      <th>2</th>\n",
       "      <td>57/63</td>\n",
       "    </tr>\n",
       "    <tr>\n",
       "      <th>3</th>\n",
       "      <td>56/63</td>\n",
       "    </tr>\n",
       "    <tr>\n",
       "      <th>4</th>\n",
       "      <td>55/63</td>\n",
       "    </tr>\n",
       "  </tbody>\n",
       "</table>\n",
       "</div>"
      ],
      "text/plain": [
       "  Probability we will see a country with under 1000 cases by end of February\n",
       "0                                              59/63                        \n",
       "1                                              58/63                        \n",
       "2                                              57/63                        \n",
       "3                                              56/63                        \n",
       "4                                              55/63                        "
      ]
     },
     "execution_count": 283,
     "metadata": {},
     "output_type": "execute_result"
    }
   ],
   "source": [
    "from copy import deepcopy\n",
    "from fractions import Fraction\n",
    "under_1000_index = groupCountries[groupCountries[\"Confirmed\"] < 1000].index\n",
    "under_1000_index = under_1000_index.tolist()\n",
    "under_1000 = end_mar_countries.loc[under_1000_index]\n",
    "under_1000\n",
    "data = {'Case Count': [], \n",
    "        'Probability':[]\n",
    "}\n",
    "def probs_under_thousand(countries):\n",
    "    by_country = deepcopy(countries)\n",
    "    num_countries = len(under_1000_index)\n",
    "    for i in range(5):\n",
    "        country_picked = np.random.choice(by_country)\n",
    "        data['Case Count'].append(country_picked)\n",
    "        if country_picked in under_1000_index:\n",
    "            num_countries -= 1\n",
    "        data['Probability'].append(str(num_countries) +'/' + str(len(by_country)))\n",
    "#         by_country.remove(country_picked)\n",
    "    df = pd.DataFrame (data, columns = ['Probability'])\n",
    "    df.rename(columns = {'Probability':'Probability we will see a country with under 1000 cases by end of February'}, inplace=True)\n",
    "    return df\n",
    "\n",
    "country_list = groupCountries[\"Confirmed\"].tolist()\n",
    "probs_under_thousand(country_list)"
   ]
  },
  {
   "cell_type": "markdown",
   "metadata": {
    "id": "20Ntp7ZlAPkD"
   },
   "source": [
    "# Hypothesis 2: \n",
    "#### Null Hypothesis: \n",
    "By the end of October 2020, the number of Covid-19 Confirmed cases is the same for Germany and Chile.\n",
    "#### Alternative Hypothesis: \n",
    "Germany has more cases than Chile by end of October 2020.\n",
    "\n",
    "###### This is a differnet hypothesis than Mini Project II "
   ]
  },
  {
   "cell_type": "code",
   "execution_count": 284,
   "metadata": {
    "id": "Sp-Bvg5cAPkH",
    "outputId": "22c7f1f3-5d5c-43d7-971e-88dab387e6c7"
   },
   "outputs": [
    {
     "data": {
      "text/html": [
       "<div>\n",
       "<style scoped>\n",
       "    .dataframe tbody tr th:only-of-type {\n",
       "        vertical-align: middle;\n",
       "    }\n",
       "\n",
       "    .dataframe tbody tr th {\n",
       "        vertical-align: top;\n",
       "    }\n",
       "\n",
       "    .dataframe thead th {\n",
       "        text-align: right;\n",
       "    }\n",
       "</style>\n",
       "<table border=\"1\" class=\"dataframe\">\n",
       "  <thead>\n",
       "    <tr style=\"text-align: right;\">\n",
       "      <th></th>\n",
       "      <th>Country_Region</th>\n",
       "      <th>Confirmed</th>\n",
       "    </tr>\n",
       "  </thead>\n",
       "  <tbody>\n",
       "    <tr>\n",
       "      <th>82</th>\n",
       "      <td>Chile</td>\n",
       "      <td>21337</td>\n",
       "    </tr>\n",
       "    <tr>\n",
       "      <th>83</th>\n",
       "      <td>Chile</td>\n",
       "      <td>12195</td>\n",
       "    </tr>\n",
       "    <tr>\n",
       "      <th>84</th>\n",
       "      <td>Chile</td>\n",
       "      <td>9560</td>\n",
       "    </tr>\n",
       "    <tr>\n",
       "      <th>85</th>\n",
       "      <td>Chile</td>\n",
       "      <td>7843</td>\n",
       "    </tr>\n",
       "    <tr>\n",
       "      <th>86</th>\n",
       "      <td>Chile</td>\n",
       "      <td>1023</td>\n",
       "    </tr>\n",
       "    <tr>\n",
       "      <th>87</th>\n",
       "      <td>Chile</td>\n",
       "      <td>29310</td>\n",
       "    </tr>\n",
       "    <tr>\n",
       "      <th>88</th>\n",
       "      <td>Chile</td>\n",
       "      <td>12663</td>\n",
       "    </tr>\n",
       "    <tr>\n",
       "      <th>89</th>\n",
       "      <td>Chile</td>\n",
       "      <td>14688</td>\n",
       "    </tr>\n",
       "    <tr>\n",
       "      <th>90</th>\n",
       "      <td>Chile</td>\n",
       "      <td>3400</td>\n",
       "    </tr>\n",
       "    <tr>\n",
       "      <th>91</th>\n",
       "      <td>Chile</td>\n",
       "      <td>12157</td>\n",
       "    </tr>\n",
       "    <tr>\n",
       "      <th>92</th>\n",
       "      <td>Chile</td>\n",
       "      <td>18797</td>\n",
       "    </tr>\n",
       "    <tr>\n",
       "      <th>93</th>\n",
       "      <td>Chile</td>\n",
       "      <td>296419</td>\n",
       "    </tr>\n",
       "    <tr>\n",
       "      <th>94</th>\n",
       "      <td>Chile</td>\n",
       "      <td>7410</td>\n",
       "    </tr>\n",
       "    <tr>\n",
       "      <th>95</th>\n",
       "      <td>Chile</td>\n",
       "      <td>18610</td>\n",
       "    </tr>\n",
       "    <tr>\n",
       "      <th>96</th>\n",
       "      <td>Chile</td>\n",
       "      <td>12852</td>\n",
       "    </tr>\n",
       "    <tr>\n",
       "      <th>97</th>\n",
       "      <td>Chile</td>\n",
       "      <td>49</td>\n",
       "    </tr>\n",
       "    <tr>\n",
       "      <th>98</th>\n",
       "      <td>Chile</td>\n",
       "      <td>30258</td>\n",
       "    </tr>\n",
       "    <tr>\n",
       "      <th>206</th>\n",
       "      <td>Germany</td>\n",
       "      <td>80286</td>\n",
       "    </tr>\n",
       "    <tr>\n",
       "      <th>207</th>\n",
       "      <td>Germany</td>\n",
       "      <td>102367</td>\n",
       "    </tr>\n",
       "    <tr>\n",
       "      <th>208</th>\n",
       "      <td>Germany</td>\n",
       "      <td>31439</td>\n",
       "    </tr>\n",
       "    <tr>\n",
       "      <th>209</th>\n",
       "      <td>Germany</td>\n",
       "      <td>8071</td>\n",
       "    </tr>\n",
       "    <tr>\n",
       "      <th>210</th>\n",
       "      <td>Germany</td>\n",
       "      <td>5345</td>\n",
       "    </tr>\n",
       "    <tr>\n",
       "      <th>211</th>\n",
       "      <td>Germany</td>\n",
       "      <td>13356</td>\n",
       "    </tr>\n",
       "    <tr>\n",
       "      <th>212</th>\n",
       "      <td>Germany</td>\n",
       "      <td>39093</td>\n",
       "    </tr>\n",
       "    <tr>\n",
       "      <th>213</th>\n",
       "      <td>Germany</td>\n",
       "      <td>2791</td>\n",
       "    </tr>\n",
       "    <tr>\n",
       "      <th>214</th>\n",
       "      <td>Germany</td>\n",
       "      <td>35445</td>\n",
       "    </tr>\n",
       "    <tr>\n",
       "      <th>215</th>\n",
       "      <td>Germany</td>\n",
       "      <td>127447</td>\n",
       "    </tr>\n",
       "    <tr>\n",
       "      <th>216</th>\n",
       "      <td>Germany</td>\n",
       "      <td>20087</td>\n",
       "    </tr>\n",
       "    <tr>\n",
       "      <th>217</th>\n",
       "      <td>Germany</td>\n",
       "      <td>6877</td>\n",
       "    </tr>\n",
       "    <tr>\n",
       "      <th>218</th>\n",
       "      <td>Germany</td>\n",
       "      <td>17194</td>\n",
       "    </tr>\n",
       "    <tr>\n",
       "      <th>219</th>\n",
       "      <td>Germany</td>\n",
       "      <td>5082</td>\n",
       "    </tr>\n",
       "    <tr>\n",
       "      <th>220</th>\n",
       "      <td>Germany</td>\n",
       "      <td>8027</td>\n",
       "    </tr>\n",
       "    <tr>\n",
       "      <th>221</th>\n",
       "      <td>Germany</td>\n",
       "      <td>6625</td>\n",
       "    </tr>\n",
       "    <tr>\n",
       "      <th>222</th>\n",
       "      <td>Germany</td>\n",
       "      <td>8204</td>\n",
       "    </tr>\n",
       "  </tbody>\n",
       "</table>\n",
       "</div>"
      ],
      "text/plain": [
       "    Country_Region  Confirmed\n",
       "82           Chile      21337\n",
       "83           Chile      12195\n",
       "84           Chile       9560\n",
       "85           Chile       7843\n",
       "86           Chile       1023\n",
       "87           Chile      29310\n",
       "88           Chile      12663\n",
       "89           Chile      14688\n",
       "90           Chile       3400\n",
       "91           Chile      12157\n",
       "92           Chile      18797\n",
       "93           Chile     296419\n",
       "94           Chile       7410\n",
       "95           Chile      18610\n",
       "96           Chile      12852\n",
       "97           Chile         49\n",
       "98           Chile      30258\n",
       "206        Germany      80286\n",
       "207        Germany     102367\n",
       "208        Germany      31439\n",
       "209        Germany       8071\n",
       "210        Germany       5345\n",
       "211        Germany      13356\n",
       "212        Germany      39093\n",
       "213        Germany       2791\n",
       "214        Germany      35445\n",
       "215        Germany     127447\n",
       "216        Germany      20087\n",
       "217        Germany       6877\n",
       "218        Germany      17194\n",
       "219        Germany       5082\n",
       "220        Germany       8027\n",
       "221        Germany       6625\n",
       "222        Germany       8204"
      ]
     },
     "execution_count": 284,
     "metadata": {},
     "output_type": "execute_result"
    }
   ],
   "source": [
    "germany_chile = end_oct[end_oct[\"Country_Region\"].isin([\"Germany\", \"Chile\"])]\n",
    "germany_chile = germany_chile.filter(items=[\"Country_Region\", \"Confirmed\"])\n",
    "germany_chile"
   ]
  },
  {
   "cell_type": "code",
   "execution_count": 285,
   "metadata": {},
   "outputs": [
    {
     "data": {
      "image/png": "[encoded data removed]",
      "text/plain": [
       "<Figure size 432x288 with 1 Axes>"
      ]
     },
     "metadata": {
      "needs_background": "light"
     },
     "output_type": "display_data"
    }
   ],
   "source": [
    "plt.hist(germany_chile['Confirmed'])\n",
    "plt.title(\"Covid cases in regions of Germany and Chile\")\n",
    "plt.ylabel(\"Countries\")\n",
    "plt.xlabel(\"Covid-19 Confirmed Case Count\")\n",
    "plt.show()"
   ]
  },
  {
   "cell_type": "markdown",
   "metadata": {},
   "source": [
    "The data is not normal because it is skewed to the left and we can't achieve the bell-shaped curve."
   ]
  },
  {
   "cell_type": "code",
   "execution_count": 286,
   "metadata": {
    "id": "zCHIpbFrAPkJ",
    "outputId": "b4f5050b-1c79-4ed8-e2c8-797e48097f52",
    "scrolled": false
   },
   "outputs": [
    {
     "data": {
      "image/png": "[encoded data removed]",
      "text/plain": [
       "<Figure size 432x288 with 1 Axes>"
      ]
     },
     "metadata": {
      "needs_background": "light"
     },
     "output_type": "display_data"
    }
   ],
   "source": [
    "grouped_germany_chile = germany_chile.groupby(\"Country_Region\").sum()\n",
    "grouped_germany_chile = grouped_germany_chile.reset_index()\n",
    "plt.barh(grouped_germany_chile['Country_Region'], grouped_germany_chile['Confirmed'])\n",
    "plt.title(\"Covid cases in regions of Germany and Chile\")\n",
    "plt.ylabel(\"Countries\")\n",
    "plt.xlabel(\"Covid-19 Confirmed Case Count\")\n",
    "plt.show()"
   ]
  },
  {
   "cell_type": "markdown",
   "metadata": {
    "id": "u2A01MfVAPkL"
   },
   "source": [
    "#### The test statistic will be the difference in mean cases between Germany and Chile. "
   ]
  },
  {
   "cell_type": "markdown",
   "metadata": {
    "id": "K2OuxMM6APkL"
   },
   "source": [
    "#### The observed  statistic will be the value from the test statistic. "
   ]
  },
  {
   "cell_type": "code",
   "execution_count": 287,
   "metadata": {
    "id": "-Rq8g_VaAPkM",
    "outputId": "35fcbfc4-fefb-4c76-f345-f27e73df6009"
   },
   "outputs": [
    {
     "data": {
      "text/plain": [
       "540"
      ]
     },
     "execution_count": 287,
     "metadata": {},
     "output_type": "execute_result"
    }
   ],
   "source": [
    "from statistics import mean \n",
    "def difference_covid_count(dataframe, column_name=\"Country_Region\"):\n",
    "    g = []\n",
    "    c = []\n",
    "    for index, row in dataframe.iterrows():\n",
    "        g_or_c = dataframe.loc[index, column_name]\n",
    "        if g_or_c == \"Germany\":\n",
    "            g_case = dataframe.loc[index, \"Confirmed\"]\n",
    "            g.append(g_case)\n",
    "        elif g_or_c == \"Chile\":\n",
    "            c_case = dataframe.loc[index, \"Confirmed\"]\n",
    "            c.append(c_case)\n",
    "    return mean(g) - mean(c)\n",
    "difference_covid_count(germany_chile, column_name=\"Country_Region\")"
   ]
  },
  {
   "cell_type": "markdown",
   "metadata": {
    "id": "Nxt_3eEGAPkN"
   },
   "source": [
    "#### A simulated observed statistic"
   ]
  },
  {
   "cell_type": "code",
   "execution_count": 288,
   "metadata": {
    "id": "YrDTaJwvAPkO",
    "outputId": "98c29ffc-345c-4815-d9d5-a4bac41b8485"
   },
   "outputs": [
    {
     "data": {
      "text/plain": [
       "27196"
      ]
     },
     "execution_count": 288,
     "metadata": {},
     "output_type": "execute_result"
    }
   ],
   "source": [
    "def one_simulated_difference(table):\n",
    "    table1 = pd.concat([table[\"Country_Region\"], table[\"Confirmed\"]],axis=1,keys=['Country_Region','Confirmed'])\n",
    "    shuffled_labels = table1[\"Country_Region\"].sample(frac=1).values\n",
    "    shuffled_table = table1\n",
    "    shuffled_table[\"Shuffle\"] = shuffled_labels\n",
    "    return difference_covid_count(table1,\"Shuffle\")\n",
    "one_simulated_difference(germany_chile)"
   ]
  },
  {
   "cell_type": "markdown",
   "metadata": {
    "id": "7V5jWhZSAPkQ"
   },
   "source": [
    "#### Model of the Observed Differences "
   ]
  },
  {
   "cell_type": "code",
   "execution_count": 289,
   "metadata": {
    "id": "xTWoMb7uAPkQ",
    "outputId": "a4018be4-6b0e-447c-c5e8-f2d732e029c1"
   },
   "outputs": [
    {
     "data": {
      "image/png": "[encoded data removed]",
      "text/plain": [
       "<Figure size 576x432 with 1 Axes>"
      ]
     },
     "metadata": {
      "needs_background": "light"
     },
     "output_type": "display_data"
    }
   ],
   "source": [
    "num_repetitions = 500\n",
    "simulated_statistics = []\n",
    "for i in np.arange(num_repetitions):\n",
    "    simulated_statistics = np.append(simulated_statistics, one_simulated_difference(germany_chile))\n",
    "plt.figure(figsize=(8,6))\n",
    "plt.hist(simulated_statistics,bins=10,alpha=0.5)\n",
    "plt.xlabel(\"Covid Case Count Difference\",size=\"14\")\n",
    "plt.ylabel(\"Count\", size=\"14\")\n",
    "plt.title(\"Distribution of Difference between Covid-19 Confirmed Cases in Chile and Germany by October 31st\")\n",
    "plt.show()"
   ]
  },
  {
   "cell_type": "code",
   "execution_count": 290,
   "metadata": {
    "id": "ZYWCIP1UAPkV",
    "outputId": "1ac5f2ea-fb4f-4d5b-9746-57115bc1d90e"
   },
   "outputs": [
    {
     "data": {
      "text/plain": [
       "0.566"
      ]
     },
     "execution_count": 290,
     "metadata": {},
     "output_type": "execute_result"
    }
   ],
   "source": [
    "j = np.count_nonzero(simulated_statistics <= one_simulated_difference(germany_chile))/500\n",
    "j"
   ]
  },
  {
   "cell_type": "markdown",
   "metadata": {},
   "source": [
    "# Linear Regression"
   ]
  },
  {
   "cell_type": "code",
   "execution_count": 291,
   "metadata": {},
   "outputs": [
    {
     "data": {
      "text/plain": [
       "<AxesSubplot:xlabel='Confirmed', ylabel='Deaths'>"
      ]
     },
     "execution_count": 291,
     "metadata": {},
     "output_type": "execute_result"
    },
    {
     "data": {
      "image/png": "[encoded data removed]",
      "text/plain": [
       "<Figure size 432x288 with 1 Axes>"
      ]
     },
     "metadata": {
      "needs_background": "light"
     },
     "output_type": "display_data"
    }
   ],
   "source": [
    "end_oct.plot.scatter(x='Confirmed', y='Deaths', c='blue')  #end of October"
   ]
  },
  {
   "cell_type": "code",
   "execution_count": 292,
   "metadata": {},
   "outputs": [
    {
     "name": "stdout",
     "output_type": "stream",
     "text": [
      " Confirmed cases vs. Number of Death in October: 0.8929069789405002\n",
      "\n"
     ]
    }
   ],
   "source": [
    "def standard_units(arr):\n",
    "    return (arr - np.mean(arr)) / np.std(arr)\n",
    "\n",
    "def correlation(arr1, arr2):\n",
    "    return np.mean(standard_units(arr1) * standard_units(arr2))\n",
    "\n",
    "oct_correlation = correlation(end_oct[\"Confirmed\"], end_oct[\"Deaths\"])\n",
    "\n",
    "print(f\" Confirmed cases vs. Number of Death in October: {oct_correlation}\\n\")"
   ]
  },
  {
   "cell_type": "code",
   "execution_count": 293,
   "metadata": {},
   "outputs": [
    {
     "data": {
      "text/plain": [
       "[0.029221689476609837, -36.46039638690763]"
      ]
     },
     "execution_count": 293,
     "metadata": {},
     "output_type": "execute_result"
    }
   ],
   "source": [
    "def regression_parameters(x, y):\n",
    "    std_of_x = np.std(x)\n",
    "    mean_of_x = np.mean(x)\n",
    "    std_of_y = np.std(y)\n",
    "    mean_of_y = np.mean(y)\n",
    "    slope = std_of_y / std_of_x\n",
    "    intercept = mean_of_y - slope * mean_of_x\n",
    "    return [slope, intercept]\n",
    "\n",
    "parameters = regression_parameters(end_oct[\"Confirmed\"], end_oct[\"Deaths\"])\n",
    "parameters"
   ]
  },
  {
   "cell_type": "code",
   "execution_count": 294,
   "metadata": {},
   "outputs": [
    {
     "data": {
      "image/png": "[encoded data removed]",
      "text/plain": [
       "<Figure size 360x360 with 1 Axes>"
      ]
     },
     "metadata": {
      "needs_background": "light"
     },
     "output_type": "display_data"
    }
   ],
   "source": [
    "predicted_cases = parameters[0]  * end_oct[\"Confirmed\"] + parameters[1]\n",
    "\n",
    "# DON'T CHANGE/DELETE ANY OF THE BELOW CODE IN THIS CELL\n",
    "pten2 = Table().from_df(end_oct)\n",
    "(pten2.with_column(\"Predicted Cases\", predicted_cases)\n",
    ".select(\"Deaths\", \"Confirmed\", \"Predicted Cases\")\n",
    " .scatter(\"Confirmed\"))\n",
    "plt.ylabel(\"Deaths\");"
   ]
  },
  {
   "cell_type": "markdown",
   "metadata": {
    "id": "GwreieeMAPkW"
   },
   "source": [
    "### Conclusion of Hypothesis 2:\n",
    "The margins between the difference are so high as it ranges from -40000 to 40000 deaths. Thus it shows that Germany and Chile have many confirmed cases difference between them and thus the Alternative Hypothesis holds. The P-value is significantly less than the observed difference thus the alternative hypothesis holds."
   ]
  },
  {
   "cell_type": "markdown",
   "metadata": {
    "id": "5v2kLkJaAPkn"
   },
   "source": [
    "## Hypothesis 3: \n",
    "#### Null Hypothesis: \n",
    "People of all age groups in Germany recovered in similar numbers.\n",
    "#### Alternative Hypothesis: \n",
    "Majority of the people who recovered from Covid-19 in Germany were under the age of 35.\n",
    "\n",
    "##### (The previous hypothesis in Miniproject II was on death cases, this one is on recovered cases)"
   ]
  },
  {
   "cell_type": "markdown",
   "metadata": {
    "id": "wNE1nmmnAPkn"
   },
   "source": [
    "First we read in the data from kaggle. We group by the age_group and county, then reset_index."
   ]
  },
  {
   "cell_type": "code",
   "execution_count": 295,
   "metadata": {
    "id": "BmJFz-dkAPkn",
    "outputId": "efedaa86-95a0-4c06-dae4-56874295730b"
   },
   "outputs": [
    {
     "data": {
      "text/html": [
       "<div>\n",
       "<style scoped>\n",
       "    .dataframe tbody tr th:only-of-type {\n",
       "        vertical-align: middle;\n",
       "    }\n",
       "\n",
       "    .dataframe tbody tr th {\n",
       "        vertical-align: top;\n",
       "    }\n",
       "\n",
       "    .dataframe thead th {\n",
       "        text-align: right;\n",
       "    }\n",
       "</style>\n",
       "<table border=\"1\" class=\"dataframe\">\n",
       "  <thead>\n",
       "    <tr style=\"text-align: right;\">\n",
       "      <th></th>\n",
       "      <th>county</th>\n",
       "      <th>age_group</th>\n",
       "      <th>cases</th>\n",
       "      <th>deaths</th>\n",
       "      <th>recovered</th>\n",
       "    </tr>\n",
       "  </thead>\n",
       "  <tbody>\n",
       "    <tr>\n",
       "      <th>0</th>\n",
       "      <td>LK Ahrweiler</td>\n",
       "      <td>00-04</td>\n",
       "      <td>21</td>\n",
       "      <td>0</td>\n",
       "      <td>15</td>\n",
       "    </tr>\n",
       "    <tr>\n",
       "      <th>1</th>\n",
       "      <td>LK Ahrweiler</td>\n",
       "      <td>05-14</td>\n",
       "      <td>46</td>\n",
       "      <td>0</td>\n",
       "      <td>36</td>\n",
       "    </tr>\n",
       "    <tr>\n",
       "      <th>2</th>\n",
       "      <td>LK Ahrweiler</td>\n",
       "      <td>15-34</td>\n",
       "      <td>291</td>\n",
       "      <td>0</td>\n",
       "      <td>197</td>\n",
       "    </tr>\n",
       "    <tr>\n",
       "      <th>3</th>\n",
       "      <td>LK Ahrweiler</td>\n",
       "      <td>35-59</td>\n",
       "      <td>323</td>\n",
       "      <td>0</td>\n",
       "      <td>202</td>\n",
       "    </tr>\n",
       "    <tr>\n",
       "      <th>4</th>\n",
       "      <td>LK Ahrweiler</td>\n",
       "      <td>60-79</td>\n",
       "      <td>117</td>\n",
       "      <td>4</td>\n",
       "      <td>72</td>\n",
       "    </tr>\n",
       "    <tr>\n",
       "      <th>...</th>\n",
       "      <td>...</td>\n",
       "      <td>...</td>\n",
       "      <td>...</td>\n",
       "      <td>...</td>\n",
       "      <td>...</td>\n",
       "    </tr>\n",
       "    <tr>\n",
       "      <th>2465</th>\n",
       "      <td>StadtRegion Aachen</td>\n",
       "      <td>05-14</td>\n",
       "      <td>341</td>\n",
       "      <td>0</td>\n",
       "      <td>272</td>\n",
       "    </tr>\n",
       "    <tr>\n",
       "      <th>2466</th>\n",
       "      <td>StadtRegion Aachen</td>\n",
       "      <td>15-34</td>\n",
       "      <td>2321</td>\n",
       "      <td>0</td>\n",
       "      <td>1886</td>\n",
       "    </tr>\n",
       "    <tr>\n",
       "      <th>2467</th>\n",
       "      <td>StadtRegion Aachen</td>\n",
       "      <td>35-59</td>\n",
       "      <td>2522</td>\n",
       "      <td>9</td>\n",
       "      <td>2087</td>\n",
       "    </tr>\n",
       "    <tr>\n",
       "      <th>2468</th>\n",
       "      <td>StadtRegion Aachen</td>\n",
       "      <td>60-79</td>\n",
       "      <td>944</td>\n",
       "      <td>39</td>\n",
       "      <td>727</td>\n",
       "    </tr>\n",
       "    <tr>\n",
       "      <th>2469</th>\n",
       "      <td>StadtRegion Aachen</td>\n",
       "      <td>80-99</td>\n",
       "      <td>494</td>\n",
       "      <td>82</td>\n",
       "      <td>330</td>\n",
       "    </tr>\n",
       "  </tbody>\n",
       "</table>\n",
       "<p>2470 rows × 5 columns</p>\n",
       "</div>"
      ],
      "text/plain": [
       "                  county age_group  cases  deaths  recovered\n",
       "0           LK Ahrweiler     00-04     21       0         15\n",
       "1           LK Ahrweiler     05-14     46       0         36\n",
       "2           LK Ahrweiler     15-34    291       0        197\n",
       "3           LK Ahrweiler     35-59    323       0        202\n",
       "4           LK Ahrweiler     60-79    117       4         72\n",
       "...                  ...       ...    ...     ...        ...\n",
       "2465  StadtRegion Aachen     05-14    341       0        272\n",
       "2466  StadtRegion Aachen     15-34   2321       0       1886\n",
       "2467  StadtRegion Aachen     35-59   2522       9       2087\n",
       "2468  StadtRegion Aachen     60-79    944      39        727\n",
       "2469  StadtRegion Aachen     80-99    494      82        330\n",
       "\n",
       "[2470 rows x 5 columns]"
      ]
     },
     "execution_count": 295,
     "metadata": {},
     "output_type": "execute_result"
    }
   ],
   "source": [
    "germany = pd.read_csv('covid_de.csv')\n",
    "germany = germany.groupby(['county', 'age_group']).sum()\n",
    "germany = germany.reset_index()\n",
    "germany"
   ]
  },
  {
   "cell_type": "code",
   "execution_count": 296,
   "metadata": {
    "scrolled": true
   },
   "outputs": [
    {
     "data": {
      "image/png": "[encoded data removed]",
      "text/plain": [
       "<Figure size 432x288 with 1 Axes>"
      ]
     },
     "metadata": {
      "needs_background": "light"
     },
     "output_type": "display_data"
    }
   ],
   "source": [
    "# bins = (germany['deaths'].min(), germany['deaths'].max())\n",
    "plt.hist(germany['recovered'])\n",
    "plt.title(\"Number of Recovered in Germany\")\n",
    "plt.ylabel(\"Countries\")\n",
    "plt.xlabel(\"Covid-19 Death Count\")\n",
    "plt.show()"
   ]
  },
  {
   "cell_type": "markdown",
   "metadata": {},
   "source": [
    "The data is not normal because it is skewed to the left and we can't achieve the bell-shaped curve."
   ]
  },
  {
   "cell_type": "code",
   "execution_count": 297,
   "metadata": {
    "id": "aZ3gaEc-APkq",
    "outputId": "a21e4b3a-13e7-4577-adaf-c7be3e5efd57"
   },
   "outputs": [
    {
     "data": {
      "text/plain": [
       "59"
      ]
     },
     "execution_count": 297,
     "metadata": {},
     "output_type": "execute_result"
    }
   ],
   "source": [
    "from statistics import mean \n",
    "def age_covid_count(dataframe, column_name=\"age_group\"):\n",
    "    over35 = []\n",
    "    under35 = []\n",
    "    for index, row in dataframe.iterrows():\n",
    "        over_or_under = dataframe.loc[index, column_name]\n",
    "        if over_or_under == \"00-04\" or over_or_under == \"05-14\" or over_or_under == \"15-34\":\n",
    "            under = dataframe.loc[index, \"recovered\"]\n",
    "            under35.append(under)\n",
    "        else:\n",
    "            over = dataframe.loc[index, \"recovered\"]\n",
    "            over35.append(over)\n",
    "    return mean(over35) - mean(under35)\n",
    "age_covid_count(germany, column_name=\"age_group\")"
   ]
  },
  {
   "cell_type": "code",
   "execution_count": 298,
   "metadata": {
    "id": "Omqe0vHQAPks",
    "outputId": "4b61a8ca-6628-4709-aca9-65845601ca24"
   },
   "outputs": [
    {
     "data": {
      "text/plain": [
       "10"
      ]
     },
     "execution_count": 298,
     "metadata": {},
     "output_type": "execute_result"
    }
   ],
   "source": [
    "def one_simul_diff(table):\n",
    "    table1 = pd.concat([table[\"age_group\"], table[\"recovered\"]],axis=1,keys=['age_group','recovered'])\n",
    "    shuffled_labels = table1[\"age_group\"].sample(frac=1).values\n",
    "    shuffled_table = table1\n",
    "    shuffled_table[\"Shuffle\"] = shuffled_labels\n",
    "    return age_covid_count(table1, \"Shuffle\")\n",
    "one_simul_diff(germany)"
   ]
  },
  {
   "cell_type": "code",
   "execution_count": 299,
   "metadata": {
    "id": "FQSq1Qx9APkw",
    "outputId": "d41b617c-620a-4b96-c89f-ee7b3bf663e1"
   },
   "outputs": [
    {
     "data": {
      "image/png": "[encoded data removed]",
      "text/plain": [
       "<Figure size 576x432 with 1 Axes>"
      ]
     },
     "metadata": {
      "needs_background": "light"
     },
     "output_type": "display_data"
    }
   ],
   "source": [
    "num_repetitions = 500\n",
    "simulated_statistics = []\n",
    "for i in np.arange(num_repetitions):\n",
    "    simulated_statistics = np.append(simulated_statistics,  one_simul_diff(germany))\n",
    "# simulated_statistics\n",
    "plt.figure(figsize=(8,6))\n",
    "plt.hist(simulated_statistics,bins=4,alpha=0.5)\n",
    "plt.xlabel(\"Covid Recovered Cases Count Difference\",size=\"14\")\n",
    "plt.ylabel(\"Count\", size=\"14\")\n",
    "plt.title(\"Distribution of Difference between Recovered Cases Over 35 and under 35\")\n",
    "plt.show()"
   ]
  },
  {
   "cell_type": "code",
   "execution_count": 300,
   "metadata": {
    "id": "Gi6nGqYvAPkx",
    "outputId": "a697fbbc-9e5f-4367-be0f-450a94cba8e0",
    "scrolled": true
   },
   "outputs": [
    {
     "data": {
      "text/plain": [
       "0.246"
      ]
     },
     "execution_count": 300,
     "metadata": {},
     "output_type": "execute_result"
    }
   ],
   "source": [
    "p = np.count_nonzero(simulated_statistics <= one_simul_diff(germany))/500\n",
    "p"
   ]
  },
  {
   "cell_type": "markdown",
   "metadata": {},
   "source": [
    "# Linear Regression"
   ]
  },
  {
   "cell_type": "code",
   "execution_count": 301,
   "metadata": {},
   "outputs": [
    {
     "data": {
      "text/plain": [
       "<AxesSubplot:xlabel='cases', ylabel='recovered'>"
      ]
     },
     "execution_count": 301,
     "metadata": {},
     "output_type": "execute_result"
    },
    {
     "data": {
      "image/png": "[encoded data removed]",
      "text/plain": [
       "<Figure size 432x288 with 1 Axes>"
      ]
     },
     "metadata": {
      "needs_background": "light"
     },
     "output_type": "display_data"
    }
   ],
   "source": [
    "germany.plot.scatter(x='cases', y='recovered', c='blue')  #Germany"
   ]
  },
  {
   "cell_type": "code",
   "execution_count": 302,
   "metadata": {},
   "outputs": [
    {
     "name": "stdout",
     "output_type": "stream",
     "text": [
      " Recovered cases vs. Number of Recovery in Germany: 0.9824356393826348\n",
      "\n"
     ]
    }
   ],
   "source": [
    "def standard_units(arr):\n",
    "    return (arr - np.mean(arr)) / np.std(arr)\n",
    "\n",
    "def correlation(arr1, arr2):\n",
    "    return np.mean(standard_units(arr1) * standard_units(arr2))\n",
    "\n",
    "germany_correlation = correlation(germany[\"cases\"], germany[\"recovered\"])\n",
    "\n",
    "print(f\" Cases vs. Number of Recovery in Germany: {germany_correlation}\\n\")"
   ]
  },
  {
   "cell_type": "code",
   "execution_count": 303,
   "metadata": {},
   "outputs": [
    {
     "data": {
      "text/plain": [
       "[0.6402591475798849, 0.14322339169788734]"
      ]
     },
     "execution_count": 303,
     "metadata": {},
     "output_type": "execute_result"
    }
   ],
   "source": [
    "def regression_parameters(x, y):\n",
    "    std_of_x = np.std(x)\n",
    "    mean_of_x = np.mean(x)\n",
    "    std_of_y = np.std(y)\n",
    "    mean_of_y = np.mean(y)\n",
    "    slope = std_of_y / std_of_x\n",
    "    intercept = mean_of_y - slope * mean_of_x\n",
    "    return [slope, intercept]\n",
    "\n",
    "parameters = regression_parameters(germany[\"cases\"], germany[\"recovered\"])\n",
    "parameters"
   ]
  },
  {
   "cell_type": "code",
   "execution_count": 304,
   "metadata": {
    "scrolled": true
   },
   "outputs": [
    {
     "data": {
      "image/png": "[encoded data removed]",
      "text/plain": [
       "<Figure size 360x360 with 1 Axes>"
      ]
     },
     "metadata": {
      "needs_background": "light"
     },
     "output_type": "display_data"
    }
   ],
   "source": [
    "predicted_cases = parameters[0]  * germany[\"cases\"] + parameters[1]\n",
    "\n",
    "# DON'T CHANGE/DELETE ANY OF THE BELOW CODE IN THIS CELL\n",
    "pten2 = Table().from_df(germany)\n",
    "(pten2.with_column(\"Predicted Cases\", predicted_cases)\n",
    ".select(\"recovered\", \"cases\", \"Predicted Cases\")\n",
    " .scatter(\"cases\"))\n",
    "plt.ylabel(\"recovered\");"
   ]
  },
  {
   "cell_type": "markdown",
   "metadata": {
    "id": "3bv1Zii_APk0"
   },
   "source": [
    "### Conclusion of Hypothesis 3: \n",
    "since the majority of the difference is between -35 and 35, we can say that it supports the alternative hypothesis, people under 35 years recovered more than those above 35. Additionally, the p-value was lower than the observed value and thus the alternative hypothesis holds."
   ]
  },
  {
   "cell_type": "code",
   "execution_count": null,
   "metadata": {},
   "outputs": [],
   "source": []
  },
  {
   "cell_type": "markdown",
   "metadata": {
    "id": "NUG3vruTAPjS"
   },
   "source": [
    "# Topic Conclusions"
   ]
  },
  {
   "cell_type": "markdown",
   "metadata": {},
   "source": [
    "It is interesting because we are currently living in a pandemic and would like to explore the effects it has on different countries around the world compared to each other.\n",
    "\n",
    "\n",
    "On Feb 29, the only country that had over 70,000 cases was China and only 14 countries had over 10,000 cases. We saw also that some countries such as France and the UK which are geographically near each other had a different number of deaths. We also saw in Germany that there is a large difference between those over 35 and under 35 in terms of recovered cases.\n",
    "\n",
    "\n",
    "We did not have any ethical issues, however, for limitations, due to the fact that countries count their regions differently, it is harder to compare a country where even though they have a similar case count, they have a huge gap in regions counted. Thus we needed to compare countries with a similar number of regions\n",
    "\n",
    "\n",
    "Thus our conclusions are that different countries are not experiencing the same number of count and caseload, whether they are as far as Germany and Chile or as close as France and the UK. Same virus but different experiences around the world.\n"
   ]
  }
 ],
 "metadata": {
  "colab": {
   "collapsed_sections": [
    "KNa-hHN6_8_C",
    "Ai69jR4M_8_S",
    "yPVlg8OO_8_W",
    "5RHwMiiG_8_Y",
    "N2mE3DbD_8_d",
    "BFIRd7FX_8_k",
    "a2jM-9lE_8_p",
    "XlMm18ug_8_4"
   ],
   "name": "Miniproject_Two_LAP.ipynb",
   "provenance": [],
   "toc_visible": true
  },
  "kernelspec": {
   "display_name": "Python 3",
   "language": "python",
   "name": "python3"
  },
  "language_info": {
   "codemirror_mode": {
    "name": "ipython",
    "version": 3
   },
   "file_extension": ".py",
   "mimetype": "text/x-python",
   "name": "python",
   "nbconvert_exporter": "python",
   "pygments_lexer": "ipython3",
   "version": "3.8.6"
  }
 },
 "nbformat": 4,
 "nbformat_minor": 1
}
